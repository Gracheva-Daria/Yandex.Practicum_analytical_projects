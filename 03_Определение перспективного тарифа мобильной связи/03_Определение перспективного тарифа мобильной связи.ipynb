{
 "cells": [
  {
   "cell_type": "markdown",
   "metadata": {},
   "source": [
    "# \"Определение перспективного тарифа для компании \"Мегалайн\"\n",
    "<a class=\"tocSkip\">"
   ]
  },
  {
   "cell_type": "markdown",
   "metadata": {},
   "source": [
    "## Цель исследования"
   ]
  },
  {
   "cell_type": "markdown",
   "metadata": {},
   "source": [
    "<div style=\"border: ridge black 3px; padding: 25px\">\n",
    "    \n",
    "<b>Целью данного исследования является выявление наиболее прибыльного тарифа среди 2-х тарифов компании \"Мегалайн\": \"Смарт\" и \"Ультра\".</b><br><br>\n",
    "\n",
    "Данное исследование преследует цель помочь коммерческому департаменту компании \"Мегалайн\" понять какой тариф приносит больше прибыли для дальнейшего принятия решений о коррекции рекламного бюджета.<br><br>\n",
    "    \n",
    "Для анализа представлена выборка с данными 500 пользователей \"Мегалайна\" за 2018 г.<br>\n",
    "Мы определим сколько в среднем в месяц тратят трафика пользователи каждого из тарифов, определим среднюю выручку в месяц с каждого пользователя, изучим их поведение и проверим 2 гипотезы.<br><br>\n",
    "    \n",
    "В конце иследования сформулируем общий вывод.<br>\n",
    "    \n",
    "</div>"
   ]
  },
  {
   "cell_type": "markdown",
   "metadata": {},
   "source": [
    "## Описание исходных данных\n",
    "**Ниже представлено описание всей доступной нам информации по тарифам и содержимому 5-ти \n",
    "таблиц**."
   ]
  },
  {
   "cell_type": "markdown",
   "metadata": {},
   "source": [
    "### Описание тарифов\n",
    "\n",
    "**Тариф «Смарт»**\n",
    "1.\tЕжемесячная плата: 550 рублей\n",
    "2.\tВключено 500 минут разговора, 50 сообщений и 15 Гб интернет-трафика\n",
    "3.\tСтоимость услуг сверх тарифного пакета:\n",
    " - минута разговора: 3 рубля\n",
    " - сообщение: 3 рубля\n",
    " - 1 Гб интернет-трафика: 200 рублей\n",
    "\n",
    "**Тариф «Ультра»**\n",
    "1.\tЕжемесячная плата: 1950 рублей\n",
    "2.\tВключено 3000 минут разговора, 1000 сообщений и 30 Гб интернет-трафика\n",
    "3.\tСтоимость услуг сверх тарифного пакета:\n",
    " - минута разговора: 1 рубль\n",
    " - сообщение: 1 рубль\n",
    " - 1 Гб интернет-трафика: 150 рублей\n",
    " \n",
    "**Примечание:** «Мегалайн» всегда округляет вверх значения минут и мегабайтов. Если пользователь проговорил всего 1 секунду, в тарифе засчитывается целая минута.\n",
    "\n",
    "### Описание данных\n",
    "\n",
    "**Таблица users (информация о пользователях):**\n",
    "\n",
    "- user_id — уникальный идентификатор пользователя\n",
    "- first_name — имя пользователя\n",
    "- last_name — фамилия пользователя\n",
    "- age — возраст пользователя (годы)\n",
    "- reg_date — дата подключения тарифа (день, месяц, год)\n",
    "- churn_date — дата прекращения пользования тарифом (если значение пропущено, то тариф ещё действовал на момент выгрузки данных)\n",
    "- city — город проживания пользователя\n",
    "- tariff — название тарифного плана\n",
    "\n",
    "**Таблица calls (информация о звонках):**\n",
    "\n",
    "- id — уникальный номер звонка\n",
    "- call_date — дата звонка\n",
    "- duration — длительность звонка в минутах\n",
    "- user_id — идентификатор пользователя, сделавшего звонок\n",
    "\n",
    "**Таблица messages (информация о сообщениях):**\n",
    "\n",
    "- id — уникальный номер сообщения\n",
    "- message_date — дата сообщения\n",
    "- user_id — идентификатор пользователя, отправившего сообщение\n",
    "\n",
    "**Таблица internet (информация об интернет-сессиях):**\n",
    "\n",
    "- id — уникальный номер сессии\n",
    "- mb_used — объём потраченного за сессию интернет-трафика (в мегабайтах)\n",
    "- session_date — дата интернет-сессии\n",
    "- user_id — идентификатор пользователя\n",
    "\n",
    "**Таблица tariffs (информация о тарифах):**\n",
    "\n",
    "- tariff_name — название тарифа\n",
    "- rub_monthly_fee — ежемесячная абонентская плата в рублях\n",
    "- minutes_included — количество минут разговора в месяц, включённых в абонентскую плату\n",
    "- messages_included — количество сообщений в месяц, включённых в абонентскую плату\n",
    "- mb_per_month_included — объём интернет-трафика, включённого в абонентскую плату (в мегабайтах)\n",
    "- rub_per_minute — стоимость минуты разговора сверх тарифного пакета (например, если в тарифе 100 минут разговора в месяц, то со 101 минуты будет взиматься плата)\n",
    "- rub_per_message — стоимость отправки сообщения сверх тарифного пакета\n",
    "- rub_per_gb — стоимость дополнительного гигабайта интернет-трафика сверх тарифного пакета (1 гигабайт = 1024 мегабайта)\n",
    "\n"
   ]
  },
  {
   "cell_type": "markdown",
   "metadata": {},
   "source": [
    "## Открытие данных\n",
    "**Откроем файлы с данными, ознакомимся с общей информацией, а так же визуально посмотрим на внутреннее заполнение таблицы.**"
   ]
  },
  {
   "cell_type": "code",
   "execution_count": 1,
   "metadata": {},
   "outputs": [],
   "source": [
    "# сразу на данном этапе импортируем основные библиотеки для будущих манипуляций\n",
    "\n",
    "import pandas as pd\n",
    "import numpy as np\n",
    "import seaborn as sns\n",
    "from matplotlib import pyplot as plt\n",
    "from math import factorial\n",
    "import math\n",
    "import math as mt\n",
    "from scipy import stats as st\n",
    "from scipy.stats import norm"
   ]
  },
  {
   "cell_type": "code",
   "execution_count": 2,
   "metadata": {},
   "outputs": [],
   "source": [
    "# откроем поочередно каждую из 5-ти таблиц, присваивая названия каждому датафрейму согласно его содержанию:\n",
    "# `calls_data`, `internet_data`, `messages_data`, `tariffs_data`, `users_data`\n",
    "\n",
    "calls_data = pd.read_csv('/datasets/calls.csv')\n",
    "internet_data = pd.read_csv('/datasets/internet.csv')\n",
    "messages_data = pd.read_csv('/datasets/messages.csv')\n",
    "tariffs_data = pd.read_csv('/datasets/tariffs.csv')\n",
    "users_data = pd.read_csv('/datasets/users.csv')"
   ]
  },
  {
   "cell_type": "markdown",
   "metadata": {},
   "source": [
    "Для нашего удобства переименуем сразу некоторые столбцы таблиц, т.к. некоторые дефолтные названия (исходя из описания в п.2.2.) не в полной мере отражают сути своего содержания.\n",
    "Переименуем некоторые из них, добавив уточнения:\n",
    "\n",
    "**Таблица calls (информация о звонках):**\n",
    "\n",
    "- id — уникальный номер звонка **(---> call_id)**\n",
    "- duration — длительность звонка в минутах **(---> call_duration)**\n",
    "\n",
    "**Таблица messages (информация о сообщениях):**\n",
    "\n",
    "- id — уникальный номер сообщения **(---> message_id)**\n",
    "\n",
    "**Таблица internet (информация об интернет-сессиях):**\n",
    "\n",
    "- id — уникальный номер сессии **(---> session_id)**"
   ]
  },
  {
   "cell_type": "code",
   "execution_count": 3,
   "metadata": {
    "scrolled": false
   },
   "outputs": [
    {
     "name": "stdout",
     "output_type": "stream",
     "text": [
      "Таблица \"Информация о звонках\"\n",
      "--------------------------------------------------------------------------------------------------------------\n",
      "<class 'pandas.core.frame.DataFrame'>\n",
      "RangeIndex: 202607 entries, 0 to 202606\n",
      "Data columns (total 4 columns):\n",
      "call_id          202607 non-null object\n",
      "call_date        202607 non-null object\n",
      "call_duration    202607 non-null float64\n",
      "user_id          202607 non-null int64\n",
      "dtypes: float64(1), int64(1), object(2)\n",
      "memory usage: 6.2+ MB\n",
      "None\n"
     ]
    },
    {
     "data": {
      "text/html": [
       "<div>\n",
       "<style scoped>\n",
       "    .dataframe tbody tr th:only-of-type {\n",
       "        vertical-align: middle;\n",
       "    }\n",
       "\n",
       "    .dataframe tbody tr th {\n",
       "        vertical-align: top;\n",
       "    }\n",
       "\n",
       "    .dataframe thead th {\n",
       "        text-align: right;\n",
       "    }\n",
       "</style>\n",
       "<table border=\"1\" class=\"dataframe\">\n",
       "  <thead>\n",
       "    <tr style=\"text-align: right;\">\n",
       "      <th></th>\n",
       "      <th>call_id</th>\n",
       "      <th>call_date</th>\n",
       "      <th>call_duration</th>\n",
       "      <th>user_id</th>\n",
       "    </tr>\n",
       "  </thead>\n",
       "  <tbody>\n",
       "    <tr>\n",
       "      <td>0</td>\n",
       "      <td>1000_0</td>\n",
       "      <td>2018-07-25</td>\n",
       "      <td>0.00</td>\n",
       "      <td>1000</td>\n",
       "    </tr>\n",
       "    <tr>\n",
       "      <td>1</td>\n",
       "      <td>1000_1</td>\n",
       "      <td>2018-08-17</td>\n",
       "      <td>0.00</td>\n",
       "      <td>1000</td>\n",
       "    </tr>\n",
       "    <tr>\n",
       "      <td>2</td>\n",
       "      <td>1000_2</td>\n",
       "      <td>2018-06-11</td>\n",
       "      <td>2.85</td>\n",
       "      <td>1000</td>\n",
       "    </tr>\n",
       "    <tr>\n",
       "      <td>3</td>\n",
       "      <td>1000_3</td>\n",
       "      <td>2018-09-21</td>\n",
       "      <td>13.80</td>\n",
       "      <td>1000</td>\n",
       "    </tr>\n",
       "    <tr>\n",
       "      <td>4</td>\n",
       "      <td>1000_4</td>\n",
       "      <td>2018-12-15</td>\n",
       "      <td>5.18</td>\n",
       "      <td>1000</td>\n",
       "    </tr>\n",
       "    <tr>\n",
       "      <td>5</td>\n",
       "      <td>1000_5</td>\n",
       "      <td>2018-11-02</td>\n",
       "      <td>0.00</td>\n",
       "      <td>1000</td>\n",
       "    </tr>\n",
       "    <tr>\n",
       "      <td>6</td>\n",
       "      <td>1000_6</td>\n",
       "      <td>2018-10-18</td>\n",
       "      <td>0.00</td>\n",
       "      <td>1000</td>\n",
       "    </tr>\n",
       "    <tr>\n",
       "      <td>7</td>\n",
       "      <td>1000_7</td>\n",
       "      <td>2018-08-22</td>\n",
       "      <td>18.31</td>\n",
       "      <td>1000</td>\n",
       "    </tr>\n",
       "    <tr>\n",
       "      <td>8</td>\n",
       "      <td>1000_8</td>\n",
       "      <td>2018-09-15</td>\n",
       "      <td>18.44</td>\n",
       "      <td>1000</td>\n",
       "    </tr>\n",
       "    <tr>\n",
       "      <td>9</td>\n",
       "      <td>1000_9</td>\n",
       "      <td>2018-08-15</td>\n",
       "      <td>0.00</td>\n",
       "      <td>1000</td>\n",
       "    </tr>\n",
       "  </tbody>\n",
       "</table>\n",
       "</div>"
      ],
      "text/plain": [
       "  call_id   call_date  call_duration  user_id\n",
       "0  1000_0  2018-07-25           0.00     1000\n",
       "1  1000_1  2018-08-17           0.00     1000\n",
       "2  1000_2  2018-06-11           2.85     1000\n",
       "3  1000_3  2018-09-21          13.80     1000\n",
       "4  1000_4  2018-12-15           5.18     1000\n",
       "5  1000_5  2018-11-02           0.00     1000\n",
       "6  1000_6  2018-10-18           0.00     1000\n",
       "7  1000_7  2018-08-22          18.31     1000\n",
       "8  1000_8  2018-09-15          18.44     1000\n",
       "9  1000_9  2018-08-15           0.00     1000"
      ]
     },
     "metadata": {},
     "output_type": "display_data"
    },
    {
     "name": "stdout",
     "output_type": "stream",
     "text": [
      "--------------------------------------------------------------------------------------------------------------\n",
      "\n",
      "Таблица \"Информация об интернет-сессиях\"\n",
      "--------------------------------------------------------------------------------------------------------------\n",
      "<class 'pandas.core.frame.DataFrame'>\n",
      "RangeIndex: 149396 entries, 0 to 149395\n",
      "Data columns (total 5 columns):\n",
      "Unnamed: 0      149396 non-null int64\n",
      "session_id      149396 non-null object\n",
      "mb_used         149396 non-null float64\n",
      "session_date    149396 non-null object\n",
      "user_id         149396 non-null int64\n",
      "dtypes: float64(1), int64(2), object(2)\n",
      "memory usage: 5.7+ MB\n",
      "None\n"
     ]
    },
    {
     "data": {
      "text/html": [
       "<div>\n",
       "<style scoped>\n",
       "    .dataframe tbody tr th:only-of-type {\n",
       "        vertical-align: middle;\n",
       "    }\n",
       "\n",
       "    .dataframe tbody tr th {\n",
       "        vertical-align: top;\n",
       "    }\n",
       "\n",
       "    .dataframe thead th {\n",
       "        text-align: right;\n",
       "    }\n",
       "</style>\n",
       "<table border=\"1\" class=\"dataframe\">\n",
       "  <thead>\n",
       "    <tr style=\"text-align: right;\">\n",
       "      <th></th>\n",
       "      <th>Unnamed: 0</th>\n",
       "      <th>session_id</th>\n",
       "      <th>mb_used</th>\n",
       "      <th>session_date</th>\n",
       "      <th>user_id</th>\n",
       "    </tr>\n",
       "  </thead>\n",
       "  <tbody>\n",
       "    <tr>\n",
       "      <td>0</td>\n",
       "      <td>0</td>\n",
       "      <td>1000_0</td>\n",
       "      <td>112.95</td>\n",
       "      <td>2018-11-25</td>\n",
       "      <td>1000</td>\n",
       "    </tr>\n",
       "    <tr>\n",
       "      <td>1</td>\n",
       "      <td>1</td>\n",
       "      <td>1000_1</td>\n",
       "      <td>1052.81</td>\n",
       "      <td>2018-09-07</td>\n",
       "      <td>1000</td>\n",
       "    </tr>\n",
       "    <tr>\n",
       "      <td>2</td>\n",
       "      <td>2</td>\n",
       "      <td>1000_2</td>\n",
       "      <td>1197.26</td>\n",
       "      <td>2018-06-25</td>\n",
       "      <td>1000</td>\n",
       "    </tr>\n",
       "    <tr>\n",
       "      <td>3</td>\n",
       "      <td>3</td>\n",
       "      <td>1000_3</td>\n",
       "      <td>550.27</td>\n",
       "      <td>2018-08-22</td>\n",
       "      <td>1000</td>\n",
       "    </tr>\n",
       "    <tr>\n",
       "      <td>4</td>\n",
       "      <td>4</td>\n",
       "      <td>1000_4</td>\n",
       "      <td>302.56</td>\n",
       "      <td>2018-09-24</td>\n",
       "      <td>1000</td>\n",
       "    </tr>\n",
       "    <tr>\n",
       "      <td>5</td>\n",
       "      <td>5</td>\n",
       "      <td>1000_5</td>\n",
       "      <td>399.97</td>\n",
       "      <td>2018-10-02</td>\n",
       "      <td>1000</td>\n",
       "    </tr>\n",
       "    <tr>\n",
       "      <td>6</td>\n",
       "      <td>6</td>\n",
       "      <td>1000_6</td>\n",
       "      <td>540.08</td>\n",
       "      <td>2018-09-07</td>\n",
       "      <td>1000</td>\n",
       "    </tr>\n",
       "    <tr>\n",
       "      <td>7</td>\n",
       "      <td>7</td>\n",
       "      <td>1000_7</td>\n",
       "      <td>415.70</td>\n",
       "      <td>2018-07-11</td>\n",
       "      <td>1000</td>\n",
       "    </tr>\n",
       "    <tr>\n",
       "      <td>8</td>\n",
       "      <td>8</td>\n",
       "      <td>1000_8</td>\n",
       "      <td>505.40</td>\n",
       "      <td>2018-10-08</td>\n",
       "      <td>1000</td>\n",
       "    </tr>\n",
       "    <tr>\n",
       "      <td>9</td>\n",
       "      <td>9</td>\n",
       "      <td>1000_9</td>\n",
       "      <td>345.54</td>\n",
       "      <td>2018-09-03</td>\n",
       "      <td>1000</td>\n",
       "    </tr>\n",
       "  </tbody>\n",
       "</table>\n",
       "</div>"
      ],
      "text/plain": [
       "   Unnamed: 0 session_id  mb_used session_date  user_id\n",
       "0           0     1000_0   112.95   2018-11-25     1000\n",
       "1           1     1000_1  1052.81   2018-09-07     1000\n",
       "2           2     1000_2  1197.26   2018-06-25     1000\n",
       "3           3     1000_3   550.27   2018-08-22     1000\n",
       "4           4     1000_4   302.56   2018-09-24     1000\n",
       "5           5     1000_5   399.97   2018-10-02     1000\n",
       "6           6     1000_6   540.08   2018-09-07     1000\n",
       "7           7     1000_7   415.70   2018-07-11     1000\n",
       "8           8     1000_8   505.40   2018-10-08     1000\n",
       "9           9     1000_9   345.54   2018-09-03     1000"
      ]
     },
     "metadata": {},
     "output_type": "display_data"
    },
    {
     "name": "stdout",
     "output_type": "stream",
     "text": [
      "--------------------------------------------------------------------------------------------------------------\n",
      "\n",
      "Таблица \"Информация о сообщениях\"\n",
      "--------------------------------------------------------------------------------------------------------------\n",
      "<class 'pandas.core.frame.DataFrame'>\n",
      "RangeIndex: 123036 entries, 0 to 123035\n",
      "Data columns (total 3 columns):\n",
      "message_id      123036 non-null object\n",
      "message_date    123036 non-null object\n",
      "user_id         123036 non-null int64\n",
      "dtypes: int64(1), object(2)\n",
      "memory usage: 2.8+ MB\n",
      "None\n"
     ]
    },
    {
     "data": {
      "text/html": [
       "<div>\n",
       "<style scoped>\n",
       "    .dataframe tbody tr th:only-of-type {\n",
       "        vertical-align: middle;\n",
       "    }\n",
       "\n",
       "    .dataframe tbody tr th {\n",
       "        vertical-align: top;\n",
       "    }\n",
       "\n",
       "    .dataframe thead th {\n",
       "        text-align: right;\n",
       "    }\n",
       "</style>\n",
       "<table border=\"1\" class=\"dataframe\">\n",
       "  <thead>\n",
       "    <tr style=\"text-align: right;\">\n",
       "      <th></th>\n",
       "      <th>message_id</th>\n",
       "      <th>message_date</th>\n",
       "      <th>user_id</th>\n",
       "    </tr>\n",
       "  </thead>\n",
       "  <tbody>\n",
       "    <tr>\n",
       "      <td>0</td>\n",
       "      <td>1000_0</td>\n",
       "      <td>2018-06-27</td>\n",
       "      <td>1000</td>\n",
       "    </tr>\n",
       "    <tr>\n",
       "      <td>1</td>\n",
       "      <td>1000_1</td>\n",
       "      <td>2018-10-08</td>\n",
       "      <td>1000</td>\n",
       "    </tr>\n",
       "    <tr>\n",
       "      <td>2</td>\n",
       "      <td>1000_2</td>\n",
       "      <td>2018-08-04</td>\n",
       "      <td>1000</td>\n",
       "    </tr>\n",
       "    <tr>\n",
       "      <td>3</td>\n",
       "      <td>1000_3</td>\n",
       "      <td>2018-06-16</td>\n",
       "      <td>1000</td>\n",
       "    </tr>\n",
       "    <tr>\n",
       "      <td>4</td>\n",
       "      <td>1000_4</td>\n",
       "      <td>2018-12-05</td>\n",
       "      <td>1000</td>\n",
       "    </tr>\n",
       "    <tr>\n",
       "      <td>5</td>\n",
       "      <td>1000_5</td>\n",
       "      <td>2018-06-20</td>\n",
       "      <td>1000</td>\n",
       "    </tr>\n",
       "    <tr>\n",
       "      <td>6</td>\n",
       "      <td>1000_6</td>\n",
       "      <td>2018-11-19</td>\n",
       "      <td>1000</td>\n",
       "    </tr>\n",
       "    <tr>\n",
       "      <td>7</td>\n",
       "      <td>1000_7</td>\n",
       "      <td>2018-10-29</td>\n",
       "      <td>1000</td>\n",
       "    </tr>\n",
       "    <tr>\n",
       "      <td>8</td>\n",
       "      <td>1000_8</td>\n",
       "      <td>2018-06-25</td>\n",
       "      <td>1000</td>\n",
       "    </tr>\n",
       "    <tr>\n",
       "      <td>9</td>\n",
       "      <td>1000_9</td>\n",
       "      <td>2018-12-18</td>\n",
       "      <td>1000</td>\n",
       "    </tr>\n",
       "  </tbody>\n",
       "</table>\n",
       "</div>"
      ],
      "text/plain": [
       "  message_id message_date  user_id\n",
       "0     1000_0   2018-06-27     1000\n",
       "1     1000_1   2018-10-08     1000\n",
       "2     1000_2   2018-08-04     1000\n",
       "3     1000_3   2018-06-16     1000\n",
       "4     1000_4   2018-12-05     1000\n",
       "5     1000_5   2018-06-20     1000\n",
       "6     1000_6   2018-11-19     1000\n",
       "7     1000_7   2018-10-29     1000\n",
       "8     1000_8   2018-06-25     1000\n",
       "9     1000_9   2018-12-18     1000"
      ]
     },
     "metadata": {},
     "output_type": "display_data"
    },
    {
     "name": "stdout",
     "output_type": "stream",
     "text": [
      "--------------------------------------------------------------------------------------------------------------\n",
      "\n",
      "Таблица \"Информация о тарифах\"\n",
      "--------------------------------------------------------------------------------------------------------------\n",
      "<class 'pandas.core.frame.DataFrame'>\n",
      "RangeIndex: 2 entries, 0 to 1\n",
      "Data columns (total 8 columns):\n",
      "messages_included        2 non-null int64\n",
      "mb_per_month_included    2 non-null int64\n",
      "minutes_included         2 non-null int64\n",
      "rub_monthly_fee          2 non-null int64\n",
      "rub_per_gb               2 non-null int64\n",
      "rub_per_message          2 non-null int64\n",
      "rub_per_minute           2 non-null int64\n",
      "tariff_name              2 non-null object\n",
      "dtypes: int64(7), object(1)\n",
      "memory usage: 256.0+ bytes\n",
      "None\n"
     ]
    },
    {
     "data": {
      "text/html": [
       "<div>\n",
       "<style scoped>\n",
       "    .dataframe tbody tr th:only-of-type {\n",
       "        vertical-align: middle;\n",
       "    }\n",
       "\n",
       "    .dataframe tbody tr th {\n",
       "        vertical-align: top;\n",
       "    }\n",
       "\n",
       "    .dataframe thead th {\n",
       "        text-align: right;\n",
       "    }\n",
       "</style>\n",
       "<table border=\"1\" class=\"dataframe\">\n",
       "  <thead>\n",
       "    <tr style=\"text-align: right;\">\n",
       "      <th></th>\n",
       "      <th>messages_included</th>\n",
       "      <th>mb_per_month_included</th>\n",
       "      <th>minutes_included</th>\n",
       "      <th>rub_monthly_fee</th>\n",
       "      <th>rub_per_gb</th>\n",
       "      <th>rub_per_message</th>\n",
       "      <th>rub_per_minute</th>\n",
       "      <th>tariff_name</th>\n",
       "    </tr>\n",
       "  </thead>\n",
       "  <tbody>\n",
       "    <tr>\n",
       "      <td>0</td>\n",
       "      <td>50</td>\n",
       "      <td>15360</td>\n",
       "      <td>500</td>\n",
       "      <td>550</td>\n",
       "      <td>200</td>\n",
       "      <td>3</td>\n",
       "      <td>3</td>\n",
       "      <td>smart</td>\n",
       "    </tr>\n",
       "    <tr>\n",
       "      <td>1</td>\n",
       "      <td>1000</td>\n",
       "      <td>30720</td>\n",
       "      <td>3000</td>\n",
       "      <td>1950</td>\n",
       "      <td>150</td>\n",
       "      <td>1</td>\n",
       "      <td>1</td>\n",
       "      <td>ultra</td>\n",
       "    </tr>\n",
       "  </tbody>\n",
       "</table>\n",
       "</div>"
      ],
      "text/plain": [
       "   messages_included  mb_per_month_included  minutes_included  \\\n",
       "0                 50                  15360               500   \n",
       "1               1000                  30720              3000   \n",
       "\n",
       "   rub_monthly_fee  rub_per_gb  rub_per_message  rub_per_minute tariff_name  \n",
       "0              550         200                3               3       smart  \n",
       "1             1950         150                1               1       ultra  "
      ]
     },
     "metadata": {},
     "output_type": "display_data"
    },
    {
     "name": "stdout",
     "output_type": "stream",
     "text": [
      "--------------------------------------------------------------------------------------------------------------\n",
      "\n",
      "Таблица \"Информация о пользователях\"\n",
      "--------------------------------------------------------------------------------------------------------------\n",
      "<class 'pandas.core.frame.DataFrame'>\n",
      "RangeIndex: 500 entries, 0 to 499\n",
      "Data columns (total 8 columns):\n",
      "user_id       500 non-null int64\n",
      "age           500 non-null int64\n",
      "churn_date    38 non-null object\n",
      "city          500 non-null object\n",
      "first_name    500 non-null object\n",
      "last_name     500 non-null object\n",
      "reg_date      500 non-null object\n",
      "tariff        500 non-null object\n",
      "dtypes: int64(2), object(6)\n",
      "memory usage: 31.4+ KB\n",
      "None\n"
     ]
    },
    {
     "data": {
      "text/html": [
       "<div>\n",
       "<style scoped>\n",
       "    .dataframe tbody tr th:only-of-type {\n",
       "        vertical-align: middle;\n",
       "    }\n",
       "\n",
       "    .dataframe tbody tr th {\n",
       "        vertical-align: top;\n",
       "    }\n",
       "\n",
       "    .dataframe thead th {\n",
       "        text-align: right;\n",
       "    }\n",
       "</style>\n",
       "<table border=\"1\" class=\"dataframe\">\n",
       "  <thead>\n",
       "    <tr style=\"text-align: right;\">\n",
       "      <th></th>\n",
       "      <th>user_id</th>\n",
       "      <th>age</th>\n",
       "      <th>churn_date</th>\n",
       "      <th>city</th>\n",
       "      <th>first_name</th>\n",
       "      <th>last_name</th>\n",
       "      <th>reg_date</th>\n",
       "      <th>tariff</th>\n",
       "    </tr>\n",
       "  </thead>\n",
       "  <tbody>\n",
       "    <tr>\n",
       "      <td>0</td>\n",
       "      <td>1000</td>\n",
       "      <td>52</td>\n",
       "      <td>NaN</td>\n",
       "      <td>Краснодар</td>\n",
       "      <td>Рафаил</td>\n",
       "      <td>Верещагин</td>\n",
       "      <td>2018-05-25</td>\n",
       "      <td>ultra</td>\n",
       "    </tr>\n",
       "    <tr>\n",
       "      <td>1</td>\n",
       "      <td>1001</td>\n",
       "      <td>41</td>\n",
       "      <td>NaN</td>\n",
       "      <td>Москва</td>\n",
       "      <td>Иван</td>\n",
       "      <td>Ежов</td>\n",
       "      <td>2018-11-01</td>\n",
       "      <td>smart</td>\n",
       "    </tr>\n",
       "    <tr>\n",
       "      <td>2</td>\n",
       "      <td>1002</td>\n",
       "      <td>59</td>\n",
       "      <td>NaN</td>\n",
       "      <td>Стерлитамак</td>\n",
       "      <td>Евгений</td>\n",
       "      <td>Абрамович</td>\n",
       "      <td>2018-06-17</td>\n",
       "      <td>smart</td>\n",
       "    </tr>\n",
       "    <tr>\n",
       "      <td>3</td>\n",
       "      <td>1003</td>\n",
       "      <td>23</td>\n",
       "      <td>NaN</td>\n",
       "      <td>Москва</td>\n",
       "      <td>Белла</td>\n",
       "      <td>Белякова</td>\n",
       "      <td>2018-08-17</td>\n",
       "      <td>ultra</td>\n",
       "    </tr>\n",
       "    <tr>\n",
       "      <td>4</td>\n",
       "      <td>1004</td>\n",
       "      <td>68</td>\n",
       "      <td>NaN</td>\n",
       "      <td>Новокузнецк</td>\n",
       "      <td>Татьяна</td>\n",
       "      <td>Авдеенко</td>\n",
       "      <td>2018-05-14</td>\n",
       "      <td>ultra</td>\n",
       "    </tr>\n",
       "    <tr>\n",
       "      <td>5</td>\n",
       "      <td>1005</td>\n",
       "      <td>67</td>\n",
       "      <td>NaN</td>\n",
       "      <td>Набережные Челны</td>\n",
       "      <td>Афанасий</td>\n",
       "      <td>Горлов</td>\n",
       "      <td>2018-01-25</td>\n",
       "      <td>smart</td>\n",
       "    </tr>\n",
       "    <tr>\n",
       "      <td>6</td>\n",
       "      <td>1006</td>\n",
       "      <td>21</td>\n",
       "      <td>NaN</td>\n",
       "      <td>Ульяновск</td>\n",
       "      <td>Леонид</td>\n",
       "      <td>Ермолаев</td>\n",
       "      <td>2018-02-26</td>\n",
       "      <td>smart</td>\n",
       "    </tr>\n",
       "    <tr>\n",
       "      <td>7</td>\n",
       "      <td>1007</td>\n",
       "      <td>65</td>\n",
       "      <td>NaN</td>\n",
       "      <td>Москва</td>\n",
       "      <td>Юна</td>\n",
       "      <td>Березина</td>\n",
       "      <td>2018-04-19</td>\n",
       "      <td>smart</td>\n",
       "    </tr>\n",
       "    <tr>\n",
       "      <td>8</td>\n",
       "      <td>1008</td>\n",
       "      <td>63</td>\n",
       "      <td>NaN</td>\n",
       "      <td>Челябинск</td>\n",
       "      <td>Рустэм</td>\n",
       "      <td>Пономарёв</td>\n",
       "      <td>2018-12-19</td>\n",
       "      <td>smart</td>\n",
       "    </tr>\n",
       "    <tr>\n",
       "      <td>9</td>\n",
       "      <td>1009</td>\n",
       "      <td>24</td>\n",
       "      <td>NaN</td>\n",
       "      <td>Пермь</td>\n",
       "      <td>Василиса</td>\n",
       "      <td>Блинова</td>\n",
       "      <td>2018-03-22</td>\n",
       "      <td>smart</td>\n",
       "    </tr>\n",
       "  </tbody>\n",
       "</table>\n",
       "</div>"
      ],
      "text/plain": [
       "   user_id  age churn_date              city first_name  last_name  \\\n",
       "0     1000   52        NaN         Краснодар     Рафаил  Верещагин   \n",
       "1     1001   41        NaN            Москва       Иван       Ежов   \n",
       "2     1002   59        NaN       Стерлитамак    Евгений  Абрамович   \n",
       "3     1003   23        NaN            Москва      Белла   Белякова   \n",
       "4     1004   68        NaN       Новокузнецк    Татьяна   Авдеенко   \n",
       "5     1005   67        NaN  Набережные Челны   Афанасий     Горлов   \n",
       "6     1006   21        NaN         Ульяновск     Леонид   Ермолаев   \n",
       "7     1007   65        NaN            Москва        Юна   Березина   \n",
       "8     1008   63        NaN         Челябинск     Рустэм  Пономарёв   \n",
       "9     1009   24        NaN             Пермь   Василиса    Блинова   \n",
       "\n",
       "     reg_date tariff  \n",
       "0  2018-05-25  ultra  \n",
       "1  2018-11-01  smart  \n",
       "2  2018-06-17  smart  \n",
       "3  2018-08-17  ultra  \n",
       "4  2018-05-14  ultra  \n",
       "5  2018-01-25  smart  \n",
       "6  2018-02-26  smart  \n",
       "7  2018-04-19  smart  \n",
       "8  2018-12-19  smart  \n",
       "9  2018-03-22  smart  "
      ]
     },
     "metadata": {},
     "output_type": "display_data"
    },
    {
     "name": "stdout",
     "output_type": "stream",
     "text": [
      "--------------------------------------------------------------------------------------------------------------\n",
      "\n"
     ]
    }
   ],
   "source": [
    "# для переименования используем метод `rename()`\n",
    "\n",
    "calls_data = calls_data.rename({'id': 'call_id', 'duration': 'call_duration'}, axis = 'columns')\n",
    "messages_data = messages_data.rename({'id': 'message_id'}, axis = 'columns')\n",
    "internet_data = internet_data.rename({'id': 'session_id'}, axis = 'columns')\n",
    "\n",
    "# используя цикл, посмотрим сразу на общую информацию по каждой таблице и выведем на экран содержимое \n",
    "# первых 10 строк:\n",
    "\n",
    "calls_data.name = 'Таблица \"Информация о звонках\"'\n",
    "internet_data.name = 'Таблица \"Информация об интернет-сессиях\"'\n",
    "messages_data.name = 'Таблица \"Информация о сообщениях\"'\n",
    "tariffs_data.name = 'Таблица \"Информация о тарифах\"'\n",
    "users_data.name = 'Таблица \"Информация о пользователях\"'\n",
    "\n",
    "for data in [calls_data, internet_data, messages_data, tariffs_data, users_data]:\n",
    "    print(data.name)\n",
    "    print('--------------------------------------------------------------------------------------------------------------')\n",
    "    print(data.info())\n",
    "    display(data.head(10))\n",
    "    \n",
    "    # для удобства при просмотре добавим такой `разграничитель`\n",
    "    print('--------------------------------------------------------------------------------------------------------------')\n",
    "    # и отступ\n",
    "    print()                                                        "
   ]
  },
  {
   "cell_type": "markdown",
   "metadata": {},
   "source": [
    "**Мы видим, что:**\n",
    "1. Датафрейм `call_data` содержит 4 столбца, 202607 наблюдений и не имеет пропусков. Но: в колонке `call_duration` можно визуально увидеть нулевые значения, далее проверим каким образом это произошло. \n",
    "2. Датафрейм `internet_data` содержит 5 столбцов, 149396 наблюдений и не имеет пропусков. Но: имеется столбец `Unnamed: 0`, который в описании данных не был упомянут и по содержанию в нем проставлены просто индексы, поэтому можем его весь удалить.\n",
    "3. Датафрейм `messages_data` содержит 3 столбца, 123036 наблюдений и не имеет пропусков.\n",
    "4. Датафрейм `tafiffs_data` содержит 8 столбцов и 2 наблюдения (что логично, 2 тарифа). Содержимое таблицы соответствует исходному описанию тарифов в п.2.1.\n",
    "5. Датафрейм `users_data`содержит 8 столбцов и 500 наблюдений. Однако столбец `churn_date` имеет пропуски (заполнено только 38 строк (38 пользователей). Логично предположить, что это связано с тем, что отсутствие даты прекращения пользованием тарифа означает, что пользователь не отключался и продолжал пользоваться тарифом на момент сбора данных. Такие пропуски логически заполнить мы не сможем и нам это не нужно для текущей задачи, оставляем их.\n",
    "\n",
    "**По типу данных имеются несостыковки**, для корректных будущих манипуляций изменим типы данных некоторых из столбцов в следующих датафреймах:\n",
    "1. Датафрейм `call_data`: столбец `call_date` изменим на тип *'datetime'*, `call_duration` округлим в большую сторону и изменим на тип *'int'* (т.к. нам нужны целые минуты для удобства анализа).\n",
    "2. Датафрейм `internet_data`: столбец `session_date` изменим на тип *'datetime'*, столбец `mb_used` округлим в большую сторону и изменим на *'int'* (будет удобнее работать с целочисленными Мегабайтами).\n",
    "3. Датафрейм `messages_data`: столбец `message_date` изменим на тип *'datetime'*.\n",
    "4. Датафрейм `users_data`: столбцы `reg_date`и `churn_date` изменим на тип *'datetime'*."
   ]
  },
  {
   "cell_type": "markdown",
   "metadata": {},
   "source": [
    "<div style=\"border:solid black 2px; padding: 20px\">\n",
    "    \n",
    "На данном этапе мы:<br><br>\n",
    "    \n",
    "- Ознакомились с представленными таблицами: добавили корректировки в названия некоторых столбцов, оценили заполненность таблиц и тип данных каждого столбца 5-ти таблиц.<br>\n",
    "- Обнаружили столбец, который можно удалить: `Unnamed: 0`.<br>\n",
    "- Обнаружили некритичные пропуски только в 1 таблице `users_data` и нулевые значения в столбце `call_duration`, которые далее детальнее проверим и примем решение о необходимости изменения.<br>\n",
    "- Описали необходимые изменения типов данных, которые нужно будет внести.<br>\n",
    "\n",
    "Далее приступим непосредственно к самой предобработке.<br>\n",
    "    \n",
    "</div>"
   ]
  },
  {
   "cell_type": "markdown",
   "metadata": {},
   "source": [
    "## Предобработка данных"
   ]
  },
  {
   "cell_type": "code",
   "execution_count": 4,
   "metadata": {},
   "outputs": [
    {
     "data": {
      "text/html": [
       "<div>\n",
       "<style scoped>\n",
       "    .dataframe tbody tr th:only-of-type {\n",
       "        vertical-align: middle;\n",
       "    }\n",
       "\n",
       "    .dataframe tbody tr th {\n",
       "        vertical-align: top;\n",
       "    }\n",
       "\n",
       "    .dataframe thead th {\n",
       "        text-align: right;\n",
       "    }\n",
       "</style>\n",
       "<table border=\"1\" class=\"dataframe\">\n",
       "  <thead>\n",
       "    <tr style=\"text-align: right;\">\n",
       "      <th></th>\n",
       "      <th>session_id</th>\n",
       "      <th>mb_used</th>\n",
       "      <th>session_date</th>\n",
       "      <th>user_id</th>\n",
       "    </tr>\n",
       "  </thead>\n",
       "  <tbody>\n",
       "    <tr>\n",
       "      <td>0</td>\n",
       "      <td>1000_0</td>\n",
       "      <td>112.95</td>\n",
       "      <td>2018-11-25</td>\n",
       "      <td>1000</td>\n",
       "    </tr>\n",
       "    <tr>\n",
       "      <td>1</td>\n",
       "      <td>1000_1</td>\n",
       "      <td>1052.81</td>\n",
       "      <td>2018-09-07</td>\n",
       "      <td>1000</td>\n",
       "    </tr>\n",
       "  </tbody>\n",
       "</table>\n",
       "</div>"
      ],
      "text/plain": [
       "  session_id  mb_used session_date  user_id\n",
       "0     1000_0   112.95   2018-11-25     1000\n",
       "1     1000_1  1052.81   2018-09-07     1000"
      ]
     },
     "execution_count": 4,
     "metadata": {},
     "output_type": "execute_result"
    }
   ],
   "source": [
    "# удалим столбец `Unnamed: 0` из датафрейма `internet_data`\n",
    "\n",
    "del internet_data['Unnamed: 0']\n",
    "internet_data.head(2)           # и проверим визуально по паре строк успешность  удаления      "
   ]
  },
  {
   "cell_type": "code",
   "execution_count": 5,
   "metadata": {},
   "outputs": [
    {
     "name": "stdout",
     "output_type": "stream",
     "text": [
      "<class 'pandas.core.frame.DataFrame'>\n",
      "RangeIndex: 202607 entries, 0 to 202606\n",
      "Data columns (total 4 columns):\n",
      "call_id          202607 non-null object\n",
      "call_date        202607 non-null datetime64[ns]\n",
      "call_duration    202607 non-null int64\n",
      "user_id          202607 non-null int64\n",
      "dtypes: datetime64[ns](1), int64(2), object(1)\n",
      "memory usage: 6.2+ MB\n",
      "None\n",
      "------------------------------------------------\n",
      "<class 'pandas.core.frame.DataFrame'>\n",
      "RangeIndex: 149396 entries, 0 to 149395\n",
      "Data columns (total 4 columns):\n",
      "session_id      149396 non-null object\n",
      "mb_used         149396 non-null int64\n",
      "session_date    149396 non-null datetime64[ns]\n",
      "user_id         149396 non-null int64\n",
      "dtypes: datetime64[ns](1), int64(2), object(1)\n",
      "memory usage: 4.6+ MB\n",
      "None\n",
      "------------------------------------------------\n",
      "<class 'pandas.core.frame.DataFrame'>\n",
      "RangeIndex: 123036 entries, 0 to 123035\n",
      "Data columns (total 3 columns):\n",
      "message_id      123036 non-null object\n",
      "message_date    123036 non-null datetime64[ns]\n",
      "user_id         123036 non-null int64\n",
      "dtypes: datetime64[ns](1), int64(1), object(1)\n",
      "memory usage: 2.8+ MB\n",
      "None\n",
      "------------------------------------------------\n",
      "<class 'pandas.core.frame.DataFrame'>\n",
      "RangeIndex: 500 entries, 0 to 499\n",
      "Data columns (total 8 columns):\n",
      "user_id       500 non-null int64\n",
      "age           500 non-null int64\n",
      "churn_date    38 non-null datetime64[ns]\n",
      "city          500 non-null object\n",
      "first_name    500 non-null object\n",
      "last_name     500 non-null object\n",
      "reg_date      500 non-null datetime64[ns]\n",
      "tariff        500 non-null object\n",
      "dtypes: datetime64[ns](2), int64(2), object(4)\n",
      "memory usage: 31.4+ KB\n",
      "None\n",
      "------------------------------------------------\n"
     ]
    }
   ],
   "source": [
    "# приведем столбцы `call_date`, `session_date`, `message_date`, `reg_date`, `churn_date` к типу 'datetime'\n",
    "\n",
    "calls_data['call_date'] = pd.to_datetime(calls_data['call_date'], format='%Y-%m-%d')\n",
    "internet_data['session_date'] = pd.to_datetime(internet_data['session_date'], format='%Y-%m-%d')\n",
    "messages_data['message_date'] = pd.to_datetime(messages_data['message_date'], format='%Y-%m-%d')\n",
    "users_data['reg_date'] = pd.to_datetime(users_data['reg_date'], format='%Y-%m-%d')\n",
    "users_data['churn_date'] = pd.to_datetime(users_data['churn_date'], format='%Y-%m-%d')\n",
    "\n",
    "# округлим  `call_duration`, `mb_used` в большую сторону и после - приведем их к типу 'int'\n",
    "calls_data['call_duration'] = (np.ceil(calls_data['call_duration'])).astype('int')\n",
    "internet_data['mb_used'] = (np.ceil(internet_data['mb_used'])).astype('int')\n",
    "\n",
    "# выведем на экран типы данных для проверки\n",
    "\n",
    "for data in [calls_data, internet_data, messages_data, users_data]:\n",
    "    print(data.info())\n",
    "    print('------------------------------------------------')"
   ]
  },
  {
   "cell_type": "markdown",
   "metadata": {},
   "source": [
    "Замена типов данных в необходимых нам столбцах выполнена успешно."
   ]
  },
  {
   "cell_type": "code",
   "execution_count": 6,
   "metadata": {},
   "outputs": [
    {
     "name": "stdout",
     "output_type": "stream",
     "text": [
      "% \"нулевых\" значений длительности разговора из общего числа наблюдений = 19.6\n",
      "% \"нулевых\" значений потраченного за сессию интернет-трафика = 13.1\n"
     ]
    }
   ],
   "source": [
    "# проверим сколько всего \"0\" в столбце 'сall_duration' датафейма `calls_data`\n",
    "\n",
    "print('% \"нулевых\" значений длительности разговора из общего числа наблюдений =', \\\n",
    "((calls_data.loc[calls_data['call_duration'] == 0, 'call_duration'].count() \\\n",
    "/len(calls_data['call_duration'])) \\\n",
    "*100).round(1))\n",
    "\n",
    "# а так же проверим по аналогии какой % нулевого трафика в столбце `mb_used` датафрейма `internet_data`\n",
    "\n",
    "print('% \"нулевых\" значений потраченного за сессию интернет-трафика =', \\\n",
    "((internet_data.loc[internet_data['mb_used'] == 0, 'mb_used'].count() \\\n",
    "/len(internet_data['mb_used'])) \\\n",
    "*100).round(1))"
   ]
  },
  {
   "cell_type": "markdown",
   "metadata": {},
   "source": [
    "Нулевые значения могут означать, что абонентом был сделан исходящий вызов, но принимающая сторона не ответила на звонок, поэтому система прописала 0. Точно так же и с интернет-сессиями: подключение могло быть активно, но операций в интернете пользователь так и не сделал. Иначе, при звонке/интренет-сессии даже в 1 секунду/1 килобайт оператором  прописалась бы 1 минута/1 Мб (*согласно информации из п.2.1.*).\n",
    "\n",
    "Для нашего анализа такие нулевые строки не несут смысловой нагрузки и не влияют на расход трафика, поэтому за ненадобностью мы их удалим. "
   ]
  },
  {
   "cell_type": "code",
   "execution_count": 7,
   "metadata": {},
   "outputs": [
    {
     "name": "stdout",
     "output_type": "stream",
     "text": [
      "Нулевых значений в столбце \"call_duration\" осталось = 0\n",
      "Нулевых значений в столбце \"mb_used\" осталось = 0\n"
     ]
    }
   ],
   "source": [
    "# удаляем в столбцах `call_duration` и 'mb_used'  все строки с \"0\"\n",
    "\n",
    "calls_data = calls_data[~(calls_data[['call_duration']]==0).all(axis=1)]\n",
    "print('Нулевых значений в столбце \"call_duration\" осталось =', len(calls_data.query('call_duration == 0')))\n",
    "internet_data = internet_data[~(internet_data[['mb_used']]==0).all(axis=1)]\n",
    "print('Нулевых значений в столбце \"mb_used\" осталось =', len(internet_data.query('mb_used == 0')))"
   ]
  },
  {
   "cell_type": "markdown",
   "metadata": {},
   "source": [
    "И в конце нашей предобработки проверим есть ли дубликаты в наших таблицах."
   ]
  },
  {
   "cell_type": "code",
   "execution_count": 8,
   "metadata": {},
   "outputs": [
    {
     "name": "stdout",
     "output_type": "stream",
     "text": [
      "Дубликатов не найдено\n",
      "Дубликатов не найдено\n",
      "Дубликатов не найдено\n",
      "Дубликатов не найдено\n",
      "Дубликатов не найдено\n"
     ]
    }
   ],
   "source": [
    "# с помощью цикла выполним проверку по всем таблицам\n",
    "\n",
    "for data in [calls_data, internet_data, messages_data, tariffs_data, users_data]:\n",
    "    duplicated_found = data.duplicated().sum()\n",
    "    if duplicated_found > 0:\n",
    "        print('Количество дубликатов в {} = '.format(data.columns.values), end='')\n",
    "        print(duplicated_found)\n",
    "    else:\n",
    "        print('Дубликатов не найдено')"
   ]
  },
  {
   "cell_type": "markdown",
   "metadata": {},
   "source": [
    "<div style=\"border:solid black 2px; padding: 20px\">\n",
    "    \n",
    "На данном этапе мы:<br><br>\n",
    "    \n",
    "- Произвели предобработку данных (удалили столбец `Unnamed: 0`, удалили строки с нулевыми значениями в столбцах `call_duration`и  `mb_used`.<br>\n",
    "- Изменили типы данных.<br>\n",
    "    \n",
    "</div>"
   ]
  },
  {
   "cell_type": "markdown",
   "metadata": {},
   "source": [
    "## Добавление новых данных в таблицу"
   ]
  },
  {
   "cell_type": "markdown",
   "metadata": {},
   "source": [
    "**Данные представлены за 2018 год, где мы имеем даты пользовательских операций, поэтому корректно будет оперировать месяцами при анализе.**\n",
    "\n",
    "Создадим в каждом из датафреймов `calls_data`, `internet_data`, `messages_data` новый столбец `month`. Заполним его исходя из имеющихся у нас дат звонков/собщений/сессий.\n",
    "\n",
    "И далее мы сможем по месяцам для каждого пользователя рассчитать следующие значения:\n",
    "- количество сделанных звонков и израсходованных минут разговора\n",
    "- количество отправленных сообщений\n",
    "- объем израсходованного интернет-трафика\n",
    "- выручка"
   ]
  },
  {
   "cell_type": "code",
   "execution_count": 9,
   "metadata": {},
   "outputs": [],
   "source": [
    "# создаем новые столбцы\n",
    "# на выходе получим английские названия месяцев, оставим их в таком формате\n",
    "\n",
    "calls_data['month'] = calls_data['call_date'].dt.month_name()\n",
    "internet_data['month'] = internet_data['session_date'].dt.month_name()\n",
    "messages_data['month'] = messages_data['message_date'].dt.month_name()"
   ]
  },
  {
   "cell_type": "markdown",
   "metadata": {},
   "source": [
    "### Кол-во звонков и минут разговора по месяцам"
   ]
  },
  {
   "cell_type": "markdown",
   "metadata": {},
   "source": [
    "Создадим отдельный датафрейм `calls_grouping`, сгруппированный по пользователю и месяцу, в котором отобразим кол-во звонков и кол-во минут разговора."
   ]
  },
  {
   "cell_type": "code",
   "execution_count": 10,
   "metadata": {},
   "outputs": [
    {
     "data": {
      "text/html": [
       "<div>\n",
       "<style scoped>\n",
       "    .dataframe tbody tr th:only-of-type {\n",
       "        vertical-align: middle;\n",
       "    }\n",
       "\n",
       "    .dataframe tbody tr th {\n",
       "        vertical-align: top;\n",
       "    }\n",
       "\n",
       "    .dataframe thead th {\n",
       "        text-align: right;\n",
       "    }\n",
       "</style>\n",
       "<table border=\"1\" class=\"dataframe\">\n",
       "  <thead>\n",
       "    <tr style=\"text-align: right;\">\n",
       "      <th></th>\n",
       "      <th>user_id</th>\n",
       "      <th>month</th>\n",
       "      <th>calls_per_month</th>\n",
       "      <th>minutes_per_month</th>\n",
       "    </tr>\n",
       "  </thead>\n",
       "  <tbody>\n",
       "    <tr>\n",
       "      <td>0</td>\n",
       "      <td>1000</td>\n",
       "      <td>August</td>\n",
       "      <td>42</td>\n",
       "      <td>408</td>\n",
       "    </tr>\n",
       "    <tr>\n",
       "      <td>1</td>\n",
       "      <td>1000</td>\n",
       "      <td>December</td>\n",
       "      <td>38</td>\n",
       "      <td>333</td>\n",
       "    </tr>\n",
       "    <tr>\n",
       "      <td>2</td>\n",
       "      <td>1000</td>\n",
       "      <td>July</td>\n",
       "      <td>41</td>\n",
       "      <td>340</td>\n",
       "    </tr>\n",
       "    <tr>\n",
       "      <td>3</td>\n",
       "      <td>1000</td>\n",
       "      <td>June</td>\n",
       "      <td>28</td>\n",
       "      <td>172</td>\n",
       "    </tr>\n",
       "    <tr>\n",
       "      <td>4</td>\n",
       "      <td>1000</td>\n",
       "      <td>May</td>\n",
       "      <td>17</td>\n",
       "      <td>159</td>\n",
       "    </tr>\n",
       "  </tbody>\n",
       "</table>\n",
       "</div>"
      ],
      "text/plain": [
       "   user_id     month  calls_per_month  minutes_per_month\n",
       "0     1000    August               42                408\n",
       "1     1000  December               38                333\n",
       "2     1000      July               41                340\n",
       "3     1000      June               28                172\n",
       "4     1000       May               17                159"
      ]
     },
     "execution_count": 10,
     "metadata": {},
     "output_type": "execute_result"
    }
   ],
   "source": [
    "calls_grouping = calls_data.groupby(['user_id','month']).agg({'call_duration': ['count','sum']}).reset_index()\n",
    "calls_grouping.columns = ['user_id', 'month', 'calls_per_month', 'minutes_per_month']      # переименуем столбцы для удобства\n",
    "calls_grouping.head()"
   ]
  },
  {
   "cell_type": "markdown",
   "metadata": {},
   "source": [
    "### Кол-во сообщений по месяцам"
   ]
  },
  {
   "cell_type": "markdown",
   "metadata": {},
   "source": [
    "Создадим по аналогии датафрейм `messages_grouping`, в котором подсчитаем количество отправленных сообщений в каждом месяце каждым пользователем."
   ]
  },
  {
   "cell_type": "code",
   "execution_count": 11,
   "metadata": {},
   "outputs": [
    {
     "data": {
      "text/html": [
       "<div>\n",
       "<style scoped>\n",
       "    .dataframe tbody tr th:only-of-type {\n",
       "        vertical-align: middle;\n",
       "    }\n",
       "\n",
       "    .dataframe tbody tr th {\n",
       "        vertical-align: top;\n",
       "    }\n",
       "\n",
       "    .dataframe thead th {\n",
       "        text-align: right;\n",
       "    }\n",
       "</style>\n",
       "<table border=\"1\" class=\"dataframe\">\n",
       "  <thead>\n",
       "    <tr style=\"text-align: right;\">\n",
       "      <th></th>\n",
       "      <th>user_id</th>\n",
       "      <th>month</th>\n",
       "      <th>messages_per_month</th>\n",
       "    </tr>\n",
       "  </thead>\n",
       "  <tbody>\n",
       "    <tr>\n",
       "      <td>0</td>\n",
       "      <td>1000</td>\n",
       "      <td>August</td>\n",
       "      <td>81</td>\n",
       "    </tr>\n",
       "    <tr>\n",
       "      <td>1</td>\n",
       "      <td>1000</td>\n",
       "      <td>December</td>\n",
       "      <td>70</td>\n",
       "    </tr>\n",
       "    <tr>\n",
       "      <td>2</td>\n",
       "      <td>1000</td>\n",
       "      <td>July</td>\n",
       "      <td>75</td>\n",
       "    </tr>\n",
       "    <tr>\n",
       "      <td>3</td>\n",
       "      <td>1000</td>\n",
       "      <td>June</td>\n",
       "      <td>60</td>\n",
       "    </tr>\n",
       "    <tr>\n",
       "      <td>4</td>\n",
       "      <td>1000</td>\n",
       "      <td>May</td>\n",
       "      <td>22</td>\n",
       "    </tr>\n",
       "  </tbody>\n",
       "</table>\n",
       "</div>"
      ],
      "text/plain": [
       "   user_id     month  messages_per_month\n",
       "0     1000    August                  81\n",
       "1     1000  December                  70\n",
       "2     1000      July                  75\n",
       "3     1000      June                  60\n",
       "4     1000       May                  22"
      ]
     },
     "execution_count": 11,
     "metadata": {},
     "output_type": "execute_result"
    }
   ],
   "source": [
    "messages_grouping = messages_data.groupby(['user_id','month']).agg({'message_id': 'count'}).reset_index()\n",
    "messages_grouping.columns = ['user_id', 'month', 'messages_per_month']      # переименуем столбцы для удобства\n",
    "messages_grouping.head()"
   ]
  },
  {
   "cell_type": "markdown",
   "metadata": {},
   "source": [
    "### Объём интернет-трафика по месяцам"
   ]
  },
  {
   "cell_type": "markdown",
   "metadata": {},
   "source": [
    "Создадим датафрейм `internet_grouping`, в котором посчитаем израсходованный трафик в каждом месяце каждым пользователем."
   ]
  },
  {
   "cell_type": "code",
   "execution_count": 12,
   "metadata": {},
   "outputs": [
    {
     "data": {
      "text/html": [
       "<div>\n",
       "<style scoped>\n",
       "    .dataframe tbody tr th:only-of-type {\n",
       "        vertical-align: middle;\n",
       "    }\n",
       "\n",
       "    .dataframe tbody tr th {\n",
       "        vertical-align: top;\n",
       "    }\n",
       "\n",
       "    .dataframe thead th {\n",
       "        text-align: right;\n",
       "    }\n",
       "</style>\n",
       "<table border=\"1\" class=\"dataframe\">\n",
       "  <thead>\n",
       "    <tr style=\"text-align: right;\">\n",
       "      <th></th>\n",
       "      <th>user_id</th>\n",
       "      <th>month</th>\n",
       "      <th>mb_per_month</th>\n",
       "    </tr>\n",
       "  </thead>\n",
       "  <tbody>\n",
       "    <tr>\n",
       "      <td>0</td>\n",
       "      <td>1000</td>\n",
       "      <td>August</td>\n",
       "      <td>14070</td>\n",
       "    </tr>\n",
       "    <tr>\n",
       "      <td>1</td>\n",
       "      <td>1000</td>\n",
       "      <td>December</td>\n",
       "      <td>9827</td>\n",
       "    </tr>\n",
       "    <tr>\n",
       "      <td>2</td>\n",
       "      <td>1000</td>\n",
       "      <td>July</td>\n",
       "      <td>14016</td>\n",
       "    </tr>\n",
       "    <tr>\n",
       "      <td>3</td>\n",
       "      <td>1000</td>\n",
       "      <td>June</td>\n",
       "      <td>23257</td>\n",
       "    </tr>\n",
       "    <tr>\n",
       "      <td>4</td>\n",
       "      <td>1000</td>\n",
       "      <td>May</td>\n",
       "      <td>2256</td>\n",
       "    </tr>\n",
       "  </tbody>\n",
       "</table>\n",
       "</div>"
      ],
      "text/plain": [
       "   user_id     month  mb_per_month\n",
       "0     1000    August         14070\n",
       "1     1000  December          9827\n",
       "2     1000      July         14016\n",
       "3     1000      June         23257\n",
       "4     1000       May          2256"
      ]
     },
     "execution_count": 12,
     "metadata": {},
     "output_type": "execute_result"
    }
   ],
   "source": [
    "internet_grouping = internet_data.groupby(['user_id','month']).agg({'mb_used': 'sum'}).reset_index()\n",
    "internet_grouping.columns = ['user_id', 'month', 'mb_per_month']      # переименуем столбцы для удобства\n",
    "internet_grouping.head()"
   ]
  },
  {
   "cell_type": "markdown",
   "metadata": {},
   "source": [
    "Мы посчитали основные характеристики, теперь соединим все эти датафреймы вместе, использую метод `merge`, а так же присоединим датафрейм `users_data` по столбцу `user_id`, где содержится нужная нам информация с названием тарифа (и не только) пользователя.\n",
    "\n",
    "Примечание: при объединении методом `merge` с параметром `outer` в новом датафрейме у нас могут образоваться пустые значения NaN (например, пользователь мог не пользоваться интернетом/звонками/сообщениями). Заменим их сразу на нули."
   ]
  },
  {
   "cell_type": "code",
   "execution_count": 13,
   "metadata": {},
   "outputs": [
    {
     "data": {
      "text/html": [
       "<div>\n",
       "<style scoped>\n",
       "    .dataframe tbody tr th:only-of-type {\n",
       "        vertical-align: middle;\n",
       "    }\n",
       "\n",
       "    .dataframe tbody tr th {\n",
       "        vertical-align: top;\n",
       "    }\n",
       "\n",
       "    .dataframe thead th {\n",
       "        text-align: right;\n",
       "    }\n",
       "</style>\n",
       "<table border=\"1\" class=\"dataframe\">\n",
       "  <thead>\n",
       "    <tr style=\"text-align: right;\">\n",
       "      <th></th>\n",
       "      <th>user_id</th>\n",
       "      <th>month</th>\n",
       "      <th>calls_per_month</th>\n",
       "      <th>minutes_per_month</th>\n",
       "      <th>messages_per_month</th>\n",
       "      <th>mb_per_month</th>\n",
       "      <th>age</th>\n",
       "      <th>churn_date</th>\n",
       "      <th>city</th>\n",
       "      <th>first_name</th>\n",
       "      <th>last_name</th>\n",
       "      <th>reg_date</th>\n",
       "      <th>tariff</th>\n",
       "    </tr>\n",
       "  </thead>\n",
       "  <tbody>\n",
       "    <tr>\n",
       "      <td>0</td>\n",
       "      <td>1000</td>\n",
       "      <td>August</td>\n",
       "      <td>42.0</td>\n",
       "      <td>408.0</td>\n",
       "      <td>81.0</td>\n",
       "      <td>14070.0</td>\n",
       "      <td>52</td>\n",
       "      <td>0</td>\n",
       "      <td>Краснодар</td>\n",
       "      <td>Рафаил</td>\n",
       "      <td>Верещагин</td>\n",
       "      <td>2018-05-25</td>\n",
       "      <td>ultra</td>\n",
       "    </tr>\n",
       "    <tr>\n",
       "      <td>1</td>\n",
       "      <td>1000</td>\n",
       "      <td>December</td>\n",
       "      <td>38.0</td>\n",
       "      <td>333.0</td>\n",
       "      <td>70.0</td>\n",
       "      <td>9827.0</td>\n",
       "      <td>52</td>\n",
       "      <td>0</td>\n",
       "      <td>Краснодар</td>\n",
       "      <td>Рафаил</td>\n",
       "      <td>Верещагин</td>\n",
       "      <td>2018-05-25</td>\n",
       "      <td>ultra</td>\n",
       "    </tr>\n",
       "    <tr>\n",
       "      <td>2</td>\n",
       "      <td>1000</td>\n",
       "      <td>July</td>\n",
       "      <td>41.0</td>\n",
       "      <td>340.0</td>\n",
       "      <td>75.0</td>\n",
       "      <td>14016.0</td>\n",
       "      <td>52</td>\n",
       "      <td>0</td>\n",
       "      <td>Краснодар</td>\n",
       "      <td>Рафаил</td>\n",
       "      <td>Верещагин</td>\n",
       "      <td>2018-05-25</td>\n",
       "      <td>ultra</td>\n",
       "    </tr>\n",
       "    <tr>\n",
       "      <td>3</td>\n",
       "      <td>1000</td>\n",
       "      <td>June</td>\n",
       "      <td>28.0</td>\n",
       "      <td>172.0</td>\n",
       "      <td>60.0</td>\n",
       "      <td>23257.0</td>\n",
       "      <td>52</td>\n",
       "      <td>0</td>\n",
       "      <td>Краснодар</td>\n",
       "      <td>Рафаил</td>\n",
       "      <td>Верещагин</td>\n",
       "      <td>2018-05-25</td>\n",
       "      <td>ultra</td>\n",
       "    </tr>\n",
       "    <tr>\n",
       "      <td>4</td>\n",
       "      <td>1000</td>\n",
       "      <td>May</td>\n",
       "      <td>17.0</td>\n",
       "      <td>159.0</td>\n",
       "      <td>22.0</td>\n",
       "      <td>2256.0</td>\n",
       "      <td>52</td>\n",
       "      <td>0</td>\n",
       "      <td>Краснодар</td>\n",
       "      <td>Рафаил</td>\n",
       "      <td>Верещагин</td>\n",
       "      <td>2018-05-25</td>\n",
       "      <td>ultra</td>\n",
       "    </tr>\n",
       "  </tbody>\n",
       "</table>\n",
       "</div>"
      ],
      "text/plain": [
       "   user_id     month  calls_per_month  minutes_per_month  messages_per_month  \\\n",
       "0     1000    August             42.0              408.0                81.0   \n",
       "1     1000  December             38.0              333.0                70.0   \n",
       "2     1000      July             41.0              340.0                75.0   \n",
       "3     1000      June             28.0              172.0                60.0   \n",
       "4     1000       May             17.0              159.0                22.0   \n",
       "\n",
       "   mb_per_month  age churn_date       city first_name  last_name   reg_date  \\\n",
       "0       14070.0   52          0  Краснодар     Рафаил  Верещагин 2018-05-25   \n",
       "1        9827.0   52          0  Краснодар     Рафаил  Верещагин 2018-05-25   \n",
       "2       14016.0   52          0  Краснодар     Рафаил  Верещагин 2018-05-25   \n",
       "3       23257.0   52          0  Краснодар     Рафаил  Верещагин 2018-05-25   \n",
       "4        2256.0   52          0  Краснодар     Рафаил  Верещагин 2018-05-25   \n",
       "\n",
       "  tariff  \n",
       "0  ultra  \n",
       "1  ultra  \n",
       "2  ultra  \n",
       "3  ultra  \n",
       "4  ultra  "
      ]
     },
     "execution_count": 13,
     "metadata": {},
     "output_type": "execute_result"
    }
   ],
   "source": [
    "# назовем общий датафрейм `basic_parameters`\n",
    "# объединяем по `user_id`, `month` \n",
    "\n",
    "basic_users_parameters = calls_grouping.merge(messages_grouping, on=['user_id', 'month'], how='outer') \\\n",
    ".merge(internet_grouping, on=['user_id', 'month'], how='outer') \\\n",
    ".merge(users_data, on='user_id')\n",
    "\n",
    "# заменяем пропуски на нули\n",
    "basic_users_parameters = basic_users_parameters.fillna(0)\n",
    "\n",
    "# посмотрим на результат\n",
    "basic_users_parameters.head()"
   ]
  },
  {
   "cell_type": "markdown",
   "metadata": {},
   "source": [
    "### Выручка за месяц с каждого пользователя"
   ]
  },
  {
   "cell_type": "markdown",
   "metadata": {},
   "source": [
    "Чтобы определить выручку, которую приносит каждый пользователь в каждый конкретный месяц создадим функцию `calculate_profit`. В зависимости от израсходованных минут/сообщений/интернет-трафика сверх тарифного пакета (или в пределах тарифного пакета) будет посчитана итоговая сумма. \n",
    "\n",
    "Методом `apply` применим эту функцию к датафрейму `basic_users_parameters`, и итоговую сумму запишем в новый столбец 'выручка от пользователя' `basic_users_parameters['profit_from_user']`."
   ]
  },
  {
   "cell_type": "code",
   "execution_count": 14,
   "metadata": {},
   "outputs": [
    {
     "data": {
      "text/html": [
       "<div>\n",
       "<style scoped>\n",
       "    .dataframe tbody tr th:only-of-type {\n",
       "        vertical-align: middle;\n",
       "    }\n",
       "\n",
       "    .dataframe tbody tr th {\n",
       "        vertical-align: top;\n",
       "    }\n",
       "\n",
       "    .dataframe thead th {\n",
       "        text-align: right;\n",
       "    }\n",
       "</style>\n",
       "<table border=\"1\" class=\"dataframe\">\n",
       "  <thead>\n",
       "    <tr style=\"text-align: right;\">\n",
       "      <th></th>\n",
       "      <th>messages_included</th>\n",
       "      <th>mb_per_month_included</th>\n",
       "      <th>minutes_included</th>\n",
       "      <th>rub_monthly_fee</th>\n",
       "      <th>rub_per_gb</th>\n",
       "      <th>rub_per_message</th>\n",
       "      <th>rub_per_minute</th>\n",
       "      <th>tariff_name</th>\n",
       "    </tr>\n",
       "  </thead>\n",
       "  <tbody>\n",
       "    <tr>\n",
       "      <td>0</td>\n",
       "      <td>50</td>\n",
       "      <td>15360</td>\n",
       "      <td>500</td>\n",
       "      <td>550</td>\n",
       "      <td>200</td>\n",
       "      <td>3</td>\n",
       "      <td>3</td>\n",
       "      <td>smart</td>\n",
       "    </tr>\n",
       "    <tr>\n",
       "      <td>1</td>\n",
       "      <td>1000</td>\n",
       "      <td>30720</td>\n",
       "      <td>3000</td>\n",
       "      <td>1950</td>\n",
       "      <td>150</td>\n",
       "      <td>1</td>\n",
       "      <td>1</td>\n",
       "      <td>ultra</td>\n",
       "    </tr>\n",
       "  </tbody>\n",
       "</table>\n",
       "</div>"
      ],
      "text/plain": [
       "   messages_included  mb_per_month_included  minutes_included  \\\n",
       "0                 50                  15360               500   \n",
       "1               1000                  30720              3000   \n",
       "\n",
       "   rub_monthly_fee  rub_per_gb  rub_per_message  rub_per_minute tariff_name  \n",
       "0              550         200                3               3       smart  \n",
       "1             1950         150                1               1       ultra  "
      ]
     },
     "execution_count": 14,
     "metadata": {},
     "output_type": "execute_result"
    }
   ],
   "source": [
    "# выведем датафрейм `tariffs_data` на экран для удобства создания функции\n",
    "tariffs_data.head()"
   ]
  },
  {
   "cell_type": "code",
   "execution_count": 15,
   "metadata": {},
   "outputs": [],
   "source": [
    "def calculate_profit(row):\n",
    "    \n",
    "# запишем в одноименные переменные нужные нам столбцы\n",
    "    tariff = row['tariff']\n",
    "    minutes = row['minutes_per_month']\n",
    "    messages = row['messages_per_month']\n",
    "    mb = row['mb_per_month']\n",
    "\n",
    "# если тариф \"Смарт\": считаем количество экстра-услуг для этого тарифа\n",
    "    if tariff == 'smart':\n",
    "        extra_minutes = minutes - 500\n",
    "        extra_messages = messages - 50\n",
    "        extra_mb = mb - 15360\n",
    "        \n",
    "    # если же переменная-экстра получилась \"отрицательной\", то это означает, что не весь тарифный пакет был использован\n",
    "    # перезаписываем \"0\" в эти переменные\n",
    "        if extra_minutes < 0:\n",
    "            extra_minutes = 0\n",
    "        if extra_messages < 0:\n",
    "            extra_messages = 0\n",
    "        if extra_mb < 0:\n",
    "            extra_mb = 0\n",
    "            \n",
    "    # считаем итоговую сумму с учетом экстра-услуг (при наличии) , а так же плюсуем абонентскую плату 550 р.\n",
    "        return (extra_minutes*3) + (extra_messages*3) + (extra_mb/1024)*200 + 550\n",
    "        \n",
    "# для тарифа \"Ультра\" аналогичные вычисления, но со значениями тарифа \"Ультра\"\n",
    "    elif tariff == 'ultra':\n",
    "        extra_minutes = minutes - 3000\n",
    "        extra_messages = messages - 1000\n",
    "        extra_mb = mb - 30720\n",
    "        if extra_minutes < 0:\n",
    "            extra_minutes = 0\n",
    "        if extra_messages < 0:\n",
    "            extra_messages = 0\n",
    "        if extra_mb < 0:\n",
    "            extra_mb = 0\n",
    "        return (extra_minutes*1) + (extra_messages*1) + (extra_mb/1024)*150 + 1950\n",
    "# к датафрейму `basic_users_parameters` применим нашу функцию, \n",
    "# которая проставит получившийся результат в новый столбец 'profit_from_user'\n",
    "\n",
    "basic_users_parameters['profit_from_user'] = basic_users_parameters.apply(calculate_profit, axis=1)"
   ]
  },
  {
   "cell_type": "markdown",
   "metadata": {},
   "source": [
    "Проверим визуально результат. Выведем на экран 5 случайных строк."
   ]
  },
  {
   "cell_type": "code",
   "execution_count": 16,
   "metadata": {},
   "outputs": [
    {
     "data": {
      "text/html": [
       "<div>\n",
       "<style scoped>\n",
       "    .dataframe tbody tr th:only-of-type {\n",
       "        vertical-align: middle;\n",
       "    }\n",
       "\n",
       "    .dataframe tbody tr th {\n",
       "        vertical-align: top;\n",
       "    }\n",
       "\n",
       "    .dataframe thead th {\n",
       "        text-align: right;\n",
       "    }\n",
       "</style>\n",
       "<table border=\"1\" class=\"dataframe\">\n",
       "  <thead>\n",
       "    <tr style=\"text-align: right;\">\n",
       "      <th></th>\n",
       "      <th>user_id</th>\n",
       "      <th>month</th>\n",
       "      <th>calls_per_month</th>\n",
       "      <th>minutes_per_month</th>\n",
       "      <th>messages_per_month</th>\n",
       "      <th>mb_per_month</th>\n",
       "      <th>age</th>\n",
       "      <th>churn_date</th>\n",
       "      <th>city</th>\n",
       "      <th>first_name</th>\n",
       "      <th>last_name</th>\n",
       "      <th>reg_date</th>\n",
       "      <th>tariff</th>\n",
       "      <th>profit_from_user</th>\n",
       "    </tr>\n",
       "  </thead>\n",
       "  <tbody>\n",
       "    <tr>\n",
       "      <td>234</td>\n",
       "      <td>1036</td>\n",
       "      <td>November</td>\n",
       "      <td>46.0</td>\n",
       "      <td>424.0</td>\n",
       "      <td>0.0</td>\n",
       "      <td>14965.0</td>\n",
       "      <td>47</td>\n",
       "      <td>0</td>\n",
       "      <td>Санкт-Петербург</td>\n",
       "      <td>Анжелика</td>\n",
       "      <td>Андропова</td>\n",
       "      <td>2018-07-14</td>\n",
       "      <td>smart</td>\n",
       "      <td>550.000000</td>\n",
       "    </tr>\n",
       "    <tr>\n",
       "      <td>981</td>\n",
       "      <td>1157</td>\n",
       "      <td>July</td>\n",
       "      <td>54.0</td>\n",
       "      <td>491.0</td>\n",
       "      <td>0.0</td>\n",
       "      <td>18929.0</td>\n",
       "      <td>27</td>\n",
       "      <td>0</td>\n",
       "      <td>Москва</td>\n",
       "      <td>Виктория</td>\n",
       "      <td>Белоусова</td>\n",
       "      <td>2018-02-23</td>\n",
       "      <td>smart</td>\n",
       "      <td>1247.070312</td>\n",
       "    </tr>\n",
       "    <tr>\n",
       "      <td>466</td>\n",
       "      <td>1072</td>\n",
       "      <td>October</td>\n",
       "      <td>59.0</td>\n",
       "      <td>517.0</td>\n",
       "      <td>16.0</td>\n",
       "      <td>22810.0</td>\n",
       "      <td>49</td>\n",
       "      <td>0</td>\n",
       "      <td>Уфа</td>\n",
       "      <td>Андрей</td>\n",
       "      <td>Андрейкин</td>\n",
       "      <td>2018-02-20</td>\n",
       "      <td>smart</td>\n",
       "      <td>2056.078125</td>\n",
       "    </tr>\n",
       "    <tr>\n",
       "      <td>1885</td>\n",
       "      <td>1300</td>\n",
       "      <td>September</td>\n",
       "      <td>76.0</td>\n",
       "      <td>725.0</td>\n",
       "      <td>176.0</td>\n",
       "      <td>33353.0</td>\n",
       "      <td>40</td>\n",
       "      <td>0</td>\n",
       "      <td>Москва</td>\n",
       "      <td>Тихон</td>\n",
       "      <td>Азерников</td>\n",
       "      <td>2018-07-26</td>\n",
       "      <td>ultra</td>\n",
       "      <td>2335.693359</td>\n",
       "    </tr>\n",
       "    <tr>\n",
       "      <td>2500</td>\n",
       "      <td>1394</td>\n",
       "      <td>November</td>\n",
       "      <td>56.0</td>\n",
       "      <td>511.0</td>\n",
       "      <td>5.0</td>\n",
       "      <td>6936.0</td>\n",
       "      <td>47</td>\n",
       "      <td>0</td>\n",
       "      <td>Орёл</td>\n",
       "      <td>Ксения</td>\n",
       "      <td>Жукова</td>\n",
       "      <td>2018-01-12</td>\n",
       "      <td>smart</td>\n",
       "      <td>583.000000</td>\n",
       "    </tr>\n",
       "  </tbody>\n",
       "</table>\n",
       "</div>"
      ],
      "text/plain": [
       "      user_id      month  calls_per_month  minutes_per_month  \\\n",
       "234      1036   November             46.0              424.0   \n",
       "981      1157       July             54.0              491.0   \n",
       "466      1072    October             59.0              517.0   \n",
       "1885     1300  September             76.0              725.0   \n",
       "2500     1394   November             56.0              511.0   \n",
       "\n",
       "      messages_per_month  mb_per_month  age churn_date             city  \\\n",
       "234                  0.0       14965.0   47          0  Санкт-Петербург   \n",
       "981                  0.0       18929.0   27          0           Москва   \n",
       "466                 16.0       22810.0   49          0              Уфа   \n",
       "1885               176.0       33353.0   40          0           Москва   \n",
       "2500                 5.0        6936.0   47          0             Орёл   \n",
       "\n",
       "     first_name  last_name   reg_date tariff  profit_from_user  \n",
       "234    Анжелика  Андропова 2018-07-14  smart        550.000000  \n",
       "981    Виктория  Белоусова 2018-02-23  smart       1247.070312  \n",
       "466      Андрей  Андрейкин 2018-02-20  smart       2056.078125  \n",
       "1885      Тихон  Азерников 2018-07-26  ultra       2335.693359  \n",
       "2500     Ксения     Жукова 2018-01-12  smart        583.000000  "
      ]
     },
     "execution_count": 16,
     "metadata": {},
     "output_type": "execute_result"
    }
   ],
   "source": [
    "basic_users_parameters.sample(5)"
   ]
  },
  {
   "cell_type": "markdown",
   "metadata": {},
   "source": [
    "### Вывод"
   ]
  },
  {
   "cell_type": "markdown",
   "metadata": {},
   "source": [
    "<div style=\"border:solid black 2px; padding: 20px\">\n",
    "    \n",
    "На данном этапе мы создали новый датафрейм <b>basic_users_parameters</b>, сгруппированный по ID пользователя (и по месяцу), в который добавили следующие подсчитанные значения:<br><br>\n",
    "    \n",
    "- Кол-во звонков и минут разговора за месяц.<br>\n",
    "- Кол-во сообщений за месяц.<br>\n",
    "- Объём потраченного интернет-трафика за месяц.<br>\n",
    "- Выручка с пользователя за месяц.<br><br>\n",
    "\n",
    "Можем приступить непосредственно к анализу.<br>\n",
    "    \n",
    "</div>"
   ]
  },
  {
   "cell_type": "markdown",
   "metadata": {},
   "source": [
    "## Изучение поведения клиентов "
   ]
  },
  {
   "cell_type": "markdown",
   "metadata": {},
   "source": [
    "Чтобы исследовать сколько минут разговора, сколько сообщений и какой объём интернет-трафика требуется пользователям каждого из тарифов - построим гистограммы и диаграммы размаха. \n",
    "\n",
    "Создадим функцию `show_boxplot_and_hist(column)`, которая для тарифов \"Смарт\" и \"Ультра\" сразу на одном графике отобразит гистограмму нужных нам значений, а также диаграмму размаха (в аргумент функции будем подставлять столбец с анализируемым параметром). \n",
    "\n",
    "В качестве средних значений на данном этапе исследования расчет будем делать по медиане, т.к. возможны выбросы и среднее арифметическое может исказить действительные средние показатели трафика усредненного пользователя."
   ]
  },
  {
   "cell_type": "code",
   "execution_count": 17,
   "metadata": {},
   "outputs": [],
   "source": [
    "# создадим 2 среза: c данными пользователей  тарифа \"Смарт\" и тарифа \"Ультра\", соответственно\n",
    "\n",
    "smart_users = basic_users_parameters.query('tariff == \"smart\"')\n",
    "ultra_users = basic_users_parameters.query('tariff == \"ultra\"')"
   ]
  },
  {
   "cell_type": "markdown",
   "metadata": {},
   "source": [
    "Для корректного построения гистограмм и диаграмм создадим функцию, с помощью которой определим какое оптимальное кол-во корзин нам подойдет в зависимости от значений изучаемого столбца."
   ]
  },
  {
   "cell_type": "code",
   "execution_count": 18,
   "metadata": {},
   "outputs": [],
   "source": [
    "# создаем функцию\n",
    "\n",
    "def define_bins(data, column):\n",
    "                                   # в качестве ориентира для сравения берем макс.значение изучаемого столбца и далее\n",
    "                                   # возвращаем подходящее нам число корзин\n",
    "    if data[column].max() > 1500:    \n",
    "        return 100                  # 100 корзин\n",
    "    elif data[column].max() > 150:\n",
    "        return 50                   # 50 корзин\n",
    "    elif data[column].max() > 35000:\n",
    "        return 150                  # 150 корзин\n",
    "    else:\n",
    "        return 70"
   ]
  },
  {
   "cell_type": "markdown",
   "metadata": {},
   "source": [
    "Теперь создаем функцию построения диаграммы размаха и гистограмм `show_boxplot_and_hist()` в зависимости от столбца."
   ]
  },
  {
   "cell_type": "code",
   "execution_count": 19,
   "metadata": {},
   "outputs": [],
   "source": [
    "def show_boxplot_and_hist(column):\n",
    "    \n",
    "    plt.figure(figsize=(15,5))\n",
    "    sns.boxplot(data=basic_users_parameters, x=column, y='tariff')   # строим на одном графике для каждого из тарифов\n",
    "    plt.title('Диаграмма размаха \"{}\"'.format(column), fontsize=15)  # диаграмму размаха\n",
    "    plt.show()\n",
    "    \n",
    "# строим истограммы с отображением линии медианы\n",
    "\n",
    "    plt.figure(figsize =(15, 5))\n",
    "    smart_users[column].plot(\n",
    "                kind='hist', \n",
    "                bins=define_bins(ultra_users, column), # указываем здесь нашу функцию подбора корзин, датасет `ultra_users`\n",
    "                alpha=0.45, \n",
    "                ec='black',\n",
    "                color='y',\n",
    "                label='тариф \"Smart\"'\n",
    "                )\n",
    "    plt.axvline(x=smart_users[column].median(), \n",
    "                linewidth=3, \n",
    "                color='yellow', \n",
    "                linestyle='--',\n",
    "                label='медиана (тариф \"Smart\")')\n",
    "\n",
    "# на этом же графике строим вторую гистограмму\n",
    "\n",
    "    ultra_users[column].plot(\n",
    "                kind='hist', \n",
    "                bins=define_bins(ultra_users, column), # кол-во корзин берем такое же, датасет тот же,не меняем специально\n",
    "                alpha=0.45, \n",
    "                ec='black',\n",
    "                color='b',\n",
    "                label='тариф \"Ultra\"'\n",
    "                )\n",
    "    plt.axvline(x=ultra_users[column].median(),\n",
    "                linewidth=3, \n",
    "                color='blue', \n",
    "                linestyle='--',\n",
    "                label='медиана (тариф \"Ultra\")')\n",
    "\n",
    "    plt.title('Гистограмма значений \"{}\"'.format(column), fontsize=15)\n",
    "    plt.xlabel(column)\n",
    "    plt.ylabel('Частота \"{}\"'.format(column))\n",
    "    plt.legend()\n",
    "    plt.grid()\n",
    "    plt.show()\n",
    "    print('Медианное количество',column,'для тарифа \"Smart\" = {}'.format(smart_users[column].median().astype('int')))\n",
    "    print('Медианное количество',column,'для тарифа \"Ultra\" = {}'.format(ultra_users[column].median().astype('int')))\n",
    "    print('------------------------------------------------------------------------------------------------------------')\n"
   ]
  },
  {
   "cell_type": "markdown",
   "metadata": {},
   "source": [
    "Запустим поочередно отрисовку, вызывая функцию для каждого из анализируемых столбцов и описывая наблюдения. "
   ]
  },
  {
   "cell_type": "code",
   "execution_count": 20,
   "metadata": {
    "scrolled": false
   },
   "outputs": [
    {
     "data": {
      "image/png": "[encoded data removed]",
      "text/plain": [
       "<Figure size 1080x360 with 1 Axes>"
      ]
     },
     "metadata": {
      "needs_background": "light"
     },
     "output_type": "display_data"
    },
    {
     "data": {
      "image/png": "[encoded data removed]",
      "text/plain": [
       "<Figure size 1080x360 with 1 Axes>"
      ]
     },
     "metadata": {
      "needs_background": "light"
     },
     "output_type": "display_data"
    },
    {
     "name": "stdout",
     "output_type": "stream",
     "text": [
      "Медианное количество minutes_per_month для тарифа \"Smart\" = 422\n",
      "Медианное количество minutes_per_month для тарифа \"Ultra\" = 518\n",
      "------------------------------------------------------------------------------------------------------------\n"
     ]
    }
   ],
   "source": [
    "show_boxplot_and_hist('minutes_per_month')"
   ]
  },
  {
   "cell_type": "markdown",
   "metadata": {},
   "source": [
    "**Мы видим, что:**\n",
    "- Пользователи тарифа \"Смарт\" чаще всего не выходят из лимита 500 минут в месяц и им достаточно 422 минут.\n",
    "- Пользователи тарифа \"Ультра\" при пакете в 3000 минут тратят 518 минут в месяц, но при этом размах \"ящика\" почти вдвое превосходит \"ящик\" по тарифу \"Смарт\", что говорит о том, что пользователи тарифа \"Ультра\" разговаривают значительно больше пользователей тарифа \"Смарт\".\n",
    "- Для среднего пользователя (по медиане) тарифа \"Ультра\" по количеству минут практически подошел бы лимит минут тарифа \"Смарт\" в 500 минут.\n",
    "***"
   ]
  },
  {
   "cell_type": "code",
   "execution_count": 21,
   "metadata": {},
   "outputs": [
    {
     "data": {
      "image/png": "[encoded data removed]",
      "text/plain": [
       "<Figure size 1080x360 with 1 Axes>"
      ]
     },
     "metadata": {
      "needs_background": "light"
     },
     "output_type": "display_data"
    },
    {
     "data": {
      "image/png": "[encoded data removed]",
      "text/plain": [
       "<Figure size 1080x360 with 1 Axes>"
      ]
     },
     "metadata": {
      "needs_background": "light"
     },
     "output_type": "display_data"
    },
    {
     "name": "stdout",
     "output_type": "stream",
     "text": [
      "Медианное количество messages_per_month для тарифа \"Smart\" = 28\n",
      "Медианное количество messages_per_month для тарифа \"Ultra\" = 38\n",
      "------------------------------------------------------------------------------------------------------------\n"
     ]
    }
   ],
   "source": [
    "show_boxplot_and_hist('messages_per_month')"
   ]
  },
  {
   "cell_type": "markdown",
   "metadata": {},
   "source": [
    "**Мы видим, что:**\n",
    "- Значения кол-ва сообщений для обоих тарифов имеют распределение Пуассона.\n",
    "- Пользователи тарифа \"Смарт\" чаще всего не выходят из лимита 50 сообщений и отправляют 28 сообщений.\n",
    "- Пользователи тарифа \"Ультра\" при пакете в 1000 сообщений так же не расходуют лимит и отправляют 38 сообщений.\n",
    "- Пользователи тарифа \"Ультра\" судя по размаху отправляют вдвое больше сообщений, чем пользователи \"Смарта\".\n",
    "- Для пользователей тарифа \"Ультра\" по количеству сообщений подходит лимит сообщений тарифа \"Смарт\".\n",
    "***"
   ]
  },
  {
   "cell_type": "code",
   "execution_count": 22,
   "metadata": {},
   "outputs": [
    {
     "data": {
      "image/png": "[encoded data removed]",
      "text/plain": [
       "<Figure size 1080x360 with 1 Axes>"
      ]
     },
     "metadata": {
      "needs_background": "light"
     },
     "output_type": "display_data"
    },
    {
     "data": {
      "image/png": "[encoded data removed]",
      "text/plain": [
       "<Figure size 1080x360 with 1 Axes>"
      ]
     },
     "metadata": {
      "needs_background": "light"
     },
     "output_type": "display_data"
    },
    {
     "name": "stdout",
     "output_type": "stream",
     "text": [
      "Медианное количество mb_per_month для тарифа \"Smart\" = 16531\n",
      "Медианное количество mb_per_month для тарифа \"Ultra\" = 19324\n",
      "------------------------------------------------------------------------------------------------------------\n"
     ]
    }
   ],
   "source": [
    "show_boxplot_and_hist('mb_per_month')"
   ]
  },
  {
   "cell_type": "code",
   "execution_count": 23,
   "metadata": {},
   "outputs": [
    {
     "name": "stdout",
     "output_type": "stream",
     "text": [
      "16531 Мб = 16.1435546875 Гб\n",
      "19324 Мб = 18.87109375 Гб\n"
     ]
    }
   ],
   "source": [
    "# переведем \"Мб\" в \"Гб\" для удобства \n",
    "print('16531 Мб =', 16531/1024, 'Гб')\n",
    "print('19324 Мб =', 19324/1024, 'Гб')"
   ]
  },
  {
   "cell_type": "markdown",
   "metadata": {},
   "source": [
    "**Мы видим, что:**\n",
    "- Пользователи тарифа \"Смарт\" в среднем выходят из лимита на 1 Гб из тарифного пакета в 15 Гб и тратят в среднем (по медиане) по 16 Гб интернет-трафика в месяц.\n",
    "- Пользователи тарифа \"Ультра\" не расходуют за месяц весь пакет в 30 Гб, а используют в среднем (по медиане) только 18 Гб интернет-трафика.\n",
    "- Пользователи тарифа \"Ультра\" судя по размаху тратят вдвое больше трафика, чем пользователи \"Смарта\".\n",
    "***"
   ]
  },
  {
   "cell_type": "markdown",
   "metadata": {},
   "source": [
    "### Подсчёт среднего кол-ва минут разговора, кол-ва сообщений и объёма интернет-трафика. Определение дисперсии и стандартного отклонения"
   ]
  },
  {
   "cell_type": "markdown",
   "metadata": {},
   "source": [
    "Посчитаем средние значения кол-ва минут разговора, кол-ва сообщений и объёма интернет-трафика. А так же дисперсию и стандартное отклонение.\n",
    "\n",
    "Возьмем для расчетов наш итоговый датафрейм `basic_users_parameters`."
   ]
  },
  {
   "cell_type": "code",
   "execution_count": 24,
   "metadata": {},
   "outputs": [
    {
     "data": {
      "text/html": [
       "<div>\n",
       "<style scoped>\n",
       "    .dataframe tbody tr th:only-of-type {\n",
       "        vertical-align: middle;\n",
       "    }\n",
       "\n",
       "    .dataframe tbody tr th {\n",
       "        vertical-align: top;\n",
       "    }\n",
       "\n",
       "    .dataframe thead tr th {\n",
       "        text-align: left;\n",
       "    }\n",
       "\n",
       "    .dataframe thead tr:last-of-type th {\n",
       "        text-align: right;\n",
       "    }\n",
       "</style>\n",
       "<table border=\"1\" class=\"dataframe\">\n",
       "  <thead>\n",
       "    <tr>\n",
       "      <th></th>\n",
       "      <th colspan=\"3\" halign=\"left\">minutes_per_month</th>\n",
       "    </tr>\n",
       "    <tr>\n",
       "      <th></th>\n",
       "      <th>mean</th>\n",
       "      <th>var</th>\n",
       "      <th>std</th>\n",
       "    </tr>\n",
       "    <tr>\n",
       "      <th>tariff</th>\n",
       "      <th></th>\n",
       "      <th></th>\n",
       "      <th></th>\n",
       "    </tr>\n",
       "  </thead>\n",
       "  <tbody>\n",
       "    <tr>\n",
       "      <td>smart</td>\n",
       "      <td>417.9</td>\n",
       "      <td>36219.3</td>\n",
       "      <td>190.3</td>\n",
       "    </tr>\n",
       "    <tr>\n",
       "      <td>ultra</td>\n",
       "      <td>526.6</td>\n",
       "      <td>100873.6</td>\n",
       "      <td>317.6</td>\n",
       "    </tr>\n",
       "  </tbody>\n",
       "</table>\n",
       "</div>"
      ],
      "text/plain": [
       "       minutes_per_month                 \n",
       "                    mean       var    std\n",
       "tariff                                   \n",
       "smart              417.9   36219.3  190.3\n",
       "ultra              526.6  100873.6  317.6"
      ]
     },
     "metadata": {},
     "output_type": "display_data"
    },
    {
     "name": "stdout",
     "output_type": "stream",
     "text": [
      "----------------------------------------------------------------------------------------------------------------------\n"
     ]
    },
    {
     "data": {
      "text/html": [
       "<div>\n",
       "<style scoped>\n",
       "    .dataframe tbody tr th:only-of-type {\n",
       "        vertical-align: middle;\n",
       "    }\n",
       "\n",
       "    .dataframe tbody tr th {\n",
       "        vertical-align: top;\n",
       "    }\n",
       "\n",
       "    .dataframe thead tr th {\n",
       "        text-align: left;\n",
       "    }\n",
       "\n",
       "    .dataframe thead tr:last-of-type th {\n",
       "        text-align: right;\n",
       "    }\n",
       "</style>\n",
       "<table border=\"1\" class=\"dataframe\">\n",
       "  <thead>\n",
       "    <tr>\n",
       "      <th></th>\n",
       "      <th colspan=\"3\" halign=\"left\">messages_per_month</th>\n",
       "    </tr>\n",
       "    <tr>\n",
       "      <th></th>\n",
       "      <th>mean</th>\n",
       "      <th>var</th>\n",
       "      <th>std</th>\n",
       "    </tr>\n",
       "    <tr>\n",
       "      <th>tariff</th>\n",
       "      <th></th>\n",
       "      <th></th>\n",
       "      <th></th>\n",
       "    </tr>\n",
       "  </thead>\n",
       "  <tbody>\n",
       "    <tr>\n",
       "      <td>smart</td>\n",
       "      <td>33.4</td>\n",
       "      <td>796.8</td>\n",
       "      <td>28.2</td>\n",
       "    </tr>\n",
       "    <tr>\n",
       "      <td>ultra</td>\n",
       "      <td>49.4</td>\n",
       "      <td>2285.3</td>\n",
       "      <td>47.8</td>\n",
       "    </tr>\n",
       "  </tbody>\n",
       "</table>\n",
       "</div>"
      ],
      "text/plain": [
       "       messages_per_month              \n",
       "                     mean     var   std\n",
       "tariff                                 \n",
       "smart                33.4   796.8  28.2\n",
       "ultra                49.4  2285.3  47.8"
      ]
     },
     "metadata": {},
     "output_type": "display_data"
    },
    {
     "name": "stdout",
     "output_type": "stream",
     "text": [
      "----------------------------------------------------------------------------------------------------------------------\n"
     ]
    },
    {
     "data": {
      "text/html": [
       "<div>\n",
       "<style scoped>\n",
       "    .dataframe tbody tr th:only-of-type {\n",
       "        vertical-align: middle;\n",
       "    }\n",
       "\n",
       "    .dataframe tbody tr th {\n",
       "        vertical-align: top;\n",
       "    }\n",
       "\n",
       "    .dataframe thead tr th {\n",
       "        text-align: left;\n",
       "    }\n",
       "\n",
       "    .dataframe thead tr:last-of-type th {\n",
       "        text-align: right;\n",
       "    }\n",
       "</style>\n",
       "<table border=\"1\" class=\"dataframe\">\n",
       "  <thead>\n",
       "    <tr>\n",
       "      <th></th>\n",
       "      <th colspan=\"3\" halign=\"left\">mb_per_month</th>\n",
       "    </tr>\n",
       "    <tr>\n",
       "      <th></th>\n",
       "      <th>mean</th>\n",
       "      <th>var</th>\n",
       "      <th>std</th>\n",
       "    </tr>\n",
       "    <tr>\n",
       "      <th>tariff</th>\n",
       "      <th></th>\n",
       "      <th></th>\n",
       "      <th></th>\n",
       "    </tr>\n",
       "  </thead>\n",
       "  <tbody>\n",
       "    <tr>\n",
       "      <td>smart</td>\n",
       "      <td>16229.2</td>\n",
       "      <td>34545911.1</td>\n",
       "      <td>5877.6</td>\n",
       "    </tr>\n",
       "    <tr>\n",
       "      <td>ultra</td>\n",
       "      <td>19486.9</td>\n",
       "      <td>101935621.0</td>\n",
       "      <td>10096.3</td>\n",
       "    </tr>\n",
       "  </tbody>\n",
       "</table>\n",
       "</div>"
      ],
      "text/plain": [
       "       mb_per_month                      \n",
       "               mean          var      std\n",
       "tariff                                   \n",
       "smart       16229.2   34545911.1   5877.6\n",
       "ultra       19486.9  101935621.0  10096.3"
      ]
     },
     "metadata": {},
     "output_type": "display_data"
    },
    {
     "name": "stdout",
     "output_type": "stream",
     "text": [
      "----------------------------------------------------------------------------------------------------------------------\n"
     ]
    }
   ],
   "source": [
    "# сделаем группировку по тарифу и определим для каждого из 3-х параметров тарифов: \n",
    "# среднее значение `mean`, \n",
    "# дисперсию `var` и \n",
    "# стандартное отклонение `std`\n",
    "\n",
    "display(basic_users_parameters.groupby('tariff').agg({'minutes_per_month': ['mean', 'var', 'std']}).round(1))\n",
    "print('----------------------------------------------------------------------------------------------------------------------')\n",
    "display(basic_users_parameters.groupby('tariff').agg({'messages_per_month': ['mean', 'var', 'std']}).round(1))\n",
    "print('----------------------------------------------------------------------------------------------------------------------')\n",
    "display(basic_users_parameters.groupby('tariff').agg({'mb_per_month': ['mean', 'var', 'std']}).round(1))\n",
    "print('----------------------------------------------------------------------------------------------------------------------')"
   ]
  },
  {
   "cell_type": "markdown",
   "metadata": {},
   "source": [
    "### Вывод"
   ]
  },
  {
   "cell_type": "markdown",
   "metadata": {},
   "source": [
    "<div style=\"border:solid black 2px; padding: 20px\">\n",
    "    \n",
    "В ходе исследования поведения клиентов при использовании тарифов \"Смарт\" и \"Ультра\" можно выделить следующие ключевые моменты:<br><br>\n",
    "    \n",
    "- Средние значения по 2-м тарифам немногим больше медианы, на это влияют выбросы и редкие значения в использовании трафика некоторыми пользователями.<br>\n",
    "- В среднем (по медиане) пользователям тарифа \"Смарт\" в месяц требуется: <b>422</b> минут разговора, <b>28</b> сообщений, <b> 16 Гб</b> интернета.<br>\n",
    "- В среднем (по медиане) пользователям тарифа \"Ультра\" в месяц требуется: <b>518</b> минут разговора, <b>38</b> сообщений, <b> 18 Гб</b> интернета.<br>\n",
    " \n",
    "- Все характеристики тарифа \"Ультра\" имеют бОльшую дисперсию по сравнению с тарифом \"Смарт\".<br>\n",
    "- Стандартное отклонение характеристик тарифа \"Ультра\" в среднем в 2 раза превосходит отклонение характеристик тарифа \"Смарт\".<br>\n",
    "- Пользователи тарифа \"Ультра\" в среднем не расходуют весь пакет услуг.<br>\n",
    "- Пользователи тарифа \"Смарт\" в среднем расходуют дополнительно 1 Гб интернет-трафика в месяц.<br>\n",
    "</div>"
   ]
  },
  {
   "cell_type": "markdown",
   "metadata": {},
   "source": [
    "## Проверка гипотез"
   ]
  },
  {
   "cell_type": "markdown",
   "metadata": {},
   "source": [
    "### Гипотеза №1: о различии выручки пользователей тарифов «Ультра» и «Смарт» "
   ]
  },
  {
   "cell_type": "markdown",
   "metadata": {},
   "source": [
    "**Сформулируем нулевую гипотезу H0:**\n",
    "\n",
    "- H0: Средняя выручка пользователей тарифов «Ультра» равна средней выручке пользователей тарифа «Смарт».\n",
    "\n",
    "**Сформулируем альтернативную гипотезу H1:**\n",
    "\n",
    "- H1: Средняя выручка пользователей тарифов «Ультра» отличается от средней выручки пользователей тарифа «Смарт».\n",
    "\n",
    "Для проверки гипотезы о равенстве среднего двух генеральных совокупностей по взятым из них выборкам, применим метод `scipy.stats.ttest_ind`. В качестве массивов у нас уже созданы выборки отдельно по каждом тарифу: `smart_users` и `ultra_users`. Используем их в t-тесте. \n",
    "Критический уровень статистической значимости установим  = 0.05 и считаем его допустимым, т.к. в нашей гипотезе мы проверяем равенство или отличие выручек, и у нас нет информации от коммерческого департамента о возможных финансовых рисках, которые могли бы повлиять на наше решение снизить уровень значимости ниже 0.05."
   ]
  },
  {
   "cell_type": "code",
   "execution_count": 25,
   "metadata": {},
   "outputs": [
    {
     "name": "stdout",
     "output_type": "stream",
     "text": [
      "p-значение: 1.172655564462924e-190\n",
      "Отвергаем нулевую гипотезу\n"
     ]
    }
   ],
   "source": [
    "alpha = 0.05\n",
    "results = st.ttest_ind(smart_users['profit_from_user'], ultra_users['profit_from_user'])\n",
    "print('p-значение:', results.pvalue)\n",
    "\n",
    "if results.pvalue < alpha:\n",
    "    print(\"Отвергаем нулевую гипотезу\")\n",
    "else:\n",
    "    print('Не получилось отвергнуть нулевую гипотезу')"
   ]
  },
  {
   "cell_type": "markdown",
   "metadata": {},
   "source": [
    "### Гипотеза №2: о различии выручки пользователей из Москвы и пользователей других регионов"
   ]
  },
  {
   "cell_type": "markdown",
   "metadata": {},
   "source": [
    "**Сформулируем нулевую гипотезу H0:**\n",
    "\n",
    "- H0: Средняя выручка пользователей из Москвы равна средней выручке пользователей из других регионов.\n",
    "\n",
    "**Сформулируем альтернативную гипотезу H1:**\n",
    "\n",
    "- H1: Средняя выручка пользователей из Москвы отличается от средней выручки пользователей из других регионов.\n",
    "\n",
    "В качестве массивов создадим срезы `moscow_users` и `regional_users` в зависимости от местонахождения пользователя. \n",
    "Критический уровень статистической значимости установим = 0.05, т.к. в нашей гипотезе (так же как и в 1-ой) мы проверяем равенство или отличие выручек, и у нас нет информации от коммерческого департамента о возможных финансовых рисках, которые могли бы повлиять на наше решение снизить уровень значимости ниже 0.05."
   ]
  },
  {
   "cell_type": "code",
   "execution_count": 26,
   "metadata": {},
   "outputs": [],
   "source": [
    "# создадим 2 среза: с пользователями из Москвы и с пользователями из других регионов\n",
    "\n",
    "moscow_users = basic_users_parameters.query('city == \"Москва\"')\n",
    "regional_users = basic_users_parameters.query('city != \"Москва\"')"
   ]
  },
  {
   "cell_type": "code",
   "execution_count": 27,
   "metadata": {},
   "outputs": [
    {
     "name": "stdout",
     "output_type": "stream",
     "text": [
      "p-значение: 0.47443187631524797\n",
      "Не получилось отвергнуть нулевую гипотезу\n"
     ]
    }
   ],
   "source": [
    "alpha = 0.05\n",
    "results = st.ttest_ind(moscow_users['profit_from_user'], regional_users['profit_from_user'])\n",
    "print('p-значение:', results.pvalue)\n",
    "\n",
    "if results.pvalue < alpha:\n",
    "    print(\"Отвергаем нулевую гипотезу\")\n",
    "else:\n",
    "    print('Не получилось отвергнуть нулевую гипотезу')"
   ]
  },
  {
   "cell_type": "markdown",
   "metadata": {},
   "source": [
    "### Вывод"
   ]
  },
  {
   "cell_type": "markdown",
   "metadata": {},
   "source": [
    "<div style=\"border:solid black 2px; padding: 20px\">\n",
    "    \n",
    "На данном этапе мы проверили 2 гипотезы и определили, что:<br><br>\n",
    "    \n",
    "- Средняя выручка пользователей тарифов «Ультра» отличается от средней выручки пользователей тарифа «Смарт».<br>\n",
    "- Средняя выручка пользователей из Москвы равна средней выручке пользователей из других регионов.<br>\n",
    "    \n",
    "</div>"
   ]
  },
  {
   "cell_type": "markdown",
   "metadata": {},
   "source": [
    "## Анализ прибыльности тарифов \"Смарт\" и \"Ультра\""
   ]
  },
  {
   "cell_type": "markdown",
   "metadata": {},
   "source": [
    "На основании подтвердившейся гипотезы об отличии средней выручки тарифов \"Смарт\" и \"Ультра\", определим в каком тарифе средняя выручка больше и какой тариф принесет больше прибыли для оператора.\n",
    "\n",
    "Посчитаем годовую среднюю выручку с каждого тарифа."
   ]
  },
  {
   "cell_type": "code",
   "execution_count": 28,
   "metadata": {},
   "outputs": [
    {
     "name": "stdout",
     "output_type": "stream",
     "text": [
      "Кол-во пользователей тарифа \"Смарт\": 350\n",
      "Кол-во пользователей тарифа \"Ультра\": 148\n",
      "----------------------------------------------------------------------------------------------------------------------\n",
      "В среднем выручка в месяц (за 2018 г.) с 1 пользователя тарифа \"Смарт\" составила (в руб.): 1130.0\n",
      "В среднем выручка в месяц (за 2018 г.) с 1 пользователя тарифа \"Ультра\" составила (в руб.): 2039.0\n",
      "----------------------------------------------------------------------------------------------------------------------\n",
      "Доплата за экстра-услуги пользователями \"Смарт\"-тарифа в месяц в среднем составила (в руб.): 580.0\n",
      "Доплата за экстра-услуги пользователями \"Ультра\"-тарифа в месяц в среднем составила (в руб.): 89.0\n",
      "----------------------------------------------------------------------------------------------------------------------\n",
      "Общая выручка за 2018 г. с пользователей тарифа \"Смарт\" (в руб.): 4746000.0\n",
      "Общая выручка за 2018 г. с пользователей тарифа \"Ультра\" (в руб.): 3621264.0\n",
      "----------------------------------------------------------------------------------------------------------------------\n"
     ]
    }
   ],
   "source": [
    "print('Кол-во пользователей тарифа \"Смарт\":', len(smart_users.groupby('user_id')))\n",
    "print('Кол-во пользователей тарифа \"Ультра\":', len(ultra_users.groupby('user_id')))\n",
    "print('----------------------------------------------------------------------------------------------------------------------')\n",
    "\n",
    "\n",
    "# сгруппируем по месяцу каждый тарифный срез и найдем среднее значение выручки с 1 пользователя за месяц\n",
    "\n",
    "mean_monthly_profit_smart = smart_users.groupby('month').agg({'profit_from_user':'mean'})\n",
    "mean_monthly_profit_ultra = ultra_users.groupby('month').agg({'profit_from_user':'mean'})\n",
    "\n",
    "print('В среднем выручка в месяц (за 2018 г.) с 1 пользователя тарифа \"Смарт\" составила (в руб.):', \\\n",
    "      (mean_monthly_profit_smart['profit_from_user'].mean().round()))\n",
    "print('В среднем выручка в месяц (за 2018 г.) с 1 пользователя тарифа \"Ультра\" составила (в руб.):', \\\n",
    "      (mean_monthly_profit_ultra['profit_from_user'].mean().round()))\n",
    "print('----------------------------------------------------------------------------------------------------------------------')\n",
    "\n",
    "# посчитаем сколько в среднем за вычетом абонентской платы тратили пользователи на экстра-услуги\n",
    "\n",
    "print('Доплата за экстра-услуги пользователями \"Смарт\"-тарифа в месяц в среднем составила (в руб.):', \\\n",
    "      (mean_monthly_profit_smart['profit_from_user'].mean().round())-550)\n",
    "print('Доплата за экстра-услуги пользователями \"Ультра\"-тарифа в месяц в среднем составила (в руб.):', \\\n",
    "      (mean_monthly_profit_ultra['profit_from_user'].mean().round())-1950)\n",
    "print('----------------------------------------------------------------------------------------------------------------------')\n",
    "\n",
    "# и посчитаем исходя из кол-ва пользователей какая общая выручка в год\n",
    "\n",
    "print('Общая выручка за 2018 г. с пользователей тарифа \"Смарт\" (в руб.):', \\\n",
    "      (mean_monthly_profit_smart['profit_from_user'].mean().round()) * 12 * len(smart_users.groupby('user_id')) )\n",
    "print('Общая выручка за 2018 г. с пользователей тарифа \"Ультра\" (в руб.):', \\\n",
    "      (mean_monthly_profit_ultra['profit_from_user'].mean().round()) * 12 * len(ultra_users.groupby('user_id')) )\n",
    "print('----------------------------------------------------------------------------------------------------------------------')"
   ]
  },
  {
   "cell_type": "markdown",
   "metadata": {},
   "source": [
    "### Вывод"
   ]
  },
  {
   "cell_type": "markdown",
   "metadata": {},
   "source": [
    "<div style=\"border:solid black 2px; padding: 20px\">\n",
    "    \n",
    "При определении прибыльности тарифов было выявлено следующее:<br><br>\n",
    "    \n",
    "- Наиболее прибыльным тарифом для \"Мегалайна\" является тариф \"Смарт\".<br><br>\n",
    "    \n",
    "Это связано с тем, что (даже несмотря на его низкую абонентскую плату (550 руб.) по сравнению с тарифом \"Ультра\" (1950 руб.) и меньшую выручку в месяц с 1 пользователя) численность пользователей тарифа \"Смарт\" намного больше, чем пользователей тарифа \"Ультра\" (в 2,3 раза) и они чаще и больше (в 6,5 раз) пользователей \"Ультра\" платят за экстра-трафик.\n",
    "  \n",
    "</div>"
   ]
  },
  {
   "cell_type": "markdown",
   "metadata": {},
   "source": [
    "## Общий вывод"
   ]
  },
  {
   "cell_type": "markdown",
   "metadata": {},
   "source": [
    "<div style=\"border: ridge black 3px; padding: 25px\">\n",
    "    \n",
    "<b>В результате проведенного исследования по определению наиболее перспективного тарифа для компании \"Мегалайн\" определено следующее:</b><br><br>\n",
    "    \n",
    "<b>Наиболее перспективным и приносящим за год больше выручки является тариф \"Смарт\".</b> При этом средняя выручка пользователей из Москвы равна средней выручке пользователей из других регионов.<br><br>\n",
    "\n",
    "Стоит также отметить, что:<br><br>\n",
    "    \n",
    "1. В среднем пользователям тарифа \"Смарт\" в месяц требуется: <b>422</b> минут разговора, <b>28</b> сообщений,<b> 16 Гб</b> интернета.<br>\n",
    "2. В среднем пользователям тарифа \"Ультра\" в месяц требуется: <b>518</b> минут разговора, <b>38</b> сообщений, <b>18 Гб</b> интернета.<br>\n",
    "3. Пользователи тарифа \"Ультра\" в среднем <b>не</b>  расходуют полностью весь пакет тарифа.<br>\n",
    "4. Пользователи тарифа \"Смарт\" в среднем дополнительно расходут только +1 Гб интернет-трафика в месяц.<br><br>\n",
    "\n",
    "Продвижение тарифа \"Смарт\" благоприятно скажется как в финансовом плане для компании, так и снизит расход энергетических мощностей \"Мегалайна\".<br><br>\n",
    "\n",
    "Продвижение \"Смарта\" может быть успешным судя даже по среднестатистическому пользователю более дорогого тарифа \"Ультра\", который в среднем тратит только на 18 минут разговора больше и 3 Гб больше, что практически сопоставимо с пакетом \"Смарта\", но с небольшой возможной переплатой за доп.интернет-трафик.<br><br>\n",
    "\n",
    "<b>В качестве рекомендации</b> и повышения лояльности пользователей можно предложить рассмотреть возможность коррекции тарифа \"Смарт\" или создание нового 3-го тарифа (например, \"Смарт+\"): увеличение включенных минут в пакет от 520 минут и увеличение пакета интернет-трафика до 18 Гб (с соразмерным увеличением месячной абонентской платы).<br>\n",
    "\n",
    "</div>"
   ]
  },
  {
   "cell_type": "code",
   "execution_count": null,
   "metadata": {},
   "outputs": [],
   "source": []
  }
 ],
 "metadata": {
  "ExecuteTimeLog": [
   {
    "duration": 1953,
    "start_time": "2021-06-30T20:00:46.979Z"
   },
   {
    "duration": 690,
    "start_time": "2021-06-30T20:00:48.936Z"
   },
   {
    "duration": 234,
    "start_time": "2021-06-30T20:00:49.630Z"
   },
   {
    "duration": 18,
    "start_time": "2021-06-30T20:00:49.868Z"
   },
   {
    "duration": 267,
    "start_time": "2021-06-30T20:00:49.889Z"
   },
   {
    "duration": 15,
    "start_time": "2021-06-30T20:00:50.163Z"
   },
   {
    "duration": 53,
    "start_time": "2021-06-30T20:00:50.182Z"
   },
   {
    "duration": 248,
    "start_time": "2021-06-30T20:00:50.261Z"
   },
   {
    "duration": 295,
    "start_time": "2021-06-30T20:00:50.513Z"
   },
   {
    "duration": 115,
    "start_time": "2021-06-30T20:00:50.811Z"
   },
   {
    "duration": 77,
    "start_time": "2021-06-30T20:00:50.930Z"
   },
   {
    "duration": 72,
    "start_time": "2021-06-30T20:00:51.010Z"
   },
   {
    "duration": 126,
    "start_time": "2021-06-30T20:00:51.085Z"
   },
   {
    "duration": 18,
    "start_time": "2021-06-30T20:00:51.215Z"
   },
   {
    "duration": 329,
    "start_time": "2021-06-30T20:00:51.236Z"
   },
   {
    "duration": 23,
    "start_time": "2021-06-30T20:00:51.568Z"
   },
   {
    "duration": 12,
    "start_time": "2021-06-30T20:00:51.594Z"
   },
   {
    "duration": 9,
    "start_time": "2021-06-30T20:00:51.608Z"
   },
   {
    "duration": 46,
    "start_time": "2021-06-30T20:00:51.620Z"
   },
   {
    "duration": 1856,
    "start_time": "2021-06-30T20:00:51.668Z"
   },
   {
    "duration": 1466,
    "start_time": "2021-06-30T20:00:53.527Z"
   },
   {
    "duration": 1783,
    "start_time": "2021-06-30T20:00:54.996Z"
   },
   {
    "duration": 6,
    "start_time": "2021-06-30T20:00:56.786Z"
   },
   {
    "duration": 105,
    "start_time": "2021-06-30T20:00:56.796Z"
   },
   {
    "duration": 8,
    "start_time": "2021-06-30T20:00:56.904Z"
   },
   {
    "duration": 51,
    "start_time": "2021-06-30T20:00:56.916Z"
   },
   {
    "duration": 8,
    "start_time": "2021-06-30T20:00:56.969Z"
   },
   {
    "duration": 120,
    "start_time": "2021-06-30T20:00:56.980Z"
   },
   {
    "duration": 1455,
    "start_time": "2021-06-30T20:02:22.184Z"
   },
   {
    "duration": 538,
    "start_time": "2021-06-30T20:02:23.641Z"
   },
   {
    "duration": 207,
    "start_time": "2021-06-30T20:02:24.183Z"
   },
   {
    "duration": 16,
    "start_time": "2021-06-30T20:02:24.394Z"
   },
   {
    "duration": 278,
    "start_time": "2021-06-30T20:02:24.413Z"
   },
   {
    "duration": 16,
    "start_time": "2021-06-30T20:02:24.694Z"
   },
   {
    "duration": 66,
    "start_time": "2021-06-30T20:02:24.713Z"
   },
   {
    "duration": 180,
    "start_time": "2021-06-30T20:02:24.783Z"
   },
   {
    "duration": 195,
    "start_time": "2021-06-30T20:02:24.966Z"
   },
   {
    "duration": 76,
    "start_time": "2021-06-30T20:02:25.164Z"
   },
   {
    "duration": 59,
    "start_time": "2021-06-30T20:02:25.243Z"
   },
   {
    "duration": 60,
    "start_time": "2021-06-30T20:02:25.304Z"
   },
   {
    "duration": 77,
    "start_time": "2021-06-30T20:02:25.366Z"
   },
   {
    "duration": 12,
    "start_time": "2021-06-30T20:02:25.462Z"
   },
   {
    "duration": 207,
    "start_time": "2021-06-30T20:02:25.477Z"
   },
   {
    "duration": 27,
    "start_time": "2021-06-30T20:02:25.686Z"
   },
   {
    "duration": 19,
    "start_time": "2021-06-30T20:02:25.716Z"
   },
   {
    "duration": 25,
    "start_time": "2021-06-30T20:02:25.737Z"
   },
   {
    "duration": 11,
    "start_time": "2021-06-30T20:02:25.764Z"
   },
   {
    "duration": 1730,
    "start_time": "2021-06-30T20:02:25.778Z"
   },
   {
    "duration": 1431,
    "start_time": "2021-06-30T20:02:27.510Z"
   },
   {
    "duration": 1656,
    "start_time": "2021-06-30T20:02:28.943Z"
   },
   {
    "duration": 5,
    "start_time": "2021-06-30T20:02:30.603Z"
   },
   {
    "duration": 88,
    "start_time": "2021-06-30T20:02:30.611Z"
   },
   {
    "duration": 6,
    "start_time": "2021-06-30T20:02:30.701Z"
   },
   {
    "duration": 32,
    "start_time": "2021-06-30T20:02:30.709Z"
   },
   {
    "duration": 31,
    "start_time": "2021-06-30T20:02:30.743Z"
   },
   {
    "duration": 90,
    "start_time": "2021-06-30T20:02:30.776Z"
   },
   {
    "duration": 1497,
    "start_time": "2021-06-30T20:15:20.448Z"
   },
   {
    "duration": 554,
    "start_time": "2021-06-30T20:15:21.948Z"
   },
   {
    "duration": 204,
    "start_time": "2021-06-30T20:15:22.505Z"
   },
   {
    "duration": 52,
    "start_time": "2021-06-30T20:15:22.713Z"
   },
   {
    "duration": 167,
    "start_time": "2021-06-30T20:15:22.768Z"
   },
   {
    "duration": 26,
    "start_time": "2021-06-30T20:15:22.937Z"
   },
   {
    "duration": 48,
    "start_time": "2021-06-30T20:15:22.965Z"
   },
   {
    "duration": 192,
    "start_time": "2021-06-30T20:15:23.017Z"
   },
   {
    "duration": 200,
    "start_time": "2021-06-30T20:15:23.212Z"
   },
   {
    "duration": 89,
    "start_time": "2021-06-30T20:15:23.415Z"
   },
   {
    "duration": 64,
    "start_time": "2021-06-30T20:15:23.506Z"
   },
   {
    "duration": 42,
    "start_time": "2021-06-30T20:15:23.572Z"
   },
   {
    "duration": 104,
    "start_time": "2021-06-30T20:15:23.616Z"
   },
   {
    "duration": 13,
    "start_time": "2021-06-30T20:15:23.723Z"
   },
   {
    "duration": 212,
    "start_time": "2021-06-30T20:15:23.740Z"
   },
   {
    "duration": 24,
    "start_time": "2021-06-30T20:15:23.955Z"
   },
   {
    "duration": 13,
    "start_time": "2021-06-30T20:15:23.982Z"
   },
   {
    "duration": 6,
    "start_time": "2021-06-30T20:15:23.998Z"
   },
   {
    "duration": 13,
    "start_time": "2021-06-30T20:15:24.006Z"
   },
   {
    "duration": 1825,
    "start_time": "2021-06-30T20:15:24.021Z"
   },
   {
    "duration": 1436,
    "start_time": "2021-06-30T20:15:25.848Z"
   },
   {
    "duration": 1882,
    "start_time": "2021-06-30T20:15:27.287Z"
   },
   {
    "duration": 6,
    "start_time": "2021-06-30T20:15:29.173Z"
   },
   {
    "duration": 104,
    "start_time": "2021-06-30T20:15:29.182Z"
   },
   {
    "duration": 9,
    "start_time": "2021-06-30T20:15:29.288Z"
   },
   {
    "duration": 26,
    "start_time": "2021-06-30T20:15:29.300Z"
   },
   {
    "duration": 34,
    "start_time": "2021-06-30T20:15:29.329Z"
   },
   {
    "duration": 150,
    "start_time": "2021-06-30T20:15:29.366Z"
   },
   {
    "duration": 1491,
    "start_time": "2021-06-30T21:00:09.884Z"
   },
   {
    "duration": 568,
    "start_time": "2021-06-30T21:00:11.377Z"
   },
   {
    "duration": 187,
    "start_time": "2021-06-30T21:00:11.948Z"
   },
   {
    "duration": 33,
    "start_time": "2021-06-30T21:00:12.138Z"
   },
   {
    "duration": 169,
    "start_time": "2021-06-30T21:00:12.174Z"
   },
   {
    "duration": 25,
    "start_time": "2021-06-30T21:00:12.345Z"
   },
   {
    "duration": 56,
    "start_time": "2021-06-30T21:00:12.373Z"
   },
   {
    "duration": 248,
    "start_time": "2021-06-30T21:00:12.434Z"
   },
   {
    "duration": 200,
    "start_time": "2021-06-30T21:00:12.685Z"
   },
   {
    "duration": 90,
    "start_time": "2021-06-30T21:00:12.887Z"
   },
   {
    "duration": 52,
    "start_time": "2021-06-30T21:00:12.979Z"
   },
   {
    "duration": 68,
    "start_time": "2021-06-30T21:00:13.033Z"
   },
   {
    "duration": 90,
    "start_time": "2021-06-30T21:00:13.104Z"
   },
   {
    "duration": 11,
    "start_time": "2021-06-30T21:00:13.197Z"
   },
   {
    "duration": 201,
    "start_time": "2021-06-30T21:00:13.211Z"
   },
   {
    "duration": 24,
    "start_time": "2021-06-30T21:00:13.414Z"
   },
   {
    "duration": 32,
    "start_time": "2021-06-30T21:00:13.441Z"
   },
   {
    "duration": 12,
    "start_time": "2021-06-30T21:00:13.475Z"
   },
   {
    "duration": 28,
    "start_time": "2021-06-30T21:00:13.489Z"
   },
   {
    "duration": 1768,
    "start_time": "2021-06-30T21:00:13.519Z"
   },
   {
    "duration": 1497,
    "start_time": "2021-06-30T21:00:15.290Z"
   },
   {
    "duration": 1761,
    "start_time": "2021-06-30T21:00:16.790Z"
   },
   {
    "duration": 10,
    "start_time": "2021-06-30T21:00:18.555Z"
   },
   {
    "duration": 101,
    "start_time": "2021-06-30T21:00:18.567Z"
   },
   {
    "duration": 8,
    "start_time": "2021-06-30T21:00:18.670Z"
   },
   {
    "duration": 18,
    "start_time": "2021-06-30T21:00:18.680Z"
   },
   {
    "duration": 14,
    "start_time": "2021-06-30T21:00:18.700Z"
   },
   {
    "duration": 126,
    "start_time": "2021-06-30T21:00:18.717Z"
   },
   {
    "duration": 1756,
    "start_time": "2021-08-05T12:20:04.941Z"
   },
   {
    "duration": 674,
    "start_time": "2021-08-05T12:20:06.700Z"
   },
   {
    "duration": 208,
    "start_time": "2021-08-05T12:20:07.377Z"
   },
   {
    "duration": 17,
    "start_time": "2021-08-05T12:20:07.588Z"
   },
   {
    "duration": 244,
    "start_time": "2021-08-05T12:20:07.608Z"
   },
   {
    "duration": 28,
    "start_time": "2021-08-05T12:20:07.857Z"
   },
   {
    "duration": 73,
    "start_time": "2021-08-05T12:20:07.889Z"
   },
   {
    "duration": 257,
    "start_time": "2021-08-05T12:20:07.968Z"
   },
   {
    "duration": 214,
    "start_time": "2021-08-05T12:20:08.230Z"
   },
   {
    "duration": 90,
    "start_time": "2021-08-05T12:20:08.447Z"
   },
   {
    "duration": 65,
    "start_time": "2021-08-05T12:20:08.539Z"
   },
   {
    "duration": 43,
    "start_time": "2021-08-05T12:20:08.606Z"
   },
   {
    "duration": 95,
    "start_time": "2021-08-05T12:20:08.651Z"
   },
   {
    "duration": 11,
    "start_time": "2021-08-05T12:20:08.749Z"
   },
   {
    "duration": 268,
    "start_time": "2021-08-05T12:20:08.762Z"
   },
   {
    "duration": 33,
    "start_time": "2021-08-05T12:20:09.033Z"
   },
   {
    "duration": 13,
    "start_time": "2021-08-05T12:20:09.087Z"
   },
   {
    "duration": 6,
    "start_time": "2021-08-05T12:20:09.103Z"
   },
   {
    "duration": 15,
    "start_time": "2021-08-05T12:20:09.112Z"
   },
   {
    "duration": 1982,
    "start_time": "2021-08-05T12:20:09.129Z"
   },
   {
    "duration": 1490,
    "start_time": "2021-08-05T12:20:11.113Z"
   },
   {
    "duration": 1882,
    "start_time": "2021-08-05T12:20:12.606Z"
   },
   {
    "duration": 6,
    "start_time": "2021-08-05T12:20:14.493Z"
   },
   {
    "duration": 95,
    "start_time": "2021-08-05T12:20:14.501Z"
   },
   {
    "duration": 7,
    "start_time": "2021-08-05T12:20:14.598Z"
   },
   {
    "duration": 17,
    "start_time": "2021-08-05T12:20:14.607Z"
   },
   {
    "duration": 8,
    "start_time": "2021-08-05T12:20:14.626Z"
   },
   {
    "duration": 150,
    "start_time": "2021-08-05T12:20:14.637Z"
   },
   {
    "duration": 1053,
    "start_time": "2021-08-07T18:25:00.647Z"
   },
   {
    "duration": 350,
    "start_time": "2021-08-07T18:25:01.701Z"
   },
   {
    "duration": 109,
    "start_time": "2021-08-07T18:25:02.055Z"
   },
   {
    "duration": 27,
    "start_time": "2021-08-07T18:25:02.165Z"
   },
   {
    "duration": 100,
    "start_time": "2021-08-07T18:25:02.194Z"
   },
   {
    "duration": 8,
    "start_time": "2021-08-07T18:25:02.296Z"
   },
   {
    "duration": 31,
    "start_time": "2021-08-07T18:25:02.307Z"
   },
   {
    "duration": 111,
    "start_time": "2021-08-07T18:25:02.341Z"
   },
   {
    "duration": 116,
    "start_time": "2021-08-07T18:25:02.454Z"
   },
   {
    "duration": 54,
    "start_time": "2021-08-07T18:25:02.572Z"
   },
   {
    "duration": 31,
    "start_time": "2021-08-07T18:25:02.628Z"
   },
   {
    "duration": 51,
    "start_time": "2021-08-07T18:25:02.661Z"
   },
   {
    "duration": 40,
    "start_time": "2021-08-07T18:25:02.714Z"
   },
   {
    "duration": 6,
    "start_time": "2021-08-07T18:25:02.756Z"
   },
   {
    "duration": 115,
    "start_time": "2021-08-07T18:25:02.763Z"
   },
   {
    "duration": 16,
    "start_time": "2021-08-07T18:25:02.880Z"
   },
   {
    "duration": 7,
    "start_time": "2021-08-07T18:25:02.897Z"
   },
   {
    "duration": 3,
    "start_time": "2021-08-07T18:25:02.905Z"
   },
   {
    "duration": 6,
    "start_time": "2021-08-07T18:25:02.910Z"
   },
   {
    "duration": 992,
    "start_time": "2021-08-07T18:25:02.918Z"
   },
   {
    "duration": 900,
    "start_time": "2021-08-07T18:25:03.912Z"
   },
   {
    "duration": 980,
    "start_time": "2021-08-07T18:25:04.814Z"
   },
   {
    "duration": 4,
    "start_time": "2021-08-07T18:25:05.795Z"
   },
   {
    "duration": 45,
    "start_time": "2021-08-07T18:25:05.800Z"
   },
   {
    "duration": 4,
    "start_time": "2021-08-07T18:25:05.846Z"
   },
   {
    "duration": 7,
    "start_time": "2021-08-07T18:25:05.852Z"
   },
   {
    "duration": 5,
    "start_time": "2021-08-07T18:25:05.861Z"
   },
   {
    "duration": 64,
    "start_time": "2021-08-07T18:25:05.868Z"
   }
  ],
  "kernelspec": {
   "display_name": "Python 3",
   "language": "python",
   "name": "python3"
  },
  "language_info": {
   "codemirror_mode": {
    "name": "ipython",
    "version": 3
   },
   "file_extension": ".py",
   "mimetype": "text/x-python",
   "name": "python",
   "nbconvert_exporter": "python",
   "pygments_lexer": "ipython3",
   "version": "3.7.8"
  },
  "toc": {
   "base_numbering": 1,
   "nav_menu": {},
   "number_sections": true,
   "sideBar": true,
   "skip_h1_title": true,
   "title_cell": "Table of Contents",
   "title_sidebar": "Contents",
   "toc_cell": false,
   "toc_position": {
    "height": "calc(100% - 180px)",
    "left": "10px",
    "top": "150px",
    "width": "278px"
   },
   "toc_section_display": true,
   "toc_window_display": true
  }
 },
 "nbformat": 4,
 "nbformat_minor": 2
}
