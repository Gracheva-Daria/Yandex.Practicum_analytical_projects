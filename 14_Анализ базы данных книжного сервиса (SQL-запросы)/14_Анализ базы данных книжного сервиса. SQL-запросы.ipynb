{
 "cells": [
  {
   "cell_type": "markdown",
   "metadata": {},
   "source": [
    "# \"Анализ базы данных книжного сервиса. SQL-запросы\" <a class=\"tocSkip\">"
   ]
  },
  {
   "cell_type": "markdown",
   "metadata": {},
   "source": [
    "## Цель исследования"
   ]
  },
  {
   "cell_type": "markdown",
   "metadata": {},
   "source": [
    "<div style=\"border: ridge black 3px; padding: 25px\">\n",
    "\n",
    "<b>Целью данного исследования является анализ базы данных книжного сервиса (при помощи SQL-запросов) и выявление ключевых характеристик и данных, которые помогут сервису для чтения книг сформулировать  ценностное предложение для нового продукта.</b> \n",
    "   \n",
    "</div>"
   ]
  },
  {
   "cell_type": "markdown",
   "metadata": {},
   "source": [
    "## Описание исходных данных"
   ]
  },
  {
   "cell_type": "markdown",
   "metadata": {},
   "source": [
    "Таблица **`books`**. **Содержит данные о книгах:**\n",
    "- `book_id` — идентификатор книги;\n",
    "- `author_id` — идентификатор автора;\n",
    "- `title` — название книги;\n",
    "- `num_pages` — количество страниц;\n",
    "- `publication_date` — дата публикации книги;\n",
    "- `publisher_id` — идентификатор издателя.\n",
    "___\n",
    "Таблица **`authors`**. **Содержит данные об авторах:**\n",
    "- `author_id` — идентификатор автора;\n",
    "- `author` — имя автора.\n",
    "___\n",
    "Таблица **`publishers`**. **Содержит данные об издательствах:**\n",
    "- `publisher_id` — идентификатор издательства;\n",
    "- `publisher` — название издательства;\n",
    "___\n",
    "Таблица **`ratings`**. **Содержит данные о пользовательских оценках книг:**\n",
    "- `rating_id` — идентификатор оценки;\n",
    "- `book_id` — идентификатор книги;\n",
    "- `username` — имя пользователя, оставившего оценку;\n",
    "- `rating` — оценка книги.\n",
    "___\n",
    "Таблица **`reviews`**. **Содержит данные о пользовательских обзорах:**\n",
    "- `review_id` — идентификатор обзора;\n",
    "- `book_id` — идентификатор книги;\n",
    "- `username` — имя автора обзора;\n",
    "- `text` — текст обзора.\n",
    "___"
   ]
  },
  {
   "cell_type": "markdown",
   "metadata": {},
   "source": [
    "## Импорт библиотек и подключение к базе данных "
   ]
  },
  {
   "cell_type": "code",
   "execution_count": 1,
   "metadata": {},
   "outputs": [],
   "source": [
    "# импортируем библиотеки\n",
    "\n",
    "import pandas as pd\n",
    "from sqlalchemy import create_engine"
   ]
  },
  {
   "cell_type": "code",
   "execution_count": 2,
   "metadata": {},
   "outputs": [],
   "source": [
    "# устанавливаем параметры\n",
    "\n",
    "db_config = {'user': 'praktikum_student', # имя пользователя\n",
    " 'pwd': 'Sdf4$2;d-d30pp', # пароль\n",
    " 'host': 'rc1b-wcoijxj3yxfsf3fs.mdb.yandexcloud.net',\n",
    " 'port': 6432, # порт подключения\n",
    " 'db': 'data-analyst-final-project-db'} # название базы данных\n",
    "connection_string = 'postgresql://{}:{}@{}:{}/{}'.format(db_config['user'],\n",
    " db_config['pwd'],\n",
    " db_config['host'],\n",
    " db_config['port'],\n",
    " db_config['db'])\n",
    "\n",
    "# сохраняем коннектор\n",
    "engine = create_engine(connection_string, connect_args={'sslmode':'require'})"
   ]
  },
  {
   "cell_type": "markdown",
   "metadata": {},
   "source": [
    "Для удобства создадим функцию `show_result` для показа результатов SQL-запроса."
   ]
  },
  {
   "cell_type": "code",
   "execution_count": 3,
   "metadata": {},
   "outputs": [],
   "source": [
    "def show_result(request):\n",
    "    return pd.io.sql.read_sql(request, con = engine)"
   ]
  },
  {
   "cell_type": "markdown",
   "metadata": {},
   "source": [
    "### Просмотр содержимого таблиц"
   ]
  },
  {
   "cell_type": "markdown",
   "metadata": {},
   "source": [
    "Ознакомимся с содержимым таблиц и тобразим первые 5 строк каждой из них с помощью функции `show_result`."
   ]
  },
  {
   "cell_type": "code",
   "execution_count": 4,
   "metadata": {},
   "outputs": [],
   "source": [
    "# пишем запросы\n",
    "\n",
    "books_req = \\\n",
    "'''\n",
    "SELECT * \n",
    "FROM books\n",
    "LIMIT 5\n",
    "'''\n",
    "authors_req = \\\n",
    "'''\n",
    "SELECT * \n",
    "FROM authors\n",
    "LIMIT 5\n",
    "'''\n",
    "publishers_req = \\\n",
    "'''\n",
    "SELECT * \n",
    "FROM publishers\n",
    "LIMIT 5\n",
    "'''\n",
    "ratings_req = \\\n",
    "'''\n",
    "SELECT * \n",
    "FROM ratings\n",
    "LIMIT 5\n",
    "'''\n",
    "reviews_req = \\\n",
    "'''\n",
    "SELECT * \n",
    "FROM reviews\n",
    "LIMIT 5\n",
    "'''"
   ]
  },
  {
   "cell_type": "code",
   "execution_count": 5,
   "metadata": {},
   "outputs": [
    {
     "name": "stdout",
     "output_type": "stream",
     "text": [
      "Таблица \"Books\":\n"
     ]
    },
    {
     "data": {
      "text/html": [
       "<div>\n",
       "<style scoped>\n",
       "    .dataframe tbody tr th:only-of-type {\n",
       "        vertical-align: middle;\n",
       "    }\n",
       "\n",
       "    .dataframe tbody tr th {\n",
       "        vertical-align: top;\n",
       "    }\n",
       "\n",
       "    .dataframe thead th {\n",
       "        text-align: right;\n",
       "    }\n",
       "</style>\n",
       "<table border=\"1\" class=\"dataframe\">\n",
       "  <thead>\n",
       "    <tr style=\"text-align: right;\">\n",
       "      <th></th>\n",
       "      <th>book_id</th>\n",
       "      <th>author_id</th>\n",
       "      <th>title</th>\n",
       "      <th>num_pages</th>\n",
       "      <th>publication_date</th>\n",
       "      <th>publisher_id</th>\n",
       "    </tr>\n",
       "  </thead>\n",
       "  <tbody>\n",
       "    <tr>\n",
       "      <td>0</td>\n",
       "      <td>1</td>\n",
       "      <td>546</td>\n",
       "      <td>'Salem's Lot</td>\n",
       "      <td>594</td>\n",
       "      <td>2005-11-01</td>\n",
       "      <td>93</td>\n",
       "    </tr>\n",
       "    <tr>\n",
       "      <td>1</td>\n",
       "      <td>2</td>\n",
       "      <td>465</td>\n",
       "      <td>1 000 Places to See Before You Die</td>\n",
       "      <td>992</td>\n",
       "      <td>2003-05-22</td>\n",
       "      <td>336</td>\n",
       "    </tr>\n",
       "    <tr>\n",
       "      <td>2</td>\n",
       "      <td>3</td>\n",
       "      <td>407</td>\n",
       "      <td>13 Little Blue Envelopes (Little Blue Envelope...</td>\n",
       "      <td>322</td>\n",
       "      <td>2010-12-21</td>\n",
       "      <td>135</td>\n",
       "    </tr>\n",
       "    <tr>\n",
       "      <td>3</td>\n",
       "      <td>4</td>\n",
       "      <td>82</td>\n",
       "      <td>1491: New Revelations of the Americas Before C...</td>\n",
       "      <td>541</td>\n",
       "      <td>2006-10-10</td>\n",
       "      <td>309</td>\n",
       "    </tr>\n",
       "    <tr>\n",
       "      <td>4</td>\n",
       "      <td>5</td>\n",
       "      <td>125</td>\n",
       "      <td>1776</td>\n",
       "      <td>386</td>\n",
       "      <td>2006-07-04</td>\n",
       "      <td>268</td>\n",
       "    </tr>\n",
       "  </tbody>\n",
       "</table>\n",
       "</div>"
      ],
      "text/plain": [
       "   book_id  author_id                                              title  \\\n",
       "0        1        546                                       'Salem's Lot   \n",
       "1        2        465                 1 000 Places to See Before You Die   \n",
       "2        3        407  13 Little Blue Envelopes (Little Blue Envelope...   \n",
       "3        4         82  1491: New Revelations of the Americas Before C...   \n",
       "4        5        125                                               1776   \n",
       "\n",
       "   num_pages publication_date  publisher_id  \n",
       "0        594       2005-11-01            93  \n",
       "1        992       2003-05-22           336  \n",
       "2        322       2010-12-21           135  \n",
       "3        541       2006-10-10           309  \n",
       "4        386       2006-07-04           268  "
      ]
     },
     "metadata": {},
     "output_type": "display_data"
    },
    {
     "name": "stdout",
     "output_type": "stream",
     "text": [
      "-------------------------------------------------------------------------------------------\n",
      "Таблица \"Authors\":\n"
     ]
    },
    {
     "data": {
      "text/html": [
       "<div>\n",
       "<style scoped>\n",
       "    .dataframe tbody tr th:only-of-type {\n",
       "        vertical-align: middle;\n",
       "    }\n",
       "\n",
       "    .dataframe tbody tr th {\n",
       "        vertical-align: top;\n",
       "    }\n",
       "\n",
       "    .dataframe thead th {\n",
       "        text-align: right;\n",
       "    }\n",
       "</style>\n",
       "<table border=\"1\" class=\"dataframe\">\n",
       "  <thead>\n",
       "    <tr style=\"text-align: right;\">\n",
       "      <th></th>\n",
       "      <th>author_id</th>\n",
       "      <th>author</th>\n",
       "    </tr>\n",
       "  </thead>\n",
       "  <tbody>\n",
       "    <tr>\n",
       "      <td>0</td>\n",
       "      <td>1</td>\n",
       "      <td>A.S. Byatt</td>\n",
       "    </tr>\n",
       "    <tr>\n",
       "      <td>1</td>\n",
       "      <td>2</td>\n",
       "      <td>Aesop/Laura Harris/Laura Gibbs</td>\n",
       "    </tr>\n",
       "    <tr>\n",
       "      <td>2</td>\n",
       "      <td>3</td>\n",
       "      <td>Agatha Christie</td>\n",
       "    </tr>\n",
       "    <tr>\n",
       "      <td>3</td>\n",
       "      <td>4</td>\n",
       "      <td>Alan Brennert</td>\n",
       "    </tr>\n",
       "    <tr>\n",
       "      <td>4</td>\n",
       "      <td>5</td>\n",
       "      <td>Alan Moore/David   Lloyd</td>\n",
       "    </tr>\n",
       "  </tbody>\n",
       "</table>\n",
       "</div>"
      ],
      "text/plain": [
       "   author_id                          author\n",
       "0          1                      A.S. Byatt\n",
       "1          2  Aesop/Laura Harris/Laura Gibbs\n",
       "2          3                 Agatha Christie\n",
       "3          4                   Alan Brennert\n",
       "4          5        Alan Moore/David   Lloyd"
      ]
     },
     "metadata": {},
     "output_type": "display_data"
    },
    {
     "name": "stdout",
     "output_type": "stream",
     "text": [
      "-------------------------------------------------------------------------------------------\n",
      "Таблица \"Publishers\":\n"
     ]
    },
    {
     "data": {
      "text/html": [
       "<div>\n",
       "<style scoped>\n",
       "    .dataframe tbody tr th:only-of-type {\n",
       "        vertical-align: middle;\n",
       "    }\n",
       "\n",
       "    .dataframe tbody tr th {\n",
       "        vertical-align: top;\n",
       "    }\n",
       "\n",
       "    .dataframe thead th {\n",
       "        text-align: right;\n",
       "    }\n",
       "</style>\n",
       "<table border=\"1\" class=\"dataframe\">\n",
       "  <thead>\n",
       "    <tr style=\"text-align: right;\">\n",
       "      <th></th>\n",
       "      <th>publisher_id</th>\n",
       "      <th>publisher</th>\n",
       "    </tr>\n",
       "  </thead>\n",
       "  <tbody>\n",
       "    <tr>\n",
       "      <td>0</td>\n",
       "      <td>1</td>\n",
       "      <td>Ace</td>\n",
       "    </tr>\n",
       "    <tr>\n",
       "      <td>1</td>\n",
       "      <td>2</td>\n",
       "      <td>Ace Book</td>\n",
       "    </tr>\n",
       "    <tr>\n",
       "      <td>2</td>\n",
       "      <td>3</td>\n",
       "      <td>Ace Books</td>\n",
       "    </tr>\n",
       "    <tr>\n",
       "      <td>3</td>\n",
       "      <td>4</td>\n",
       "      <td>Ace Hardcover</td>\n",
       "    </tr>\n",
       "    <tr>\n",
       "      <td>4</td>\n",
       "      <td>5</td>\n",
       "      <td>Addison Wesley Publishing Company</td>\n",
       "    </tr>\n",
       "  </tbody>\n",
       "</table>\n",
       "</div>"
      ],
      "text/plain": [
       "   publisher_id                          publisher\n",
       "0             1                                Ace\n",
       "1             2                           Ace Book\n",
       "2             3                          Ace Books\n",
       "3             4                      Ace Hardcover\n",
       "4             5  Addison Wesley Publishing Company"
      ]
     },
     "metadata": {},
     "output_type": "display_data"
    },
    {
     "name": "stdout",
     "output_type": "stream",
     "text": [
      "-------------------------------------------------------------------------------------------\n",
      "Таблица \"Ratings\":\n"
     ]
    },
    {
     "data": {
      "text/html": [
       "<div>\n",
       "<style scoped>\n",
       "    .dataframe tbody tr th:only-of-type {\n",
       "        vertical-align: middle;\n",
       "    }\n",
       "\n",
       "    .dataframe tbody tr th {\n",
       "        vertical-align: top;\n",
       "    }\n",
       "\n",
       "    .dataframe thead th {\n",
       "        text-align: right;\n",
       "    }\n",
       "</style>\n",
       "<table border=\"1\" class=\"dataframe\">\n",
       "  <thead>\n",
       "    <tr style=\"text-align: right;\">\n",
       "      <th></th>\n",
       "      <th>rating_id</th>\n",
       "      <th>book_id</th>\n",
       "      <th>username</th>\n",
       "      <th>rating</th>\n",
       "    </tr>\n",
       "  </thead>\n",
       "  <tbody>\n",
       "    <tr>\n",
       "      <td>0</td>\n",
       "      <td>1</td>\n",
       "      <td>1</td>\n",
       "      <td>ryanfranco</td>\n",
       "      <td>4</td>\n",
       "    </tr>\n",
       "    <tr>\n",
       "      <td>1</td>\n",
       "      <td>2</td>\n",
       "      <td>1</td>\n",
       "      <td>grantpatricia</td>\n",
       "      <td>2</td>\n",
       "    </tr>\n",
       "    <tr>\n",
       "      <td>2</td>\n",
       "      <td>3</td>\n",
       "      <td>1</td>\n",
       "      <td>brandtandrea</td>\n",
       "      <td>5</td>\n",
       "    </tr>\n",
       "    <tr>\n",
       "      <td>3</td>\n",
       "      <td>4</td>\n",
       "      <td>2</td>\n",
       "      <td>lorichen</td>\n",
       "      <td>3</td>\n",
       "    </tr>\n",
       "    <tr>\n",
       "      <td>4</td>\n",
       "      <td>5</td>\n",
       "      <td>2</td>\n",
       "      <td>mariokeller</td>\n",
       "      <td>2</td>\n",
       "    </tr>\n",
       "  </tbody>\n",
       "</table>\n",
       "</div>"
      ],
      "text/plain": [
       "   rating_id  book_id       username  rating\n",
       "0          1        1     ryanfranco       4\n",
       "1          2        1  grantpatricia       2\n",
       "2          3        1   brandtandrea       5\n",
       "3          4        2       lorichen       3\n",
       "4          5        2    mariokeller       2"
      ]
     },
     "metadata": {},
     "output_type": "display_data"
    },
    {
     "name": "stdout",
     "output_type": "stream",
     "text": [
      "-------------------------------------------------------------------------------------------\n",
      "Таблица \"Reviews\":\n"
     ]
    },
    {
     "data": {
      "text/html": [
       "<div>\n",
       "<style scoped>\n",
       "    .dataframe tbody tr th:only-of-type {\n",
       "        vertical-align: middle;\n",
       "    }\n",
       "\n",
       "    .dataframe tbody tr th {\n",
       "        vertical-align: top;\n",
       "    }\n",
       "\n",
       "    .dataframe thead th {\n",
       "        text-align: right;\n",
       "    }\n",
       "</style>\n",
       "<table border=\"1\" class=\"dataframe\">\n",
       "  <thead>\n",
       "    <tr style=\"text-align: right;\">\n",
       "      <th></th>\n",
       "      <th>review_id</th>\n",
       "      <th>book_id</th>\n",
       "      <th>username</th>\n",
       "      <th>text</th>\n",
       "    </tr>\n",
       "  </thead>\n",
       "  <tbody>\n",
       "    <tr>\n",
       "      <td>0</td>\n",
       "      <td>1</td>\n",
       "      <td>1</td>\n",
       "      <td>brandtandrea</td>\n",
       "      <td>Mention society tell send professor analysis. ...</td>\n",
       "    </tr>\n",
       "    <tr>\n",
       "      <td>1</td>\n",
       "      <td>2</td>\n",
       "      <td>1</td>\n",
       "      <td>ryanfranco</td>\n",
       "      <td>Foot glass pretty audience hit themselves. Amo...</td>\n",
       "    </tr>\n",
       "    <tr>\n",
       "      <td>2</td>\n",
       "      <td>3</td>\n",
       "      <td>2</td>\n",
       "      <td>lorichen</td>\n",
       "      <td>Listen treat keep worry. Miss husband tax but ...</td>\n",
       "    </tr>\n",
       "    <tr>\n",
       "      <td>3</td>\n",
       "      <td>4</td>\n",
       "      <td>3</td>\n",
       "      <td>johnsonamanda</td>\n",
       "      <td>Finally month interesting blue could nature cu...</td>\n",
       "    </tr>\n",
       "    <tr>\n",
       "      <td>4</td>\n",
       "      <td>5</td>\n",
       "      <td>3</td>\n",
       "      <td>scotttamara</td>\n",
       "      <td>Nation purpose heavy give wait song will. List...</td>\n",
       "    </tr>\n",
       "  </tbody>\n",
       "</table>\n",
       "</div>"
      ],
      "text/plain": [
       "   review_id  book_id       username  \\\n",
       "0          1        1   brandtandrea   \n",
       "1          2        1     ryanfranco   \n",
       "2          3        2       lorichen   \n",
       "3          4        3  johnsonamanda   \n",
       "4          5        3    scotttamara   \n",
       "\n",
       "                                                text  \n",
       "0  Mention society tell send professor analysis. ...  \n",
       "1  Foot glass pretty audience hit themselves. Amo...  \n",
       "2  Listen treat keep worry. Miss husband tax but ...  \n",
       "3  Finally month interesting blue could nature cu...  \n",
       "4  Nation purpose heavy give wait song will. List...  "
      ]
     },
     "metadata": {},
     "output_type": "display_data"
    },
    {
     "name": "stdout",
     "output_type": "stream",
     "text": [
      "-------------------------------------------------------------------------------------------\n"
     ]
    }
   ],
   "source": [
    "# выводим результат\n",
    "\n",
    "print('Таблица \"Books\":')\n",
    "display(show_result(books_req))\n",
    "print('-------------------------------------------------------------------------------------------')\n",
    "print('Таблица \"Authors\":')\n",
    "display(show_result(authors_req))\n",
    "print('-------------------------------------------------------------------------------------------')\n",
    "print('Таблица \"Publishers\":')\n",
    "display(show_result(publishers_req))\n",
    "print('-------------------------------------------------------------------------------------------')\n",
    "print('Таблица \"Ratings\":')\n",
    "display(show_result(ratings_req))\n",
    "print('-------------------------------------------------------------------------------------------')\n",
    "print('Таблица \"Reviews\":')\n",
    "display(show_result(reviews_req))\n",
    "print('-------------------------------------------------------------------------------------------')"
   ]
  },
  {
   "cell_type": "markdown",
   "metadata": {},
   "source": [
    "Проанализируем базу данных книг и определим ключевые показатели и данные:\n",
    "1. Количество книг, вышедших после 1 Января 2000 года.\n",
    "2. Количество обзоров и среднюю оценку по каждой книге.\n",
    "3. Издательство, выпустившее наибольшее число книг  (книги с более, чем 50 стр.).\n",
    "4. Автора с самой высокой средней оценкой книг (книги с 50 и более оценками).\n",
    "5. Среднее количество обзоров от пользователей (поставивших более 50 оценок).\n",
    "\n",
    "Приступим к созданию запросов."
   ]
  },
  {
   "cell_type": "markdown",
   "metadata": {},
   "source": [
    "## SQL-запросы"
   ]
  },
  {
   "cell_type": "markdown",
   "metadata": {},
   "source": [
    "### Количество книг, вышедших после 1 января 2000 года"
   ]
  },
  {
   "cell_type": "code",
   "execution_count": 6,
   "metadata": {},
   "outputs": [
    {
     "data": {
      "text/html": [
       "<div>\n",
       "<style scoped>\n",
       "    .dataframe tbody tr th:only-of-type {\n",
       "        vertical-align: middle;\n",
       "    }\n",
       "\n",
       "    .dataframe tbody tr th {\n",
       "        vertical-align: top;\n",
       "    }\n",
       "\n",
       "    .dataframe thead th {\n",
       "        text-align: right;\n",
       "    }\n",
       "</style>\n",
       "<table border=\"1\" class=\"dataframe\">\n",
       "  <thead>\n",
       "    <tr style=\"text-align: right;\">\n",
       "      <th></th>\n",
       "      <th>n_books_after_01_01_2000</th>\n",
       "    </tr>\n",
       "  </thead>\n",
       "  <tbody>\n",
       "    <tr>\n",
       "      <td>0</td>\n",
       "      <td>821</td>\n",
       "    </tr>\n",
       "  </tbody>\n",
       "</table>\n",
       "</div>"
      ],
      "text/plain": [
       "   n_books_after_01_01_2000\n",
       "0                       821"
      ]
     },
     "execution_count": 6,
     "metadata": {},
     "output_type": "execute_result"
    }
   ],
   "source": [
    "n_books_after_01_01_2000 = \\\n",
    "'''\n",
    "SELECT \n",
    "    COUNT(book_id) AS n_books_after_01_01_2000\n",
    "FROM \n",
    "    books\n",
    "WHERE \n",
    "    publication_date >= '2000-01-01';\n",
    "'''\n",
    "\n",
    "show_result(n_books_after_01_01_2000)"
   ]
  },
  {
   "cell_type": "markdown",
   "metadata": {},
   "source": [
    "**После 1 Января 2000 г. (включ.) вышла 821 книга.**"
   ]
  },
  {
   "cell_type": "markdown",
   "metadata": {},
   "source": [
    "<div style=\"border:solid green 2px; padding: 20px\"> <b>Отличная работа</b><br>\n",
    "Спасибо за отметку о включении 1 января!</div> <br>"
   ]
  },
  {
   "cell_type": "markdown",
   "metadata": {},
   "source": [
    "### Количество обзоров и средняя оценка по каждой книге"
   ]
  },
  {
   "cell_type": "code",
   "execution_count": 7,
   "metadata": {},
   "outputs": [
    {
     "data": {
      "text/html": [
       "<div>\n",
       "<style scoped>\n",
       "    .dataframe tbody tr th:only-of-type {\n",
       "        vertical-align: middle;\n",
       "    }\n",
       "\n",
       "    .dataframe tbody tr th {\n",
       "        vertical-align: top;\n",
       "    }\n",
       "\n",
       "    .dataframe thead th {\n",
       "        text-align: right;\n",
       "    }\n",
       "</style>\n",
       "<table border=\"1\" class=\"dataframe\">\n",
       "  <thead>\n",
       "    <tr style=\"text-align: right;\">\n",
       "      <th></th>\n",
       "      <th>book_id</th>\n",
       "      <th>book_title</th>\n",
       "      <th>cnt_reviews</th>\n",
       "      <th>avg_rating</th>\n",
       "    </tr>\n",
       "  </thead>\n",
       "  <tbody>\n",
       "    <tr>\n",
       "      <td>0</td>\n",
       "      <td>948</td>\n",
       "      <td>Twilight (Twilight  #1)</td>\n",
       "      <td>7</td>\n",
       "      <td>3.662500</td>\n",
       "    </tr>\n",
       "    <tr>\n",
       "      <td>1</td>\n",
       "      <td>696</td>\n",
       "      <td>The Da Vinci Code (Robert Langdon  #2)</td>\n",
       "      <td>6</td>\n",
       "      <td>3.830508</td>\n",
       "    </tr>\n",
       "    <tr>\n",
       "      <td>2</td>\n",
       "      <td>207</td>\n",
       "      <td>Eat  Pray  Love</td>\n",
       "      <td>6</td>\n",
       "      <td>3.395833</td>\n",
       "    </tr>\n",
       "    <tr>\n",
       "      <td>3</td>\n",
       "      <td>627</td>\n",
       "      <td>The Alchemist</td>\n",
       "      <td>6</td>\n",
       "      <td>3.789474</td>\n",
       "    </tr>\n",
       "    <tr>\n",
       "      <td>4</td>\n",
       "      <td>673</td>\n",
       "      <td>The Catcher in the Rye</td>\n",
       "      <td>6</td>\n",
       "      <td>3.825581</td>\n",
       "    </tr>\n",
       "    <tr>\n",
       "      <td>5</td>\n",
       "      <td>695</td>\n",
       "      <td>The Curious Incident of the Dog in the Night-Time</td>\n",
       "      <td>6</td>\n",
       "      <td>4.081081</td>\n",
       "    </tr>\n",
       "    <tr>\n",
       "      <td>6</td>\n",
       "      <td>302</td>\n",
       "      <td>Harry Potter and the Prisoner of Azkaban (Harr...</td>\n",
       "      <td>6</td>\n",
       "      <td>4.414634</td>\n",
       "    </tr>\n",
       "    <tr>\n",
       "      <td>7</td>\n",
       "      <td>299</td>\n",
       "      <td>Harry Potter and the Chamber of Secrets (Harry...</td>\n",
       "      <td>6</td>\n",
       "      <td>4.287500</td>\n",
       "    </tr>\n",
       "    <tr>\n",
       "      <td>8</td>\n",
       "      <td>497</td>\n",
       "      <td>Outlander (Outlander  #1)</td>\n",
       "      <td>6</td>\n",
       "      <td>4.125000</td>\n",
       "    </tr>\n",
       "    <tr>\n",
       "      <td>9</td>\n",
       "      <td>656</td>\n",
       "      <td>The Book Thief</td>\n",
       "      <td>6</td>\n",
       "      <td>4.264151</td>\n",
       "    </tr>\n",
       "  </tbody>\n",
       "</table>\n",
       "</div>"
      ],
      "text/plain": [
       "   book_id                                         book_title  cnt_reviews  \\\n",
       "0      948                            Twilight (Twilight  #1)            7   \n",
       "1      696             The Da Vinci Code (Robert Langdon  #2)            6   \n",
       "2      207                                    Eat  Pray  Love            6   \n",
       "3      627                                      The Alchemist            6   \n",
       "4      673                             The Catcher in the Rye            6   \n",
       "5      695  The Curious Incident of the Dog in the Night-Time            6   \n",
       "6      302  Harry Potter and the Prisoner of Azkaban (Harr...            6   \n",
       "7      299  Harry Potter and the Chamber of Secrets (Harry...            6   \n",
       "8      497                          Outlander (Outlander  #1)            6   \n",
       "9      656                                     The Book Thief            6   \n",
       "\n",
       "   avg_rating  \n",
       "0    3.662500  \n",
       "1    3.830508  \n",
       "2    3.395833  \n",
       "3    3.789474  \n",
       "4    3.825581  \n",
       "5    4.081081  \n",
       "6    4.414634  \n",
       "7    4.287500  \n",
       "8    4.125000  \n",
       "9    4.264151  "
      ]
     },
     "execution_count": 7,
     "metadata": {},
     "output_type": "execute_result"
    }
   ],
   "source": [
    "rating_and_reviews = \\\n",
    "'''\n",
    "SELECT\n",
    "    books.book_id AS book_id,\n",
    "    books.title AS book_title,\n",
    "    COUNT(DISTINCT reviews.review_id) AS cnt_reviews,   \n",
    "    AVG(ratings.rating) AS avg_rating   \n",
    "FROM\n",
    "    books\n",
    "    INNER JOIN ratings ON ratings.book_id = books.book_id\n",
    "    INNER JOIN reviews ON reviews.book_id = books.book_id\n",
    "GROUP BY\n",
    "    books.book_id\n",
    "ORDER BY\n",
    "    cnt_reviews DESC\n",
    "LIMIT 10;\n",
    "'''\n",
    "# выведем первые 10 книг по убыванию кол-ва обзоров\n",
    "show_result(rating_and_reviews)"
   ]
  },
  {
   "cell_type": "markdown",
   "metadata": {},
   "source": [
    "**Видим, что более 6 обзоров получила только 1 книга:**\n",
    "\n",
    "- Twilight (Twilight #1): 7 обзоров и рейтинг не из самых высоких = 3.66 баллов.\n",
    "\n",
    "**Остальные 9 книг имеют по 6 обзоров.** \n",
    "\n",
    "**Средний рейтинг книг в этой десятке колеблется от 3.4 до 4.4 баллов.**"
   ]
  },
  {
   "cell_type": "markdown",
   "metadata": {},
   "source": [
    "### Издательство, выпустившее наибольшее число книг  (книги с более, чем 50 стр.)"
   ]
  },
  {
   "cell_type": "code",
   "execution_count": 8,
   "metadata": {},
   "outputs": [
    {
     "data": {
      "text/html": [
       "<div>\n",
       "<style scoped>\n",
       "    .dataframe tbody tr th:only-of-type {\n",
       "        vertical-align: middle;\n",
       "    }\n",
       "\n",
       "    .dataframe tbody tr th {\n",
       "        vertical-align: top;\n",
       "    }\n",
       "\n",
       "    .dataframe thead th {\n",
       "        text-align: right;\n",
       "    }\n",
       "</style>\n",
       "<table border=\"1\" class=\"dataframe\">\n",
       "  <thead>\n",
       "    <tr style=\"text-align: right;\">\n",
       "      <th></th>\n",
       "      <th>publisher_name</th>\n",
       "      <th>cnt_books</th>\n",
       "    </tr>\n",
       "  </thead>\n",
       "  <tbody>\n",
       "    <tr>\n",
       "      <td>0</td>\n",
       "      <td>Penguin Books</td>\n",
       "      <td>42</td>\n",
       "    </tr>\n",
       "    <tr>\n",
       "      <td>1</td>\n",
       "      <td>Vintage</td>\n",
       "      <td>31</td>\n",
       "    </tr>\n",
       "    <tr>\n",
       "      <td>2</td>\n",
       "      <td>Grand Central Publishing</td>\n",
       "      <td>25</td>\n",
       "    </tr>\n",
       "    <tr>\n",
       "      <td>3</td>\n",
       "      <td>Penguin Classics</td>\n",
       "      <td>24</td>\n",
       "    </tr>\n",
       "    <tr>\n",
       "      <td>4</td>\n",
       "      <td>Ballantine Books</td>\n",
       "      <td>19</td>\n",
       "    </tr>\n",
       "    <tr>\n",
       "      <td>5</td>\n",
       "      <td>Bantam</td>\n",
       "      <td>19</td>\n",
       "    </tr>\n",
       "    <tr>\n",
       "      <td>6</td>\n",
       "      <td>Berkley</td>\n",
       "      <td>17</td>\n",
       "    </tr>\n",
       "    <tr>\n",
       "      <td>7</td>\n",
       "      <td>St. Martin's Press</td>\n",
       "      <td>14</td>\n",
       "    </tr>\n",
       "    <tr>\n",
       "      <td>8</td>\n",
       "      <td>Berkley Books</td>\n",
       "      <td>14</td>\n",
       "    </tr>\n",
       "    <tr>\n",
       "      <td>9</td>\n",
       "      <td>William Morrow Paperbacks</td>\n",
       "      <td>13</td>\n",
       "    </tr>\n",
       "  </tbody>\n",
       "</table>\n",
       "</div>"
      ],
      "text/plain": [
       "              publisher_name  cnt_books\n",
       "0              Penguin Books         42\n",
       "1                    Vintage         31\n",
       "2   Grand Central Publishing         25\n",
       "3           Penguin Classics         24\n",
       "4           Ballantine Books         19\n",
       "5                     Bantam         19\n",
       "6                    Berkley         17\n",
       "7         St. Martin's Press         14\n",
       "8              Berkley Books         14\n",
       "9  William Morrow Paperbacks         13"
      ]
     },
     "execution_count": 8,
     "metadata": {},
     "output_type": "execute_result"
    }
   ],
   "source": [
    "publisher_largest_n_books = \\\n",
    "'''\n",
    "SELECT                                                 \n",
    "    publishers.publisher AS publisher_name,\n",
    "    COUNT(books.book_id) AS cnt_books\n",
    "FROM\n",
    "    publishers\n",
    "    INNER JOIN books ON books.publisher_id = publishers.publisher_id\n",
    "WHERE\n",
    "    books.num_pages > 50                                        \n",
    "GROUP BY\n",
    "    publisher_name\n",
    "ORDER BY                                                     \n",
    "    cnt_books DESC\n",
    "LIMIT 10;\n",
    "'''\n",
    "show_result(publisher_largest_n_books)"
   ]
  },
  {
   "cell_type": "markdown",
   "metadata": {},
   "source": [
    "**Издательство \"Penguin Books\" выпустило больше всего книг (42 книги).**\n",
    "\n",
    "На 2 месте издательство \"Vintage\" и на 3 месте - \"Grand Central Publishing\"."
   ]
  },
  {
   "cell_type": "markdown",
   "metadata": {},
   "source": [
    "### Автор с самой высокой средней оценкой книг (книги с 50 и более оценками)"
   ]
  },
  {
   "cell_type": "code",
   "execution_count": 9,
   "metadata": {},
   "outputs": [
    {
     "data": {
      "text/html": [
       "<div>\n",
       "<style scoped>\n",
       "    .dataframe tbody tr th:only-of-type {\n",
       "        vertical-align: middle;\n",
       "    }\n",
       "\n",
       "    .dataframe tbody tr th {\n",
       "        vertical-align: top;\n",
       "    }\n",
       "\n",
       "    .dataframe thead th {\n",
       "        text-align: right;\n",
       "    }\n",
       "</style>\n",
       "<table border=\"1\" class=\"dataframe\">\n",
       "  <thead>\n",
       "    <tr style=\"text-align: right;\">\n",
       "      <th></th>\n",
       "      <th>author</th>\n",
       "      <th>avg_rating</th>\n",
       "    </tr>\n",
       "  </thead>\n",
       "  <tbody>\n",
       "    <tr>\n",
       "      <td>0</td>\n",
       "      <td>J.K. Rowling/Mary GrandPré</td>\n",
       "      <td>4.283844</td>\n",
       "    </tr>\n",
       "    <tr>\n",
       "      <td>1</td>\n",
       "      <td>Markus Zusak/Cao Xuân Việt Khương</td>\n",
       "      <td>4.264151</td>\n",
       "    </tr>\n",
       "    <tr>\n",
       "      <td>2</td>\n",
       "      <td>J.R.R. Tolkien</td>\n",
       "      <td>4.258446</td>\n",
       "    </tr>\n",
       "    <tr>\n",
       "      <td>3</td>\n",
       "      <td>Louisa May Alcott</td>\n",
       "      <td>4.192308</td>\n",
       "    </tr>\n",
       "    <tr>\n",
       "      <td>4</td>\n",
       "      <td>Rick Riordan</td>\n",
       "      <td>4.080645</td>\n",
       "    </tr>\n",
       "    <tr>\n",
       "      <td>5</td>\n",
       "      <td>William Golding</td>\n",
       "      <td>3.901408</td>\n",
       "    </tr>\n",
       "    <tr>\n",
       "      <td>6</td>\n",
       "      <td>J.D. Salinger</td>\n",
       "      <td>3.825581</td>\n",
       "    </tr>\n",
       "    <tr>\n",
       "      <td>7</td>\n",
       "      <td>Paulo Coelho/Alan R. Clarke/Özdemir İnce</td>\n",
       "      <td>3.789474</td>\n",
       "    </tr>\n",
       "    <tr>\n",
       "      <td>8</td>\n",
       "      <td>William Shakespeare/Paul Werstine/Barbara A. M...</td>\n",
       "      <td>3.787879</td>\n",
       "    </tr>\n",
       "    <tr>\n",
       "      <td>9</td>\n",
       "      <td>Dan Brown</td>\n",
       "      <td>3.754540</td>\n",
       "    </tr>\n",
       "  </tbody>\n",
       "</table>\n",
       "</div>"
      ],
      "text/plain": [
       "                                              author  avg_rating\n",
       "0                         J.K. Rowling/Mary GrandPré    4.283844\n",
       "1                  Markus Zusak/Cao Xuân Việt Khương    4.264151\n",
       "2                                     J.R.R. Tolkien    4.258446\n",
       "3                                  Louisa May Alcott    4.192308\n",
       "4                                       Rick Riordan    4.080645\n",
       "5                                    William Golding    3.901408\n",
       "6                                      J.D. Salinger    3.825581\n",
       "7           Paulo Coelho/Alan R. Clarke/Özdemir İnce    3.789474\n",
       "8  William Shakespeare/Paul Werstine/Barbara A. M...    3.787879\n",
       "9                                          Dan Brown    3.754540"
      ]
     },
     "execution_count": 9,
     "metadata": {},
     "output_type": "execute_result"
    }
   ],
   "source": [
    "author_highest_avg_rating = \\\n",
    "'''\n",
    "SELECT                                                    \n",
    "    SUBQ.author AS author,                                \n",
    "    AVG(SUBQ.avg_rating) AS avg_rating\n",
    "FROM (\n",
    "\n",
    "    SELECT\n",
    "         authors.author AS author,\n",
    "         books.book_id AS id,\n",
    "         AVG(ratings.rating) AS avg_rating,\n",
    "         COUNT(ratings.rating) AS cnt_rating\n",
    "    FROM\n",
    "        authors\n",
    "    INNER JOIN books ON books.author_id = authors.author_id\n",
    "    INNER JOIN ratings ON ratings.book_id = books.book_id\n",
    "    GROUP BY\n",
    "        author,\n",
    "        id\n",
    "    HAVING\n",
    "        COUNT(ratings.rating) >= 50) AS SUBQ  \n",
    "        \n",
    "GROUP BY\n",
    "    author\n",
    "ORDER BY\n",
    "    avg_rating DESC\n",
    "LIMIT 10     \n",
    "'''\n",
    "show_result(author_highest_avg_rating)"
   ]
  },
  {
   "cell_type": "markdown",
   "metadata": {},
   "source": [
    "Самую высокую среднюю оценку книг получила J.K. Rowling/Mary GrandPré - 4.28 балла.\n",
    "\n",
    "С несущественным отставанием следом идут Markus Zusak/Cao Xuân Việt Khương (4.26 балла) и J.R.R. Tolkien (4.25 балла)."
   ]
  },
  {
   "cell_type": "markdown",
   "metadata": {},
   "source": [
    "### Среднее количество обзоров от пользователей (поставивших более 50 оценок)"
   ]
  },
  {
   "cell_type": "code",
   "execution_count": 10,
   "metadata": {},
   "outputs": [
    {
     "data": {
      "text/html": [
       "<div>\n",
       "<style scoped>\n",
       "    .dataframe tbody tr th:only-of-type {\n",
       "        vertical-align: middle;\n",
       "    }\n",
       "\n",
       "    .dataframe tbody tr th {\n",
       "        vertical-align: top;\n",
       "    }\n",
       "\n",
       "    .dataframe thead th {\n",
       "        text-align: right;\n",
       "    }\n",
       "</style>\n",
       "<table border=\"1\" class=\"dataframe\">\n",
       "  <thead>\n",
       "    <tr style=\"text-align: right;\">\n",
       "      <th></th>\n",
       "      <th>avg_reviews</th>\n",
       "    </tr>\n",
       "  </thead>\n",
       "  <tbody>\n",
       "    <tr>\n",
       "      <td>0</td>\n",
       "      <td>24.333333</td>\n",
       "    </tr>\n",
       "  </tbody>\n",
       "</table>\n",
       "</div>"
      ],
      "text/plain": [
       "   avg_reviews\n",
       "0    24.333333"
      ]
     },
     "execution_count": 10,
     "metadata": {},
     "output_type": "execute_result"
    }
   ],
   "source": [
    "avg_n_reviews = \\\n",
    "'''\n",
    "SELECT\n",
    "     SUM(SUBQ.cnt_reviews)/COUNT(SUBQ.cnt_reviews) AS avg_reviews\n",
    "\n",
    "FROM (  \n",
    "\n",
    "    SELECT \n",
    "        reviews.username, \n",
    "        COUNT(reviews.username) as cnt_reviews\n",
    "    FROM \n",
    "        reviews\n",
    "    WHERE \n",
    "        reviews.username IN (\n",
    "            SELECT ratings.username\n",
    "            FROM \n",
    "                ratings\n",
    "            GROUP BY \n",
    "                ratings.username\n",
    "            HAVING COUNT(ratings.rating_id) > 50)\n",
    "GROUP BY \n",
    "    username) as SUBQ\n",
    "\n",
    "'''\n",
    "show_result(avg_n_reviews)"
   ]
  },
  {
   "cell_type": "markdown",
   "metadata": {},
   "source": [
    "## Общий вывод"
   ]
  },
  {
   "cell_type": "markdown",
   "metadata": {},
   "source": [
    "<div style=\"border: ridge black 3px; padding: 25px\">\n",
    "\n",
    "<b>В результате анализа установлено:</b><br>\n",
    "    \n",
    "1. Количество книг, вышедших после 1 Января 2000 года: 821 книга.<br>\n",
    "    \n",
    "    \n",
    "2. 1) Из ТОП-10 книг по количеству обзоров 9 книг получили по 6 обзоров, и только 1 книга-лидера получила 7 обзоров: \"Twilight (Twilight #1)\".<br>\n",
    "   2) Средний рейтинг книг (из ТОП-10 книг по количеству обзоров колеблется) колеблется от 3.4 до 4.4 баллов.<br>\n",
    "    \n",
    "    \n",
    "3. Издательство, выпустившее наибольшее число книг  (книги с более, чем с 50 стр.): \"Penguin Books\"(42 книги).<br>\n",
    "    На 2 месте издательство \"Vintage\" (31 книга) и на 3 месте - \"Grand Central Publishing\" (25 книг).<br>\n",
    "    \n",
    "    \n",
    "4. Автор с самой высокой средней оценкой книг (книги с 50 и более оценками): J.K. Rowling/Mary GrandPré - 4.28 балла.<br>\n",
    "    \n",
    "    \n",
    "5. Среднее количество обзоров от пользователей (поставивших более 50 оценок): 24.3.<br>\n",
    "\n",
    "</div>"
   ]
  }
 ],
 "metadata": {
  "ExecuteTimeLog": [
   {
    "duration": 83,
    "start_time": "2021-07-29T19:30:59.854Z"
   },
   {
    "duration": 84,
    "start_time": "2021-07-29T19:31:55.857Z"
   },
   {
    "duration": 784,
    "start_time": "2021-07-29T19:32:04.263Z"
   },
   {
    "duration": 313,
    "start_time": "2021-07-29T19:33:59.643Z"
   },
   {
    "duration": 5,
    "start_time": "2021-07-29T19:34:20.882Z"
   },
   {
    "duration": 3,
    "start_time": "2021-07-29T19:39:40.819Z"
   },
   {
    "duration": 3,
    "start_time": "2021-07-29T19:50:35.573Z"
   },
   {
    "duration": 391,
    "start_time": "2021-07-29T19:51:10.190Z"
   },
   {
    "duration": 149,
    "start_time": "2021-07-29T19:51:25.489Z"
   },
   {
    "duration": 367,
    "start_time": "2021-07-29T19:52:37.481Z"
   },
   {
    "duration": 366,
    "start_time": "2021-07-29T19:54:35.327Z"
   },
   {
    "duration": 375,
    "start_time": "2021-07-29T19:54:51.746Z"
   },
   {
    "duration": 374,
    "start_time": "2021-07-29T19:55:11.885Z"
   },
   {
    "duration": 374,
    "start_time": "2021-07-29T19:55:16.793Z"
   },
   {
    "duration": 116,
    "start_time": "2021-07-29T19:55:20.561Z"
   },
   {
    "duration": 375,
    "start_time": "2021-07-29T19:55:27.390Z"
   },
   {
    "duration": 375,
    "start_time": "2021-07-29T19:55:31.701Z"
   },
   {
    "duration": 372,
    "start_time": "2021-07-29T19:55:52.928Z"
   },
   {
    "duration": 3,
    "start_time": "2021-07-29T19:56:21.504Z"
   },
   {
    "duration": 3,
    "start_time": "2021-07-29T19:56:30.944Z"
   },
   {
    "duration": 370,
    "start_time": "2021-07-29T19:56:33.610Z"
   },
   {
    "duration": 558,
    "start_time": "2021-07-29T19:59:21.612Z"
   },
   {
    "duration": 581,
    "start_time": "2021-07-29T19:59:48.518Z"
   },
   {
    "duration": 590,
    "start_time": "2021-07-29T20:01:42.171Z"
   },
   {
    "duration": 568,
    "start_time": "2021-07-29T20:02:03.708Z"
   },
   {
    "duration": 573,
    "start_time": "2021-07-29T20:02:20.207Z"
   },
   {
    "duration": 566,
    "start_time": "2021-07-29T20:02:47.468Z"
   },
   {
    "duration": 74,
    "start_time": "2021-07-29T20:03:03.549Z"
   },
   {
    "duration": 75,
    "start_time": "2021-07-29T20:04:14.641Z"
   },
   {
    "duration": 75,
    "start_time": "2021-07-29T20:04:45.130Z"
   },
   {
    "duration": 74,
    "start_time": "2021-07-29T20:04:48.078Z"
   },
   {
    "duration": 75,
    "start_time": "2021-07-29T20:04:57.692Z"
   },
   {
    "duration": 75,
    "start_time": "2021-07-29T20:15:27.736Z"
   },
   {
    "duration": 569,
    "start_time": "2021-07-29T20:45:10.032Z"
   },
   {
    "duration": 569,
    "start_time": "2021-07-29T20:45:33.456Z"
   },
   {
    "duration": 624,
    "start_time": "2021-07-29T20:45:44.605Z"
   },
   {
    "duration": 24,
    "start_time": "2021-07-29T20:45:45.230Z"
   },
   {
    "duration": 2,
    "start_time": "2021-07-29T20:45:45.256Z"
   },
   {
    "duration": 5,
    "start_time": "2021-07-29T20:45:45.260Z"
   },
   {
    "duration": 526,
    "start_time": "2021-07-29T20:45:45.266Z"
   },
   {
    "duration": 69,
    "start_time": "2021-07-29T20:45:45.793Z"
   },
   {
    "duration": 609,
    "start_time": "2021-07-29T20:45:45.863Z"
   },
   {
    "duration": 102,
    "start_time": "2021-07-29T20:47:18.352Z"
   },
   {
    "duration": 548,
    "start_time": "2021-07-29T20:47:38.108Z"
   },
   {
    "duration": 546,
    "start_time": "2021-07-29T20:48:03.793Z"
   },
   {
    "duration": 541,
    "start_time": "2021-07-29T20:48:25.927Z"
   },
   {
    "duration": 561,
    "start_time": "2021-07-29T20:48:29.829Z"
   },
   {
    "duration": 543,
    "start_time": "2021-07-29T20:50:27.989Z"
   },
   {
    "duration": 656,
    "start_time": "2021-07-29T20:52:00.621Z"
   },
   {
    "duration": 27,
    "start_time": "2021-07-29T20:52:01.278Z"
   },
   {
    "duration": 3,
    "start_time": "2021-07-29T20:52:01.307Z"
   },
   {
    "duration": 15,
    "start_time": "2021-07-29T20:52:01.311Z"
   },
   {
    "duration": 572,
    "start_time": "2021-07-29T20:52:01.328Z"
   },
   {
    "duration": 77,
    "start_time": "2021-07-29T20:52:01.901Z"
   },
   {
    "duration": 1040,
    "start_time": "2021-07-29T20:52:01.980Z"
   },
   {
    "duration": 116,
    "start_time": "2021-07-29T20:53:02.436Z"
   },
   {
    "duration": 126,
    "start_time": "2021-07-29T20:53:27.782Z"
   },
   {
    "duration": 123,
    "start_time": "2021-07-29T20:54:05.023Z"
   },
   {
    "duration": 89,
    "start_time": "2021-07-29T20:55:15.506Z"
   },
   {
    "duration": 647,
    "start_time": "2021-07-30T12:32:37.666Z"
   },
   {
    "duration": 29,
    "start_time": "2021-07-30T12:32:38.315Z"
   },
   {
    "duration": 4,
    "start_time": "2021-07-30T12:32:38.350Z"
   },
   {
    "duration": 6,
    "start_time": "2021-07-30T12:32:38.355Z"
   },
   {
    "duration": 610,
    "start_time": "2021-07-30T12:32:38.363Z"
   },
   {
    "duration": 75,
    "start_time": "2021-07-30T12:32:38.975Z"
   },
   {
    "duration": 96,
    "start_time": "2021-07-30T12:32:39.053Z"
   },
   {
    "duration": 871,
    "start_time": "2021-07-30T16:32:45.798Z"
   },
   {
    "duration": 422,
    "start_time": "2021-07-30T16:32:46.672Z"
   },
   {
    "duration": 4,
    "start_time": "2021-07-30T16:32:47.098Z"
   },
   {
    "duration": 9,
    "start_time": "2021-07-30T16:32:47.105Z"
   },
   {
    "duration": 213,
    "start_time": "2021-07-30T16:32:47.116Z"
   },
   {
    "duration": 12,
    "start_time": "2021-07-30T16:32:47.331Z"
   },
   {
    "duration": 35,
    "start_time": "2021-07-30T16:32:47.345Z"
   },
   {
    "duration": 5,
    "start_time": "2021-07-30T16:32:47.383Z"
   },
   {
    "duration": 99,
    "start_time": "2021-07-30T16:32:47.391Z"
   },
   {
    "duration": -1283,
    "start_time": "2021-07-30T16:32:48.776Z"
   },
   {
    "duration": 726,
    "start_time": "2021-07-30T16:44:11.284Z"
   },
   {
    "duration": 587,
    "start_time": "2021-07-30T16:44:20.581Z"
   },
   {
    "duration": 850,
    "start_time": "2021-07-30T16:44:40.612Z"
   },
   {
    "duration": 57,
    "start_time": "2021-07-30T16:44:41.465Z"
   },
   {
    "duration": 5,
    "start_time": "2021-07-30T16:44:41.525Z"
   },
   {
    "duration": 15,
    "start_time": "2021-07-30T16:44:41.533Z"
   },
   {
    "duration": 124,
    "start_time": "2021-07-30T16:44:41.551Z"
   },
   {
    "duration": 23,
    "start_time": "2021-07-30T16:44:41.679Z"
   },
   {
    "duration": 44,
    "start_time": "2021-07-30T16:44:41.705Z"
   },
   {
    "duration": 718,
    "start_time": "2021-07-30T16:44:41.753Z"
   },
   {
    "duration": -1318,
    "start_time": "2021-07-30T16:44:43.793Z"
   },
   {
    "duration": -1321,
    "start_time": "2021-07-30T16:44:43.798Z"
   },
   {
    "duration": 20,
    "start_time": "2021-07-30T16:45:08.900Z"
   },
   {
    "duration": 4,
    "start_time": "2021-07-30T17:04:54.925Z"
   },
   {
    "duration": 22,
    "start_time": "2021-07-30T17:05:12.750Z"
   },
   {
    "duration": 21,
    "start_time": "2021-07-30T17:05:19.861Z"
   },
   {
    "duration": 24,
    "start_time": "2021-07-30T17:06:10.874Z"
   },
   {
    "duration": 24,
    "start_time": "2021-07-30T17:07:51.329Z"
   },
   {
    "duration": 17,
    "start_time": "2021-07-30T18:17:47.425Z"
   },
   {
    "duration": 19,
    "start_time": "2021-07-30T18:25:52.006Z"
   },
   {
    "duration": 18,
    "start_time": "2021-07-30T18:28:33.716Z"
   },
   {
    "duration": 16,
    "start_time": "2021-07-30T18:32:46.663Z"
   },
   {
    "duration": 17,
    "start_time": "2021-07-30T18:43:54.111Z"
   },
   {
    "duration": 606,
    "start_time": "2021-07-30T19:04:01.224Z"
   },
   {
    "duration": 18,
    "start_time": "2021-07-30T19:04:11.607Z"
   },
   {
    "duration": 816,
    "start_time": "2021-07-30T20:05:47.131Z"
   },
   {
    "duration": 46,
    "start_time": "2021-07-30T20:05:47.951Z"
   },
   {
    "duration": 4,
    "start_time": "2021-07-30T20:05:48.002Z"
   },
   {
    "duration": 9,
    "start_time": "2021-07-30T20:05:48.009Z"
   },
   {
    "duration": 125,
    "start_time": "2021-07-30T20:05:48.021Z"
   },
   {
    "duration": 13,
    "start_time": "2021-07-30T20:05:48.149Z"
   },
   {
    "duration": 56,
    "start_time": "2021-07-30T20:05:48.164Z"
   },
   {
    "duration": 16,
    "start_time": "2021-07-30T20:05:48.223Z"
   },
   {
    "duration": 19,
    "start_time": "2021-07-30T20:05:48.242Z"
   },
   {
    "duration": 25,
    "start_time": "2021-07-30T20:05:48.263Z"
   },
   {
    "duration": 847,
    "start_time": "2021-07-30T20:35:53.558Z"
   },
   {
    "duration": 48,
    "start_time": "2021-07-30T20:35:54.408Z"
   },
   {
    "duration": 4,
    "start_time": "2021-07-30T20:35:54.459Z"
   },
   {
    "duration": 24,
    "start_time": "2021-07-30T20:35:54.466Z"
   },
   {
    "duration": 118,
    "start_time": "2021-07-30T20:35:54.494Z"
   },
   {
    "duration": 13,
    "start_time": "2021-07-30T20:35:54.614Z"
   },
   {
    "duration": 30,
    "start_time": "2021-07-30T20:35:54.629Z"
   },
   {
    "duration": 36,
    "start_time": "2021-07-30T20:35:54.663Z"
   },
   {
    "duration": 21,
    "start_time": "2021-07-30T20:35:54.702Z"
   },
   {
    "duration": 15,
    "start_time": "2021-07-30T20:35:54.725Z"
   },
   {
    "duration": 824,
    "start_time": "2021-07-30T20:36:53.915Z"
   },
   {
    "duration": 55,
    "start_time": "2021-07-30T20:36:54.742Z"
   },
   {
    "duration": 5,
    "start_time": "2021-07-30T20:36:54.801Z"
   },
   {
    "duration": 8,
    "start_time": "2021-07-30T20:36:54.809Z"
   },
   {
    "duration": 111,
    "start_time": "2021-07-30T20:36:54.819Z"
   },
   {
    "duration": 13,
    "start_time": "2021-07-30T20:36:54.932Z"
   },
   {
    "duration": 50,
    "start_time": "2021-07-30T20:36:54.947Z"
   },
   {
    "duration": 23,
    "start_time": "2021-07-30T20:36:55.002Z"
   },
   {
    "duration": 25,
    "start_time": "2021-07-30T20:36:55.029Z"
   },
   {
    "duration": 38,
    "start_time": "2021-07-30T20:36:55.057Z"
   },
   {
    "duration": 830,
    "start_time": "2021-07-30T20:40:24.541Z"
   },
   {
    "duration": 54,
    "start_time": "2021-07-30T20:40:25.375Z"
   },
   {
    "duration": 4,
    "start_time": "2021-07-30T20:40:25.432Z"
   },
   {
    "duration": 7,
    "start_time": "2021-07-30T20:40:25.439Z"
   },
   {
    "duration": 109,
    "start_time": "2021-07-30T20:40:25.448Z"
   },
   {
    "duration": 40,
    "start_time": "2021-07-30T20:40:25.559Z"
   },
   {
    "duration": 31,
    "start_time": "2021-07-30T20:40:25.602Z"
   },
   {
    "duration": 16,
    "start_time": "2021-07-30T20:40:25.636Z"
   },
   {
    "duration": 19,
    "start_time": "2021-07-30T20:40:25.655Z"
   },
   {
    "duration": 30,
    "start_time": "2021-07-30T20:40:25.676Z"
   },
   {
    "duration": 558,
    "start_time": "2021-07-31T09:41:12.852Z"
   },
   {
    "duration": 24,
    "start_time": "2021-07-31T09:41:13.412Z"
   },
   {
    "duration": 3,
    "start_time": "2021-07-31T09:41:13.438Z"
   },
   {
    "duration": 4,
    "start_time": "2021-07-31T09:41:13.443Z"
   },
   {
    "duration": 559,
    "start_time": "2021-07-31T09:41:13.448Z"
   },
   {
    "duration": 72,
    "start_time": "2021-07-31T09:41:14.009Z"
   },
   {
    "duration": 89,
    "start_time": "2021-07-31T09:41:14.083Z"
   },
   {
    "duration": 74,
    "start_time": "2021-07-31T09:41:14.174Z"
   },
   {
    "duration": 78,
    "start_time": "2021-07-31T09:41:14.250Z"
   },
   {
    "duration": 73,
    "start_time": "2021-07-31T09:41:14.330Z"
   },
   {
    "duration": 864,
    "start_time": "2021-07-31T11:33:32.592Z"
   },
   {
    "duration": 53,
    "start_time": "2021-07-31T11:33:33.459Z"
   },
   {
    "duration": 4,
    "start_time": "2021-07-31T11:33:33.515Z"
   },
   {
    "duration": 6,
    "start_time": "2021-07-31T11:33:33.522Z"
   },
   {
    "duration": 463,
    "start_time": "2021-07-31T11:33:33.530Z"
   },
   {
    "duration": 59,
    "start_time": "2021-07-31T11:33:33.997Z"
   },
   {
    "duration": 71,
    "start_time": "2021-07-31T11:33:34.058Z"
   },
   {
    "duration": 64,
    "start_time": "2021-07-31T11:33:34.131Z"
   },
   {
    "duration": 66,
    "start_time": "2021-07-31T11:33:34.199Z"
   },
   {
    "duration": 61,
    "start_time": "2021-07-31T11:33:34.267Z"
   },
   {
    "duration": 72,
    "start_time": "2021-07-31T11:35:34.006Z"
   },
   {
    "duration": 72,
    "start_time": "2021-07-31T11:36:42.248Z"
   },
   {
    "duration": 846,
    "start_time": "2021-07-31T11:43:41.005Z"
   },
   {
    "duration": 54,
    "start_time": "2021-07-31T11:43:41.854Z"
   },
   {
    "duration": 4,
    "start_time": "2021-07-31T11:43:41.911Z"
   },
   {
    "duration": 6,
    "start_time": "2021-07-31T11:43:41.918Z"
   },
   {
    "duration": 414,
    "start_time": "2021-07-31T11:43:41.927Z"
   },
   {
    "duration": 55,
    "start_time": "2021-07-31T11:43:42.343Z"
   },
   {
    "duration": 71,
    "start_time": "2021-07-31T11:43:42.401Z"
   },
   {
    "duration": 58,
    "start_time": "2021-07-31T11:43:42.475Z"
   },
   {
    "duration": 68,
    "start_time": "2021-07-31T11:43:42.536Z"
   },
   {
    "duration": 59,
    "start_time": "2021-07-31T11:43:42.607Z"
   },
   {
    "duration": 843,
    "start_time": "2021-07-31T11:44:25.882Z"
   },
   {
    "duration": 39,
    "start_time": "2021-07-31T11:44:26.727Z"
   },
   {
    "duration": 3,
    "start_time": "2021-07-31T11:44:26.769Z"
   },
   {
    "duration": 6,
    "start_time": "2021-07-31T11:44:26.783Z"
   },
   {
    "duration": 435,
    "start_time": "2021-07-31T11:44:26.792Z"
   },
   {
    "duration": 54,
    "start_time": "2021-07-31T11:44:27.230Z"
   },
   {
    "duration": 67,
    "start_time": "2021-07-31T11:44:27.287Z"
   },
   {
    "duration": 59,
    "start_time": "2021-07-31T11:44:27.356Z"
   },
   {
    "duration": 67,
    "start_time": "2021-07-31T11:44:27.419Z"
   },
   {
    "duration": 59,
    "start_time": "2021-07-31T11:44:27.489Z"
   },
   {
    "duration": 73,
    "start_time": "2021-07-31T11:48:26.852Z"
   },
   {
    "duration": 71,
    "start_time": "2021-07-31T11:48:50.601Z"
   },
   {
    "duration": 67,
    "start_time": "2021-07-31T11:50:10.397Z"
   },
   {
    "duration": 66,
    "start_time": "2021-07-31T11:50:26.809Z"
   },
   {
    "duration": 72,
    "start_time": "2021-07-31T11:50:32.685Z"
   },
   {
    "duration": 71,
    "start_time": "2021-07-31T11:51:11.032Z"
   },
   {
    "duration": 811,
    "start_time": "2021-07-31T11:51:37.208Z"
   },
   {
    "duration": 39,
    "start_time": "2021-07-31T11:51:38.021Z"
   },
   {
    "duration": 3,
    "start_time": "2021-07-31T11:51:38.063Z"
   },
   {
    "duration": 13,
    "start_time": "2021-07-31T11:51:38.068Z"
   },
   {
    "duration": 422,
    "start_time": "2021-07-31T11:51:38.086Z"
   },
   {
    "duration": 55,
    "start_time": "2021-07-31T11:51:38.510Z"
   },
   {
    "duration": 68,
    "start_time": "2021-07-31T11:51:38.567Z"
   },
   {
    "duration": 60,
    "start_time": "2021-07-31T11:51:38.639Z"
   },
   {
    "duration": 60,
    "start_time": "2021-07-31T11:51:38.701Z"
   },
   {
    "duration": 56,
    "start_time": "2021-07-31T11:51:38.764Z"
   },
   {
    "duration": 898,
    "start_time": "2021-07-31T12:00:00.968Z"
   },
   {
    "duration": 53,
    "start_time": "2021-07-31T12:00:01.868Z"
   },
   {
    "duration": 4,
    "start_time": "2021-07-31T12:00:01.924Z"
   },
   {
    "duration": 15,
    "start_time": "2021-07-31T12:00:01.930Z"
   },
   {
    "duration": 452,
    "start_time": "2021-07-31T12:00:01.947Z"
   },
   {
    "duration": 55,
    "start_time": "2021-07-31T12:00:02.402Z"
   },
   {
    "duration": 68,
    "start_time": "2021-07-31T12:00:02.460Z"
   },
   {
    "duration": 61,
    "start_time": "2021-07-31T12:00:02.531Z"
   },
   {
    "duration": 67,
    "start_time": "2021-07-31T12:00:02.594Z"
   },
   {
    "duration": 64,
    "start_time": "2021-07-31T12:00:02.663Z"
   },
   {
    "duration": 68,
    "start_time": "2021-07-31T12:03:52.775Z"
   },
   {
    "duration": 69,
    "start_time": "2021-07-31T12:07:34.599Z"
   },
   {
    "duration": 846,
    "start_time": "2021-07-31T12:11:41.822Z"
   },
   {
    "duration": 64,
    "start_time": "2021-07-31T12:11:42.672Z"
   },
   {
    "duration": 4,
    "start_time": "2021-07-31T12:11:42.739Z"
   },
   {
    "duration": 8,
    "start_time": "2021-07-31T12:11:42.746Z"
   },
   {
    "duration": 461,
    "start_time": "2021-07-31T12:11:42.757Z"
   },
   {
    "duration": 62,
    "start_time": "2021-07-31T12:11:43.222Z"
   },
   {
    "duration": 76,
    "start_time": "2021-07-31T12:11:43.288Z"
   },
   {
    "duration": 63,
    "start_time": "2021-07-31T12:11:43.367Z"
   },
   {
    "duration": 66,
    "start_time": "2021-07-31T12:11:43.434Z"
   },
   {
    "duration": 62,
    "start_time": "2021-07-31T12:11:43.503Z"
   },
   {
    "duration": 854,
    "start_time": "2021-08-01T04:31:08.650Z"
   },
   {
    "duration": 39,
    "start_time": "2021-08-01T04:31:09.507Z"
   },
   {
    "duration": 4,
    "start_time": "2021-08-01T04:31:09.549Z"
   },
   {
    "duration": 4,
    "start_time": "2021-08-01T04:31:09.567Z"
   },
   {
    "duration": 478,
    "start_time": "2021-08-01T04:31:09.573Z"
   },
   {
    "duration": 61,
    "start_time": "2021-08-01T04:31:10.053Z"
   },
   {
    "duration": 80,
    "start_time": "2021-08-01T04:31:10.117Z"
   },
   {
    "duration": 63,
    "start_time": "2021-08-01T04:31:10.200Z"
   },
   {
    "duration": 68,
    "start_time": "2021-08-01T04:31:10.265Z"
   },
   {
    "duration": 62,
    "start_time": "2021-08-01T04:31:10.335Z"
   },
   {
    "duration": 894,
    "start_time": "2021-08-07T13:35:08.292Z"
   },
   {
    "duration": 50,
    "start_time": "2021-08-07T13:35:09.190Z"
   },
   {
    "duration": 5,
    "start_time": "2021-08-07T13:35:09.243Z"
   },
   {
    "duration": 7,
    "start_time": "2021-08-07T13:35:09.251Z"
   },
   {
    "duration": 459,
    "start_time": "2021-08-07T13:35:09.260Z"
   },
   {
    "duration": 54,
    "start_time": "2021-08-07T13:35:09.721Z"
   },
   {
    "duration": 71,
    "start_time": "2021-08-07T13:35:09.778Z"
   },
   {
    "duration": 69,
    "start_time": "2021-08-07T13:35:09.852Z"
   },
   {
    "duration": 69,
    "start_time": "2021-08-07T13:35:09.925Z"
   },
   {
    "duration": 58,
    "start_time": "2021-08-07T13:35:09.997Z"
   },
   {
    "duration": 969,
    "start_time": "2021-08-09T18:37:50.989Z"
   },
   {
    "duration": 47,
    "start_time": "2021-08-09T18:37:51.961Z"
   },
   {
    "duration": 4,
    "start_time": "2021-08-09T18:37:52.011Z"
   },
   {
    "duration": 6,
    "start_time": "2021-08-09T18:37:52.018Z"
   },
   {
    "duration": 460,
    "start_time": "2021-08-09T18:37:52.026Z"
   },
   {
    "duration": 60,
    "start_time": "2021-08-09T18:37:52.490Z"
   },
   {
    "duration": 88,
    "start_time": "2021-08-09T18:37:52.552Z"
   },
   {
    "duration": 64,
    "start_time": "2021-08-09T18:37:52.643Z"
   },
   {
    "duration": 75,
    "start_time": "2021-08-09T18:37:52.711Z"
   },
   {
    "duration": 62,
    "start_time": "2021-08-09T18:37:52.789Z"
   },
   {
    "duration": 828,
    "start_time": "2021-08-09T18:44:11.024Z"
   },
   {
    "duration": 49,
    "start_time": "2021-08-09T18:44:11.855Z"
   },
   {
    "duration": 3,
    "start_time": "2021-08-09T18:44:11.907Z"
   },
   {
    "duration": 9,
    "start_time": "2021-08-09T18:44:11.913Z"
   },
   {
    "duration": 454,
    "start_time": "2021-08-09T18:44:11.925Z"
   },
   {
    "duration": 69,
    "start_time": "2021-08-09T18:44:12.382Z"
   },
   {
    "duration": 81,
    "start_time": "2021-08-09T18:44:12.453Z"
   },
   {
    "duration": 62,
    "start_time": "2021-08-09T18:44:12.537Z"
   },
   {
    "duration": 65,
    "start_time": "2021-08-09T18:44:12.602Z"
   },
   {
    "duration": 63,
    "start_time": "2021-08-09T18:44:12.670Z"
   },
   {
    "duration": 862,
    "start_time": "2021-08-09T18:48:03.875Z"
   },
   {
    "duration": 39,
    "start_time": "2021-08-09T18:48:04.740Z"
   },
   {
    "duration": 8,
    "start_time": "2021-08-09T18:48:04.782Z"
   },
   {
    "duration": 12,
    "start_time": "2021-08-09T18:48:04.794Z"
   },
   {
    "duration": 458,
    "start_time": "2021-08-09T18:48:04.808Z"
   },
   {
    "duration": 59,
    "start_time": "2021-08-09T18:48:05.268Z"
   },
   {
    "duration": 73,
    "start_time": "2021-08-09T18:48:05.329Z"
   },
   {
    "duration": 61,
    "start_time": "2021-08-09T18:48:05.406Z"
   },
   {
    "duration": 66,
    "start_time": "2021-08-09T18:48:05.469Z"
   },
   {
    "duration": 61,
    "start_time": "2021-08-09T18:48:05.537Z"
   }
  ],
  "kernelspec": {
   "display_name": "Python 3",
   "language": "python",
   "name": "python3"
  },
  "language_info": {
   "codemirror_mode": {
    "name": "ipython",
    "version": 3
   },
   "file_extension": ".py",
   "mimetype": "text/x-python",
   "name": "python",
   "nbconvert_exporter": "python",
   "pygments_lexer": "ipython3",
   "version": "3.7.8"
  },
  "toc": {
   "base_numbering": 1,
   "nav_menu": {},
   "number_sections": true,
   "sideBar": true,
   "skip_h1_title": true,
   "title_cell": "Table of Contents",
   "title_sidebar": "Contents",
   "toc_cell": false,
   "toc_position": {
    "height": "calc(100% - 180px)",
    "left": "10px",
    "top": "150px",
    "width": "355.825px"
   },
   "toc_section_display": true,
   "toc_window_display": true
  }
 },
 "nbformat": 4,
 "nbformat_minor": 2
}
