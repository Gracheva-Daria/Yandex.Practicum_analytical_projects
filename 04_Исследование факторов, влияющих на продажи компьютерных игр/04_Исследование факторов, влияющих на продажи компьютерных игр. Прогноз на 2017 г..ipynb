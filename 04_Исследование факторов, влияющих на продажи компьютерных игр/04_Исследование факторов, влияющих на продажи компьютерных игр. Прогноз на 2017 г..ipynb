{
 "cells": [
  {
   "cell_type": "markdown",
   "metadata": {},
   "source": [
    "# \"Исследование факторов, влияющих на продажи компьютерных игр. Прогноз на 2017 г.\" <a class=\"tocSkip\">"
   ]
  },
  {
   "cell_type": "markdown",
   "metadata": {},
   "source": [
    "## Цель исследования\n",
    "<div style=\"border: ridge black 3px; padding: 25px\">\n",
    "<b>Целью данного исследования является изучение и выявление факторов, влияющих на успешность (высокие продажи) компьютерных игр</b>, которые смогут помочь руководству интернет-магазина компьютерных игр \"Стримчик\" (продажи по всему миру), выявить потенциально популярный продукт на 2017 г. и спланировать рекламные кампании.<br><br>\n",
    "    \n",
    "Для исследования у нас имеются данные из открытых источников (до 2016 г.) о продажах игр, оценках пользователей, экспертов, о жанрах и платформах.<br><br>\n",
    "    \n",
    "Мы произведем предобработку исходного датафрейма, проведем исследовательский анализ, изучим предпочтения пользователей по регионам, проверим гипотезы и в конце исследования сформулируем общий вывод.\n",
    "    \n",
    "</div>"
   ]
  },
  {
   "cell_type": "markdown",
   "metadata": {},
   "source": [
    "## Описание исходных данных\n",
    "**Ниже представлено описание всей доступной нам информации по исходному датафрейму:**\n",
    "\n",
    "Путь к файлу: /datasets/games.csv\n",
    "- Name — название игры\n",
    "- Platform — платформа\n",
    "- Year_of_Release — год выпуска\n",
    "- Genre — жанр игры\n",
    "- NA_sales — продажи в Северной Америке (миллионы проданных копий)\n",
    "- EU_sales — продажи в Европе (миллионы проданных копий)\n",
    "- JP_sales — продажи в Японии (миллионы проданных копий)\n",
    "- Other_sales — продажи в других странах (миллионы проданных копий)\n",
    "- Critic_Score — оценка критиков (максимум 100)\n",
    "- User_Score — оценка пользователей (максимум 10)\n",
    "- Rating — рейтинг от организации ESRB (англ. Entertainment Software Rating Board). Эта ассоциация определяет рейтинг компьютерных игр и присваивает им подходящую возрастную категорию.\n",
    "\n",
    "**Примечание:** данные за 2016 год могут быть неполными.\n"
   ]
  },
  {
   "cell_type": "markdown",
   "metadata": {},
   "source": [
    "**Первое, что нам следует сразу изменить после открытия данных - привести в единый регистр наименования столбцов. А также скорректируем некоторые названия столбцов до более точной формулировки, дополнив их.**"
   ]
  },
  {
   "cell_type": "markdown",
   "metadata": {},
   "source": [
    "## Открытие данных"
   ]
  },
  {
   "cell_type": "code",
   "execution_count": 1,
   "metadata": {},
   "outputs": [],
   "source": [
    "# сразу на данном этапе импортируем основные нужные библиотеки для будущих манипуляций\n",
    "\n",
    "import pandas as pd\n",
    "import numpy as np\n",
    "import seaborn as sns\n",
    "from matplotlib import pyplot as plt\n",
    "from scipy import stats as st"
   ]
  },
  {
   "cell_type": "code",
   "execution_count": 2,
   "metadata": {},
   "outputs": [],
   "source": [
    "games_data = pd.read_csv('/datasets/games.csv')"
   ]
  },
  {
   "cell_type": "code",
   "execution_count": 3,
   "metadata": {},
   "outputs": [],
   "source": [
    "# приводим названия столбцов к одному регистру и переименуем некоторые из столбцов \n",
    "\n",
    "games_data.columns = games_data.columns.str.lower()\n",
    "games_data = games_data.rename({'name': 'game_name', 'platform': 'game_platform', 'genre': 'game_genre', \\\n",
    "                                'critic_score': 'critic_rating', 'user_score': 'user_rating', 'rating': 'esrb_rating'}, \\\n",
    "                                axis = 'columns')"
   ]
  },
  {
   "cell_type": "markdown",
   "metadata": {},
   "source": [
    "Откроем теперь таблицу: выведем первые 15 строк для ознакомления с содержимым, выведем общую информацию."
   ]
  },
  {
   "cell_type": "code",
   "execution_count": 4,
   "metadata": {},
   "outputs": [
    {
     "data": {
      "text/html": [
       "<div>\n",
       "<style scoped>\n",
       "    .dataframe tbody tr th:only-of-type {\n",
       "        vertical-align: middle;\n",
       "    }\n",
       "\n",
       "    .dataframe tbody tr th {\n",
       "        vertical-align: top;\n",
       "    }\n",
       "\n",
       "    .dataframe thead th {\n",
       "        text-align: right;\n",
       "    }\n",
       "</style>\n",
       "<table border=\"1\" class=\"dataframe\">\n",
       "  <thead>\n",
       "    <tr style=\"text-align: right;\">\n",
       "      <th></th>\n",
       "      <th>game_name</th>\n",
       "      <th>game_platform</th>\n",
       "      <th>year_of_release</th>\n",
       "      <th>game_genre</th>\n",
       "      <th>na_sales</th>\n",
       "      <th>eu_sales</th>\n",
       "      <th>jp_sales</th>\n",
       "      <th>other_sales</th>\n",
       "      <th>critic_rating</th>\n",
       "      <th>user_rating</th>\n",
       "      <th>esrb_rating</th>\n",
       "    </tr>\n",
       "  </thead>\n",
       "  <tbody>\n",
       "    <tr>\n",
       "      <td>0</td>\n",
       "      <td>Wii Sports</td>\n",
       "      <td>Wii</td>\n",
       "      <td>2006.0</td>\n",
       "      <td>Sports</td>\n",
       "      <td>41.36</td>\n",
       "      <td>28.96</td>\n",
       "      <td>3.77</td>\n",
       "      <td>8.45</td>\n",
       "      <td>76.0</td>\n",
       "      <td>8</td>\n",
       "      <td>E</td>\n",
       "    </tr>\n",
       "    <tr>\n",
       "      <td>1</td>\n",
       "      <td>Super Mario Bros.</td>\n",
       "      <td>NES</td>\n",
       "      <td>1985.0</td>\n",
       "      <td>Platform</td>\n",
       "      <td>29.08</td>\n",
       "      <td>3.58</td>\n",
       "      <td>6.81</td>\n",
       "      <td>0.77</td>\n",
       "      <td>NaN</td>\n",
       "      <td>NaN</td>\n",
       "      <td>NaN</td>\n",
       "    </tr>\n",
       "    <tr>\n",
       "      <td>2</td>\n",
       "      <td>Mario Kart Wii</td>\n",
       "      <td>Wii</td>\n",
       "      <td>2008.0</td>\n",
       "      <td>Racing</td>\n",
       "      <td>15.68</td>\n",
       "      <td>12.76</td>\n",
       "      <td>3.79</td>\n",
       "      <td>3.29</td>\n",
       "      <td>82.0</td>\n",
       "      <td>8.3</td>\n",
       "      <td>E</td>\n",
       "    </tr>\n",
       "    <tr>\n",
       "      <td>3</td>\n",
       "      <td>Wii Sports Resort</td>\n",
       "      <td>Wii</td>\n",
       "      <td>2009.0</td>\n",
       "      <td>Sports</td>\n",
       "      <td>15.61</td>\n",
       "      <td>10.93</td>\n",
       "      <td>3.28</td>\n",
       "      <td>2.95</td>\n",
       "      <td>80.0</td>\n",
       "      <td>8</td>\n",
       "      <td>E</td>\n",
       "    </tr>\n",
       "    <tr>\n",
       "      <td>4</td>\n",
       "      <td>Pokemon Red/Pokemon Blue</td>\n",
       "      <td>GB</td>\n",
       "      <td>1996.0</td>\n",
       "      <td>Role-Playing</td>\n",
       "      <td>11.27</td>\n",
       "      <td>8.89</td>\n",
       "      <td>10.22</td>\n",
       "      <td>1.00</td>\n",
       "      <td>NaN</td>\n",
       "      <td>NaN</td>\n",
       "      <td>NaN</td>\n",
       "    </tr>\n",
       "    <tr>\n",
       "      <td>5</td>\n",
       "      <td>Tetris</td>\n",
       "      <td>GB</td>\n",
       "      <td>1989.0</td>\n",
       "      <td>Puzzle</td>\n",
       "      <td>23.20</td>\n",
       "      <td>2.26</td>\n",
       "      <td>4.22</td>\n",
       "      <td>0.58</td>\n",
       "      <td>NaN</td>\n",
       "      <td>NaN</td>\n",
       "      <td>NaN</td>\n",
       "    </tr>\n",
       "    <tr>\n",
       "      <td>6</td>\n",
       "      <td>New Super Mario Bros.</td>\n",
       "      <td>DS</td>\n",
       "      <td>2006.0</td>\n",
       "      <td>Platform</td>\n",
       "      <td>11.28</td>\n",
       "      <td>9.14</td>\n",
       "      <td>6.50</td>\n",
       "      <td>2.88</td>\n",
       "      <td>89.0</td>\n",
       "      <td>8.5</td>\n",
       "      <td>E</td>\n",
       "    </tr>\n",
       "    <tr>\n",
       "      <td>7</td>\n",
       "      <td>Wii Play</td>\n",
       "      <td>Wii</td>\n",
       "      <td>2006.0</td>\n",
       "      <td>Misc</td>\n",
       "      <td>13.96</td>\n",
       "      <td>9.18</td>\n",
       "      <td>2.93</td>\n",
       "      <td>2.84</td>\n",
       "      <td>58.0</td>\n",
       "      <td>6.6</td>\n",
       "      <td>E</td>\n",
       "    </tr>\n",
       "    <tr>\n",
       "      <td>8</td>\n",
       "      <td>New Super Mario Bros. Wii</td>\n",
       "      <td>Wii</td>\n",
       "      <td>2009.0</td>\n",
       "      <td>Platform</td>\n",
       "      <td>14.44</td>\n",
       "      <td>6.94</td>\n",
       "      <td>4.70</td>\n",
       "      <td>2.24</td>\n",
       "      <td>87.0</td>\n",
       "      <td>8.4</td>\n",
       "      <td>E</td>\n",
       "    </tr>\n",
       "    <tr>\n",
       "      <td>9</td>\n",
       "      <td>Duck Hunt</td>\n",
       "      <td>NES</td>\n",
       "      <td>1984.0</td>\n",
       "      <td>Shooter</td>\n",
       "      <td>26.93</td>\n",
       "      <td>0.63</td>\n",
       "      <td>0.28</td>\n",
       "      <td>0.47</td>\n",
       "      <td>NaN</td>\n",
       "      <td>NaN</td>\n",
       "      <td>NaN</td>\n",
       "    </tr>\n",
       "    <tr>\n",
       "      <td>10</td>\n",
       "      <td>Nintendogs</td>\n",
       "      <td>DS</td>\n",
       "      <td>2005.0</td>\n",
       "      <td>Simulation</td>\n",
       "      <td>9.05</td>\n",
       "      <td>10.95</td>\n",
       "      <td>1.93</td>\n",
       "      <td>2.74</td>\n",
       "      <td>NaN</td>\n",
       "      <td>NaN</td>\n",
       "      <td>NaN</td>\n",
       "    </tr>\n",
       "    <tr>\n",
       "      <td>11</td>\n",
       "      <td>Mario Kart DS</td>\n",
       "      <td>DS</td>\n",
       "      <td>2005.0</td>\n",
       "      <td>Racing</td>\n",
       "      <td>9.71</td>\n",
       "      <td>7.47</td>\n",
       "      <td>4.13</td>\n",
       "      <td>1.90</td>\n",
       "      <td>91.0</td>\n",
       "      <td>8.6</td>\n",
       "      <td>E</td>\n",
       "    </tr>\n",
       "    <tr>\n",
       "      <td>12</td>\n",
       "      <td>Pokemon Gold/Pokemon Silver</td>\n",
       "      <td>GB</td>\n",
       "      <td>1999.0</td>\n",
       "      <td>Role-Playing</td>\n",
       "      <td>9.00</td>\n",
       "      <td>6.18</td>\n",
       "      <td>7.20</td>\n",
       "      <td>0.71</td>\n",
       "      <td>NaN</td>\n",
       "      <td>NaN</td>\n",
       "      <td>NaN</td>\n",
       "    </tr>\n",
       "    <tr>\n",
       "      <td>13</td>\n",
       "      <td>Wii Fit</td>\n",
       "      <td>Wii</td>\n",
       "      <td>2007.0</td>\n",
       "      <td>Sports</td>\n",
       "      <td>8.92</td>\n",
       "      <td>8.03</td>\n",
       "      <td>3.60</td>\n",
       "      <td>2.15</td>\n",
       "      <td>80.0</td>\n",
       "      <td>7.7</td>\n",
       "      <td>E</td>\n",
       "    </tr>\n",
       "    <tr>\n",
       "      <td>14</td>\n",
       "      <td>Kinect Adventures!</td>\n",
       "      <td>X360</td>\n",
       "      <td>2010.0</td>\n",
       "      <td>Misc</td>\n",
       "      <td>15.00</td>\n",
       "      <td>4.89</td>\n",
       "      <td>0.24</td>\n",
       "      <td>1.69</td>\n",
       "      <td>61.0</td>\n",
       "      <td>6.3</td>\n",
       "      <td>E</td>\n",
       "    </tr>\n",
       "  </tbody>\n",
       "</table>\n",
       "</div>"
      ],
      "text/plain": [
       "                      game_name game_platform  year_of_release    game_genre  \\\n",
       "0                    Wii Sports           Wii           2006.0        Sports   \n",
       "1             Super Mario Bros.           NES           1985.0      Platform   \n",
       "2                Mario Kart Wii           Wii           2008.0        Racing   \n",
       "3             Wii Sports Resort           Wii           2009.0        Sports   \n",
       "4      Pokemon Red/Pokemon Blue            GB           1996.0  Role-Playing   \n",
       "5                        Tetris            GB           1989.0        Puzzle   \n",
       "6         New Super Mario Bros.            DS           2006.0      Platform   \n",
       "7                      Wii Play           Wii           2006.0          Misc   \n",
       "8     New Super Mario Bros. Wii           Wii           2009.0      Platform   \n",
       "9                     Duck Hunt           NES           1984.0       Shooter   \n",
       "10                   Nintendogs            DS           2005.0    Simulation   \n",
       "11                Mario Kart DS            DS           2005.0        Racing   \n",
       "12  Pokemon Gold/Pokemon Silver            GB           1999.0  Role-Playing   \n",
       "13                      Wii Fit           Wii           2007.0        Sports   \n",
       "14           Kinect Adventures!          X360           2010.0          Misc   \n",
       "\n",
       "    na_sales  eu_sales  jp_sales  other_sales  critic_rating user_rating  \\\n",
       "0      41.36     28.96      3.77         8.45           76.0           8   \n",
       "1      29.08      3.58      6.81         0.77            NaN         NaN   \n",
       "2      15.68     12.76      3.79         3.29           82.0         8.3   \n",
       "3      15.61     10.93      3.28         2.95           80.0           8   \n",
       "4      11.27      8.89     10.22         1.00            NaN         NaN   \n",
       "5      23.20      2.26      4.22         0.58            NaN         NaN   \n",
       "6      11.28      9.14      6.50         2.88           89.0         8.5   \n",
       "7      13.96      9.18      2.93         2.84           58.0         6.6   \n",
       "8      14.44      6.94      4.70         2.24           87.0         8.4   \n",
       "9      26.93      0.63      0.28         0.47            NaN         NaN   \n",
       "10      9.05     10.95      1.93         2.74            NaN         NaN   \n",
       "11      9.71      7.47      4.13         1.90           91.0         8.6   \n",
       "12      9.00      6.18      7.20         0.71            NaN         NaN   \n",
       "13      8.92      8.03      3.60         2.15           80.0         7.7   \n",
       "14     15.00      4.89      0.24         1.69           61.0         6.3   \n",
       "\n",
       "   esrb_rating  \n",
       "0            E  \n",
       "1          NaN  \n",
       "2            E  \n",
       "3            E  \n",
       "4          NaN  \n",
       "5          NaN  \n",
       "6            E  \n",
       "7            E  \n",
       "8            E  \n",
       "9          NaN  \n",
       "10         NaN  \n",
       "11           E  \n",
       "12         NaN  \n",
       "13           E  \n",
       "14           E  "
      ]
     },
     "metadata": {},
     "output_type": "display_data"
    },
    {
     "name": "stdout",
     "output_type": "stream",
     "text": [
      "<class 'pandas.core.frame.DataFrame'>\n",
      "RangeIndex: 16715 entries, 0 to 16714\n",
      "Data columns (total 11 columns):\n",
      "game_name          16713 non-null object\n",
      "game_platform      16715 non-null object\n",
      "year_of_release    16446 non-null float64\n",
      "game_genre         16713 non-null object\n",
      "na_sales           16715 non-null float64\n",
      "eu_sales           16715 non-null float64\n",
      "jp_sales           16715 non-null float64\n",
      "other_sales        16715 non-null float64\n",
      "critic_rating      8137 non-null float64\n",
      "user_rating        10014 non-null object\n",
      "esrb_rating        9949 non-null object\n",
      "dtypes: float64(6), object(5)\n",
      "memory usage: 1.4+ MB\n"
     ]
    },
    {
     "data": {
      "text/plain": [
       "None"
      ]
     },
     "metadata": {},
     "output_type": "display_data"
    }
   ],
   "source": [
    "display(games_data.head(15))\n",
    "display(games_data.info())"
   ]
  },
  {
   "cell_type": "markdown",
   "metadata": {},
   "source": [
    "Посмотрим на пропуски, их количество с указанием %. Создадим функцию."
   ]
  },
  {
   "cell_type": "code",
   "execution_count": 5,
   "metadata": {},
   "outputs": [],
   "source": [
    "def show_nan(df):\n",
    "    '''\n",
    "    Функция для просмотра кол-ва пропусков и % пропусков по конкретному датафрейму df\n",
    "    '''\n",
    "    nan_report = pd.DataFrame([df.isna().sum(), df.isna().count(), df.isna().mean()]).T\n",
    "    nan_report.columns = ['Кол-во пропусков', 'Всего', '% пропусков']\n",
    "    nan_report = nan_report \\\n",
    "    .sort_values(by = 'Кол-во пропусков', ascending = False) \\\n",
    "    .style.format({'Количество пропусков': '{:.0f}', 'Всего': '{:.0f}', '% пропусков': '{:.2%}'})\n",
    "    print('------------------------------------------------')\n",
    "    print('Таблица \"Информация о пропусках\"')\n",
    "    display(nan_report)"
   ]
  },
  {
   "cell_type": "code",
   "execution_count": 6,
   "metadata": {},
   "outputs": [
    {
     "name": "stdout",
     "output_type": "stream",
     "text": [
      "------------------------------------------------\n",
      "Таблица \"Информация о пропусках\"\n"
     ]
    },
    {
     "data": {
      "text/html": [
       "<style  type=\"text/css\" >\n",
       "</style><table id=\"T_d2912ba0_faa1_11eb_aa15_02420a399e82\" ><thead>    <tr>        <th class=\"blank level0\" ></th>        <th class=\"col_heading level0 col0\" >Кол-во пропусков</th>        <th class=\"col_heading level0 col1\" >Всего</th>        <th class=\"col_heading level0 col2\" >% пропусков</th>    </tr></thead><tbody>\n",
       "                <tr>\n",
       "                        <th id=\"T_d2912ba0_faa1_11eb_aa15_02420a399e82level0_row0\" class=\"row_heading level0 row0\" >critic_rating</th>\n",
       "                        <td id=\"T_d2912ba0_faa1_11eb_aa15_02420a399e82row0_col0\" class=\"data row0 col0\" >8578</td>\n",
       "                        <td id=\"T_d2912ba0_faa1_11eb_aa15_02420a399e82row0_col1\" class=\"data row0 col1\" >16715</td>\n",
       "                        <td id=\"T_d2912ba0_faa1_11eb_aa15_02420a399e82row0_col2\" class=\"data row0 col2\" >51.32%</td>\n",
       "            </tr>\n",
       "            <tr>\n",
       "                        <th id=\"T_d2912ba0_faa1_11eb_aa15_02420a399e82level0_row1\" class=\"row_heading level0 row1\" >esrb_rating</th>\n",
       "                        <td id=\"T_d2912ba0_faa1_11eb_aa15_02420a399e82row1_col0\" class=\"data row1 col0\" >6766</td>\n",
       "                        <td id=\"T_d2912ba0_faa1_11eb_aa15_02420a399e82row1_col1\" class=\"data row1 col1\" >16715</td>\n",
       "                        <td id=\"T_d2912ba0_faa1_11eb_aa15_02420a399e82row1_col2\" class=\"data row1 col2\" >40.48%</td>\n",
       "            </tr>\n",
       "            <tr>\n",
       "                        <th id=\"T_d2912ba0_faa1_11eb_aa15_02420a399e82level0_row2\" class=\"row_heading level0 row2\" >user_rating</th>\n",
       "                        <td id=\"T_d2912ba0_faa1_11eb_aa15_02420a399e82row2_col0\" class=\"data row2 col0\" >6701</td>\n",
       "                        <td id=\"T_d2912ba0_faa1_11eb_aa15_02420a399e82row2_col1\" class=\"data row2 col1\" >16715</td>\n",
       "                        <td id=\"T_d2912ba0_faa1_11eb_aa15_02420a399e82row2_col2\" class=\"data row2 col2\" >40.09%</td>\n",
       "            </tr>\n",
       "            <tr>\n",
       "                        <th id=\"T_d2912ba0_faa1_11eb_aa15_02420a399e82level0_row3\" class=\"row_heading level0 row3\" >year_of_release</th>\n",
       "                        <td id=\"T_d2912ba0_faa1_11eb_aa15_02420a399e82row3_col0\" class=\"data row3 col0\" >269</td>\n",
       "                        <td id=\"T_d2912ba0_faa1_11eb_aa15_02420a399e82row3_col1\" class=\"data row3 col1\" >16715</td>\n",
       "                        <td id=\"T_d2912ba0_faa1_11eb_aa15_02420a399e82row3_col2\" class=\"data row3 col2\" >1.61%</td>\n",
       "            </tr>\n",
       "            <tr>\n",
       "                        <th id=\"T_d2912ba0_faa1_11eb_aa15_02420a399e82level0_row4\" class=\"row_heading level0 row4\" >game_name</th>\n",
       "                        <td id=\"T_d2912ba0_faa1_11eb_aa15_02420a399e82row4_col0\" class=\"data row4 col0\" >2</td>\n",
       "                        <td id=\"T_d2912ba0_faa1_11eb_aa15_02420a399e82row4_col1\" class=\"data row4 col1\" >16715</td>\n",
       "                        <td id=\"T_d2912ba0_faa1_11eb_aa15_02420a399e82row4_col2\" class=\"data row4 col2\" >0.01%</td>\n",
       "            </tr>\n",
       "            <tr>\n",
       "                        <th id=\"T_d2912ba0_faa1_11eb_aa15_02420a399e82level0_row5\" class=\"row_heading level0 row5\" >game_genre</th>\n",
       "                        <td id=\"T_d2912ba0_faa1_11eb_aa15_02420a399e82row5_col0\" class=\"data row5 col0\" >2</td>\n",
       "                        <td id=\"T_d2912ba0_faa1_11eb_aa15_02420a399e82row5_col1\" class=\"data row5 col1\" >16715</td>\n",
       "                        <td id=\"T_d2912ba0_faa1_11eb_aa15_02420a399e82row5_col2\" class=\"data row5 col2\" >0.01%</td>\n",
       "            </tr>\n",
       "            <tr>\n",
       "                        <th id=\"T_d2912ba0_faa1_11eb_aa15_02420a399e82level0_row6\" class=\"row_heading level0 row6\" >game_platform</th>\n",
       "                        <td id=\"T_d2912ba0_faa1_11eb_aa15_02420a399e82row6_col0\" class=\"data row6 col0\" >0</td>\n",
       "                        <td id=\"T_d2912ba0_faa1_11eb_aa15_02420a399e82row6_col1\" class=\"data row6 col1\" >16715</td>\n",
       "                        <td id=\"T_d2912ba0_faa1_11eb_aa15_02420a399e82row6_col2\" class=\"data row6 col2\" >0.00%</td>\n",
       "            </tr>\n",
       "            <tr>\n",
       "                        <th id=\"T_d2912ba0_faa1_11eb_aa15_02420a399e82level0_row7\" class=\"row_heading level0 row7\" >na_sales</th>\n",
       "                        <td id=\"T_d2912ba0_faa1_11eb_aa15_02420a399e82row7_col0\" class=\"data row7 col0\" >0</td>\n",
       "                        <td id=\"T_d2912ba0_faa1_11eb_aa15_02420a399e82row7_col1\" class=\"data row7 col1\" >16715</td>\n",
       "                        <td id=\"T_d2912ba0_faa1_11eb_aa15_02420a399e82row7_col2\" class=\"data row7 col2\" >0.00%</td>\n",
       "            </tr>\n",
       "            <tr>\n",
       "                        <th id=\"T_d2912ba0_faa1_11eb_aa15_02420a399e82level0_row8\" class=\"row_heading level0 row8\" >eu_sales</th>\n",
       "                        <td id=\"T_d2912ba0_faa1_11eb_aa15_02420a399e82row8_col0\" class=\"data row8 col0\" >0</td>\n",
       "                        <td id=\"T_d2912ba0_faa1_11eb_aa15_02420a399e82row8_col1\" class=\"data row8 col1\" >16715</td>\n",
       "                        <td id=\"T_d2912ba0_faa1_11eb_aa15_02420a399e82row8_col2\" class=\"data row8 col2\" >0.00%</td>\n",
       "            </tr>\n",
       "            <tr>\n",
       "                        <th id=\"T_d2912ba0_faa1_11eb_aa15_02420a399e82level0_row9\" class=\"row_heading level0 row9\" >jp_sales</th>\n",
       "                        <td id=\"T_d2912ba0_faa1_11eb_aa15_02420a399e82row9_col0\" class=\"data row9 col0\" >0</td>\n",
       "                        <td id=\"T_d2912ba0_faa1_11eb_aa15_02420a399e82row9_col1\" class=\"data row9 col1\" >16715</td>\n",
       "                        <td id=\"T_d2912ba0_faa1_11eb_aa15_02420a399e82row9_col2\" class=\"data row9 col2\" >0.00%</td>\n",
       "            </tr>\n",
       "            <tr>\n",
       "                        <th id=\"T_d2912ba0_faa1_11eb_aa15_02420a399e82level0_row10\" class=\"row_heading level0 row10\" >other_sales</th>\n",
       "                        <td id=\"T_d2912ba0_faa1_11eb_aa15_02420a399e82row10_col0\" class=\"data row10 col0\" >0</td>\n",
       "                        <td id=\"T_d2912ba0_faa1_11eb_aa15_02420a399e82row10_col1\" class=\"data row10 col1\" >16715</td>\n",
       "                        <td id=\"T_d2912ba0_faa1_11eb_aa15_02420a399e82row10_col2\" class=\"data row10 col2\" >0.00%</td>\n",
       "            </tr>\n",
       "    </tbody></table>"
      ],
      "text/plain": [
       "<pandas.io.formats.style.Styler at 0x7f3dceb12450>"
      ]
     },
     "metadata": {},
     "output_type": "display_data"
    }
   ],
   "source": [
    "# запустим функцию по исходному датафрейму `games_data`\n",
    "\n",
    "show_nan(games_data)"
   ]
  },
  {
   "cell_type": "markdown",
   "metadata": {},
   "source": [
    "**Мы видим, что:**\n",
    "1. Таблица состоит из 16715 строк (наблюдений), в которой большая часть пропусков (почти половина) приходится на столбцы с рейтингами (критиков, пользователей или организации ESRB).\n",
    " 1. Пропуски в столбцах `critic_rating` и `user_rating` мы не будем заполнять, поскольку заполнение по любому признаку может сильно исказить результат, т.к. таких пропусков почти половина.\n",
    " 2. Пропуски в столбце `esrb_rating`, где указывается возрастная категория будет иметь значение в нашем анализе и 40% пропусков критичный показатель, но поскольку столбец типа `object` мы можем заполнить пропуски строчным значением *'not_defined' (не определено)*. Данные пропуски в рейтингах, как и в случае пропусков `critic_rating` и `user_rating`можно объяснить как банальное отсутствие информации. Рейтинг ESRB присваивается в случае запроса от самого разработчика игр. Если нет запроса нет и рейтинга. Критики и пользователи также могли не оставлять свои оценки.\n",
    "2. 0.01% и 1.61% - % пропусков в столбцах `game_name`, `game_genre`, `year_of_release`. Значения категориальные и поскольку они неизвестны нам и таких пропусков мало - удалим их.\n",
    "\n",
    "Для корректных будущих манипуляций **изменим тип данных** некоторых из столбцов на следующий:\n",
    "1. Столбец `year_of_release`: из `float` переведем в `int` (номер года не может быть плавающим значением).\n",
    "2. Столбец `user_rating`: из `object` переведем в `float` (значения рейтинга имеют плавающие значения по визуальному просмотру и это нам подходит для анализа в отличии от `object`).\n",
    "\n",
    "Столбцы с объёмами продаж оставим в типе `float`: округление в большую сторону (или просто округление) может также повлиять на анализ и исказить финальный результат."
   ]
  },
  {
   "cell_type": "markdown",
   "metadata": {},
   "source": [
    "### Вывод"
   ]
  },
  {
   "cell_type": "markdown",
   "metadata": {},
   "source": [
    "<div style=\"border:solid black 2px; padding: 20px\">\n",
    "    \n",
    "На данном этапе мы:<br><br>\n",
    "- Ознакомились с исходным датафреймом: добавили корректировки в названия некоторых столбцов, оценили заполненность и тип данных.<br>\n",
    "- Обнаружили некритичные пропуски, некоторые из которых заполним - `esrb_rating`, а пропуски в `game_name`, `game_genre`, `year_of_release` удалим.<br>\n",
    "- Описали необходимые изменения типов данных, которые нужно будет внести.<br><br>\n",
    "\n",
    "Приступим непосредственно к предобработке данных.\n",
    "</div>"
   ]
  },
  {
   "cell_type": "markdown",
   "metadata": {},
   "source": [
    "## Предобработка данных"
   ]
  },
  {
   "cell_type": "markdown",
   "metadata": {},
   "source": [
    "### Обработка пропусков"
   ]
  },
  {
   "cell_type": "code",
   "execution_count": 7,
   "metadata": {},
   "outputs": [],
   "source": [
    "# удалим все строки с пропусками в столбцах `game_name`, `game_genre`, `year_of_release`\n",
    "\n",
    "games_data = games_data.dropna(subset=['game_name'])\n",
    "games_data = games_data.dropna(subset=['game_genre'])\n",
    "games_data = games_data.dropna(subset=['year_of_release'])\n",
    "\n",
    "# пропуски в `esrb_rating` заполним значением 'not_defined'\n",
    "\n",
    "games_data['esrb_rating'] = games_data['esrb_rating'].fillna('not_defined')"
   ]
  },
  {
   "cell_type": "code",
   "execution_count": 8,
   "metadata": {},
   "outputs": [
    {
     "data": {
      "text/plain": [
       "array(['E', 'not_defined', 'M', 'T', 'E10+', 'K-A', 'AO', 'EC', 'RP'],\n",
       "      dtype=object)"
      ]
     },
     "execution_count": 8,
     "metadata": {},
     "output_type": "execute_result"
    }
   ],
   "source": [
    "# отобразим для нашего понимания все уникальные значения в столбце `esrb_rating` и пропишем их расшифровку\n",
    "\n",
    "games_data['esrb_rating'].unique()"
   ]
  },
  {
   "cell_type": "markdown",
   "metadata": {},
   "source": [
    "- **Е** («Everyone») — «Для всех»: Содержание вполне подходит для возрастной категории от 6 лет и старше.\n",
    "- **M** («Mature») — «Для взрослых»: Материалы игры не подходят для подростков младше 17 лет.\n",
    "- **T** («Teen») — «Подросткам»: Игра подходит для лиц от 13 лет и старше.\n",
    "- **E10+** («Everyone 10 and older») — «Для всех от 10 лет и старше».\n",
    "- **K-A** («Everyone») — «Для всех»: Содержание вполне подходит для возрастной категории от 6 лет и старше. Первоначально \"K-A\" (\"Kids to Adults\").\n",
    "- **AO** («Adults Only 18+») — «Только для взрослых»: Содержание игры только для взрослых старше 18 лет.\n",
    "- **EC** («Early childhood») — «Для детей младшего возраста»: Игра подходит для детей от 3 лет и старше.\n",
    "- **RP** («Rating Pending») — «Рейтинг ожидается».\n",
    "\n",
    "Как мы видим, аббревиатуру **K-A** стоит заменить на **E**, поскольку это одно и то же (\"K-A\" - первоначальное, но уже устаревшее название \"E\").\n",
    "Рейтинги **M** и **AO** также имеют схожий смысл, но согласно расшифровкам ESRB из открытых данных ни одно из них не устаревшее название, а отдельные рейтинги. Оставим без замены.\n",
    "\n",
    "Также проверим столбец `game_platform` на уникальные значения названий платформ и возможные дубликаты из-за разного регистра."
   ]
  },
  {
   "cell_type": "code",
   "execution_count": 9,
   "metadata": {},
   "outputs": [
    {
     "data": {
      "text/plain": [
       "array(['Wii', 'NES', 'GB', 'DS', 'X360', 'PS3', 'PS2', 'SNES', 'GBA',\n",
       "       'PS4', '3DS', 'N64', 'PS', 'XB', 'PC', '2600', 'PSP', 'XOne',\n",
       "       'WiiU', 'GC', 'GEN', 'DC', 'PSV', 'SAT', 'SCD', 'WS', 'NG', 'TG16',\n",
       "       '3DO', 'GG', 'PCFX'], dtype=object)"
      ]
     },
     "execution_count": 9,
     "metadata": {},
     "output_type": "execute_result"
    }
   ],
   "source": [
    "games_data['game_platform'].unique()"
   ]
  },
  {
   "cell_type": "markdown",
   "metadata": {},
   "source": [
    "Явных дубликатов наименований платформ не обнаружено."
   ]
  },
  {
   "cell_type": "code",
   "execution_count": 10,
   "metadata": {},
   "outputs": [
    {
     "name": "stdout",
     "output_type": "stream",
     "text": [
      "Количество найденных дубликатов = 0\n",
      "\n",
      "------------------------------------------------\n",
      "Таблица \"Информация о пропусках\"\n"
     ]
    },
    {
     "data": {
      "text/html": [
       "<style  type=\"text/css\" >\n",
       "</style><table id=\"T_d2a86edc_faa1_11eb_aa15_02420a399e82\" ><thead>    <tr>        <th class=\"blank level0\" ></th>        <th class=\"col_heading level0 col0\" >Кол-во пропусков</th>        <th class=\"col_heading level0 col1\" >Всего</th>        <th class=\"col_heading level0 col2\" >% пропусков</th>    </tr></thead><tbody>\n",
       "                <tr>\n",
       "                        <th id=\"T_d2a86edc_faa1_11eb_aa15_02420a399e82level0_row0\" class=\"row_heading level0 row0\" >critic_rating</th>\n",
       "                        <td id=\"T_d2a86edc_faa1_11eb_aa15_02420a399e82row0_col0\" class=\"data row0 col0\" >8461</td>\n",
       "                        <td id=\"T_d2a86edc_faa1_11eb_aa15_02420a399e82row0_col1\" class=\"data row0 col1\" >16444</td>\n",
       "                        <td id=\"T_d2a86edc_faa1_11eb_aa15_02420a399e82row0_col2\" class=\"data row0 col2\" >51.45%</td>\n",
       "            </tr>\n",
       "            <tr>\n",
       "                        <th id=\"T_d2a86edc_faa1_11eb_aa15_02420a399e82level0_row1\" class=\"row_heading level0 row1\" >user_rating</th>\n",
       "                        <td id=\"T_d2a86edc_faa1_11eb_aa15_02420a399e82row1_col0\" class=\"data row1 col0\" >6605</td>\n",
       "                        <td id=\"T_d2a86edc_faa1_11eb_aa15_02420a399e82row1_col1\" class=\"data row1 col1\" >16444</td>\n",
       "                        <td id=\"T_d2a86edc_faa1_11eb_aa15_02420a399e82row1_col2\" class=\"data row1 col2\" >40.17%</td>\n",
       "            </tr>\n",
       "            <tr>\n",
       "                        <th id=\"T_d2a86edc_faa1_11eb_aa15_02420a399e82level0_row2\" class=\"row_heading level0 row2\" >game_name</th>\n",
       "                        <td id=\"T_d2a86edc_faa1_11eb_aa15_02420a399e82row2_col0\" class=\"data row2 col0\" >0</td>\n",
       "                        <td id=\"T_d2a86edc_faa1_11eb_aa15_02420a399e82row2_col1\" class=\"data row2 col1\" >16444</td>\n",
       "                        <td id=\"T_d2a86edc_faa1_11eb_aa15_02420a399e82row2_col2\" class=\"data row2 col2\" >0.00%</td>\n",
       "            </tr>\n",
       "            <tr>\n",
       "                        <th id=\"T_d2a86edc_faa1_11eb_aa15_02420a399e82level0_row3\" class=\"row_heading level0 row3\" >game_platform</th>\n",
       "                        <td id=\"T_d2a86edc_faa1_11eb_aa15_02420a399e82row3_col0\" class=\"data row3 col0\" >0</td>\n",
       "                        <td id=\"T_d2a86edc_faa1_11eb_aa15_02420a399e82row3_col1\" class=\"data row3 col1\" >16444</td>\n",
       "                        <td id=\"T_d2a86edc_faa1_11eb_aa15_02420a399e82row3_col2\" class=\"data row3 col2\" >0.00%</td>\n",
       "            </tr>\n",
       "            <tr>\n",
       "                        <th id=\"T_d2a86edc_faa1_11eb_aa15_02420a399e82level0_row4\" class=\"row_heading level0 row4\" >year_of_release</th>\n",
       "                        <td id=\"T_d2a86edc_faa1_11eb_aa15_02420a399e82row4_col0\" class=\"data row4 col0\" >0</td>\n",
       "                        <td id=\"T_d2a86edc_faa1_11eb_aa15_02420a399e82row4_col1\" class=\"data row4 col1\" >16444</td>\n",
       "                        <td id=\"T_d2a86edc_faa1_11eb_aa15_02420a399e82row4_col2\" class=\"data row4 col2\" >0.00%</td>\n",
       "            </tr>\n",
       "            <tr>\n",
       "                        <th id=\"T_d2a86edc_faa1_11eb_aa15_02420a399e82level0_row5\" class=\"row_heading level0 row5\" >game_genre</th>\n",
       "                        <td id=\"T_d2a86edc_faa1_11eb_aa15_02420a399e82row5_col0\" class=\"data row5 col0\" >0</td>\n",
       "                        <td id=\"T_d2a86edc_faa1_11eb_aa15_02420a399e82row5_col1\" class=\"data row5 col1\" >16444</td>\n",
       "                        <td id=\"T_d2a86edc_faa1_11eb_aa15_02420a399e82row5_col2\" class=\"data row5 col2\" >0.00%</td>\n",
       "            </tr>\n",
       "            <tr>\n",
       "                        <th id=\"T_d2a86edc_faa1_11eb_aa15_02420a399e82level0_row6\" class=\"row_heading level0 row6\" >na_sales</th>\n",
       "                        <td id=\"T_d2a86edc_faa1_11eb_aa15_02420a399e82row6_col0\" class=\"data row6 col0\" >0</td>\n",
       "                        <td id=\"T_d2a86edc_faa1_11eb_aa15_02420a399e82row6_col1\" class=\"data row6 col1\" >16444</td>\n",
       "                        <td id=\"T_d2a86edc_faa1_11eb_aa15_02420a399e82row6_col2\" class=\"data row6 col2\" >0.00%</td>\n",
       "            </tr>\n",
       "            <tr>\n",
       "                        <th id=\"T_d2a86edc_faa1_11eb_aa15_02420a399e82level0_row7\" class=\"row_heading level0 row7\" >eu_sales</th>\n",
       "                        <td id=\"T_d2a86edc_faa1_11eb_aa15_02420a399e82row7_col0\" class=\"data row7 col0\" >0</td>\n",
       "                        <td id=\"T_d2a86edc_faa1_11eb_aa15_02420a399e82row7_col1\" class=\"data row7 col1\" >16444</td>\n",
       "                        <td id=\"T_d2a86edc_faa1_11eb_aa15_02420a399e82row7_col2\" class=\"data row7 col2\" >0.00%</td>\n",
       "            </tr>\n",
       "            <tr>\n",
       "                        <th id=\"T_d2a86edc_faa1_11eb_aa15_02420a399e82level0_row8\" class=\"row_heading level0 row8\" >jp_sales</th>\n",
       "                        <td id=\"T_d2a86edc_faa1_11eb_aa15_02420a399e82row8_col0\" class=\"data row8 col0\" >0</td>\n",
       "                        <td id=\"T_d2a86edc_faa1_11eb_aa15_02420a399e82row8_col1\" class=\"data row8 col1\" >16444</td>\n",
       "                        <td id=\"T_d2a86edc_faa1_11eb_aa15_02420a399e82row8_col2\" class=\"data row8 col2\" >0.00%</td>\n",
       "            </tr>\n",
       "            <tr>\n",
       "                        <th id=\"T_d2a86edc_faa1_11eb_aa15_02420a399e82level0_row9\" class=\"row_heading level0 row9\" >other_sales</th>\n",
       "                        <td id=\"T_d2a86edc_faa1_11eb_aa15_02420a399e82row9_col0\" class=\"data row9 col0\" >0</td>\n",
       "                        <td id=\"T_d2a86edc_faa1_11eb_aa15_02420a399e82row9_col1\" class=\"data row9 col1\" >16444</td>\n",
       "                        <td id=\"T_d2a86edc_faa1_11eb_aa15_02420a399e82row9_col2\" class=\"data row9 col2\" >0.00%</td>\n",
       "            </tr>\n",
       "            <tr>\n",
       "                        <th id=\"T_d2a86edc_faa1_11eb_aa15_02420a399e82level0_row10\" class=\"row_heading level0 row10\" >esrb_rating</th>\n",
       "                        <td id=\"T_d2a86edc_faa1_11eb_aa15_02420a399e82row10_col0\" class=\"data row10 col0\" >0</td>\n",
       "                        <td id=\"T_d2a86edc_faa1_11eb_aa15_02420a399e82row10_col1\" class=\"data row10 col1\" >16444</td>\n",
       "                        <td id=\"T_d2a86edc_faa1_11eb_aa15_02420a399e82row10_col2\" class=\"data row10 col2\" >0.00%</td>\n",
       "            </tr>\n",
       "    </tbody></table>"
      ],
      "text/plain": [
       "<pandas.io.formats.style.Styler at 0x7f3dcebe3b10>"
      ]
     },
     "metadata": {},
     "output_type": "display_data"
    }
   ],
   "source": [
    "# в столбце 'esrb_rating' заменяем значения \"K-A\" на \"E\"\n",
    "\n",
    "games_data['esrb_rating'] = games_data['esrb_rating'].replace('K-A', 'E')\n",
    "\n",
    "# проверим наши данные на грубые дубликаты и оставшийся % пропусков\n",
    "\n",
    "print('Количество найденных дубликатов =', games_data.duplicated().sum())\n",
    "print()\n",
    "show_nan(games_data)"
   ]
  },
  {
   "cell_type": "markdown",
   "metadata": {},
   "source": [
    "Как мы указывали выше, пропуски в `critic_rating` и `user_rating` мы не заполняем, поскольку заполнение по любому признаку может сильно исказить финальные результаты анализа."
   ]
  },
  {
   "cell_type": "markdown",
   "metadata": {},
   "source": [
    "### Изменение типов данных"
   ]
  },
  {
   "cell_type": "markdown",
   "metadata": {},
   "source": [
    "Стоит отметить, что столбец `user_rating` имеет тип `object`. Возможно это из-за того, что он содержит буквенные значения (хотя в описании, п.2, возможный рейтинг пользователя в диапазоне от 0 до 10 (баллов)). Проверим какие уникальные значения он содержит."
   ]
  },
  {
   "cell_type": "code",
   "execution_count": 11,
   "metadata": {},
   "outputs": [
    {
     "data": {
      "text/plain": [
       "array(['8', nan, '8.3', '8.5', '6.6', '8.4', '8.6', '7.7', '6.3', '7.4',\n",
       "       '8.2', '9', '7.9', '8.1', '8.7', '7.1', '3.4', '5.3', '4.8', '3.2',\n",
       "       '8.9', '6.4', '7.8', '7.5', '2.6', '7.2', '9.2', '7', '7.3', '4.3',\n",
       "       '7.6', '5.7', '5', '9.1', '6.5', 'tbd', '8.8', '6.9', '9.4', '6.8',\n",
       "       '6.1', '6.7', '5.4', '4', '4.9', '4.5', '9.3', '6.2', '4.2', '6',\n",
       "       '3.7', '4.1', '5.8', '5.6', '5.5', '4.4', '4.6', '5.9', '3.9',\n",
       "       '3.1', '2.9', '5.2', '3.3', '4.7', '5.1', '3.5', '2.5', '1.9', '3',\n",
       "       '2.7', '2.2', '2', '9.5', '2.1', '3.6', '2.8', '1.8', '3.8', '0',\n",
       "       '1.6', '9.6', '2.4', '1.7', '1.1', '0.3', '1.5', '0.7', '1.2',\n",
       "       '2.3', '0.5', '1.3', '0.2', '0.6', '1.4', '0.9', '1', '9.7'],\n",
       "      dtype=object)"
      ]
     },
     "execution_count": 11,
     "metadata": {},
     "output_type": "execute_result"
    }
   ],
   "source": [
    "games_data['user_rating'].unique()"
   ]
  },
  {
   "cell_type": "code",
   "execution_count": 12,
   "metadata": {},
   "outputs": [
    {
     "name": "stdout",
     "output_type": "stream",
     "text": [
      "Кол-во значений \"tbd\" = 2376\n"
     ]
    }
   ],
   "source": [
    "print('Кол-во значений \"tbd\" =', len(games_data.query('user_rating == \"tbd\"')))"
   ]
  },
  {
   "cell_type": "markdown",
   "metadata": {},
   "source": [
    "Значение *'tbd'* с англ. можно расшифровать как *To Be Determined (будет определено)* или *To Be Decided (будет решено)*. Это часто встречающиеся варианты перевода. Возможно пользователь отложил проставление рейтинга, но так и не сделал это. \n",
    "Поэтому мы делаем вывод, что это аналогично как если бы оно не было ничем заполнено, т.е. NaN. \n",
    "\n",
    "Изменим тип данных, учитывая обнаруженное значение 'tbd', которое заменим на NaN (автоматически) при измении типа данных."
   ]
  },
  {
   "cell_type": "code",
   "execution_count": 13,
   "metadata": {},
   "outputs": [],
   "source": [
    "# изменяем столбец `year_of_release` на целочисленный тип данных `int`\n",
    "# и столбец `user_rating` на тип `float`\n",
    "\n",
    "games_data['year_of_release'] = games_data['year_of_release'].astype('int')\n",
    "games_data['user_rating'] = pd.to_numeric(games_data['user_rating'], errors='coerce') # в случае столкновения со значениями \n",
    "                                                                                      # \"tbd\" `coerce` сам заменит их на NaN"
   ]
  },
  {
   "cell_type": "markdown",
   "metadata": {},
   "source": [
    "### Добавление нового столбца: суммарные продажи"
   ]
  },
  {
   "cell_type": "markdown",
   "metadata": {},
   "source": [
    "Создадим новый столбец `total_sales`, в котором посчитаем суммарные продажи во всех регионах (из доступных нам) по всем играм, представленным в нашем датафрейме (*без* группировки по названию игры, т.к. одна и та же игра могла выходить в разные годы на разных платформах и это будут разные показатели)."
   ]
  },
  {
   "cell_type": "code",
   "execution_count": 14,
   "metadata": {},
   "outputs": [
    {
     "data": {
      "text/html": [
       "<div>\n",
       "<style scoped>\n",
       "    .dataframe tbody tr th:only-of-type {\n",
       "        vertical-align: middle;\n",
       "    }\n",
       "\n",
       "    .dataframe tbody tr th {\n",
       "        vertical-align: top;\n",
       "    }\n",
       "\n",
       "    .dataframe thead th {\n",
       "        text-align: right;\n",
       "    }\n",
       "</style>\n",
       "<table border=\"1\" class=\"dataframe\">\n",
       "  <thead>\n",
       "    <tr style=\"text-align: right;\">\n",
       "      <th></th>\n",
       "      <th>game_name</th>\n",
       "      <th>game_platform</th>\n",
       "      <th>year_of_release</th>\n",
       "      <th>game_genre</th>\n",
       "      <th>na_sales</th>\n",
       "      <th>eu_sales</th>\n",
       "      <th>jp_sales</th>\n",
       "      <th>other_sales</th>\n",
       "      <th>critic_rating</th>\n",
       "      <th>user_rating</th>\n",
       "      <th>esrb_rating</th>\n",
       "      <th>total_sales</th>\n",
       "    </tr>\n",
       "  </thead>\n",
       "  <tbody>\n",
       "    <tr>\n",
       "      <td>0</td>\n",
       "      <td>Wii Sports</td>\n",
       "      <td>Wii</td>\n",
       "      <td>2006</td>\n",
       "      <td>Sports</td>\n",
       "      <td>41.36</td>\n",
       "      <td>28.96</td>\n",
       "      <td>3.77</td>\n",
       "      <td>8.45</td>\n",
       "      <td>76.0</td>\n",
       "      <td>8.0</td>\n",
       "      <td>E</td>\n",
       "      <td>82.54</td>\n",
       "    </tr>\n",
       "    <tr>\n",
       "      <td>1</td>\n",
       "      <td>Super Mario Bros.</td>\n",
       "      <td>NES</td>\n",
       "      <td>1985</td>\n",
       "      <td>Platform</td>\n",
       "      <td>29.08</td>\n",
       "      <td>3.58</td>\n",
       "      <td>6.81</td>\n",
       "      <td>0.77</td>\n",
       "      <td>NaN</td>\n",
       "      <td>NaN</td>\n",
       "      <td>not_defined</td>\n",
       "      <td>40.24</td>\n",
       "    </tr>\n",
       "    <tr>\n",
       "      <td>2</td>\n",
       "      <td>Mario Kart Wii</td>\n",
       "      <td>Wii</td>\n",
       "      <td>2008</td>\n",
       "      <td>Racing</td>\n",
       "      <td>15.68</td>\n",
       "      <td>12.76</td>\n",
       "      <td>3.79</td>\n",
       "      <td>3.29</td>\n",
       "      <td>82.0</td>\n",
       "      <td>8.3</td>\n",
       "      <td>E</td>\n",
       "      <td>35.52</td>\n",
       "    </tr>\n",
       "    <tr>\n",
       "      <td>3</td>\n",
       "      <td>Wii Sports Resort</td>\n",
       "      <td>Wii</td>\n",
       "      <td>2009</td>\n",
       "      <td>Sports</td>\n",
       "      <td>15.61</td>\n",
       "      <td>10.93</td>\n",
       "      <td>3.28</td>\n",
       "      <td>2.95</td>\n",
       "      <td>80.0</td>\n",
       "      <td>8.0</td>\n",
       "      <td>E</td>\n",
       "      <td>32.77</td>\n",
       "    </tr>\n",
       "    <tr>\n",
       "      <td>4</td>\n",
       "      <td>Pokemon Red/Pokemon Blue</td>\n",
       "      <td>GB</td>\n",
       "      <td>1996</td>\n",
       "      <td>Role-Playing</td>\n",
       "      <td>11.27</td>\n",
       "      <td>8.89</td>\n",
       "      <td>10.22</td>\n",
       "      <td>1.00</td>\n",
       "      <td>NaN</td>\n",
       "      <td>NaN</td>\n",
       "      <td>not_defined</td>\n",
       "      <td>31.38</td>\n",
       "    </tr>\n",
       "  </tbody>\n",
       "</table>\n",
       "</div>"
      ],
      "text/plain": [
       "                  game_name game_platform  year_of_release    game_genre  \\\n",
       "0                Wii Sports           Wii             2006        Sports   \n",
       "1         Super Mario Bros.           NES             1985      Platform   \n",
       "2            Mario Kart Wii           Wii             2008        Racing   \n",
       "3         Wii Sports Resort           Wii             2009        Sports   \n",
       "4  Pokemon Red/Pokemon Blue            GB             1996  Role-Playing   \n",
       "\n",
       "   na_sales  eu_sales  jp_sales  other_sales  critic_rating  user_rating  \\\n",
       "0     41.36     28.96      3.77         8.45           76.0          8.0   \n",
       "1     29.08      3.58      6.81         0.77            NaN          NaN   \n",
       "2     15.68     12.76      3.79         3.29           82.0          8.3   \n",
       "3     15.61     10.93      3.28         2.95           80.0          8.0   \n",
       "4     11.27      8.89     10.22         1.00            NaN          NaN   \n",
       "\n",
       "   esrb_rating  total_sales  \n",
       "0            E        82.54  \n",
       "1  not_defined        40.24  \n",
       "2            E        35.52  \n",
       "3            E        32.77  \n",
       "4  not_defined        31.38  "
      ]
     },
     "execution_count": 14,
     "metadata": {},
     "output_type": "execute_result"
    }
   ],
   "source": [
    "games_data['total_sales'] = games_data['na_sales'] + games_data['eu_sales'] + games_data['jp_sales'] + games_data['other_sales']\n",
    "\n",
    "# смотрим результат\n",
    "\n",
    "games_data.head()"
   ]
  },
  {
   "cell_type": "markdown",
   "metadata": {},
   "source": [
    "### Вывод"
   ]
  },
  {
   "cell_type": "markdown",
   "metadata": {},
   "source": [
    "<div style=\"border:solid black 2px; padding: 20px\">\n",
    "    \n",
    "На данном этапе мы:<br><br>\n",
    "- Обработали пропуски в столбцах `game_name`, `game_genre`, `year_of_release`, `esrb_rating`.<br>\n",
    "- Обнаружили устаревшую аббревиатуру рейтинга в столбце `esrb_rating`  - `\"К-А\"`, которую заменили на `\"Е\"`.<br>\n",
    "- Обнаружили и обработали значения `\"tbd\"` в столбце `user_rating`.<br>\n",
    "- Изменили тип данных в столбцах `user_rating` и `year_of_release`.<br><br>\n",
    "\n",
    "Приступим непосредственно к исследовательскому анализу.\n",
    "</div>"
   ]
  },
  {
   "cell_type": "markdown",
   "metadata": {},
   "source": [
    "## Исследовательский анализ данных"
   ]
  },
  {
   "cell_type": "markdown",
   "metadata": {},
   "source": [
    "### Изучение количества игр, выпущенных в разные годы"
   ]
  },
  {
   "cell_type": "markdown",
   "metadata": {},
   "source": [
    "**Посчитаем сколько игр выпускалось в разные годы.**"
   ]
  },
  {
   "cell_type": "code",
   "execution_count": 15,
   "metadata": {
    "scrolled": true
   },
   "outputs": [
    {
     "data": {
      "image/png": "[encoded data removed]",
      "text/plain": [
       "<Figure size 1296x432 with 1 Axes>"
      ]
     },
     "metadata": {
      "needs_background": "light"
     },
     "output_type": "display_data"
    }
   ],
   "source": [
    "# для подсчета сформируем сводную таблицу кол-ва игр по годам\n",
    "\n",
    "games_per_year = games_data.pivot_table(index='year_of_release', values='game_name', aggfunc='count').reset_index()\n",
    "games_per_year.columns = ['year_of_release', 'games_per_year']\n",
    "\n",
    "# и построим гистограмму для визуального анализа полученной сводной таблицы\n",
    "\n",
    "plt.figure(figsize=(18,6))\n",
    "sns.barplot(data=games_per_year, x='year_of_release', y='games_per_year')\n",
    "plt.title('Гистограмма количества игр, выпущенных в разные годы', fontsize=15)  \n",
    "plt.show()"
   ]
  },
  {
   "cell_type": "markdown",
   "metadata": {},
   "source": [
    "<div style=\"border:dotted black 3px; padding: 20px\">\n",
    "    \n",
    "1. Как мы видим, начиная уже с 1994 г., 1995 г. и далее - начался рост выпуска игр.<br>\n",
    "2. Самые пиковые годы по выпуску игр - 2008 г. и 2009 г. И уже с 2010 г. началось снижение выпуска игр.<br><br>\n",
    "\n",
    "Для нашего анализа период с 1980 г. по 1993 г. по кол-ву игр малочисленный и его можно будет далее отсечь и точно не рассматривать.\n",
    "    \n",
    "</div>"
   ]
  },
  {
   "cell_type": "markdown",
   "metadata": {},
   "source": [
    "### Изучение самых популярных платформ"
   ]
  },
  {
   "cell_type": "markdown",
   "metadata": {},
   "source": [
    "**Вычислим какие из платформ за все годы (с 1980 г. по 2016 г.) оказались самыми прибыльными (популярными). Определим суммарные продажи по каждой из платформ.**"
   ]
  },
  {
   "cell_type": "code",
   "execution_count": 16,
   "metadata": {},
   "outputs": [
    {
     "data": {
      "image/png": "[encoded data removed]",
      "text/plain": [
       "<Figure size 1296x432 with 1 Axes>"
      ]
     },
     "metadata": {
      "needs_background": "light"
     },
     "output_type": "display_data"
    }
   ],
   "source": [
    "# создаем сводную таблицу: для каждой платформы считаем сумму продаж всех игр\n",
    "\n",
    "sales_by_platform = games_data.pivot_table(index='game_platform', values='total_sales', aggfunc='sum') \\\n",
    ".sort_values(by='total_sales', ascending=False).reset_index()      # для удобства отсортируем по убыванию кол-ва продаж \n",
    "sales_by_platform.columns = ['game_platform', 'sales_millions']\n",
    "\n",
    "# и построим гистограмму для визуального анализа полученной сводной таблицы\n",
    "\n",
    "plt.figure(figsize=(18,6))\n",
    "sns.barplot(data=sales_by_platform , x='game_platform', y='sales_millions')\n",
    "plt.title('Гистограмма продаж по каждой платформе (с 1980 г. по 2016 г.)', fontsize=15)  \n",
    "plt.show()"
   ]
  },
  {
   "cell_type": "markdown",
   "metadata": {},
   "source": [
    "Очень заметен резкий переход по кол-ву продаж, где выделяются **6 платформ-лидеров** по объему продаж, это: **PS2, X360, PS3, Wii, DS, PS.**\n",
    "\n",
    "Построим график распределения продаж данных 6 платформ по годам.\n",
    "Рассмотрим для детализации период с 1998 г. по 2016 г."
   ]
  },
  {
   "cell_type": "code",
   "execution_count": 17,
   "metadata": {},
   "outputs": [
    {
     "data": {
      "image/png": "[encoded data removed]",
      "text/plain": [
       "<Figure size 1296x432 with 1 Axes>"
      ]
     },
     "metadata": {
      "needs_background": "light"
     },
     "output_type": "display_data"
    }
   ],
   "source": [
    "# создадим срез с этими 6 платформами\n",
    "\n",
    "top6_platforms = \\\n",
    "games_data.query('game_platform == \"PS2\" or game_platform == \"X360\" or game_platform == \"PS3\" or game_platform == \"Wii\" \\\n",
    "or game_platform == \"DS\" or game_platform == \"PS\"') \n",
    "\n",
    "# на основании этого среза создадим сводную таблицу, где подсчитаем для каждой платформы в каждом году общее кол-во продаж \n",
    "# и далее построим линейный график\n",
    "\n",
    "top6_platforms_sales_per_years = \\\n",
    "top6_platforms \\\n",
    ".pivot_table(index = 'year_of_release', columns = 'game_platform', values = 'total_sales', aggfunc = 'sum') \\\n",
    ".plot(figsize = (18,6), style='o-', legend = True, grid = True, alpha = 0.8, \\\n",
    "title='Динамика продаж игр \"ТОП-6 платформ\" по годам (с 1998 г. по 2016 г.)', xlim=(1998, 2016)) \\\n",
    ".set(xlabel = 'Год выпуска игры', ylabel = 'Продано копий, млн.экз.')"
   ]
  },
  {
   "cell_type": "markdown",
   "metadata": {},
   "source": [
    "<div style=\"border:dotted black 3px; padding: 20px\">\n",
    "    \n",
    "По графику отслеживается, что в среднем период жизни популярной платформы составляет <b>10-11 лет</b>, из которых наиболее пиковые по объёму продаж только <b>5-6 лет</b> (т.е. половина жизненного цикла платформы).<br><br>\n",
    "\n",
    "Рассмотрим теперь и все остальные платформы, которые не попали в список самых продаваемых. Определим какой в среднем жизненный цикл у всех платформ.\n",
    "    \n",
    "</div>"
   ]
  },
  {
   "cell_type": "code",
   "execution_count": 18,
   "metadata": {},
   "outputs": [
    {
     "data": {
      "text/plain": [
       "count    31.000000\n",
       "mean      7.677419\n",
       "std       5.081910\n",
       "min       1.000000\n",
       "25%       4.000000\n",
       "50%       7.000000\n",
       "75%      11.000000\n",
       "max      26.000000\n",
       "Name: year_of_release, dtype: float64"
      ]
     },
     "execution_count": 18,
     "metadata": {},
     "output_type": "execute_result"
    }
   ],
   "source": [
    "# посчитаем кол-во лет для каждой платформы и затем посмотрим на числовое описание данных\n",
    "\n",
    "platform_vitality = games_data.groupby('game_platform')['year_of_release'].nunique()\n",
    "platform_vitality.describe()"
   ]
  },
  {
   "cell_type": "markdown",
   "metadata": {},
   "source": [
    "Медианный и средний жизненный цикл всех платформ практически одинаков (7; 7.6 лет). Поэтому можно сделать вывод, что в среднем платформа живет 7 лет, но как показал анализ среди популярных платформ только половина от этого срока, т.е. 3,5 года - срок успешных и пиковых продаж. Посмотрим, что это за платформа-долгожитель со сроком 26 лет."
   ]
  },
  {
   "cell_type": "code",
   "execution_count": 19,
   "metadata": {},
   "outputs": [
    {
     "data": {
      "text/plain": [
       "game_platform\n",
       "2600    10\n",
       "3DO      2\n",
       "3DS      6\n",
       "DC       7\n",
       "DS      11\n",
       "GB      13\n",
       "GBA      8\n",
       "GC       7\n",
       "GEN      5\n",
       "GG       1\n",
       "N64      7\n",
       "NES     12\n",
       "NG       4\n",
       "PC      26\n",
       "PCFX     1\n",
       "PS      10\n",
       "PS2     12\n",
       "PS3     11\n",
       "PS4      4\n",
       "PSP     12\n",
       "PSV      6\n",
       "SAT      6\n",
       "SCD      2\n",
       "SNES    10\n",
       "TG16     1\n",
       "WS       3\n",
       "Wii     11\n",
       "WiiU     5\n",
       "X360    12\n",
       "XB       9\n",
       "XOne     4\n",
       "Name: year_of_release, dtype: int64"
      ]
     },
     "execution_count": 19,
     "metadata": {},
     "output_type": "execute_result"
    }
   ],
   "source": [
    "platform_vitality "
   ]
  },
  {
   "cell_type": "markdown",
   "metadata": {},
   "source": [
    "Платформа *PC* - самая долгоживущая (что соответствует действительности), но далеко не самая прибыльная по продажам игр."
   ]
  },
  {
   "cell_type": "markdown",
   "metadata": {},
   "source": [
    "### Определение актуального периода"
   ]
  },
  {
   "cell_type": "markdown",
   "metadata": {},
   "source": [
    "<div style=\"border:dotted black 3px; padding: 20px\">\n",
    "    \n",
    "<b>Для эффективного решения поставленной перед нами задачи по прогнозированию успешных игровых закономерностей на 2017 г. выделим актуальный период, в течении которого платформа имеет хорошие показатели продаж.</b><br><br>\n",
    "      \n",
    "Поскольку данные за 2016 г. из исходной информации у нас неполные, для определения актуального периода будем учитывать ещё +1 год. Как мы выяснили - средний жизненный цикл платформы составляет 7 лет и как показал детальный график на примере ТОП-6 популярных платформ - только половина из этого периода (т.е. 3,5 года) успешна по продажам. Округлим до 4 и прибавим еще 1 год (из-за неполных данных). Итого: для анализа будем считать актуальным <b>период в 5 лет: с 2012 г. по 2016 г.</b><br><br>\n",
    "\n",
    "Создадим обновленный датафрейм `games_data_actual`, учитывая новый параметр.\n",
    "    \n",
    "</div>"
   ]
  },
  {
   "cell_type": "code",
   "execution_count": 20,
   "metadata": {},
   "outputs": [],
   "source": [
    "games_data_actual = games_data.query('year_of_release >= 2012')"
   ]
  },
  {
   "cell_type": "markdown",
   "metadata": {},
   "source": [
    "### Изучение продаж по платформам (2012 г. - 2016 г.)"
   ]
  },
  {
   "cell_type": "markdown",
   "metadata": {},
   "source": [
    "**Определим какие платформы лидируют по продажам, какие растут или падают. \n",
    "На основе сводной таблицы построим линейный график продаж и выведем итоговые суммы по каждой платформе за период с 2012 г. по 2016 г.**"
   ]
  },
  {
   "cell_type": "code",
   "execution_count": 21,
   "metadata": {
    "scrolled": false
   },
   "outputs": [
    {
     "data": {
      "image/png": "[encoded data removed]",
      "text/plain": [
       "<Figure size 1296x576 with 1 Axes>"
      ]
     },
     "metadata": {
      "needs_background": "light"
     },
     "output_type": "display_data"
    },
    {
     "name": "stdout",
     "output_type": "stream",
     "text": [
      "----------------------------------------------------------------------------------------------------------------------\n",
      "Рейтинг прибыльных платформ (2012 г.- 2016 г.), глобальные продажи (млн.экз.)\n"
     ]
    },
    {
     "data": {
      "text/html": [
       "<div>\n",
       "<style scoped>\n",
       "    .dataframe tbody tr th:only-of-type {\n",
       "        vertical-align: middle;\n",
       "    }\n",
       "\n",
       "    .dataframe tbody tr th {\n",
       "        vertical-align: top;\n",
       "    }\n",
       "\n",
       "    .dataframe thead th {\n",
       "        text-align: right;\n",
       "    }\n",
       "</style>\n",
       "<table border=\"1\" class=\"dataframe\">\n",
       "  <thead>\n",
       "    <tr style=\"text-align: right;\">\n",
       "      <th></th>\n",
       "      <th>game_platform</th>\n",
       "      <th>total_sales</th>\n",
       "    </tr>\n",
       "  </thead>\n",
       "  <tbody>\n",
       "    <tr>\n",
       "      <td>0</td>\n",
       "      <td>PS4</td>\n",
       "      <td>314.14</td>\n",
       "    </tr>\n",
       "    <tr>\n",
       "      <td>1</td>\n",
       "      <td>PS3</td>\n",
       "      <td>288.79</td>\n",
       "    </tr>\n",
       "    <tr>\n",
       "      <td>2</td>\n",
       "      <td>X360</td>\n",
       "      <td>236.54</td>\n",
       "    </tr>\n",
       "    <tr>\n",
       "      <td>3</td>\n",
       "      <td>3DS</td>\n",
       "      <td>194.61</td>\n",
       "    </tr>\n",
       "    <tr>\n",
       "      <td>4</td>\n",
       "      <td>XOne</td>\n",
       "      <td>159.32</td>\n",
       "    </tr>\n",
       "    <tr>\n",
       "      <td>5</td>\n",
       "      <td>WiiU</td>\n",
       "      <td>82.19</td>\n",
       "    </tr>\n",
       "    <tr>\n",
       "      <td>6</td>\n",
       "      <td>PC</td>\n",
       "      <td>62.65</td>\n",
       "    </tr>\n",
       "    <tr>\n",
       "      <td>7</td>\n",
       "      <td>PSV</td>\n",
       "      <td>49.18</td>\n",
       "    </tr>\n",
       "    <tr>\n",
       "      <td>8</td>\n",
       "      <td>Wii</td>\n",
       "      <td>35.37</td>\n",
       "    </tr>\n",
       "    <tr>\n",
       "      <td>9</td>\n",
       "      <td>DS</td>\n",
       "      <td>12.55</td>\n",
       "    </tr>\n",
       "    <tr>\n",
       "      <td>10</td>\n",
       "      <td>PSP</td>\n",
       "      <td>11.19</td>\n",
       "    </tr>\n",
       "  </tbody>\n",
       "</table>\n",
       "</div>"
      ],
      "text/plain": [
       "   game_platform  total_sales\n",
       "0            PS4       314.14\n",
       "1            PS3       288.79\n",
       "2           X360       236.54\n",
       "3            3DS       194.61\n",
       "4           XOne       159.32\n",
       "5           WiiU        82.19\n",
       "6             PC        62.65\n",
       "7            PSV        49.18\n",
       "8            Wii        35.37\n",
       "9             DS        12.55\n",
       "10           PSP        11.19"
      ]
     },
     "execution_count": 21,
     "metadata": {},
     "output_type": "execute_result"
    }
   ],
   "source": [
    "games_data_actual \\\n",
    ".pivot_table(index = 'year_of_release', columns = 'game_platform', values = 'total_sales', aggfunc = 'sum') \\\n",
    ".plot(figsize = (18,8), style='o-', legend = True, grid = True, alpha = 0.8, \\\n",
    "title='Динамика глобальных продаж в зависимости от платформы (2012 г.- 2016 г.)') \\\n",
    ".set(xlabel = 'Год выпуска игры', ylabel = 'Продано копий, млн.экз.')\n",
    "plt.show()\n",
    "\n",
    "print('----------------------------------------------------------------------------------------------------------------------')\n",
    "print('Рейтинг прибыльных платформ (2012 г.- 2016 г.), глобальные продажи (млн.экз.)')\n",
    "games_data_actual.pivot_table(index = 'game_platform', values = 'total_sales', aggfunc = 'sum') \\\n",
    ".sort_values(by='total_sales', ascending=False).reset_index()"
   ]
  },
  {
   "cell_type": "markdown",
   "metadata": {},
   "source": [
    "По данному графику за рассматриваемый период 2012 г. - 2016 г. мы видим следующее:\n",
    "- Платформы *PS4* и *XOne* имеют тенденцию к росту продаж.\n",
    "- У платформ *PS3, X360, 3DS* наблюдается спад продаж.\n",
    "\n",
    "В ТОП-5 лидеров продаж входят платформы (по убыванию продаж): *PS4, PS3, X360, 3DS, XOne.* У остальных платформ не наблюдается тенденций к резкому росту или падению продаж."
   ]
  },
  {
   "cell_type": "markdown",
   "metadata": {},
   "source": [
    "<div style=\"border:dotted black 3px; padding: 20px\">\n",
    "    \n",
    "На данном этапе, резюмируя вышесказанное, можно выделить следующие особенности:<br><br>\n",
    "- Перспективные платформы с хорошим объемом продаж и тенденцией к росту: PS4, XOne.<br>\n",
    "- Платформы с хорошим объемом продаж, но тенденцией на спад продаж: PS3, X360, 3DS.<br>\n",
    "    \n",
    "</div>"
   ]
  },
  {
   "cell_type": "markdown",
   "metadata": {},
   "source": [
    "### Изучение распределения продаж по платформам (2012 г. - 2016 г.)"
   ]
  },
  {
   "cell_type": "markdown",
   "metadata": {},
   "source": [
    "**Построим диаграмму размаха по продажам игр (во всех регионах) в разбивке по платформам. А также посчитаем, сгруппировав по платформе среднее значение показателя продаж, медианное значение и стандартное отклонение.**"
   ]
  },
  {
   "cell_type": "code",
   "execution_count": 22,
   "metadata": {
    "scrolled": true
   },
   "outputs": [
    {
     "data": {
      "image/png": "[encoded data removed]",
      "text/plain": [
       "<Figure size 1296x576 with 1 Axes>"
      ]
     },
     "metadata": {
      "needs_background": "light"
     },
     "output_type": "display_data"
    }
   ],
   "source": [
    "plt.figure(figsize=(18,8))\n",
    "sns.boxplot(data=games_data_actual, x='game_platform', y='total_sales').set_ylim(0, 2)   # ограничим ось 'y' до 2 млн.\n",
    "plt.title('Диаграмма размаха показателей глобальных продаж (2012 г. - 2016 г.)', fontsize=15)\n",
    "plt.xlabel('Игровая платформа', fontsize=12)\n",
    "plt.ylabel('Глобальные продажи, млн.экз.',fontsize=12)\n",
    "plt.show()"
   ]
  },
  {
   "cell_type": "code",
   "execution_count": 23,
   "metadata": {},
   "outputs": [
    {
     "name": "stdout",
     "output_type": "stream",
     "text": [
      "Таблица \"Среднее, медианное значение и стандартное отклонение (2012 г. - 2016 г.)\"\n"
     ]
    },
    {
     "data": {
      "text/html": [
       "<div>\n",
       "<style scoped>\n",
       "    .dataframe tbody tr th:only-of-type {\n",
       "        vertical-align: middle;\n",
       "    }\n",
       "\n",
       "    .dataframe tbody tr th {\n",
       "        vertical-align: top;\n",
       "    }\n",
       "\n",
       "    .dataframe thead tr th {\n",
       "        text-align: left;\n",
       "    }\n",
       "\n",
       "    .dataframe thead tr:last-of-type th {\n",
       "        text-align: right;\n",
       "    }\n",
       "</style>\n",
       "<table border=\"1\" class=\"dataframe\">\n",
       "  <thead>\n",
       "    <tr>\n",
       "      <th></th>\n",
       "      <th colspan=\"3\" halign=\"left\">total_sales</th>\n",
       "    </tr>\n",
       "    <tr>\n",
       "      <th></th>\n",
       "      <th>mean</th>\n",
       "      <th>median</th>\n",
       "      <th>std</th>\n",
       "    </tr>\n",
       "    <tr>\n",
       "      <th>game_platform</th>\n",
       "      <th></th>\n",
       "      <th></th>\n",
       "      <th></th>\n",
       "    </tr>\n",
       "  </thead>\n",
       "  <tbody>\n",
       "    <tr>\n",
       "      <td>3DS</td>\n",
       "      <td>0.49</td>\n",
       "      <td>0.11</td>\n",
       "      <td>1.39</td>\n",
       "    </tr>\n",
       "    <tr>\n",
       "      <td>DS</td>\n",
       "      <td>0.40</td>\n",
       "      <td>0.05</td>\n",
       "      <td>1.44</td>\n",
       "    </tr>\n",
       "    <tr>\n",
       "      <td>PC</td>\n",
       "      <td>0.25</td>\n",
       "      <td>0.08</td>\n",
       "      <td>0.49</td>\n",
       "    </tr>\n",
       "    <tr>\n",
       "      <td>PS3</td>\n",
       "      <td>0.59</td>\n",
       "      <td>0.20</td>\n",
       "      <td>1.46</td>\n",
       "    </tr>\n",
       "    <tr>\n",
       "      <td>PS4</td>\n",
       "      <td>0.80</td>\n",
       "      <td>0.20</td>\n",
       "      <td>1.61</td>\n",
       "    </tr>\n",
       "    <tr>\n",
       "      <td>PSP</td>\n",
       "      <td>0.06</td>\n",
       "      <td>0.03</td>\n",
       "      <td>0.07</td>\n",
       "    </tr>\n",
       "    <tr>\n",
       "      <td>PSV</td>\n",
       "      <td>0.12</td>\n",
       "      <td>0.05</td>\n",
       "      <td>0.20</td>\n",
       "    </tr>\n",
       "    <tr>\n",
       "      <td>Wii</td>\n",
       "      <td>0.65</td>\n",
       "      <td>0.18</td>\n",
       "      <td>1.17</td>\n",
       "    </tr>\n",
       "    <tr>\n",
       "      <td>WiiU</td>\n",
       "      <td>0.56</td>\n",
       "      <td>0.22</td>\n",
       "      <td>1.06</td>\n",
       "    </tr>\n",
       "    <tr>\n",
       "      <td>X360</td>\n",
       "      <td>0.81</td>\n",
       "      <td>0.31</td>\n",
       "      <td>1.71</td>\n",
       "    </tr>\n",
       "    <tr>\n",
       "      <td>XOne</td>\n",
       "      <td>0.65</td>\n",
       "      <td>0.22</td>\n",
       "      <td>1.04</td>\n",
       "    </tr>\n",
       "  </tbody>\n",
       "</table>\n",
       "</div>"
      ],
      "text/plain": [
       "              total_sales             \n",
       "                     mean median   std\n",
       "game_platform                         \n",
       "3DS                  0.49   0.11  1.39\n",
       "DS                   0.40   0.05  1.44\n",
       "PC                   0.25   0.08  0.49\n",
       "PS3                  0.59   0.20  1.46\n",
       "PS4                  0.80   0.20  1.61\n",
       "PSP                  0.06   0.03  0.07\n",
       "PSV                  0.12   0.05  0.20\n",
       "Wii                  0.65   0.18  1.17\n",
       "WiiU                 0.56   0.22  1.06\n",
       "X360                 0.81   0.31  1.71\n",
       "XOne                 0.65   0.22  1.04"
      ]
     },
     "metadata": {},
     "output_type": "display_data"
    }
   ],
   "source": [
    "print('Таблица \"Среднее, медианное значение и стандартное отклонение (2012 г. - 2016 г.)\"')\n",
    "display(games_data_actual.groupby('game_platform').agg({'total_sales': ['mean', 'median', 'std']}).round(2))"
   ]
  },
  {
   "cell_type": "markdown",
   "metadata": {},
   "source": [
    "<div style=\"border:dotted black 3px; padding: 20px\">\n",
    "    \n",
    "Видим следующее:<br>\n",
    "- Выделяются по размаху продаж 6 платформ: PS3, X360, PS4, XOne, WiiU, Wii.<br><br>\n",
    "\n",
    "Несмотря на маленькие объемы продаж у WiiU, Wii (которые мы определили ранее, по сравнению PS3, X360, PS4, XOne) - данные платформы WiiU, Wii имеют хороший размах значений продаж и медианный показатель продаж сопоставимый с обозначенной 6-кой лидеров: PS3, X360, PS4, XOne, WiiU, Wii.<br>\n",
    "Стандартное отклонение больше всего у лидирующих платформ X360, PS4 и PS3.    \n",
    "    \n",
    "</div>"
   ]
  },
  {
   "cell_type": "markdown",
   "metadata": {},
   "source": [
    "### Изучение влияния оценок пользователей и экспертов на продажи (2012 г. - 2016 г.)"
   ]
  },
  {
   "cell_type": "markdown",
   "metadata": {},
   "source": [
    "**Изучим есть ли корреляция между отзывами пользователей и общим количеством продаж. И есть ли корреляция между отзывами экспертов (критиков) и общим количеством продаж.**\n",
    "\n",
    "Создадим срез с 6 популярными платформами `games_data_top_platforms`, которые из анализа выше мы определили как прибыльные и перспективные, (но включим и популярные платформы с тенденцией на спад продаж PS3, X360). Построим на основании этого среза диаграммы рассеяния и посчитаем корреляцию по каждой платформе отдельно."
   ]
  },
  {
   "cell_type": "code",
   "execution_count": 24,
   "metadata": {},
   "outputs": [],
   "source": [
    "# создаем срез с 6 популярными платформами\n",
    "\n",
    "games_data_top_platforms = games_data_actual.query('game_platform == \"PS4\" or game_platform == \"PS3\" or \\\n",
    "game_platform == \"X360\" or game_platform == \"XOne\" or game_platform == \"WiiU\" or game_platform == \"Wii\"')"
   ]
  },
  {
   "cell_type": "markdown",
   "metadata": {},
   "source": [
    "Создадим функцию `show_scatterplot_by_rating(game_platform)`, которая в зависимости от названия платформы построит 2 диаграммы рассеяния: \n",
    "- 1-ю - в зависимости от отзывов пользователей; \n",
    "- 2-ю - в зависимости от отзывов критиков. \n",
    "\n",
    "А также добавим в нее расчёт корреляции и вывод на экран."
   ]
  },
  {
   "cell_type": "code",
   "execution_count": 25,
   "metadata": {},
   "outputs": [],
   "source": [
    "def show_scatterplot_by_rating(game_platform):\n",
    "    \n",
    "    # поместим в датафрейм `scatterplot_data` 3 нужных нам столбца по той платформе, которую будем указывать при вызове функции\n",
    "    \n",
    "    scatterplot_data = games_data_top_platforms[(games_data_top_platforms['game_platform'] == game_platform)][['total_sales',\\\n",
    "    'critic_rating', 'user_rating']]\n",
    "    \n",
    "    # строим 1-ю диаграмму зависимости продаж от отзывов критиков `critic_plot`\n",
    "    \n",
    "    critic_plot= scatterplot_data.plot(kind = 'scatter', x='critic_rating', y='total_sales', figsize=(15,5), \\\n",
    "    legend=True, grid=True, alpha=0.5, title='Платформа {}. Диаграмма рассеяния продаж и отзывов критиков' \\\n",
    "    .format(game_platform), color='blue').set(xlabel = 'Оценка критиков', ylabel = 'Продано копий, млн.экз.')\n",
    "    \n",
    "    # строим 2-ю диаграмму зависимости продаж от отзывов пользоваталей `user_plot`\n",
    "    \n",
    "    user_plot = scatterplot_data.plot(kind = 'scatter', x='user_rating', y='total_sales', figsize=(15,5), \\\n",
    "    legend=True, grid=True, alpha=0.5, title='Платформа {}. Диаграмма рассеяния продаж и отзывов пользователей' \\\n",
    "    .format(game_platform), color='green').set(xlabel = 'Оценка пользователей', ylabel = 'Продано копий, млн.экз.')\n",
    "    plt.show()\n",
    "    \n",
    "    # считаем корреляцию и выводим на экран результат, округляя до 3-х знаков после ','\n",
    "    \n",
    "    critic_corr = scatterplot_data['critic_rating'].corr(scatterplot_data['total_sales'])\n",
    "    user_corr = scatterplot_data['user_rating'].corr(scatterplot_data['total_sales'])\n",
    "    print('Коэффициент корреляции между продажами и отзывами критиков =', critic_corr.round(3))\n",
    "    print('Коэффициент корреляции между продажами и отзывами пользователей =', user_corr.round(3))\n",
    "    print('-----------------------------------------------------------------------------------------------------------------')"
   ]
  },
  {
   "cell_type": "markdown",
   "metadata": {},
   "source": [
    "Построим диаграммы рассеяния и определим корреляцию на примере одной из самых популярных платформ *PS4*."
   ]
  },
  {
   "cell_type": "code",
   "execution_count": 26,
   "metadata": {},
   "outputs": [
    {
     "data": {
      "image/png": "[encoded data removed]",
      "text/plain": [
       "<Figure size 1080x360 with 1 Axes>"
      ]
     },
     "metadata": {
      "needs_background": "light"
     },
     "output_type": "display_data"
    },
    {
     "data": {
      "image/png": "[encoded data removed]",
      "text/plain": [
       "<Figure size 1080x360 with 1 Axes>"
      ]
     },
     "metadata": {
      "needs_background": "light"
     },
     "output_type": "display_data"
    },
    {
     "name": "stdout",
     "output_type": "stream",
     "text": [
      "Коэффициент корреляции между продажами и отзывами критиков = 0.407\n",
      "Коэффициент корреляции между продажами и отзывами пользователей = -0.032\n",
      "-----------------------------------------------------------------------------------------------------------------\n"
     ]
    }
   ],
   "source": [
    "show_scatterplot_by_rating('PS4')"
   ]
  },
  {
   "cell_type": "markdown",
   "metadata": {},
   "source": [
    "<div style=\"border:dotted black 3px; padding: 20px\">\n",
    "    \n",
    "Видим, что для платформы <i>PS4</i> существует небольшая корреляция между отзывами критиков и объемами продаж: чем больше оценка критиков, тем наблюдаются бОльшие продажи, чего нельзя сказать про отзывы от пользователей.<br><br>\n",
    "\n",
    "Здесь корреляция отсутствует, и даже при плохих оценках пользователей можно наблюдать высокие продажи, как если бы это была высокая оценка критиков.<br>\n",
    "    \n",
    "</div>"
   ]
  },
  {
   "cell_type": "markdown",
   "metadata": {},
   "source": [
    "Посмотрим на всех ли платформах такая ситуация. Рассмотрим поочередно платформы *PS3, X360, XOne, WiiU, Wii.*"
   ]
  },
  {
   "cell_type": "code",
   "execution_count": 27,
   "metadata": {},
   "outputs": [
    {
     "data": {
      "image/png": "[encoded data removed]",
      "text/plain": [
       "<Figure size 1080x360 with 1 Axes>"
      ]
     },
     "metadata": {
      "needs_background": "light"
     },
     "output_type": "display_data"
    },
    {
     "data": {
      "image/png": "[encoded data removed]",
      "text/plain": [
       "<Figure size 1080x360 with 1 Axes>"
      ]
     },
     "metadata": {
      "needs_background": "light"
     },
     "output_type": "display_data"
    },
    {
     "name": "stdout",
     "output_type": "stream",
     "text": [
      "Коэффициент корреляции между продажами и отзывами критиков = 0.331\n",
      "Коэффициент корреляции между продажами и отзывами пользователей = -0.005\n",
      "-----------------------------------------------------------------------------------------------------------------\n"
     ]
    }
   ],
   "source": [
    "show_scatterplot_by_rating('PS3')"
   ]
  },
  {
   "cell_type": "markdown",
   "metadata": {},
   "source": [
    "<div style=\"border:dotted black 3px; padding: 20px\">\n",
    "    \n",
    "У платформы <i>PS3</i> уже не такая сильная корреляция продаж от отзывов критиков как у <i>PS4</i>, всего 0,331. Корреляция продаж и отзывов пользователей также отсутствует.   \n",
    "    \n",
    "</div>"
   ]
  },
  {
   "cell_type": "code",
   "execution_count": 28,
   "metadata": {},
   "outputs": [
    {
     "data": {
      "image/png": "[encoded data removed]",
      "text/plain": [
       "<Figure size 1080x360 with 1 Axes>"
      ]
     },
     "metadata": {
      "needs_background": "light"
     },
     "output_type": "display_data"
    },
    {
     "data": {
      "image/png": "[encoded data removed]",
      "text/plain": [
       "<Figure size 1080x360 with 1 Axes>"
      ]
     },
     "metadata": {
      "needs_background": "light"
     },
     "output_type": "display_data"
    },
    {
     "name": "stdout",
     "output_type": "stream",
     "text": [
      "Коэффициент корреляции между продажами и отзывами критиков = 0.361\n",
      "Коэффициент корреляции между продажами и отзывами пользователей = 0.006\n",
      "-----------------------------------------------------------------------------------------------------------------\n"
     ]
    }
   ],
   "source": [
    "# рассмотрим следующую платформу X360\n",
    "\n",
    "show_scatterplot_by_rating('X360')"
   ]
  },
  {
   "cell_type": "markdown",
   "metadata": {},
   "source": [
    "<div style=\"border:dotted black 3px; padding: 20px\">\n",
    "    \n",
    "Корреляция продаж <i>X360</i> и отзывов критиков небольшая, и сравнима с корреляцией <i>PS3</i>.  Корреляция продаж и отзывов пользователей также отсутствует.   \n",
    "    \n",
    "</div>"
   ]
  },
  {
   "cell_type": "code",
   "execution_count": 29,
   "metadata": {
    "scrolled": true
   },
   "outputs": [
    {
     "data": {
      "image/png": "[encoded data removed]",
      "text/plain": [
       "<Figure size 1080x360 with 1 Axes>"
      ]
     },
     "metadata": {
      "needs_background": "light"
     },
     "output_type": "display_data"
    },
    {
     "data": {
      "image/png": "[encoded data removed]",
      "text/plain": [
       "<Figure size 1080x360 with 1 Axes>"
      ]
     },
     "metadata": {
      "needs_background": "light"
     },
     "output_type": "display_data"
    },
    {
     "name": "stdout",
     "output_type": "stream",
     "text": [
      "Коэффициент корреляции между продажами и отзывами критиков = 0.417\n",
      "Коэффициент корреляции между продажами и отзывами пользователей = -0.069\n",
      "-----------------------------------------------------------------------------------------------------------------\n"
     ]
    },
    {
     "data": {
      "image/png": "[encoded data removed]",
      "text/plain": [
       "<Figure size 1080x360 with 1 Axes>"
      ]
     },
     "metadata": {
      "needs_background": "light"
     },
     "output_type": "display_data"
    },
    {
     "data": {
      "image/png": "[encoded data removed]",
      "text/plain": [
       "<Figure size 1080x360 with 1 Axes>"
      ]
     },
     "metadata": {
      "needs_background": "light"
     },
     "output_type": "display_data"
    },
    {
     "name": "stdout",
     "output_type": "stream",
     "text": [
      "Коэффициент корреляции между продажами и отзывами критиков = 0.348\n",
      "Коэффициент корреляции между продажами и отзывами пользователей = 0.4\n",
      "-----------------------------------------------------------------------------------------------------------------\n"
     ]
    },
    {
     "data": {
      "image/png": "[encoded data removed]",
      "text/plain": [
       "<Figure size 1080x360 with 1 Axes>"
      ]
     },
     "metadata": {
      "needs_background": "light"
     },
     "output_type": "display_data"
    },
    {
     "data": {
      "image/png": "[encoded data removed]",
      "text/plain": [
       "<Figure size 1080x360 with 1 Axes>"
      ]
     },
     "metadata": {
      "needs_background": "light"
     },
     "output_type": "display_data"
    },
    {
     "name": "stdout",
     "output_type": "stream",
     "text": [
      "Коэффициент корреляции между продажами и отзывами критиков = -0.424\n",
      "Коэффициент корреляции между продажами и отзывами пользователей = 0.296\n",
      "-----------------------------------------------------------------------------------------------------------------\n"
     ]
    }
   ],
   "source": [
    "# и оставшиеся 3 платформы: XOne, WiiU, Wii\n",
    "\n",
    "show_scatterplot_by_rating('XOne')\n",
    "show_scatterplot_by_rating('WiiU')\n",
    "show_scatterplot_by_rating('Wii')"
   ]
  },
  {
   "cell_type": "markdown",
   "metadata": {},
   "source": [
    "<div style=\"border:dotted black 3px; padding: 20px\">\n",
    "    \n",
    "- <i>XOne</i>: есть корреляция продаж и отзывов критиков (сравнима с корреляцией этих же значений у <i>PS4</i>). Корреляция продаж и отзывов пользователей также отсутствует.<br>\n",
    "    \n",
    "- <i>WiiU</i>: есть небольшая корреляция продаж и отзывов критиков (сравнима с корреляцией этих же значений у <i>PS3, X360</i>). В отличии от остальных платформ - есть корреляция продаж и отзывов пользователей.<br>\n",
    "    \n",
    "- <i>Wii</i>: судя по диаграмме очень мало в данных оценок от критиков по данной платформе, корреляция получилась отрицательная: чем ниже оценка, тем выше продажи. По такой маленькой выборке получившийся результат может быть не совсем корректным. Также наблюдается небольшая корреляция продаж и отзывов пользователей.<br>\n",
    "    \n",
    "</div>"
   ]
  },
  {
   "cell_type": "markdown",
   "metadata": {},
   "source": [
    "### Изучение распределения игр по жанрам (2012 г. - 2016 г.)"
   ]
  },
  {
   "cell_type": "markdown",
   "metadata": {},
   "source": [
    "**Посмотрим игр каких жанров больше всего представлено в наших данных, а так же какие из этих жанров самые прибыльные и, наоборот, с самыми низкими продажами.**"
   ]
  },
  {
   "cell_type": "code",
   "execution_count": 30,
   "metadata": {},
   "outputs": [
    {
     "data": {
      "image/png": "[encoded data removed]",
      "text/plain": [
       "<Figure size 1296x432 with 1 Axes>"
      ]
     },
     "metadata": {
      "needs_background": "light"
     },
     "output_type": "display_data"
    }
   ],
   "source": [
    "# строим гистограмму кол-ва игр по жанрам на основании сводной таблицы\n",
    "\n",
    "genres_count = games_data_top_platforms.pivot_table(index='game_genre', values='game_name', aggfunc='count') \\\n",
    ".sort_values(by='game_name', ascending=False).reset_index()\n",
    "genres_count.columns = ['Игровой жанр', 'Количество игр']\n",
    "\n",
    "plt.figure(figsize=(18,6))\n",
    "sns.barplot(data=genres_count, x='Игровой жанр', y='Количество игр', palette=\"tab10\")\n",
    "plt.title('Гистограмма количества игр по жанрам, 2012 г. - 2016 г.', fontsize=15)  \n",
    "plt.show()"
   ]
  },
  {
   "cell_type": "code",
   "execution_count": 31,
   "metadata": {},
   "outputs": [
    {
     "data": {
      "image/png": "[encoded data removed]",
      "text/plain": [
       "<Figure size 1296x432 with 1 Axes>"
      ]
     },
     "metadata": {
      "needs_background": "light"
     },
     "output_type": "display_data"
    }
   ],
   "source": [
    "# создаем сводную таблицу: для каждого жанра считаем сумму продаж игр в этом жанре\n",
    "\n",
    "sales_by_genre = games_data_top_platforms.pivot_table(index='game_genre', values='total_sales', aggfunc='sum') \\\n",
    ".sort_values(by='total_sales', ascending=False).reset_index()      # для удобства отсортируем по убыванию кол-ва продаж \n",
    "sales_by_genre.columns = ['Игровой жанр', 'Продано копий, млн.экз.']\n",
    "\n",
    "# и строим гистограмму для визуального анализа полученной сводной таблицы\n",
    "\n",
    "plt.figure(figsize=(18,6))\n",
    "sns.barplot(data=sales_by_genre, x='Игровой жанр', y='Продано копий, млн.экз.', palette=\"tab10\")\n",
    "plt.title('Гистограмма продаж по игровым жанрам, 2012 г. - 2016 г.', fontsize=15)  \n",
    "plt.show()"
   ]
  },
  {
   "cell_type": "markdown",
   "metadata": {},
   "source": [
    "<div style=\"border:dotted black 3px; padding: 20px\">\n",
    "    \n",
    "Явный жанр-лидер по количеству игр в данном жанре - жанр <i>Action</i> (почти втрое больше идущих следом жанров <i>Sports</i> и <i>Shooter</i>).<br><br>\n",
    "\n",
    "По объему продаж игр выделяются 3 жанра-лидера (по убыванию проданных игр): <i>Action, Shooter, Sports</i>. Стоит отметить, что несмотря на то, что  жанр <i>Shooter</i> представлен по кол-ву игр втрое меньше жанра <i>Action</i> - его прибыльность немногим уступает жанру <i>Action</i>.<br><br>\n",
    "\n",
    "Самые низкодоходные жанры: <i>Puzzle, Strategy, Simulation</i>.   \n",
    "    \n",
    "</div>"
   ]
  },
  {
   "cell_type": "markdown",
   "metadata": {},
   "source": [
    "### Вывод"
   ]
  },
  {
   "cell_type": "markdown",
   "metadata": {},
   "source": [
    "<div style=\"border:solid black 2px; padding: 20px\">\n",
    "    \n",
    "На данном этапе мы произвели исследовательский анализ по различным факторам и выявили следующее:<br><br>\n",
    "- Жизненный цикл популярной платформы составляет **10-11 лет**, из которых наиболее пиковые по объёму продаж только <b>5-6 лет</b>.<br>\n",
    "- <b>Выделили период с 2012 г. по 2016 г. как актуальный</b> для анализа, в течении которого платформа имеет хорошие показатели продаж.<br><br>\n",
    "    \n",
    "    На основании этого периода выявили, что:<br><br>\n",
    "    \n",
    "- Платформы <i>PS4 и XOne</i> имеют тенденцию к росту продаж.<br>\n",
    "- У платформ <i>PS3, X360, 3DS</i> наблюдается тенденция к спаду продаж.<br>\n",
    "- Выделили ТОП-6 популярных платформ с хорошими объемами и размахом продаж: <i>PS3, X360, PS4, XOne, WiiU, Wii.</i><br>\n",
    "- У всех платформ наблюдается небольшая положительная корреляция продаж и отзывов критиков.<br>\n",
    "- Корреляция продаж и отзывов пользователей у всех платформ - отсутствует (<i>за исключением платформы WiiU, где корреляция от отзывов пользователей положительная</i>).<br>\n",
    "- ТОП-3 жанра лидера: <i>Action, Shooter, Sports</i>.<br>\n",
    "- 3 самых низкодоходных жанра: <i>Puzzle, Strategy, Simulation.</i><br>\n",
    "\n",
    "</div>"
   ]
  },
  {
   "cell_type": "markdown",
   "metadata": {},
   "source": [
    "## Изучение игровых предпочтений пользователей по регионам"
   ]
  },
  {
   "cell_type": "markdown",
   "metadata": {},
   "source": [
    "**На основе данных пользователей по регионам (Северная Америка, Европа, Япония и другие страны) составим портрет среднестатистического пользователя. Выделим ТОП-5 платформ, ТОП-5 игровых жанров и проверим влияет ли возрастной ESRB-рейтинг на продажи в конкретно взятом регионе.**"
   ]
  },
  {
   "cell_type": "markdown",
   "metadata": {},
   "source": [
    "Создадим функцию `top5_platforms_and_genres` c 3 аргументами, благодаря которой, в зависимости от изучаемого региона - выведем ТОП-5 платформ и ТОП-5 игровых жанров с долями от общих продаж в регионе, а также построим гистограммы для наглядности."
   ]
  },
  {
   "cell_type": "code",
   "execution_count": 32,
   "metadata": {},
   "outputs": [],
   "source": [
    "# для удобства применения названий далее в функции - дадим каждому столбцу название соответствующего региона\n",
    "\n",
    "games_data_top_platforms['na_sales'].name = 'Северная Америка'\n",
    "games_data_top_platforms['eu_sales'].name = 'Европа'\n",
    "games_data_top_platforms['jp_sales'].name = 'Япония'\n",
    "games_data_top_platforms['other_sales'].name = 'Другие страны'"
   ]
  },
  {
   "cell_type": "code",
   "execution_count": 33,
   "metadata": {},
   "outputs": [],
   "source": [
    "def top5_platforms_and_genres(region_sales, game_platform, game_genre):     # 3 аргумента функции\n",
    "    \n",
    "# для подсчета сформируем 1-ую сводную таблицу, где будет отображаться информация о продажах по каждой платформе\n",
    "\n",
    "    print()\n",
    "    print('ТОП-5 игровых платформ, регион:', games_data_top_platforms[region_sales].name)\n",
    "    region_platforms = games_data_top_platforms.pivot_table(index=game_platform, values=region_sales, aggfunc='sum') \\\n",
    "    .sort_values(by=region_sales, ascending=False).reset_index() \n",
    "    region_platforms.columns = ['Игровая платформа', 'Продано копий, млн.экз']\n",
    "    region_platforms['% от общих продаж'] = ((region_platforms['Продано копий, млн.экз'] / \\\n",
    "                                             games_data_top_platforms[region_sales].sum())*100).round(1)\n",
    "    display(region_platforms.head(5))\n",
    "\n",
    "# и построим гистограмму для визуального анализа\n",
    "\n",
    "    plt.figure(figsize=(12,6))\n",
    "    sns.barplot(data=region_platforms, x='Игровая платформа', y='Продано копий, млн.экз', palette=\"vlag\")\n",
    "    plt.title('Гистограмма продаж по платформам, регион: {}'.format(games_data_top_platforms[region_sales].name), fontsize=15)  \n",
    "    plt.show()\n",
    "\n",
    "#-----------------------------------------------------------------------------------------------------------------------------\n",
    "# сформируем 2-ую сводную таблицу, где будет отображаться информация о продажах по жанру\n",
    "\n",
    "    print('------------------------------------------------------------------------------------------------------------------')\n",
    "    print()\n",
    "    print('ТОП-5 жанров, регион:', games_data_top_platforms[region_sales].name)\n",
    "    region_genres = games_data_top_platforms.pivot_table(index=game_genre, values=region_sales, aggfunc='sum') \\\n",
    "    .sort_values(by=region_sales, ascending=False).reset_index() \n",
    "    region_genres.columns = ['Игровой жанр', 'Продано копий, млн.экз']\n",
    "    region_genres['% от общих продаж'] = ((region_genres['Продано копий, млн.экз'] / \\\n",
    "                                          games_data_top_platforms[region_sales].sum())*100).round(1)\n",
    "    display(region_genres.head(5))\n",
    "\n",
    "# также строим гистограмму для визуального анализа\n",
    "\n",
    "    plt.figure(figsize=(12,6))\n",
    "    sns.barplot(data=region_genres, x='Игровой жанр', y='Продано копий, млн.экз', palette=\"muted\")\n",
    "    plt.title('Гистограмма продаж по жанрам, регион: {}'.format(games_data_top_platforms[region_sales].name), fontsize=15)  \n",
    "    plt.show()\n",
    "    print()"
   ]
  },
  {
   "cell_type": "markdown",
   "metadata": {},
   "source": [
    "### Северная Америка: портрет пользователя"
   ]
  },
  {
   "cell_type": "code",
   "execution_count": 34,
   "metadata": {},
   "outputs": [
    {
     "name": "stdout",
     "output_type": "stream",
     "text": [
      "\n",
      "ТОП-5 игровых платформ, регион: Северная Америка\n"
     ]
    },
    {
     "data": {
      "text/html": [
       "<div>\n",
       "<style scoped>\n",
       "    .dataframe tbody tr th:only-of-type {\n",
       "        vertical-align: middle;\n",
       "    }\n",
       "\n",
       "    .dataframe tbody tr th {\n",
       "        vertical-align: top;\n",
       "    }\n",
       "\n",
       "    .dataframe thead th {\n",
       "        text-align: right;\n",
       "    }\n",
       "</style>\n",
       "<table border=\"1\" class=\"dataframe\">\n",
       "  <thead>\n",
       "    <tr style=\"text-align: right;\">\n",
       "      <th></th>\n",
       "      <th>Игровая платформа</th>\n",
       "      <th>Продано копий, млн.экз</th>\n",
       "      <th>% от общих продаж</th>\n",
       "    </tr>\n",
       "  </thead>\n",
       "  <tbody>\n",
       "    <tr>\n",
       "      <td>0</td>\n",
       "      <td>X360</td>\n",
       "      <td>140.05</td>\n",
       "      <td>28.0</td>\n",
       "    </tr>\n",
       "    <tr>\n",
       "      <td>1</td>\n",
       "      <td>PS4</td>\n",
       "      <td>108.74</td>\n",
       "      <td>21.7</td>\n",
       "    </tr>\n",
       "    <tr>\n",
       "      <td>2</td>\n",
       "      <td>PS3</td>\n",
       "      <td>103.38</td>\n",
       "      <td>20.6</td>\n",
       "    </tr>\n",
       "    <tr>\n",
       "      <td>3</td>\n",
       "      <td>XOne</td>\n",
       "      <td>93.12</td>\n",
       "      <td>18.6</td>\n",
       "    </tr>\n",
       "    <tr>\n",
       "      <td>4</td>\n",
       "      <td>WiiU</td>\n",
       "      <td>38.10</td>\n",
       "      <td>7.6</td>\n",
       "    </tr>\n",
       "  </tbody>\n",
       "</table>\n",
       "</div>"
      ],
      "text/plain": [
       "  Игровая платформа  Продано копий, млн.экз  % от общих продаж\n",
       "0              X360                  140.05               28.0\n",
       "1               PS4                  108.74               21.7\n",
       "2               PS3                  103.38               20.6\n",
       "3              XOne                   93.12               18.6\n",
       "4              WiiU                   38.10                7.6"
      ]
     },
     "metadata": {},
     "output_type": "display_data"
    },
    {
     "data": {
      "image/png": "[encoded data removed]",
      "text/plain": [
       "<Figure size 864x432 with 1 Axes>"
      ]
     },
     "metadata": {
      "needs_background": "light"
     },
     "output_type": "display_data"
    },
    {
     "name": "stdout",
     "output_type": "stream",
     "text": [
      "------------------------------------------------------------------------------------------------------------------\n",
      "\n",
      "ТОП-5 жанров, регион: Северная Америка\n"
     ]
    },
    {
     "data": {
      "text/html": [
       "<div>\n",
       "<style scoped>\n",
       "    .dataframe tbody tr th:only-of-type {\n",
       "        vertical-align: middle;\n",
       "    }\n",
       "\n",
       "    .dataframe tbody tr th {\n",
       "        vertical-align: top;\n",
       "    }\n",
       "\n",
       "    .dataframe thead th {\n",
       "        text-align: right;\n",
       "    }\n",
       "</style>\n",
       "<table border=\"1\" class=\"dataframe\">\n",
       "  <thead>\n",
       "    <tr style=\"text-align: right;\">\n",
       "      <th></th>\n",
       "      <th>Игровой жанр</th>\n",
       "      <th>Продано копий, млн.экз</th>\n",
       "      <th>% от общих продаж</th>\n",
       "    </tr>\n",
       "  </thead>\n",
       "  <tbody>\n",
       "    <tr>\n",
       "      <td>0</td>\n",
       "      <td>Action</td>\n",
       "      <td>155.49</td>\n",
       "      <td>31.0</td>\n",
       "    </tr>\n",
       "    <tr>\n",
       "      <td>1</td>\n",
       "      <td>Shooter</td>\n",
       "      <td>138.87</td>\n",
       "      <td>27.7</td>\n",
       "    </tr>\n",
       "    <tr>\n",
       "      <td>2</td>\n",
       "      <td>Sports</td>\n",
       "      <td>79.54</td>\n",
       "      <td>15.9</td>\n",
       "    </tr>\n",
       "    <tr>\n",
       "      <td>3</td>\n",
       "      <td>Misc</td>\n",
       "      <td>35.43</td>\n",
       "      <td>7.1</td>\n",
       "    </tr>\n",
       "    <tr>\n",
       "      <td>4</td>\n",
       "      <td>Role-Playing</td>\n",
       "      <td>30.28</td>\n",
       "      <td>6.0</td>\n",
       "    </tr>\n",
       "  </tbody>\n",
       "</table>\n",
       "</div>"
      ],
      "text/plain": [
       "   Игровой жанр  Продано копий, млн.экз  % от общих продаж\n",
       "0        Action                  155.49               31.0\n",
       "1       Shooter                  138.87               27.7\n",
       "2        Sports                   79.54               15.9\n",
       "3          Misc                   35.43                7.1\n",
       "4  Role-Playing                   30.28                6.0"
      ]
     },
     "metadata": {},
     "output_type": "display_data"
    },
    {
     "data": {
      "image/png": "[encoded data removed]",
      "text/plain": [
       "<Figure size 864x432 with 1 Axes>"
      ]
     },
     "metadata": {
      "needs_background": "light"
     },
     "output_type": "display_data"
    },
    {
     "name": "stdout",
     "output_type": "stream",
     "text": [
      "\n"
     ]
    }
   ],
   "source": [
    "top5_platforms_and_genres('na_sales', 'game_platform', 'game_genre')"
   ]
  },
  {
   "cell_type": "markdown",
   "metadata": {},
   "source": [
    "<div style=\"border:dotted black 3px; padding: 20px\">\n",
    "    \n",
    "ТОП-5 платформ в Северной Америке: <i>X360, PS4, PS3, XOne, WiiU</i>.<br>\n",
    "При этом доля продаж <i>PS4, PS3</i> практически равнозначна. <br><br>\n",
    "    \n",
    "ТОП-5 жанров игр в Северной Америке: <i>Action, Shooter, Sports, Misc, Role-Playing.</i><br>\n",
    "Доля продаж жанров <i>Action</i> и <i>Shooter</i> незначительно отличается.<br>\n",
    "\n",
    "</div>"
   ]
  },
  {
   "cell_type": "markdown",
   "metadata": {},
   "source": [
    "### Европа: портрет пользователя"
   ]
  },
  {
   "cell_type": "code",
   "execution_count": 35,
   "metadata": {},
   "outputs": [
    {
     "name": "stdout",
     "output_type": "stream",
     "text": [
      "\n",
      "ТОП-5 игровых платформ, регион: Европа\n"
     ]
    },
    {
     "data": {
      "text/html": [
       "<div>\n",
       "<style scoped>\n",
       "    .dataframe tbody tr th:only-of-type {\n",
       "        vertical-align: middle;\n",
       "    }\n",
       "\n",
       "    .dataframe tbody tr th {\n",
       "        vertical-align: top;\n",
       "    }\n",
       "\n",
       "    .dataframe thead th {\n",
       "        text-align: right;\n",
       "    }\n",
       "</style>\n",
       "<table border=\"1\" class=\"dataframe\">\n",
       "  <thead>\n",
       "    <tr style=\"text-align: right;\">\n",
       "      <th></th>\n",
       "      <th>Игровая платформа</th>\n",
       "      <th>Продано копий, млн.экз</th>\n",
       "      <th>% от общих продаж</th>\n",
       "    </tr>\n",
       "  </thead>\n",
       "  <tbody>\n",
       "    <tr>\n",
       "      <td>0</td>\n",
       "      <td>PS4</td>\n",
       "      <td>141.09</td>\n",
       "      <td>34.3</td>\n",
       "    </tr>\n",
       "    <tr>\n",
       "      <td>1</td>\n",
       "      <td>PS3</td>\n",
       "      <td>106.86</td>\n",
       "      <td>26.0</td>\n",
       "    </tr>\n",
       "    <tr>\n",
       "      <td>2</td>\n",
       "      <td>X360</td>\n",
       "      <td>74.52</td>\n",
       "      <td>18.1</td>\n",
       "    </tr>\n",
       "    <tr>\n",
       "      <td>3</td>\n",
       "      <td>XOne</td>\n",
       "      <td>51.59</td>\n",
       "      <td>12.5</td>\n",
       "    </tr>\n",
       "    <tr>\n",
       "      <td>4</td>\n",
       "      <td>WiiU</td>\n",
       "      <td>25.13</td>\n",
       "      <td>6.1</td>\n",
       "    </tr>\n",
       "  </tbody>\n",
       "</table>\n",
       "</div>"
      ],
      "text/plain": [
       "  Игровая платформа  Продано копий, млн.экз  % от общих продаж\n",
       "0               PS4                  141.09               34.3\n",
       "1               PS3                  106.86               26.0\n",
       "2              X360                   74.52               18.1\n",
       "3              XOne                   51.59               12.5\n",
       "4              WiiU                   25.13                6.1"
      ]
     },
     "metadata": {},
     "output_type": "display_data"
    },
    {
     "data": {
      "image/png": "[encoded data removed]",
      "text/plain": [
       "<Figure size 864x432 with 1 Axes>"
      ]
     },
     "metadata": {
      "needs_background": "light"
     },
     "output_type": "display_data"
    },
    {
     "name": "stdout",
     "output_type": "stream",
     "text": [
      "------------------------------------------------------------------------------------------------------------------\n",
      "\n",
      "ТОП-5 жанров, регион: Европа\n"
     ]
    },
    {
     "data": {
      "text/html": [
       "<div>\n",
       "<style scoped>\n",
       "    .dataframe tbody tr th:only-of-type {\n",
       "        vertical-align: middle;\n",
       "    }\n",
       "\n",
       "    .dataframe tbody tr th {\n",
       "        vertical-align: top;\n",
       "    }\n",
       "\n",
       "    .dataframe thead th {\n",
       "        text-align: right;\n",
       "    }\n",
       "</style>\n",
       "<table border=\"1\" class=\"dataframe\">\n",
       "  <thead>\n",
       "    <tr style=\"text-align: right;\">\n",
       "      <th></th>\n",
       "      <th>Игровой жанр</th>\n",
       "      <th>Продано копий, млн.экз</th>\n",
       "      <th>% от общих продаж</th>\n",
       "    </tr>\n",
       "  </thead>\n",
       "  <tbody>\n",
       "    <tr>\n",
       "      <td>0</td>\n",
       "      <td>Action</td>\n",
       "      <td>137.46</td>\n",
       "      <td>33.4</td>\n",
       "    </tr>\n",
       "    <tr>\n",
       "      <td>1</td>\n",
       "      <td>Shooter</td>\n",
       "      <td>104.56</td>\n",
       "      <td>25.4</td>\n",
       "    </tr>\n",
       "    <tr>\n",
       "      <td>2</td>\n",
       "      <td>Sports</td>\n",
       "      <td>63.37</td>\n",
       "      <td>15.4</td>\n",
       "    </tr>\n",
       "    <tr>\n",
       "      <td>3</td>\n",
       "      <td>Racing</td>\n",
       "      <td>25.10</td>\n",
       "      <td>6.1</td>\n",
       "    </tr>\n",
       "    <tr>\n",
       "      <td>4</td>\n",
       "      <td>Role-Playing</td>\n",
       "      <td>24.44</td>\n",
       "      <td>5.9</td>\n",
       "    </tr>\n",
       "  </tbody>\n",
       "</table>\n",
       "</div>"
      ],
      "text/plain": [
       "   Игровой жанр  Продано копий, млн.экз  % от общих продаж\n",
       "0        Action                  137.46               33.4\n",
       "1       Shooter                  104.56               25.4\n",
       "2        Sports                   63.37               15.4\n",
       "3        Racing                   25.10                6.1\n",
       "4  Role-Playing                   24.44                5.9"
      ]
     },
     "metadata": {},
     "output_type": "display_data"
    },
    {
     "data": {
      "image/png": "[encoded data removed]",
      "text/plain": [
       "<Figure size 864x432 with 1 Axes>"
      ]
     },
     "metadata": {
      "needs_background": "light"
     },
     "output_type": "display_data"
    },
    {
     "name": "stdout",
     "output_type": "stream",
     "text": [
      "\n"
     ]
    }
   ],
   "source": [
    "top5_platforms_and_genres('eu_sales', 'game_platform', 'game_genre')"
   ]
  },
  {
   "cell_type": "markdown",
   "metadata": {},
   "source": [
    "<div style=\"border:dotted black 3px; padding: 20px\">\n",
    "    \n",
    "ТОП-5 платформ в Европе: <i>PS4, PS3, X360, XOne, WiiU.</i> <br>\n",
    "PS4 по объему продаж является явным лидером.<br><br>\n",
    "    \n",
    "ТОП-5 жанров игр в Европе: <i>Action, Shooter, Sports, Racing, Role-Playing.</i><br>\n",
    "Жанр <i>Action</i> - лидирует по продажам. <br>\n",
    "\n",
    "</div>"
   ]
  },
  {
   "cell_type": "markdown",
   "metadata": {},
   "source": [
    "### Япония: портрет пользователя"
   ]
  },
  {
   "cell_type": "code",
   "execution_count": 36,
   "metadata": {},
   "outputs": [
    {
     "name": "stdout",
     "output_type": "stream",
     "text": [
      "\n",
      "ТОП-5 игровых платформ, регион: Япония\n"
     ]
    },
    {
     "data": {
      "text/html": [
       "<div>\n",
       "<style scoped>\n",
       "    .dataframe tbody tr th:only-of-type {\n",
       "        vertical-align: middle;\n",
       "    }\n",
       "\n",
       "    .dataframe tbody tr th {\n",
       "        vertical-align: top;\n",
       "    }\n",
       "\n",
       "    .dataframe thead th {\n",
       "        text-align: right;\n",
       "    }\n",
       "</style>\n",
       "<table border=\"1\" class=\"dataframe\">\n",
       "  <thead>\n",
       "    <tr style=\"text-align: right;\">\n",
       "      <th></th>\n",
       "      <th>Игровая платформа</th>\n",
       "      <th>Продано копий, млн.экз</th>\n",
       "      <th>% от общих продаж</th>\n",
       "    </tr>\n",
       "  </thead>\n",
       "  <tbody>\n",
       "    <tr>\n",
       "      <td>0</td>\n",
       "      <td>PS3</td>\n",
       "      <td>35.29</td>\n",
       "      <td>50.7</td>\n",
       "    </tr>\n",
       "    <tr>\n",
       "      <td>1</td>\n",
       "      <td>PS4</td>\n",
       "      <td>15.96</td>\n",
       "      <td>22.9</td>\n",
       "    </tr>\n",
       "    <tr>\n",
       "      <td>2</td>\n",
       "      <td>WiiU</td>\n",
       "      <td>13.01</td>\n",
       "      <td>18.7</td>\n",
       "    </tr>\n",
       "    <tr>\n",
       "      <td>3</td>\n",
       "      <td>Wii</td>\n",
       "      <td>3.39</td>\n",
       "      <td>4.9</td>\n",
       "    </tr>\n",
       "    <tr>\n",
       "      <td>4</td>\n",
       "      <td>X360</td>\n",
       "      <td>1.57</td>\n",
       "      <td>2.3</td>\n",
       "    </tr>\n",
       "  </tbody>\n",
       "</table>\n",
       "</div>"
      ],
      "text/plain": [
       "  Игровая платформа  Продано копий, млн.экз  % от общих продаж\n",
       "0               PS3                   35.29               50.7\n",
       "1               PS4                   15.96               22.9\n",
       "2              WiiU                   13.01               18.7\n",
       "3               Wii                    3.39                4.9\n",
       "4              X360                    1.57                2.3"
      ]
     },
     "metadata": {},
     "output_type": "display_data"
    },
    {
     "data": {
      "image/png": "[encoded data removed]",
      "text/plain": [
       "<Figure size 864x432 with 1 Axes>"
      ]
     },
     "metadata": {
      "needs_background": "light"
     },
     "output_type": "display_data"
    },
    {
     "name": "stdout",
     "output_type": "stream",
     "text": [
      "------------------------------------------------------------------------------------------------------------------\n",
      "\n",
      "ТОП-5 жанров, регион: Япония\n"
     ]
    },
    {
     "data": {
      "text/html": [
       "<div>\n",
       "<style scoped>\n",
       "    .dataframe tbody tr th:only-of-type {\n",
       "        vertical-align: middle;\n",
       "    }\n",
       "\n",
       "    .dataframe tbody tr th {\n",
       "        vertical-align: top;\n",
       "    }\n",
       "\n",
       "    .dataframe thead th {\n",
       "        text-align: right;\n",
       "    }\n",
       "</style>\n",
       "<table border=\"1\" class=\"dataframe\">\n",
       "  <thead>\n",
       "    <tr style=\"text-align: right;\">\n",
       "      <th></th>\n",
       "      <th>Игровой жанр</th>\n",
       "      <th>Продано копий, млн.экз</th>\n",
       "      <th>% от общих продаж</th>\n",
       "    </tr>\n",
       "  </thead>\n",
       "  <tbody>\n",
       "    <tr>\n",
       "      <td>0</td>\n",
       "      <td>Action</td>\n",
       "      <td>21.96</td>\n",
       "      <td>31.6</td>\n",
       "    </tr>\n",
       "    <tr>\n",
       "      <td>1</td>\n",
       "      <td>Role-Playing</td>\n",
       "      <td>12.51</td>\n",
       "      <td>18.0</td>\n",
       "    </tr>\n",
       "    <tr>\n",
       "      <td>2</td>\n",
       "      <td>Shooter</td>\n",
       "      <td>9.05</td>\n",
       "      <td>13.0</td>\n",
       "    </tr>\n",
       "    <tr>\n",
       "      <td>3</td>\n",
       "      <td>Fighting</td>\n",
       "      <td>5.45</td>\n",
       "      <td>7.8</td>\n",
       "    </tr>\n",
       "    <tr>\n",
       "      <td>4</td>\n",
       "      <td>Misc</td>\n",
       "      <td>4.80</td>\n",
       "      <td>6.9</td>\n",
       "    </tr>\n",
       "  </tbody>\n",
       "</table>\n",
       "</div>"
      ],
      "text/plain": [
       "   Игровой жанр  Продано копий, млн.экз  % от общих продаж\n",
       "0        Action                   21.96               31.6\n",
       "1  Role-Playing                   12.51               18.0\n",
       "2       Shooter                    9.05               13.0\n",
       "3      Fighting                    5.45                7.8\n",
       "4          Misc                    4.80                6.9"
      ]
     },
     "metadata": {},
     "output_type": "display_data"
    },
    {
     "data": {
      "image/png": "[encoded data removed]",
      "text/plain": [
       "<Figure size 864x432 with 1 Axes>"
      ]
     },
     "metadata": {
      "needs_background": "light"
     },
     "output_type": "display_data"
    },
    {
     "name": "stdout",
     "output_type": "stream",
     "text": [
      "\n"
     ]
    }
   ],
   "source": [
    "top5_platforms_and_genres('jp_sales', 'game_platform', 'game_genre')"
   ]
  },
  {
   "cell_type": "markdown",
   "metadata": {},
   "source": [
    "<div style=\"border:dotted black 3px; padding: 20px\">\n",
    "    \n",
    "ТОП-5 платформ в Японии: <i>PS3, PS4, WiiU, Wii, X360.</i><br>\n",
    "50% от всех продаж занимает платформа PS3.<br><br>\n",
    "    \n",
    "ТОП-5 жанров игр в Японии: <i>Action, Role-Playing, Shooter, Fighting, Misc.</i><br>\n",
    "Жанр <i>Action</i> - c отрывом лидирует по продажам.<br>\n",
    "</div>"
   ]
  },
  {
   "cell_type": "markdown",
   "metadata": {},
   "source": [
    "### Другие страны: портрет пользователя"
   ]
  },
  {
   "cell_type": "code",
   "execution_count": 37,
   "metadata": {},
   "outputs": [
    {
     "name": "stdout",
     "output_type": "stream",
     "text": [
      "\n",
      "ТОП-5 игровых платформ, регион: Другие страны\n"
     ]
    },
    {
     "data": {
      "text/html": [
       "<div>\n",
       "<style scoped>\n",
       "    .dataframe tbody tr th:only-of-type {\n",
       "        vertical-align: middle;\n",
       "    }\n",
       "\n",
       "    .dataframe tbody tr th {\n",
       "        vertical-align: top;\n",
       "    }\n",
       "\n",
       "    .dataframe thead th {\n",
       "        text-align: right;\n",
       "    }\n",
       "</style>\n",
       "<table border=\"1\" class=\"dataframe\">\n",
       "  <thead>\n",
       "    <tr style=\"text-align: right;\">\n",
       "      <th></th>\n",
       "      <th>Игровая платформа</th>\n",
       "      <th>Продано копий, млн.экз</th>\n",
       "      <th>% от общих продаж</th>\n",
       "    </tr>\n",
       "  </thead>\n",
       "  <tbody>\n",
       "    <tr>\n",
       "      <td>0</td>\n",
       "      <td>PS4</td>\n",
       "      <td>48.35</td>\n",
       "      <td>35.9</td>\n",
       "    </tr>\n",
       "    <tr>\n",
       "      <td>1</td>\n",
       "      <td>PS3</td>\n",
       "      <td>43.26</td>\n",
       "      <td>32.1</td>\n",
       "    </tr>\n",
       "    <tr>\n",
       "      <td>2</td>\n",
       "      <td>X360</td>\n",
       "      <td>20.40</td>\n",
       "      <td>15.1</td>\n",
       "    </tr>\n",
       "    <tr>\n",
       "      <td>3</td>\n",
       "      <td>XOne</td>\n",
       "      <td>14.27</td>\n",
       "      <td>10.6</td>\n",
       "    </tr>\n",
       "    <tr>\n",
       "      <td>4</td>\n",
       "      <td>WiiU</td>\n",
       "      <td>5.95</td>\n",
       "      <td>4.4</td>\n",
       "    </tr>\n",
       "  </tbody>\n",
       "</table>\n",
       "</div>"
      ],
      "text/plain": [
       "  Игровая платформа  Продано копий, млн.экз  % от общих продаж\n",
       "0               PS4                   48.35               35.9\n",
       "1               PS3                   43.26               32.1\n",
       "2              X360                   20.40               15.1\n",
       "3              XOne                   14.27               10.6\n",
       "4              WiiU                    5.95                4.4"
      ]
     },
     "metadata": {},
     "output_type": "display_data"
    },
    {
     "data": {
      "image/png": "[encoded data removed]",
      "text/plain": [
       "<Figure size 864x432 with 1 Axes>"
      ]
     },
     "metadata": {
      "needs_background": "light"
     },
     "output_type": "display_data"
    },
    {
     "name": "stdout",
     "output_type": "stream",
     "text": [
      "------------------------------------------------------------------------------------------------------------------\n",
      "\n",
      "ТОП-5 жанров, регион: Другие страны\n"
     ]
    },
    {
     "data": {
      "text/html": [
       "<div>\n",
       "<style scoped>\n",
       "    .dataframe tbody tr th:only-of-type {\n",
       "        vertical-align: middle;\n",
       "    }\n",
       "\n",
       "    .dataframe tbody tr th {\n",
       "        vertical-align: top;\n",
       "    }\n",
       "\n",
       "    .dataframe thead th {\n",
       "        text-align: right;\n",
       "    }\n",
       "</style>\n",
       "<table border=\"1\" class=\"dataframe\">\n",
       "  <thead>\n",
       "    <tr style=\"text-align: right;\">\n",
       "      <th></th>\n",
       "      <th>Игровой жанр</th>\n",
       "      <th>Продано копий, млн.экз</th>\n",
       "      <th>% от общих продаж</th>\n",
       "    </tr>\n",
       "  </thead>\n",
       "  <tbody>\n",
       "    <tr>\n",
       "      <td>0</td>\n",
       "      <td>Action</td>\n",
       "      <td>45.67</td>\n",
       "      <td>33.9</td>\n",
       "    </tr>\n",
       "    <tr>\n",
       "      <td>1</td>\n",
       "      <td>Shooter</td>\n",
       "      <td>35.51</td>\n",
       "      <td>26.3</td>\n",
       "    </tr>\n",
       "    <tr>\n",
       "      <td>2</td>\n",
       "      <td>Sports</td>\n",
       "      <td>21.38</td>\n",
       "      <td>15.9</td>\n",
       "    </tr>\n",
       "    <tr>\n",
       "      <td>3</td>\n",
       "      <td>Role-Playing</td>\n",
       "      <td>8.68</td>\n",
       "      <td>6.4</td>\n",
       "    </tr>\n",
       "    <tr>\n",
       "      <td>4</td>\n",
       "      <td>Misc</td>\n",
       "      <td>6.80</td>\n",
       "      <td>5.0</td>\n",
       "    </tr>\n",
       "  </tbody>\n",
       "</table>\n",
       "</div>"
      ],
      "text/plain": [
       "   Игровой жанр  Продано копий, млн.экз  % от общих продаж\n",
       "0        Action                   45.67               33.9\n",
       "1       Shooter                   35.51               26.3\n",
       "2        Sports                   21.38               15.9\n",
       "3  Role-Playing                    8.68                6.4\n",
       "4          Misc                    6.80                5.0"
      ]
     },
     "metadata": {},
     "output_type": "display_data"
    },
    {
     "data": {
      "image/png": "[encoded data removed]",
      "text/plain": [
       "<Figure size 864x432 with 1 Axes>"
      ]
     },
     "metadata": {
      "needs_background": "light"
     },
     "output_type": "display_data"
    },
    {
     "name": "stdout",
     "output_type": "stream",
     "text": [
      "\n"
     ]
    }
   ],
   "source": [
    "top5_platforms_and_genres('other_sales', 'game_platform', 'game_genre')"
   ]
  },
  {
   "cell_type": "markdown",
   "metadata": {},
   "source": [
    "<div style=\"border:dotted black 3px; padding: 20px\">\n",
    "    \n",
    "ТОП-5 платформ в других странах: <i>PS4, PS3, X360, XOne, WiiU.</i><br>\n",
    "По объему продаж практически идентичны <i>PS4</i> и <i>PS3</i>.<br><br>\n",
    "    \n",
    "ТОП-5 жанров игр в других странах: <i>Action, Shooter, Sports, Role-Playing, Misc.</i><br>\n",
    "Жанр <i>Action</i> - лидирует по продажам.<br>\n",
    "    \n",
    "</div>"
   ]
  },
  {
   "cell_type": "markdown",
   "metadata": {},
   "source": [
    "### Вывод"
   ]
  },
  {
   "cell_type": "markdown",
   "metadata": {},
   "source": [
    "<div style=\"border:solid black 2px; padding: 20px\">\n",
    "    \n",
    "На данном этапе по каждому из регионов мы определили ТОП-5 популярных платформ и ТОП-5 популярных игровых жанров. <br>\n",
    "Мы выяснили, что:<br><br>\n",
    "\n",
    "- В Северной Америке и Европе лидируют 3 одинаковые платформы (но с немного разными показателями продаж): PS4, PS3, X360. Эти же платформы лидируют и в остальных странах.<br>\n",
    "- В Японии же 50% от общих продаж приходится на платформу PS3.<br>\n",
    "- В Северной Америке и Европе лидируют 3 игровых жанра: Action, Shooter, Sports.<br>\n",
    "- Жанр Action во всех регионах является лидером продаж.<br>\n",
    "- По предпочтению жанров выделяется только Япония: в отличии от жанра-лидера продаж Action на 2-й позиции жанр Role-Playing. А также единственный жанр в ТОП-5 в Японии, который во всех остальных регионах отсутствует - это жанр Fighting.<br>\n",
    "- Остальные популярные жанры во всех регионах (с разным расположением относительно продаж) - это Racing, Misc, Role-Playing.<br>\n",
    "- Во всех регионах самые низкодоходные игровые 3 жанра: Puzzle, Strategy, Simulation.<br><br>\n",
    "    \n",
    "<i>Прим.:</i> портрет пользователя из 'Других стран' схож по показателям с портретом игровых предпочтений пользователя из Европы.<br>\n",
    "    \n",
    "</div>"
   ]
  },
  {
   "cell_type": "markdown",
   "metadata": {},
   "source": [
    "## Изучение влияния ESRB-рейтинга на продажи в каждом из регионов"
   ]
  },
  {
   "cell_type": "markdown",
   "metadata": {},
   "source": [
    "**Изучим влияет ли возрастной рейтинг организации ESRB на продажи в каждом из регионов.** В предобработке столбец `esrb_rating` имел пропуски, которые мы заменили строчным значением \"not_defined\" (не определен). "
   ]
  },
  {
   "cell_type": "code",
   "execution_count": 38,
   "metadata": {},
   "outputs": [
    {
     "name": "stdout",
     "output_type": "stream",
     "text": [
      "\n",
      "Объём продаж игр (по регионам) в зависимости от ESRB-рейтинга (в млн.экз.)\n"
     ]
    },
    {
     "data": {
      "text/html": [
       "<div>\n",
       "<style scoped>\n",
       "    .dataframe tbody tr th:only-of-type {\n",
       "        vertical-align: middle;\n",
       "    }\n",
       "\n",
       "    .dataframe tbody tr th {\n",
       "        vertical-align: top;\n",
       "    }\n",
       "\n",
       "    .dataframe thead th {\n",
       "        text-align: right;\n",
       "    }\n",
       "</style>\n",
       "<table border=\"1\" class=\"dataframe\">\n",
       "  <thead>\n",
       "    <tr style=\"text-align: right;\">\n",
       "      <th></th>\n",
       "      <th>esrb_rating</th>\n",
       "      <th>na_sales</th>\n",
       "      <th>eu_sales</th>\n",
       "      <th>jp_sales</th>\n",
       "      <th>other_sales</th>\n",
       "    </tr>\n",
       "  </thead>\n",
       "  <tbody>\n",
       "    <tr>\n",
       "      <td>0</td>\n",
       "      <td>E</td>\n",
       "      <td>94.17</td>\n",
       "      <td>90.05</td>\n",
       "      <td>11.17</td>\n",
       "      <td>26.74</td>\n",
       "    </tr>\n",
       "    <tr>\n",
       "      <td>1</td>\n",
       "      <td>E10+</td>\n",
       "      <td>64.89</td>\n",
       "      <td>45.07</td>\n",
       "      <td>4.01</td>\n",
       "      <td>13.82</td>\n",
       "    </tr>\n",
       "    <tr>\n",
       "      <td>2</td>\n",
       "      <td>M</td>\n",
       "      <td>214.76</td>\n",
       "      <td>173.64</td>\n",
       "      <td>17.76</td>\n",
       "      <td>58.58</td>\n",
       "    </tr>\n",
       "    <tr>\n",
       "      <td>3</td>\n",
       "      <td>T</td>\n",
       "      <td>54.81</td>\n",
       "      <td>41.44</td>\n",
       "      <td>13.86</td>\n",
       "      <td>14.95</td>\n",
       "    </tr>\n",
       "    <tr>\n",
       "      <td>4</td>\n",
       "      <td>not_defined</td>\n",
       "      <td>72.21</td>\n",
       "      <td>60.91</td>\n",
       "      <td>22.76</td>\n",
       "      <td>20.75</td>\n",
       "    </tr>\n",
       "  </tbody>\n",
       "</table>\n",
       "</div>"
      ],
      "text/plain": [
       "   esrb_rating  na_sales  eu_sales  jp_sales  other_sales\n",
       "0            E     94.17     90.05     11.17        26.74\n",
       "1         E10+     64.89     45.07      4.01        13.82\n",
       "2            M    214.76    173.64     17.76        58.58\n",
       "3            T     54.81     41.44     13.86        14.95\n",
       "4  not_defined     72.21     60.91     22.76        20.75"
      ]
     },
     "metadata": {},
     "output_type": "display_data"
    }
   ],
   "source": [
    "# сгруппируем по рейтингу и подсчитаем для каждого региона суммарные продажи\n",
    "\n",
    "esrb_region_sales = \\\n",
    "games_data_top_platforms.groupby('esrb_rating').agg({'na_sales': 'sum', 'eu_sales': 'sum', \\\n",
    "                                                     'jp_sales': 'sum', 'other_sales': 'sum'}).reset_index()\n",
    "print()\n",
    "print('Объём продаж игр (по регионам) в зависимости от ESRB-рейтинга (в млн.экз.)')\n",
    "display(esrb_region_sales)  # выведем на экран сгруппированную таблицу"
   ]
  },
  {
   "cell_type": "markdown",
   "metadata": {},
   "source": [
    "Теперь на основании этого датафрейма `esrb_region_sales` построим гистограммы продаж для каждого из представленных регионов. \n",
    "\n",
    "Установим ось `x` с названиями категорий рейтинга - единой для всех 4 регионов."
   ]
  },
  {
   "cell_type": "code",
   "execution_count": 39,
   "metadata": {},
   "outputs": [
    {
     "data": {
      "image/png": "[encoded data removed]",
      "text/plain": [
       "<Figure size 1008x648 with 4 Axes>"
      ]
     },
     "metadata": {
      "needs_background": "light"
     },
     "output_type": "display_data"
    }
   ],
   "source": [
    "f, (ax1, ax2, ax3, ax4) = plt.subplots(4, 1, figsize=(14, 9), sharex=True)\n",
    "\n",
    "# гистограмма для Севереной Америки\n",
    "\n",
    "ax1.set_title('Гистограмма объёма продаж игр (по регионам) в зависимости от ESRB-рейтинга (в млн.экз.)', fontsize=15)  \n",
    "x = esrb_region_sales['esrb_rating']\n",
    "y1 = esrb_region_sales['na_sales']\n",
    "sns.barplot(x=x, y=y1, ax=ax1, palette=\"magma\")\n",
    "ax1.axhline(0, color=\"k\")\n",
    "ax1.set_ylabel(\"Северная Америка\", fontsize=13)\n",
    "ax1.set_xlabel(\"\")\n",
    "ax1.tick_params(labelsize=12)\n",
    "\n",
    "# гистограмма для Европы\n",
    "\n",
    "y2 = esrb_region_sales['eu_sales']\n",
    "sns.barplot(x=x, y=y2, ax=ax2, palette=\"magma\")\n",
    "ax2.axhline(0, color=\"k\")\n",
    "ax2.set_ylabel(\"Европа\", fontsize=13)\n",
    "ax2.set_xlabel(\"\")\n",
    "ax2.tick_params(labelsize=12)\n",
    "\n",
    "# гистограмма для Японии\n",
    "\n",
    "y3 = esrb_region_sales['jp_sales']\n",
    "sns.barplot(x=x, y=y3, ax=ax3, palette=\"magma\")\n",
    "ax3.axhline(0, color=\"k\")\n",
    "ax3.set_ylabel(\"Япония\", fontsize=13)\n",
    "ax3.set_xlabel(\"\")\n",
    "ax3.tick_params(labelsize=12)\n",
    "\n",
    "# гистограмма для Других стран\n",
    "\n",
    "y4 = esrb_region_sales['other_sales']\n",
    "sns.barplot(x=x, y=y4, ax=ax4, palette=\"magma\")\n",
    "ax4.axhline(0, color=\"k\")\n",
    "ax4.set_ylabel(\"Другие страны\", fontsize=13)\n",
    "ax4.set_xlabel(\"ESRB-рейтинг\", fontsize=13)\n",
    "ax4.tick_params(labelsize=12)\n"
   ]
  },
  {
   "cell_type": "markdown",
   "metadata": {},
   "source": [
    "Дадим еще раз расшифровку ESRB-рейтинга.\n",
    "- **Е** («Everyone») — «Для всех»: Содержание вполне подходит для возрастной категории от 6 лет и старше.\n",
    "- **E10+** («Everyone 10 and older») — «Для всех от 10 лет и старше».\n",
    "- **M** («Mature») — «Для взрослых»: Материалы игры не подходят для подростков младше 17 лет.\n",
    "- **T** («Teen») — «Подросткам»: Игра подходит для лиц от 13 лет и старше.\n",
    "\n",
    "- **not_defined** — нет информации про возрастную группу."
   ]
  },
  {
   "cell_type": "markdown",
   "metadata": {},
   "source": [
    "### Вывод"
   ]
  },
  {
   "cell_type": "markdown",
   "metadata": {},
   "source": [
    "<div style=\"border:solid black 2px; padding: 20px\">\n",
    "    \n",
    "На данном этапе мы выяснили какое влияние оказывает ворастной рейтинг ESRB на продажи (по регионам):<br><br>\n",
    "- Игры с рейтингом <i>M (для взрослых от 18 лет)</i> во всех регионах наиболее продаваемые (здесь похоже больше связь с тем, что самые популярные жанры игр (как мы определили ранее) - это Action и Shooter, которые чаще всего как раз не рекомендуются подросткам).<br> На 2-ом месте - игры с рейтингом <i>E (для всех)</i>. На 3-ем - без определенного рейтинга.<br>\n",
    "- Стоит отметить, что в Японии снова видно отличие от остальных регионов. <br> Объем продаж игр без маркировки возраста превосходит продажи игр всех остальных рейтингов. Данную особенность можно объяснить тем, что в Японии существует собственная государственная рейтинговая организация CERO, именно поэтому мы наблюдаем, что игры без рейтинга  - 1-ые по продажам, но это связано лишь с отсутствием у нас информации о прочих рейтингах помимо ESRB и сложно сделать вывод на основании такого рейтинга касаемо Японии.<br>\n",
    "- А также игры с рейтингом <i>T (для подростков)</i> в Японии  наиболее продаваемые, чем с рейтингом <i>E (для всех)</i> в сравнении с другими странами, что также подтверждает иную картину данного распределения по сравнению с остальными регионами.<br>\n",
    "    \n",
    "</div>"
   ]
  },
  {
   "cell_type": "markdown",
   "metadata": {},
   "source": [
    "## Проверка гипотез"
   ]
  },
  {
   "cell_type": "markdown",
   "metadata": {},
   "source": [
    "### Гипотеза №1: о равенстве средних пользовательских рейтингов платформы *XOne* и платформы *PC*"
   ]
  },
  {
   "cell_type": "markdown",
   "metadata": {},
   "source": [
    "**Сформулируем нулевую гипотезу H0:**\n",
    "\n",
    "- **H0:** Средний пользовательский рейтинг платформы *XOne* равен среднему пользовательскому рейтингу платформы *PC*.\n",
    "\n",
    "**Сформулируем альтернативную гипотезу H1:**\n",
    "\n",
    "- **H1:** Средний пользовательский рейтинг платформы *XOne* отличается от среднего пользовательского рейтинга платформы *PC*.\n",
    "\n",
    "Для проверки гипотезы о равенстве среднего двух генеральных совокупностей по взятым из них выборкам, применим метод `scipy.stats.ttest_ind`. Для ttest-а будем использовать датафрейм `games_data_actual`, поскольку в последнем датафрейме `games_data_top_platforms` с топовыми платформами - платформа PC отсутствует.\n",
    "\n",
    "Критический уровень статистической значимости установим  = 0.05 и считаем его допустимым, т.к. в нашей гипотезе мы проверяем равенство или отличие, и у нас нет информации от руководства интернет-магазина о возможных финансовых рисках, которые могли бы повлиять на наше решение снизить уровень значимости ниже 0.05."
   ]
  },
  {
   "cell_type": "code",
   "execution_count": 40,
   "metadata": {},
   "outputs": [
    {
     "name": "stdout",
     "output_type": "stream",
     "text": [
      "Дисперсия \"xone_rating\"= 1.9069968429360695\n",
      "Дисперсия \"pc_rating\"= 2.770443997158418\n"
     ]
    }
   ],
   "source": [
    "# для корректной отработки кода при проверке гипотез избавимся от пропусков в столбце `user_rating`\n",
    "\n",
    "games_data_actual = games_data_actual.dropna(subset=['user_rating'])\n",
    "\n",
    "# делаем срезы по нужным платформам и выбираем 1 столбец с рейтингом `user_rating`\n",
    "\n",
    "xone_rating = games_data_actual.query('game_platform == \"XOne\"')['user_rating']  \n",
    "pc_rating = games_data_actual.query('game_platform == \"PC\"')['user_rating']\n",
    "\n",
    "# определим дисперсии, чтобы понять какое значение параметра `equal_var` использовать в `ttest`\n",
    "\n",
    "xone_var = np.var(xone_rating, ddof=1)\n",
    "pc_var = np.var(pc_rating, ddof=1)\n",
    "print('Дисперсия \"xone_rating\"=', xone_var)\n",
    "print('Дисперсия \"pc_rating\"=', pc_var)"
   ]
  },
  {
   "cell_type": "code",
   "execution_count": 41,
   "metadata": {},
   "outputs": [
    {
     "name": "stdout",
     "output_type": "stream",
     "text": [
      "p-значение: 0.5489537965134912\n",
      "Не получилось отвергнуть нулевую гипотезу\n"
     ]
    }
   ],
   "source": [
    "alpha = 0.05\n",
    "results = st.ttest_ind(xone_rating, pc_rating, equal_var = False) # False, т.к. дисперсии совокупностей разные\n",
    "print('p-значение:', results.pvalue)\n",
    "\n",
    "if results.pvalue < alpha:\n",
    "    print(\"Отвергаем нулевую гипотезу\")\n",
    "else:\n",
    "    print('Не получилось отвергнуть нулевую гипотезу')"
   ]
  },
  {
   "cell_type": "markdown",
   "metadata": {},
   "source": [
    "<div style=\"border:dotted black 3px; padding: 20px\">\n",
    "    \n",
    "Таким образом, нет оснований отвергать <i>H0</i> и с вероятностью 55% средний пользовательский рейтинг платформы XOne равен среднему пользовательскому рейтингу платформы PC.\n",
    "    \n",
    "</div>"
   ]
  },
  {
   "cell_type": "markdown",
   "metadata": {},
   "source": [
    "### Гипотеза №2: о различии пользовательских рейтингов жанра *Action* и жанра *Sports*"
   ]
  },
  {
   "cell_type": "markdown",
   "metadata": {},
   "source": [
    "**Сформулируем нулевую гипотезу H0:**\n",
    "\n",
    "- **H0:** Средний пользовательский рейтинг жанра *Action* равен среднему пользовательскому рейтингу жанра *Sports*.\n",
    "\n",
    "**Сформулируем альтернативную гипотезу H1:**\n",
    "\n",
    "- **H1:** Средний пользовательский рейтинг жанра *Action* отличается от среднего пользовательского рейтинга жанра *Sports*.\n",
    "\n",
    "Для проверки гипотезы о равенстве среднего двух генеральных совокупностей по взятым из них выборкам, применим метод `scipy.stats.ttest_ind`. Для ttest-а будем использовать также датафрейм `games_data_actual`, поскольку выборка - благодаря большему числу платформ - больше, чем в последнем датафрейме `games_data_top_platforms`.\n",
    "\n",
    "Критический уровень статистической значимости установим = 0.05 и считаем его допустимым, т.к. в нашей гипотезе (как и в 1-ой гипотезе) мы проверяем равенство или отличие, и у нас нет информации от руководства интернет-магазина о возможных финансовых рисках, которые могли бы повлиять на наше решение снизить уровень значимости ниже 0.05."
   ]
  },
  {
   "cell_type": "code",
   "execution_count": 42,
   "metadata": {},
   "outputs": [
    {
     "name": "stdout",
     "output_type": "stream",
     "text": [
      "Дисперсия \"action_rating\"= 1.8890840494348111\n",
      "Дисперсия \"sports_rating\"= 3.022890298704732\n"
     ]
    }
   ],
   "source": [
    "# делаем срезы по нужным жанрам и выбираем 1 столбец с рейтингом `user_rating`\n",
    "\n",
    "action_rating = games_data_actual.query('game_genre == \"Action\"')['user_rating']  \n",
    "sports_rating = games_data_actual.query('game_genre == \"Sports\"')['user_rating']\n",
    "\n",
    "# определим дисперсии, чтобы понять какое значение параметра `equal_var` использовать в `ttest`\n",
    "\n",
    "action_var = np.var(action_rating, ddof=1)\n",
    "sports_var = np.var(sports_rating, ddof=1)\n",
    "print('Дисперсия \"action_rating\"=', action_var)\n",
    "print('Дисперсия \"sports_rating\"=', sports_var)"
   ]
  },
  {
   "cell_type": "code",
   "execution_count": 43,
   "metadata": {},
   "outputs": [
    {
     "name": "stdout",
     "output_type": "stream",
     "text": [
      "p-значение: 4.24307776572644e-20\n",
      "Отвергаем нулевую гипотезу\n"
     ]
    }
   ],
   "source": [
    "alpha = 0.05\n",
    "results = st.ttest_ind(action_rating, sports_rating, equal_var = False)  # False, т.к. дисперсии совокупностей разные\n",
    "print('p-значение:', results.pvalue)\n",
    "\n",
    "if results.pvalue < alpha:\n",
    "    print(\"Отвергаем нулевую гипотезу\")\n",
    "else:\n",
    "    print('Не получилось отвергнуть нулевую гипотезу')"
   ]
  },
  {
   "cell_type": "markdown",
   "metadata": {},
   "source": [
    "<div style=\"border:dotted black 3px; padding: 20px\">\n",
    "\n",
    "Таким образом, мы отвергаем <i>H0</i> и принимаем альтернативную <i>H1</i>: средний пользовательский рейтинг жанра Action отличается от среднего пользовательского рейтинга жанра Sports.\n",
    "    \n",
    "</div>"
   ]
  },
  {
   "cell_type": "markdown",
   "metadata": {},
   "source": [
    "### Вывод"
   ]
  },
  {
   "cell_type": "markdown",
   "metadata": {},
   "source": [
    "<div style=\"border:solid black 2px; padding: 20px\">\n",
    "    \n",
    "На данном этапе мы проверили 2 гипотезы и определили, что:<br><br>\n",
    "- Средний пользовательский рейтинг платформы XOne равен среднему пользовательскому рейтингу платформы PC. <br>\n",
    "- Средний пользовательский рейтинг жанра Action отличается от среднего пользовательского рейтинга жанра Sports.<br>\n",
    "\n",
    "</div>"
   ]
  },
  {
   "cell_type": "markdown",
   "metadata": {},
   "source": [
    "## Общий вывод"
   ]
  },
  {
   "cell_type": "markdown",
   "metadata": {},
   "source": [
    "<div style=\"border: ridge black 3px; padding: 25px\">\n",
    "<b>По результатам проведенного исследования по изучению и выявлению факторов, влияющих на успешность и популярность (высокие продажи) компьютерных игр в прогнозе на 2017 г. мы выделили разные закономерности (платформы, жанры) для каждого из регионов, на которые следует обратить внимание при оганизации рекламной кампании по продвижению игр на 2017 г.</b><br><br>\n",
    "    \n",
    "<b>Северная Америка:</b><br>\n",
    "1. ТОП-5 платформ (по убыванию популярности): X360, PS4, PS3, XOne, Wii.<br>\n",
    "2. ТОП-5 жанров игр (по убыванию популярности): Action, Shooter, Sports, Misc, Role-Playing.<br>\n",
    "Прим.: у платформы X360 возможен спад продаж, т.к. выявлена тенденция на сокращение продаж.<br><br>\n",
    "\n",
    "<b>Европа:</b><br>\n",
    "1. ТОП-5 платформ в Европе (по убыванию популярности): PS4, PS3, X360, XOne, WiiU.<br>\n",
    "2. ТОП-5 жанров игр (по убыванию популярности): Action, Shooter, Sports, Racing, Role-Playing.<br><br>\n",
    "   \n",
    "<b>Япония:</b><br>\n",
    "1. ТОП-5 платформ (по убыванию популярности): PS3, PS4, WiiU, Wii, X360.<br>\n",
    "Прим.: у платформы PS3 возможен спад продаж, т.к. выявлена тенденция на сокращение продаж, но 50% от всех продаж за период 2012 г. - 2016 г. занимает платформа PS3.<br>\n",
    "2. ТОП-5 жанров игр (по убыванию популярности): Action, Role-Playing, Shooter, Fighting, Misc.<br>\n",
    "3. Для определения влияния возрастного рейтинга на продажи игр в Японии целесообразно изучать рейтинг CERO, т.к. из-за недостающих данных рейтинга ESRB сложно сделать вывод о влиянии возрастных рейтингов на продажи .<br><br>\n",
    "    \n",
    "<b>Другие страны:</b><br>\n",
    "1. ТОП-5 платформ (по убыванию популярности): PS4, PS3, X360, XOne, WiiU. <br>\n",
    "2. ТОП-5 жанров игр (по убыванию популярности): Action, Shooter, Sports, Role-Playing, Misc.<br><br>\n",
    "    \n",
    "<b>Для всех регионов характерно:</b><br>\n",
    "\n",
    "- Самые низкодоходные жанры: Puzzle, Strategy, Simulation.<br>\n",
    "- Перспективные платформы с хорошим объемом продаж и с тенденцией к росту, появившиеся в 2013 г.: PS4, XOne.<br>\n",
    "- Платформы с хорошим объемом продаж, но с тенденцией на спад продаж: PS3, X360.<br>\n",
    "- Применительно к каждой из популярных платформ отслеживается небольшая положительная корреляция оценочного рейтинга критиков и объемов продаж игр.<br>\n",
    "- Корреляция оценочного рейтинга пользователей и объемов продаж игр - отсутствует.<br>\n",
    "- Игры с ESRB-рейтингом M (\"для взрослых\") наиболее популярны, но взаимосвязь больше с высокой популярностью игр в жанрах Action, Shooter, которые чаще всего не рекомендуется для подростков и детей.<br>\n",
    "\n",
    "    \n",
    "</div>"
   ]
  },
  {
   "cell_type": "code",
   "execution_count": null,
   "metadata": {},
   "outputs": [],
   "source": []
  }
 ],
 "metadata": {
  "ExecuteTimeLog": [
   {
    "duration": 1520,
    "start_time": "2021-07-18T13:19:00.172Z"
   },
   {
    "duration": 51,
    "start_time": "2021-07-18T13:19:01.695Z"
   },
   {
    "duration": 9,
    "start_time": "2021-07-18T13:19:01.749Z"
   },
   {
    "duration": 54,
    "start_time": "2021-07-18T13:19:01.761Z"
   },
   {
    "duration": 6,
    "start_time": "2021-07-18T13:19:01.817Z"
   },
   {
    "duration": 1103,
    "start_time": "2021-07-18T13:19:01.825Z"
   },
   {
    "duration": 29,
    "start_time": "2021-07-18T13:19:02.931Z"
   },
   {
    "duration": 24,
    "start_time": "2021-07-18T13:19:02.964Z"
   },
   {
    "duration": 20,
    "start_time": "2021-07-18T13:19:02.992Z"
   },
   {
    "duration": 72,
    "start_time": "2021-07-18T13:19:03.015Z"
   },
   {
    "duration": 9,
    "start_time": "2021-07-18T13:19:03.090Z"
   },
   {
    "duration": 32,
    "start_time": "2021-07-18T13:19:03.102Z"
   },
   {
    "duration": 15,
    "start_time": "2021-07-18T13:19:03.137Z"
   },
   {
    "duration": 51,
    "start_time": "2021-07-18T13:19:03.155Z"
   },
   {
    "duration": 886,
    "start_time": "2021-07-18T13:19:03.209Z"
   },
   {
    "duration": 760,
    "start_time": "2021-07-18T13:19:04.098Z"
   },
   {
    "duration": 763,
    "start_time": "2021-07-18T13:19:04.861Z"
   },
   {
    "duration": 14,
    "start_time": "2021-07-18T13:19:05.627Z"
   },
   {
    "duration": 6,
    "start_time": "2021-07-18T13:19:05.687Z"
   },
   {
    "duration": 17,
    "start_time": "2021-07-18T13:19:05.696Z"
   },
   {
    "duration": 832,
    "start_time": "2021-07-18T13:19:05.715Z"
   },
   {
    "duration": 754,
    "start_time": "2021-07-18T13:19:06.550Z"
   },
   {
    "duration": 29,
    "start_time": "2021-07-18T13:19:07.312Z"
   },
   {
    "duration": 45,
    "start_time": "2021-07-18T13:19:07.345Z"
   },
   {
    "duration": 10,
    "start_time": "2021-07-18T13:19:07.393Z"
   },
   {
    "duration": 1068,
    "start_time": "2021-07-18T13:19:07.405Z"
   },
   {
    "duration": 978,
    "start_time": "2021-07-18T13:19:08.476Z"
   },
   {
    "duration": 1042,
    "start_time": "2021-07-18T13:19:09.457Z"
   },
   {
    "duration": 3037,
    "start_time": "2021-07-18T13:19:10.501Z"
   },
   {
    "duration": 514,
    "start_time": "2021-07-18T13:19:13.540Z"
   },
   {
    "duration": 528,
    "start_time": "2021-07-18T13:19:14.057Z"
   },
   {
    "duration": 4,
    "start_time": "2021-07-18T13:19:14.588Z"
   },
   {
    "duration": 13,
    "start_time": "2021-07-18T13:19:14.595Z"
   },
   {
    "duration": 888,
    "start_time": "2021-07-18T13:19:14.610Z"
   },
   {
    "duration": 884,
    "start_time": "2021-07-18T13:19:15.501Z"
   },
   {
    "duration": 877,
    "start_time": "2021-07-18T13:19:16.388Z"
   },
   {
    "duration": 977,
    "start_time": "2021-07-18T13:19:17.268Z"
   },
   {
    "duration": 37,
    "start_time": "2021-07-18T13:19:18.248Z"
   },
   {
    "duration": 1253,
    "start_time": "2021-07-18T13:19:18.288Z"
   },
   {
    "duration": 18,
    "start_time": "2021-07-18T13:19:19.544Z"
   },
   {
    "duration": 7,
    "start_time": "2021-07-18T13:19:19.586Z"
   },
   {
    "duration": 15,
    "start_time": "2021-07-18T13:19:19.595Z"
   },
   {
    "duration": 7,
    "start_time": "2021-07-18T13:19:19.612Z"
   },
   {
    "duration": 8,
    "start_time": "2021-07-18T13:19:25.304Z"
   },
   {
    "duration": 438,
    "start_time": "2021-07-18T14:00:15.723Z"
   },
   {
    "duration": 29,
    "start_time": "2021-07-18T14:01:25.768Z"
   },
   {
    "duration": 1197,
    "start_time": "2021-07-20T22:27:36.689Z"
   },
   {
    "duration": 37,
    "start_time": "2021-07-20T22:27:37.888Z"
   },
   {
    "duration": 7,
    "start_time": "2021-07-20T22:27:37.927Z"
   },
   {
    "duration": 27,
    "start_time": "2021-07-20T22:27:37.941Z"
   },
   {
    "duration": 4,
    "start_time": "2021-07-20T22:27:37.970Z"
   },
   {
    "duration": 2096,
    "start_time": "2021-07-20T22:27:37.976Z"
   },
   {
    "duration": 18,
    "start_time": "2021-07-20T22:27:40.074Z"
   },
   {
    "duration": 4,
    "start_time": "2021-07-20T22:27:40.095Z"
   },
   {
    "duration": 8,
    "start_time": "2021-07-20T22:27:40.102Z"
   },
   {
    "duration": 76,
    "start_time": "2021-07-20T22:27:40.112Z"
   },
   {
    "duration": 4,
    "start_time": "2021-07-20T22:27:40.190Z"
   },
   {
    "duration": 25,
    "start_time": "2021-07-20T22:27:40.196Z"
   },
   {
    "duration": 26,
    "start_time": "2021-07-20T22:27:40.223Z"
   },
   {
    "duration": 16,
    "start_time": "2021-07-20T22:27:40.251Z"
   },
   {
    "duration": 481,
    "start_time": "2021-07-20T22:27:40.269Z"
   },
   {
    "duration": 411,
    "start_time": "2021-07-20T22:27:40.753Z"
   },
   {
    "duration": 456,
    "start_time": "2021-07-20T22:27:41.167Z"
   },
   {
    "duration": 19,
    "start_time": "2021-07-20T22:27:41.625Z"
   },
   {
    "duration": 4,
    "start_time": "2021-07-20T22:27:41.645Z"
   },
   {
    "duration": 6,
    "start_time": "2021-07-20T22:27:41.651Z"
   },
   {
    "duration": 691,
    "start_time": "2021-07-20T22:27:41.659Z"
   },
   {
    "duration": 437,
    "start_time": "2021-07-20T22:27:42.352Z"
   },
   {
    "duration": 16,
    "start_time": "2021-07-20T22:27:42.793Z"
   },
   {
    "duration": 33,
    "start_time": "2021-07-20T22:27:42.811Z"
   },
   {
    "duration": 7,
    "start_time": "2021-07-20T22:27:42.846Z"
   },
   {
    "duration": 743,
    "start_time": "2021-07-20T22:27:42.854Z"
   },
   {
    "duration": 595,
    "start_time": "2021-07-20T22:27:43.598Z"
   },
   {
    "duration": 728,
    "start_time": "2021-07-20T22:27:44.195Z"
   },
   {
    "duration": 2078,
    "start_time": "2021-07-20T22:27:44.925Z"
   },
   {
    "duration": 290,
    "start_time": "2021-07-20T22:27:47.005Z"
   },
   {
    "duration": 297,
    "start_time": "2021-07-20T22:27:47.297Z"
   },
   {
    "duration": 3,
    "start_time": "2021-07-20T22:27:47.596Z"
   },
   {
    "duration": 7,
    "start_time": "2021-07-20T22:27:47.601Z"
   },
   {
    "duration": 502,
    "start_time": "2021-07-20T22:27:47.609Z"
   },
   {
    "duration": 482,
    "start_time": "2021-07-20T22:27:48.113Z"
   },
   {
    "duration": 484,
    "start_time": "2021-07-20T22:27:48.597Z"
   },
   {
    "duration": 863,
    "start_time": "2021-07-20T22:27:49.084Z"
   },
   {
    "duration": 16,
    "start_time": "2021-07-20T22:27:49.949Z"
   },
   {
    "duration": 1077,
    "start_time": "2021-07-20T22:27:49.967Z"
   },
   {
    "duration": 17,
    "start_time": "2021-07-20T22:27:51.046Z"
   },
   {
    "duration": 6,
    "start_time": "2021-07-20T22:27:51.065Z"
   },
   {
    "duration": 15,
    "start_time": "2021-07-20T22:27:51.073Z"
   },
   {
    "duration": 4,
    "start_time": "2021-07-20T22:27:51.090Z"
   },
   {
    "duration": 46,
    "start_time": "2021-07-20T22:27:51.097Z"
   },
   {
    "duration": 6,
    "start_time": "2021-07-20T22:29:41.635Z"
   },
   {
    "duration": 1509,
    "start_time": "2021-08-05T13:02:55.169Z"
   },
   {
    "duration": 52,
    "start_time": "2021-08-05T13:02:56.681Z"
   },
   {
    "duration": 8,
    "start_time": "2021-08-05T13:02:56.736Z"
   },
   {
    "duration": 54,
    "start_time": "2021-08-05T13:02:56.746Z"
   },
   {
    "duration": 6,
    "start_time": "2021-08-05T13:02:56.802Z"
   },
   {
    "duration": 763,
    "start_time": "2021-08-05T13:02:56.810Z"
   },
   {
    "duration": 28,
    "start_time": "2021-08-05T13:02:57.585Z"
   },
   {
    "duration": 7,
    "start_time": "2021-08-05T13:02:57.616Z"
   },
   {
    "duration": 9,
    "start_time": "2021-08-05T13:02:57.626Z"
   },
   {
    "duration": 85,
    "start_time": "2021-08-05T13:02:57.637Z"
   },
   {
    "duration": 7,
    "start_time": "2021-08-05T13:02:57.724Z"
   },
   {
    "duration": 18,
    "start_time": "2021-08-05T13:02:57.734Z"
   },
   {
    "duration": 35,
    "start_time": "2021-08-05T13:02:57.754Z"
   },
   {
    "duration": 24,
    "start_time": "2021-08-05T13:02:57.792Z"
   },
   {
    "duration": 870,
    "start_time": "2021-08-05T13:02:57.818Z"
   },
   {
    "duration": 800,
    "start_time": "2021-08-05T13:02:58.690Z"
   },
   {
    "duration": 801,
    "start_time": "2021-08-05T13:02:59.493Z"
   },
   {
    "duration": 14,
    "start_time": "2021-08-05T13:03:00.297Z"
   },
   {
    "duration": 13,
    "start_time": "2021-08-05T13:03:00.314Z"
   },
   {
    "duration": 18,
    "start_time": "2021-08-05T13:03:00.330Z"
   },
   {
    "duration": 743,
    "start_time": "2021-08-05T13:03:00.350Z"
   },
   {
    "duration": 852,
    "start_time": "2021-08-05T13:03:01.095Z"
   },
   {
    "duration": 43,
    "start_time": "2021-08-05T13:03:01.952Z"
   },
   {
    "duration": 14,
    "start_time": "2021-08-05T13:03:01.998Z"
   },
   {
    "duration": 30,
    "start_time": "2021-08-05T13:03:02.014Z"
   },
   {
    "duration": 1122,
    "start_time": "2021-08-05T13:03:02.046Z"
   },
   {
    "duration": 1050,
    "start_time": "2021-08-05T13:03:03.170Z"
   },
   {
    "duration": 1039,
    "start_time": "2021-08-05T13:03:04.223Z"
   },
   {
    "duration": 3082,
    "start_time": "2021-08-05T13:03:05.265Z"
   },
   {
    "duration": 638,
    "start_time": "2021-08-05T13:03:08.350Z"
   },
   {
    "duration": 528,
    "start_time": "2021-08-05T13:03:08.991Z"
   },
   {
    "duration": 5,
    "start_time": "2021-08-05T13:03:09.523Z"
   },
   {
    "duration": 38,
    "start_time": "2021-08-05T13:03:09.531Z"
   },
   {
    "duration": 919,
    "start_time": "2021-08-05T13:03:09.571Z"
   },
   {
    "duration": 872,
    "start_time": "2021-08-05T13:03:10.493Z"
   },
   {
    "duration": 841,
    "start_time": "2021-08-05T13:03:11.367Z"
   },
   {
    "duration": 1044,
    "start_time": "2021-08-05T13:03:12.211Z"
   },
   {
    "duration": 35,
    "start_time": "2021-08-05T13:03:13.257Z"
   },
   {
    "duration": 1337,
    "start_time": "2021-08-05T13:03:13.294Z"
   },
   {
    "duration": 19,
    "start_time": "2021-08-05T13:03:14.633Z"
   },
   {
    "duration": 33,
    "start_time": "2021-08-05T13:03:14.654Z"
   },
   {
    "duration": 27,
    "start_time": "2021-08-05T13:03:14.690Z"
   },
   {
    "duration": 6,
    "start_time": "2021-08-05T13:03:14.720Z"
   },
   {
    "duration": 1102,
    "start_time": "2021-08-07T19:01:17.986Z"
   },
   {
    "duration": 37,
    "start_time": "2021-08-07T19:01:19.090Z"
   },
   {
    "duration": 6,
    "start_time": "2021-08-07T19:01:19.129Z"
   },
   {
    "duration": 26,
    "start_time": "2021-08-07T19:01:19.137Z"
   },
   {
    "duration": 5,
    "start_time": "2021-08-07T19:01:19.164Z"
   },
   {
    "duration": 451,
    "start_time": "2021-08-07T19:01:19.170Z"
   },
   {
    "duration": 19,
    "start_time": "2021-08-07T19:01:19.623Z"
   },
   {
    "duration": 5,
    "start_time": "2021-08-07T19:01:19.644Z"
   },
   {
    "duration": 6,
    "start_time": "2021-08-07T19:01:19.651Z"
   },
   {
    "duration": 51,
    "start_time": "2021-08-07T19:01:19.659Z"
   },
   {
    "duration": 4,
    "start_time": "2021-08-07T19:01:19.712Z"
   },
   {
    "duration": 14,
    "start_time": "2021-08-07T19:01:19.718Z"
   },
   {
    "duration": 8,
    "start_time": "2021-08-07T19:01:19.733Z"
   },
   {
    "duration": 14,
    "start_time": "2021-08-07T19:01:19.743Z"
   },
   {
    "duration": 454,
    "start_time": "2021-08-07T19:01:19.758Z"
   },
   {
    "duration": 382,
    "start_time": "2021-08-07T19:01:20.214Z"
   },
   {
    "duration": 413,
    "start_time": "2021-08-07T19:01:20.598Z"
   },
   {
    "duration": 10,
    "start_time": "2021-08-07T19:01:21.012Z"
   },
   {
    "duration": 4,
    "start_time": "2021-08-07T19:01:21.024Z"
   },
   {
    "duration": 6,
    "start_time": "2021-08-07T19:01:21.030Z"
   },
   {
    "duration": 401,
    "start_time": "2021-08-07T19:01:21.038Z"
   },
   {
    "duration": 399,
    "start_time": "2021-08-07T19:01:21.441Z"
   },
   {
    "duration": 16,
    "start_time": "2021-08-07T19:01:21.843Z"
   },
   {
    "duration": 9,
    "start_time": "2021-08-07T19:01:21.861Z"
   },
   {
    "duration": 6,
    "start_time": "2021-08-07T19:01:21.892Z"
   },
   {
    "duration": 746,
    "start_time": "2021-08-07T19:01:21.900Z"
   },
   {
    "duration": 594,
    "start_time": "2021-08-07T19:01:22.647Z"
   },
   {
    "duration": 620,
    "start_time": "2021-08-07T19:01:23.242Z"
   },
   {
    "duration": 1955,
    "start_time": "2021-08-07T19:01:23.863Z"
   },
   {
    "duration": 279,
    "start_time": "2021-08-07T19:01:25.820Z"
   },
   {
    "duration": 293,
    "start_time": "2021-08-07T19:01:26.101Z"
   },
   {
    "duration": 3,
    "start_time": "2021-08-07T19:01:26.396Z"
   },
   {
    "duration": 7,
    "start_time": "2021-08-07T19:01:26.400Z"
   },
   {
    "duration": 472,
    "start_time": "2021-08-07T19:01:26.409Z"
   },
   {
    "duration": 470,
    "start_time": "2021-08-07T19:01:26.883Z"
   },
   {
    "duration": 466,
    "start_time": "2021-08-07T19:01:27.355Z"
   },
   {
    "duration": 557,
    "start_time": "2021-08-07T19:01:27.824Z"
   },
   {
    "duration": 21,
    "start_time": "2021-08-07T19:01:28.383Z"
   },
   {
    "duration": 821,
    "start_time": "2021-08-07T19:01:28.405Z"
   },
   {
    "duration": 12,
    "start_time": "2021-08-07T19:01:29.227Z"
   },
   {
    "duration": 16,
    "start_time": "2021-08-07T19:01:29.240Z"
   },
   {
    "duration": 13,
    "start_time": "2021-08-07T19:01:29.257Z"
   },
   {
    "duration": 8,
    "start_time": "2021-08-07T19:01:29.271Z"
   },
   {
    "duration": 1433,
    "start_time": "2021-08-11T11:55:41.697Z"
   },
   {
    "duration": 47,
    "start_time": "2021-08-11T11:55:43.133Z"
   },
   {
    "duration": 8,
    "start_time": "2021-08-11T11:55:43.184Z"
   },
   {
    "duration": 65,
    "start_time": "2021-08-11T11:55:43.195Z"
   },
   {
    "duration": 6,
    "start_time": "2021-08-11T11:55:43.262Z"
   },
   {
    "duration": 617,
    "start_time": "2021-08-11T11:55:43.270Z"
   },
   {
    "duration": 27,
    "start_time": "2021-08-11T11:55:43.890Z"
   },
   {
    "duration": 15,
    "start_time": "2021-08-11T11:55:43.922Z"
   },
   {
    "duration": 20,
    "start_time": "2021-08-11T11:55:43.939Z"
   },
   {
    "duration": 64,
    "start_time": "2021-08-11T11:55:43.962Z"
   },
   {
    "duration": 7,
    "start_time": "2021-08-11T11:55:44.029Z"
   },
   {
    "duration": 31,
    "start_time": "2021-08-11T11:55:44.038Z"
   },
   {
    "duration": 24,
    "start_time": "2021-08-11T11:55:44.071Z"
   },
   {
    "duration": 36,
    "start_time": "2021-08-11T11:55:44.098Z"
   },
   {
    "duration": 795,
    "start_time": "2021-08-11T11:55:44.136Z"
   },
   {
    "duration": 725,
    "start_time": "2021-08-11T11:55:44.934Z"
   },
   {
    "duration": 676,
    "start_time": "2021-08-11T11:55:45.662Z"
   },
   {
    "duration": 19,
    "start_time": "2021-08-11T11:55:46.340Z"
   },
   {
    "duration": 18,
    "start_time": "2021-08-11T11:55:46.362Z"
   },
   {
    "duration": 21,
    "start_time": "2021-08-11T11:55:46.383Z"
   },
   {
    "duration": 853,
    "start_time": "2021-08-11T11:55:46.407Z"
   },
   {
    "duration": 731,
    "start_time": "2021-08-11T11:55:47.262Z"
   },
   {
    "duration": 26,
    "start_time": "2021-08-11T11:55:47.998Z"
   },
   {
    "duration": 35,
    "start_time": "2021-08-11T11:55:48.027Z"
   },
   {
    "duration": 9,
    "start_time": "2021-08-11T11:55:48.064Z"
   },
   {
    "duration": 1046,
    "start_time": "2021-08-11T11:55:48.077Z"
   },
   {
    "duration": 934,
    "start_time": "2021-08-11T11:55:49.127Z"
   },
   {
    "duration": 958,
    "start_time": "2021-08-11T11:55:50.063Z"
   },
   {
    "duration": 2884,
    "start_time": "2021-08-11T11:55:51.023Z"
   },
   {
    "duration": 503,
    "start_time": "2021-08-11T11:55:53.909Z"
   },
   {
    "duration": 515,
    "start_time": "2021-08-11T11:55:54.414Z"
   },
   {
    "duration": 4,
    "start_time": "2021-08-11T11:55:54.932Z"
   },
   {
    "duration": 24,
    "start_time": "2021-08-11T11:55:54.940Z"
   },
   {
    "duration": 838,
    "start_time": "2021-08-11T11:55:54.967Z"
   },
   {
    "duration": 837,
    "start_time": "2021-08-11T11:55:55.808Z"
   },
   {
    "duration": 806,
    "start_time": "2021-08-11T11:55:56.648Z"
   },
   {
    "duration": 871,
    "start_time": "2021-08-11T11:55:57.457Z"
   },
   {
    "duration": 34,
    "start_time": "2021-08-11T11:55:58.331Z"
   },
   {
    "duration": 1137,
    "start_time": "2021-08-11T11:55:58.368Z"
   },
   {
    "duration": 18,
    "start_time": "2021-08-11T11:55:59.507Z"
   },
   {
    "duration": 32,
    "start_time": "2021-08-11T11:55:59.527Z"
   },
   {
    "duration": 18,
    "start_time": "2021-08-11T11:55:59.562Z"
   },
   {
    "duration": 8,
    "start_time": "2021-08-11T11:55:59.582Z"
   },
   {
    "duration": 1415,
    "start_time": "2021-08-11T12:01:49.114Z"
   },
   {
    "duration": 48,
    "start_time": "2021-08-11T12:01:50.532Z"
   },
   {
    "duration": 9,
    "start_time": "2021-08-11T12:01:50.583Z"
   },
   {
    "duration": 61,
    "start_time": "2021-08-11T12:01:50.594Z"
   },
   {
    "duration": 6,
    "start_time": "2021-08-11T12:01:50.658Z"
   },
   {
    "duration": 637,
    "start_time": "2021-08-11T12:01:50.666Z"
   },
   {
    "duration": 27,
    "start_time": "2021-08-11T12:01:51.306Z"
   },
   {
    "duration": 7,
    "start_time": "2021-08-11T12:01:51.354Z"
   },
   {
    "duration": 12,
    "start_time": "2021-08-11T12:01:51.364Z"
   },
   {
    "duration": 52,
    "start_time": "2021-08-11T12:01:51.378Z"
   },
   {
    "duration": 7,
    "start_time": "2021-08-11T12:01:51.455Z"
   },
   {
    "duration": 16,
    "start_time": "2021-08-11T12:01:51.465Z"
   },
   {
    "duration": 13,
    "start_time": "2021-08-11T12:01:51.484Z"
   },
   {
    "duration": 55,
    "start_time": "2021-08-11T12:01:51.499Z"
   },
   {
    "duration": 825,
    "start_time": "2021-08-11T12:01:51.556Z"
   },
   {
    "duration": 715,
    "start_time": "2021-08-11T12:01:52.383Z"
   },
   {
    "duration": 661,
    "start_time": "2021-08-11T12:01:53.101Z"
   },
   {
    "duration": 15,
    "start_time": "2021-08-11T12:01:53.765Z"
   },
   {
    "duration": 10,
    "start_time": "2021-08-11T12:01:53.782Z"
   },
   {
    "duration": 14,
    "start_time": "2021-08-11T12:01:53.795Z"
   },
   {
    "duration": 830,
    "start_time": "2021-08-11T12:01:53.811Z"
   },
   {
    "duration": 749,
    "start_time": "2021-08-11T12:01:54.654Z"
   },
   {
    "duration": 47,
    "start_time": "2021-08-11T12:01:55.408Z"
   },
   {
    "duration": 13,
    "start_time": "2021-08-11T12:01:55.458Z"
   },
   {
    "duration": 9,
    "start_time": "2021-08-11T12:01:55.474Z"
   },
   {
    "duration": 1144,
    "start_time": "2021-08-11T12:01:55.486Z"
   },
   {
    "duration": 1064,
    "start_time": "2021-08-11T12:01:56.633Z"
   },
   {
    "duration": 1137,
    "start_time": "2021-08-11T12:01:57.700Z"
   },
   {
    "duration": 3089,
    "start_time": "2021-08-11T12:01:58.840Z"
   },
   {
    "duration": 511,
    "start_time": "2021-08-11T12:02:01.932Z"
   },
   {
    "duration": 514,
    "start_time": "2021-08-11T12:02:02.446Z"
   },
   {
    "duration": 5,
    "start_time": "2021-08-11T12:02:02.964Z"
   },
   {
    "duration": 14,
    "start_time": "2021-08-11T12:02:02.972Z"
   },
   {
    "duration": 1112,
    "start_time": "2021-08-11T12:02:02.988Z"
   },
   {
    "duration": 1077,
    "start_time": "2021-08-11T12:02:04.103Z"
   },
   {
    "duration": 846,
    "start_time": "2021-08-11T12:02:05.183Z"
   },
   {
    "duration": 929,
    "start_time": "2021-08-11T12:02:06.032Z"
   },
   {
    "duration": 23,
    "start_time": "2021-08-11T12:02:06.963Z"
   },
   {
    "duration": 1205,
    "start_time": "2021-08-11T12:02:06.989Z"
   },
   {
    "duration": 19,
    "start_time": "2021-08-11T12:02:08.196Z"
   },
   {
    "duration": 24,
    "start_time": "2021-08-11T12:02:08.218Z"
   },
   {
    "duration": 25,
    "start_time": "2021-08-11T12:02:08.244Z"
   },
   {
    "duration": 20,
    "start_time": "2021-08-11T12:02:08.271Z"
   },
   {
    "duration": 1437,
    "start_time": "2021-08-11T12:05:32.703Z"
   },
   {
    "duration": 49,
    "start_time": "2021-08-11T12:05:34.143Z"
   },
   {
    "duration": 8,
    "start_time": "2021-08-11T12:05:34.195Z"
   },
   {
    "duration": 58,
    "start_time": "2021-08-11T12:05:34.205Z"
   },
   {
    "duration": 6,
    "start_time": "2021-08-11T12:05:34.265Z"
   },
   {
    "duration": 631,
    "start_time": "2021-08-11T12:05:34.273Z"
   },
   {
    "duration": 29,
    "start_time": "2021-08-11T12:05:34.907Z"
   },
   {
    "duration": 19,
    "start_time": "2021-08-11T12:05:34.940Z"
   },
   {
    "duration": 7,
    "start_time": "2021-08-11T12:05:34.963Z"
   },
   {
    "duration": 88,
    "start_time": "2021-08-11T12:05:34.973Z"
   },
   {
    "duration": 7,
    "start_time": "2021-08-11T12:05:35.064Z"
   },
   {
    "duration": 19,
    "start_time": "2021-08-11T12:05:35.074Z"
   },
   {
    "duration": 15,
    "start_time": "2021-08-11T12:05:35.095Z"
   },
   {
    "duration": 59,
    "start_time": "2021-08-11T12:05:35.112Z"
   },
   {
    "duration": 809,
    "start_time": "2021-08-11T12:05:35.173Z"
   },
   {
    "duration": 726,
    "start_time": "2021-08-11T12:05:35.985Z"
   },
   {
    "duration": 673,
    "start_time": "2021-08-11T12:05:36.714Z"
   },
   {
    "duration": 14,
    "start_time": "2021-08-11T12:05:37.390Z"
   },
   {
    "duration": 20,
    "start_time": "2021-08-11T12:05:37.406Z"
   },
   {
    "duration": 29,
    "start_time": "2021-08-11T12:05:37.429Z"
   },
   {
    "duration": 807,
    "start_time": "2021-08-11T12:05:37.460Z"
   },
   {
    "duration": 740,
    "start_time": "2021-08-11T12:05:38.269Z"
   },
   {
    "duration": 25,
    "start_time": "2021-08-11T12:05:39.014Z"
   },
   {
    "duration": 14,
    "start_time": "2021-08-11T12:05:39.055Z"
   },
   {
    "duration": 27,
    "start_time": "2021-08-11T12:05:39.072Z"
   },
   {
    "duration": 1117,
    "start_time": "2021-08-11T12:05:39.102Z"
   },
   {
    "duration": 1053,
    "start_time": "2021-08-11T12:05:40.222Z"
   },
   {
    "duration": 1166,
    "start_time": "2021-08-11T12:05:41.278Z"
   },
   {
    "duration": 3364,
    "start_time": "2021-08-11T12:05:42.455Z"
   },
   {
    "duration": 494,
    "start_time": "2021-08-11T12:05:45.822Z"
   },
   {
    "duration": 495,
    "start_time": "2021-08-11T12:05:46.319Z"
   },
   {
    "duration": 5,
    "start_time": "2021-08-11T12:05:46.816Z"
   },
   {
    "duration": 31,
    "start_time": "2021-08-11T12:05:46.823Z"
   },
   {
    "duration": 846,
    "start_time": "2021-08-11T12:05:46.857Z"
   },
   {
    "duration": 821,
    "start_time": "2021-08-11T12:05:47.705Z"
   },
   {
    "duration": 820,
    "start_time": "2021-08-11T12:05:48.528Z"
   },
   {
    "duration": 927,
    "start_time": "2021-08-11T12:05:49.355Z"
   },
   {
    "duration": 25,
    "start_time": "2021-08-11T12:05:50.285Z"
   },
   {
    "duration": 1171,
    "start_time": "2021-08-11T12:05:50.313Z"
   },
   {
    "duration": 17,
    "start_time": "2021-08-11T12:05:51.487Z"
   },
   {
    "duration": 31,
    "start_time": "2021-08-11T12:05:51.507Z"
   },
   {
    "duration": 19,
    "start_time": "2021-08-11T12:05:51.541Z"
   },
   {
    "duration": 17,
    "start_time": "2021-08-11T12:05:51.563Z"
   },
   {
    "duration": 1450,
    "start_time": "2021-08-11T12:44:07.187Z"
   },
   {
    "duration": 53,
    "start_time": "2021-08-11T12:44:08.640Z"
   },
   {
    "duration": 9,
    "start_time": "2021-08-11T12:44:08.696Z"
   },
   {
    "duration": 67,
    "start_time": "2021-08-11T12:44:08.708Z"
   },
   {
    "duration": 6,
    "start_time": "2021-08-11T12:44:08.778Z"
   },
   {
    "duration": 657,
    "start_time": "2021-08-11T12:44:08.786Z"
   },
   {
    "duration": 35,
    "start_time": "2021-08-11T12:44:09.446Z"
   },
   {
    "duration": 7,
    "start_time": "2021-08-11T12:44:09.485Z"
   },
   {
    "duration": 6,
    "start_time": "2021-08-11T12:44:09.496Z"
   },
   {
    "duration": 88,
    "start_time": "2021-08-11T12:44:09.505Z"
   },
   {
    "duration": 6,
    "start_time": "2021-08-11T12:44:09.596Z"
   },
   {
    "duration": 16,
    "start_time": "2021-08-11T12:44:09.604Z"
   },
   {
    "duration": 43,
    "start_time": "2021-08-11T12:44:09.623Z"
   },
   {
    "duration": 27,
    "start_time": "2021-08-11T12:44:09.670Z"
   },
   {
    "duration": 840,
    "start_time": "2021-08-11T12:44:09.700Z"
   },
   {
    "duration": 737,
    "start_time": "2021-08-11T12:44:10.542Z"
   },
   {
    "duration": 691,
    "start_time": "2021-08-11T12:44:11.282Z"
   },
   {
    "duration": 14,
    "start_time": "2021-08-11T12:44:11.975Z"
   },
   {
    "duration": 28,
    "start_time": "2021-08-11T12:44:11.992Z"
   },
   {
    "duration": 24,
    "start_time": "2021-08-11T12:44:12.023Z"
   },
   {
    "duration": 736,
    "start_time": "2021-08-11T12:44:12.049Z"
   },
   {
    "duration": 781,
    "start_time": "2021-08-11T12:44:12.787Z"
   },
   {
    "duration": 26,
    "start_time": "2021-08-11T12:44:13.573Z"
   },
   {
    "duration": 24,
    "start_time": "2021-08-11T12:44:13.602Z"
   },
   {
    "duration": 65,
    "start_time": "2021-08-11T12:44:13.628Z"
   },
   {
    "duration": 1169,
    "start_time": "2021-08-11T12:44:13.695Z"
   },
   {
    "duration": 1026,
    "start_time": "2021-08-11T12:44:14.869Z"
   },
   {
    "duration": 1043,
    "start_time": "2021-08-11T12:44:15.897Z"
   },
   {
    "duration": 2979,
    "start_time": "2021-08-11T12:44:16.943Z"
   },
   {
    "duration": 517,
    "start_time": "2021-08-11T12:44:19.925Z"
   },
   {
    "duration": 515,
    "start_time": "2021-08-11T12:44:20.445Z"
   },
   {
    "duration": 5,
    "start_time": "2021-08-11T12:44:20.963Z"
   },
   {
    "duration": 20,
    "start_time": "2021-08-11T12:44:20.970Z"
   },
   {
    "duration": 903,
    "start_time": "2021-08-11T12:44:20.993Z"
   },
   {
    "duration": 885,
    "start_time": "2021-08-11T12:44:21.900Z"
   },
   {
    "duration": 835,
    "start_time": "2021-08-11T12:44:22.788Z"
   },
   {
    "duration": 1005,
    "start_time": "2021-08-11T12:44:23.626Z"
   },
   {
    "duration": 37,
    "start_time": "2021-08-11T12:44:24.634Z"
   },
   {
    "duration": 1233,
    "start_time": "2021-08-11T12:44:24.673Z"
   },
   {
    "duration": 18,
    "start_time": "2021-08-11T12:44:25.908Z"
   },
   {
    "duration": 33,
    "start_time": "2021-08-11T12:44:25.928Z"
   },
   {
    "duration": 15,
    "start_time": "2021-08-11T12:44:25.965Z"
   },
   {
    "duration": 8,
    "start_time": "2021-08-11T12:44:25.983Z"
   }
  ],
  "kernelspec": {
   "display_name": "Python 3",
   "language": "python",
   "name": "python3"
  },
  "language_info": {
   "codemirror_mode": {
    "name": "ipython",
    "version": 3
   },
   "file_extension": ".py",
   "mimetype": "text/x-python",
   "name": "python",
   "nbconvert_exporter": "python",
   "pygments_lexer": "ipython3",
   "version": "3.7.8"
  },
  "toc": {
   "base_numbering": 1,
   "nav_menu": {
    "height": "48px",
    "width": "241px"
   },
   "number_sections": true,
   "sideBar": true,
   "skip_h1_title": true,
   "title_cell": "Table of Contents",
   "title_sidebar": "Contents",
   "toc_cell": false,
   "toc_position": {
    "height": "calc(100% - 180px)",
    "left": "10px",
    "top": "150px",
    "width": "366.2px"
   },
   "toc_section_display": true,
   "toc_window_display": true
  }
 },
 "nbformat": 4,
 "nbformat_minor": 2
}
