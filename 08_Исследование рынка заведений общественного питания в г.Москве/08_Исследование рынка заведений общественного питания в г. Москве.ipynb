{
 "cells": [
  {
   "cell_type": "markdown",
   "metadata": {},
   "source": [
    "# \"Исследование рынка заведений общественного питания в г. Москве\" <a class=\"tocSkip\">"
   ]
  },
  {
   "cell_type": "markdown",
   "metadata": {},
   "source": [
    "## Цель исследования"
   ]
  },
  {
   "cell_type": "markdown",
   "metadata": {},
   "source": [
    "<div style=\"border: ridge black 3px; padding: 25px\">\n",
    "    \n",
    "<b>Целью данного исследования является выявление особенностей заведений общественного питания в г.Москве и дача рекомендаций для принятия решения об открытии заведения с роботами-официантами.</b><br><br>\n",
    "    \n",
    "Исследование будет проходить на основании предоставленных открытых данных о заведениях общественного питания в г. Москве.<br><br>\n",
    "\n",
    "Мы изучим датафрейм, произведем предобработку исходного датафрейма, проведем анализ, в конце исследования сформулируем общий вывод, дадим рекомендации и прикрепим ссылку на презентацию в формате `.pdf`.<br>\n",
    "\n",
    "</div>"
   ]
  },
  {
   "cell_type": "markdown",
   "metadata": {},
   "source": [
    "## Описание исходных данных"
   ]
  },
  {
   "cell_type": "markdown",
   "metadata": {},
   "source": [
    "**Ниже представлено описание доступной нам информации по датафрейму**."
   ]
  },
  {
   "cell_type": "markdown",
   "metadata": {},
   "source": [
    "Путь к файлу: `/datasets/rest_data.csv`\n",
    "\n",
    "Датафрейм **rest_data** содержит:\n",
    "- `id` — идентификатор объекта;\n",
    "- `object_name` — название объекта общественного питания;\n",
    "- `chain` — сетевой ресторан;\n",
    "- `object_type` — тип объекта общественного питания;\n",
    "- `address` — адрес;\n",
    "- `number` — количество посадочных мест."
   ]
  },
  {
   "cell_type": "markdown",
   "metadata": {},
   "source": [
    "## Открытие данных"
   ]
  },
  {
   "cell_type": "code",
   "execution_count": 1,
   "metadata": {},
   "outputs": [],
   "source": [
    "# импортируем основные нужные библиотеки \n",
    "\n",
    "import pandas as pd\n",
    "import numpy as np\n",
    "from matplotlib import pyplot as plt\n",
    "import seaborn as sns"
   ]
  },
  {
   "cell_type": "code",
   "execution_count": 2,
   "metadata": {},
   "outputs": [],
   "source": [
    "# читаем файл и присваиваем ему одноименное название\n",
    "\n",
    "rest_data = pd.read_csv('/datasets/rest_data.csv')"
   ]
  },
  {
   "cell_type": "code",
   "execution_count": 3,
   "metadata": {},
   "outputs": [
    {
     "name": "stdout",
     "output_type": "stream",
     "text": [
      "<class 'pandas.core.frame.DataFrame'>\n",
      "RangeIndex: 15366 entries, 0 to 15365\n",
      "Data columns (total 6 columns):\n",
      "id                15366 non-null int64\n",
      "object_name       15366 non-null object\n",
      "chain             15366 non-null object\n",
      "object_type       15366 non-null object\n",
      "object_address    15366 non-null object\n",
      "seats_numbers     15366 non-null int64\n",
      "dtypes: int64(2), object(4)\n",
      "memory usage: 720.4+ KB\n",
      "None\n",
      "--------------------------------------------------------------------------------------------------------------------\n",
      "\"Открытые данные о заведениях общественного питания г.Москвы\"\n"
     ]
    },
    {
     "data": {
      "text/html": [
       "<div>\n",
       "<style scoped>\n",
       "    .dataframe tbody tr th:only-of-type {\n",
       "        vertical-align: middle;\n",
       "    }\n",
       "\n",
       "    .dataframe tbody tr th {\n",
       "        vertical-align: top;\n",
       "    }\n",
       "\n",
       "    .dataframe thead th {\n",
       "        text-align: right;\n",
       "    }\n",
       "</style>\n",
       "<table border=\"1\" class=\"dataframe\">\n",
       "  <thead>\n",
       "    <tr style=\"text-align: right;\">\n",
       "      <th></th>\n",
       "      <th>id</th>\n",
       "      <th>object_name</th>\n",
       "      <th>chain</th>\n",
       "      <th>object_type</th>\n",
       "      <th>object_address</th>\n",
       "      <th>seats_numbers</th>\n",
       "    </tr>\n",
       "  </thead>\n",
       "  <tbody>\n",
       "    <tr>\n",
       "      <td>0</td>\n",
       "      <td>151635</td>\n",
       "      <td>СМЕТАНА</td>\n",
       "      <td>нет</td>\n",
       "      <td>кафе</td>\n",
       "      <td>город Москва, улица Егора Абакумова, дом 9</td>\n",
       "      <td>48</td>\n",
       "    </tr>\n",
       "    <tr>\n",
       "      <td>1</td>\n",
       "      <td>77874</td>\n",
       "      <td>Родник</td>\n",
       "      <td>нет</td>\n",
       "      <td>кафе</td>\n",
       "      <td>город Москва, улица Талалихина, дом 2/1, корпус 1</td>\n",
       "      <td>35</td>\n",
       "    </tr>\n",
       "    <tr>\n",
       "      <td>2</td>\n",
       "      <td>24309</td>\n",
       "      <td>Кафе «Академия»</td>\n",
       "      <td>нет</td>\n",
       "      <td>кафе</td>\n",
       "      <td>город Москва, Абельмановская улица, дом 6</td>\n",
       "      <td>95</td>\n",
       "    </tr>\n",
       "    <tr>\n",
       "      <td>3</td>\n",
       "      <td>21894</td>\n",
       "      <td>ПИЦЦЕТОРИЯ</td>\n",
       "      <td>да</td>\n",
       "      <td>кафе</td>\n",
       "      <td>город Москва, Абрамцевская улица, дом 1</td>\n",
       "      <td>40</td>\n",
       "    </tr>\n",
       "    <tr>\n",
       "      <td>4</td>\n",
       "      <td>119365</td>\n",
       "      <td>Кафе «Вишневая метель»</td>\n",
       "      <td>нет</td>\n",
       "      <td>кафе</td>\n",
       "      <td>город Москва, Абрамцевская улица, дом 9, корпус 1</td>\n",
       "      <td>50</td>\n",
       "    </tr>\n",
       "    <tr>\n",
       "      <td>5</td>\n",
       "      <td>27429</td>\n",
       "      <td>СТОЛ. ПРИ ГОУ СОШ № 1051</td>\n",
       "      <td>нет</td>\n",
       "      <td>столовая</td>\n",
       "      <td>город Москва, Абрамцевская улица, дом 15, корп...</td>\n",
       "      <td>240</td>\n",
       "    </tr>\n",
       "    <tr>\n",
       "      <td>6</td>\n",
       "      <td>148815</td>\n",
       "      <td>Брусника</td>\n",
       "      <td>да</td>\n",
       "      <td>кафе</td>\n",
       "      <td>город Москва, переулок Сивцев Вражек, дом 6/2</td>\n",
       "      <td>10</td>\n",
       "    </tr>\n",
       "    <tr>\n",
       "      <td>7</td>\n",
       "      <td>20957</td>\n",
       "      <td>Буфет МТУСИ</td>\n",
       "      <td>нет</td>\n",
       "      <td>столовая</td>\n",
       "      <td>город Москва, Авиамоторная улица, дом 8, строе...</td>\n",
       "      <td>90</td>\n",
       "    </tr>\n",
       "    <tr>\n",
       "      <td>8</td>\n",
       "      <td>20958</td>\n",
       "      <td>КПФ СЕМЬЯ-1</td>\n",
       "      <td>нет</td>\n",
       "      <td>столовая</td>\n",
       "      <td>город Москва, Авиамоторная улица, дом 8, строе...</td>\n",
       "      <td>150</td>\n",
       "    </tr>\n",
       "    <tr>\n",
       "      <td>9</td>\n",
       "      <td>28858</td>\n",
       "      <td>Столовая МТУСИ</td>\n",
       "      <td>нет</td>\n",
       "      <td>столовая</td>\n",
       "      <td>город Москва, Авиамоторная улица, дом 8, строе...</td>\n",
       "      <td>120</td>\n",
       "    </tr>\n",
       "  </tbody>\n",
       "</table>\n",
       "</div>"
      ],
      "text/plain": [
       "       id               object_name chain object_type  \\\n",
       "0  151635                   СМЕТАНА   нет        кафе   \n",
       "1   77874                    Родник   нет        кафе   \n",
       "2   24309           Кафе «Академия»   нет        кафе   \n",
       "3   21894                ПИЦЦЕТОРИЯ    да        кафе   \n",
       "4  119365    Кафе «Вишневая метель»   нет        кафе   \n",
       "5   27429  СТОЛ. ПРИ ГОУ СОШ № 1051   нет    столовая   \n",
       "6  148815                  Брусника    да        кафе   \n",
       "7   20957               Буфет МТУСИ   нет    столовая   \n",
       "8   20958               КПФ СЕМЬЯ-1   нет    столовая   \n",
       "9   28858            Столовая МТУСИ   нет    столовая   \n",
       "\n",
       "                                      object_address  seats_numbers  \n",
       "0         город Москва, улица Егора Абакумова, дом 9             48  \n",
       "1  город Москва, улица Талалихина, дом 2/1, корпус 1             35  \n",
       "2          город Москва, Абельмановская улица, дом 6             95  \n",
       "3            город Москва, Абрамцевская улица, дом 1             40  \n",
       "4  город Москва, Абрамцевская улица, дом 9, корпус 1             50  \n",
       "5  город Москва, Абрамцевская улица, дом 15, корп...            240  \n",
       "6      город Москва, переулок Сивцев Вражек, дом 6/2             10  \n",
       "7  город Москва, Авиамоторная улица, дом 8, строе...             90  \n",
       "8  город Москва, Авиамоторная улица, дом 8, строе...            150  \n",
       "9  город Москва, Авиамоторная улица, дом 8, строе...            120  "
      ]
     },
     "metadata": {},
     "output_type": "display_data"
    },
    {
     "name": "stdout",
     "output_type": "stream",
     "text": [
      "--------------------------------------------------------------------------------------------------------------------\n",
      "Кол-во пропусков\n"
     ]
    },
    {
     "data": {
      "text/html": [
       "<style  type=\"text/css\" >\n",
       "    #T_3e6a7740_f87d_11eb_a12d_02420a398617row0_col0 {\n",
       "            background-color:  #3b4cc0;\n",
       "            color:  #f1f1f1;\n",
       "        }    #T_3e6a7740_f87d_11eb_a12d_02420a398617row1_col0 {\n",
       "            background-color:  #3b4cc0;\n",
       "            color:  #f1f1f1;\n",
       "        }    #T_3e6a7740_f87d_11eb_a12d_02420a398617row2_col0 {\n",
       "            background-color:  #3b4cc0;\n",
       "            color:  #f1f1f1;\n",
       "        }    #T_3e6a7740_f87d_11eb_a12d_02420a398617row3_col0 {\n",
       "            background-color:  #3b4cc0;\n",
       "            color:  #f1f1f1;\n",
       "        }    #T_3e6a7740_f87d_11eb_a12d_02420a398617row4_col0 {\n",
       "            background-color:  #3b4cc0;\n",
       "            color:  #f1f1f1;\n",
       "        }    #T_3e6a7740_f87d_11eb_a12d_02420a398617row5_col0 {\n",
       "            background-color:  #3b4cc0;\n",
       "            color:  #f1f1f1;\n",
       "        }</style><table id=\"T_3e6a7740_f87d_11eb_a12d_02420a398617\" ><thead>    <tr>        <th class=\"blank level0\" ></th>        <th class=\"col_heading level0 col0\" >0</th>    </tr></thead><tbody>\n",
       "                <tr>\n",
       "                        <th id=\"T_3e6a7740_f87d_11eb_a12d_02420a398617level0_row0\" class=\"row_heading level0 row0\" >id</th>\n",
       "                        <td id=\"T_3e6a7740_f87d_11eb_a12d_02420a398617row0_col0\" class=\"data row0 col0\" >0</td>\n",
       "            </tr>\n",
       "            <tr>\n",
       "                        <th id=\"T_3e6a7740_f87d_11eb_a12d_02420a398617level0_row1\" class=\"row_heading level0 row1\" >object_name</th>\n",
       "                        <td id=\"T_3e6a7740_f87d_11eb_a12d_02420a398617row1_col0\" class=\"data row1 col0\" >0</td>\n",
       "            </tr>\n",
       "            <tr>\n",
       "                        <th id=\"T_3e6a7740_f87d_11eb_a12d_02420a398617level0_row2\" class=\"row_heading level0 row2\" >chain</th>\n",
       "                        <td id=\"T_3e6a7740_f87d_11eb_a12d_02420a398617row2_col0\" class=\"data row2 col0\" >0</td>\n",
       "            </tr>\n",
       "            <tr>\n",
       "                        <th id=\"T_3e6a7740_f87d_11eb_a12d_02420a398617level0_row3\" class=\"row_heading level0 row3\" >object_type</th>\n",
       "                        <td id=\"T_3e6a7740_f87d_11eb_a12d_02420a398617row3_col0\" class=\"data row3 col0\" >0</td>\n",
       "            </tr>\n",
       "            <tr>\n",
       "                        <th id=\"T_3e6a7740_f87d_11eb_a12d_02420a398617level0_row4\" class=\"row_heading level0 row4\" >object_address</th>\n",
       "                        <td id=\"T_3e6a7740_f87d_11eb_a12d_02420a398617row4_col0\" class=\"data row4 col0\" >0</td>\n",
       "            </tr>\n",
       "            <tr>\n",
       "                        <th id=\"T_3e6a7740_f87d_11eb_a12d_02420a398617level0_row5\" class=\"row_heading level0 row5\" >seats_numbers</th>\n",
       "                        <td id=\"T_3e6a7740_f87d_11eb_a12d_02420a398617row5_col0\" class=\"data row5 col0\" >0</td>\n",
       "            </tr>\n",
       "    </tbody></table>"
      ],
      "text/plain": [
       "<pandas.io.formats.style.Styler at 0x7fa99558a210>"
      ]
     },
     "metadata": {},
     "output_type": "display_data"
    }
   ],
   "source": [
    "# дополним названия некоторых столбцов датафрейма для удобства и наглядности в понимании\n",
    "\n",
    "rest_data = rest_data.rename({'number': 'seats_numbers', 'address': 'object_address'}, axis = 'columns')\n",
    "rest_data.name = '\"Открытые данные о заведениях общественного питания г.Москвы\"'\n",
    "\n",
    "# и выведем на экран общую информацию, содержимое и наличие/отсутствие пропусков в датафрейме\n",
    "\n",
    "print(rest_data.info())\n",
    "print('--------------------------------------------------------------------------------------------------------------------')\n",
    "print(rest_data.name)\n",
    "display(rest_data.head(10))\n",
    "print('--------------------------------------------------------------------------------------------------------------------')\n",
    "print('Кол-во пропусков')\n",
    "display(pd.DataFrame((rest_data.isna().mean()*100).round(2)).style.background_gradient('coolwarm'))    "
   ]
  },
  {
   "cell_type": "markdown",
   "metadata": {},
   "source": [
    "Как мы видим, что пропусков нет и типы данных верны. Но стоит привести к нижнему регистру содержание столбца `object_name` для последующей корректной проверки на дубли. Просмотрим еще уникальные значения столбцов `chain` и `object_type`."
   ]
  },
  {
   "cell_type": "code",
   "execution_count": 4,
   "metadata": {},
   "outputs": [
    {
     "data": {
      "text/plain": [
       "array(['кафе', 'столовая', 'закусочная',\n",
       "       'предприятие быстрого обслуживания', 'ресторан', 'кафетерий',\n",
       "       'буфет', 'бар', 'магазин (отдел кулинарии)'], dtype=object)"
      ]
     },
     "metadata": {},
     "output_type": "display_data"
    },
    {
     "data": {
      "text/plain": [
       "array(['нет', 'да'], dtype=object)"
      ]
     },
     "metadata": {},
     "output_type": "display_data"
    }
   ],
   "source": [
    "# применим данный метод для последующего отображения всего содержимого строк, в частности столбца `object_address`\n",
    "pd.options.display.max_colwidth = 200 \n",
    "\n",
    "display(rest_data['object_type'].unique())\n",
    "display(rest_data['chain'].unique())"
   ]
  },
  {
   "cell_type": "markdown",
   "metadata": {},
   "source": [
    "Типы объектов общественного питания соответствуют классификации предприятий общественного питания (ГОСТ Р 50762-2007 «Классификация предприятий», п.4), поэтому производить какую-либо замену категорий не будем. А значия \"нет\" и \"да\" в столбце `chain` логично будет заметить для удобства в дальнейшем на \"сетевой\" и \"не сетевой\"."
   ]
  },
  {
   "cell_type": "markdown",
   "metadata": {},
   "source": [
    "### Вывод"
   ]
  },
  {
   "cell_type": "markdown",
   "metadata": {},
   "source": [
    "<div style=\"border:solid black 2px; padding: 20px\">\n",
    "    \n",
    "При открытии данных мы скорректировали некоторые названия столбцов, пропусков не обнаружили, определили необходимость приведения к нижнему регистру столбца `object_name` и необходимость замены значений в столбце `chain`.<br><br>\n",
    "\n",
    "Приступим к предобработке.\n",
    "    \n",
    "</div>"
   ]
  },
  {
   "cell_type": "markdown",
   "metadata": {},
   "source": [
    "## Предобработка данных"
   ]
  },
  {
   "cell_type": "markdown",
   "metadata": {},
   "source": [
    "### Обработка дубликатов"
   ]
  },
  {
   "cell_type": "code",
   "execution_count": 5,
   "metadata": {},
   "outputs": [
    {
     "name": "stdout",
     "output_type": "stream",
     "text": [
      "Дубликатов не найдено\n"
     ]
    }
   ],
   "source": [
    "# приводим к нижнему регистру\n",
    "\n",
    "rest_data['object_name'] = rest_data['object_name'].str.lower()\n",
    "\n",
    "# проверяем датафрейм на наличие грубых дубликатов\n",
    "\n",
    "duplicates = rest_data.duplicated().sum()\n",
    "if duplicates > 0:\n",
    "    print('Количество дубликатов =', duplicates)\n",
    "else:\n",
    "    print('Дубликатов не найдено')"
   ]
  },
  {
   "cell_type": "markdown",
   "metadata": {},
   "source": [
    "Дополнительно проверим наличие дубликатов за исключением столбца `id`. Возможно, есть скрытые дубликаты."
   ]
  },
  {
   "cell_type": "code",
   "execution_count": 6,
   "metadata": {},
   "outputs": [
    {
     "name": "stdout",
     "output_type": "stream",
     "text": [
      "Найдено дубликатов (без учета 'id' объекта): 85\n"
     ]
    }
   ],
   "source": [
    "print(\n",
    "    \"Найдено дубликатов (без учета 'id' объекта):\", \n",
    "    rest_data[['object_name', 'chain', 'object_type', 'object_address', 'seats_numbers']].duplicated().sum()\n",
    ")"
   ]
  },
  {
   "cell_type": "markdown",
   "metadata": {},
   "source": [
    "Похоже действительно по какой-то причине (вероятно по технической ошибке) произошло дублирование в данных. Просмотрим некоторые строки."
   ]
  },
  {
   "cell_type": "code",
   "execution_count": 7,
   "metadata": {},
   "outputs": [
    {
     "data": {
      "text/html": [
       "<div>\n",
       "<style scoped>\n",
       "    .dataframe tbody tr th:only-of-type {\n",
       "        vertical-align: middle;\n",
       "    }\n",
       "\n",
       "    .dataframe tbody tr th {\n",
       "        vertical-align: top;\n",
       "    }\n",
       "\n",
       "    .dataframe thead th {\n",
       "        text-align: right;\n",
       "    }\n",
       "</style>\n",
       "<table border=\"1\" class=\"dataframe\">\n",
       "  <thead>\n",
       "    <tr style=\"text-align: right;\">\n",
       "      <th></th>\n",
       "      <th>id</th>\n",
       "      <th>object_name</th>\n",
       "      <th>chain</th>\n",
       "      <th>object_type</th>\n",
       "      <th>object_address</th>\n",
       "      <th>seats_numbers</th>\n",
       "    </tr>\n",
       "  </thead>\n",
       "  <tbody>\n",
       "    <tr>\n",
       "      <td>13858</td>\n",
       "      <td>209723</td>\n",
       "      <td>laltro bosco</td>\n",
       "      <td>нет</td>\n",
       "      <td>ресторан</td>\n",
       "      <td>город Москва, улица Петровка, дом 10</td>\n",
       "      <td>145</td>\n",
       "    </tr>\n",
       "    <tr>\n",
       "      <td>5059</td>\n",
       "      <td>20021</td>\n",
       "      <td>lift</td>\n",
       "      <td>нет</td>\n",
       "      <td>кафе</td>\n",
       "      <td>город Москва, Багратионовский проезд, дом 7, корпус 1</td>\n",
       "      <td>20</td>\n",
       "    </tr>\n",
       "    <tr>\n",
       "      <td>5069</td>\n",
       "      <td>20025</td>\n",
       "      <td>lift</td>\n",
       "      <td>нет</td>\n",
       "      <td>кафе</td>\n",
       "      <td>город Москва, Багратионовский проезд, дом 7, корпус 3</td>\n",
       "      <td>10</td>\n",
       "    </tr>\n",
       "    <tr>\n",
       "      <td>14844</td>\n",
       "      <td>219518</td>\n",
       "      <td>sushi-make</td>\n",
       "      <td>нет</td>\n",
       "      <td>предприятие быстрого обслуживания</td>\n",
       "      <td>город Москва, Ярцевская улица, дом 19</td>\n",
       "      <td>0</td>\n",
       "    </tr>\n",
       "    <tr>\n",
       "      <td>5762</td>\n",
       "      <td>134324</td>\n",
       "      <td>алекс</td>\n",
       "      <td>нет</td>\n",
       "      <td>кафе</td>\n",
       "      <td>город Москва, Тихорецкий бульвар, владение 1, строение 2</td>\n",
       "      <td>45</td>\n",
       "    </tr>\n",
       "    <tr>\n",
       "      <td>6423</td>\n",
       "      <td>19759</td>\n",
       "      <td>бар</td>\n",
       "      <td>нет</td>\n",
       "      <td>бар</td>\n",
       "      <td>город Москва, улица Улофа Пальме, дом 5, строение 1</td>\n",
       "      <td>10</td>\n",
       "    </tr>\n",
       "    <tr>\n",
       "      <td>14350</td>\n",
       "      <td>214747</td>\n",
       "      <td>бистро</td>\n",
       "      <td>нет</td>\n",
       "      <td>предприятие быстрого обслуживания</td>\n",
       "      <td>город Москва, проспект Вернадского, дом 86Б, строение 1</td>\n",
       "      <td>1</td>\n",
       "    </tr>\n",
       "    <tr>\n",
       "      <td>14351</td>\n",
       "      <td>214734</td>\n",
       "      <td>бистро</td>\n",
       "      <td>нет</td>\n",
       "      <td>предприятие быстрого обслуживания</td>\n",
       "      <td>город Москва, проспект Вернадского, дом 86Б, строение 1</td>\n",
       "      <td>1</td>\n",
       "    </tr>\n",
       "    <tr>\n",
       "      <td>14352</td>\n",
       "      <td>214738</td>\n",
       "      <td>бистро</td>\n",
       "      <td>нет</td>\n",
       "      <td>предприятие быстрого обслуживания</td>\n",
       "      <td>город Москва, проспект Вернадского, дом 86Б, строение 1</td>\n",
       "      <td>1</td>\n",
       "    </tr>\n",
       "    <tr>\n",
       "      <td>11375</td>\n",
       "      <td>190371</td>\n",
       "      <td>буфет</td>\n",
       "      <td>нет</td>\n",
       "      <td>буфет</td>\n",
       "      <td>город Москва, Пятницкое шоссе, дом 18</td>\n",
       "      <td>0</td>\n",
       "    </tr>\n",
       "    <tr>\n",
       "      <td>11710</td>\n",
       "      <td>175494</td>\n",
       "      <td>буфет</td>\n",
       "      <td>нет</td>\n",
       "      <td>буфет</td>\n",
       "      <td>город Москва, Шмитовский проезд, дом 29, строение 10</td>\n",
       "      <td>30</td>\n",
       "    </tr>\n",
       "    <tr>\n",
       "      <td>11675</td>\n",
       "      <td>175491</td>\n",
       "      <td>буфет</td>\n",
       "      <td>нет</td>\n",
       "      <td>буфет</td>\n",
       "      <td>город Москва, Зоологическая улица, дом 26А</td>\n",
       "      <td>20</td>\n",
       "    </tr>\n",
       "    <tr>\n",
       "      <td>11372</td>\n",
       "      <td>190471</td>\n",
       "      <td>буфет</td>\n",
       "      <td>нет</td>\n",
       "      <td>буфет</td>\n",
       "      <td>город Москва, Пятницкое шоссе, дом 18</td>\n",
       "      <td>0</td>\n",
       "    </tr>\n",
       "    <tr>\n",
       "      <td>13943</td>\n",
       "      <td>208720</td>\n",
       "      <td>буфет</td>\n",
       "      <td>нет</td>\n",
       "      <td>предприятие быстрого обслуживания</td>\n",
       "      <td>город Москва, Ореховый бульвар, дом 24, корпус 1Г</td>\n",
       "      <td>0</td>\n",
       "    </tr>\n",
       "    <tr>\n",
       "      <td>12993</td>\n",
       "      <td>193044</td>\n",
       "      <td>буфет</td>\n",
       "      <td>нет</td>\n",
       "      <td>буфет</td>\n",
       "      <td>город Москва, Пятницкое шоссе, дом 18</td>\n",
       "      <td>0</td>\n",
       "    </tr>\n",
       "  </tbody>\n",
       "</table>\n",
       "</div>"
      ],
      "text/plain": [
       "           id   object_name chain                        object_type  \\\n",
       "13858  209723  laltro bosco   нет                           ресторан   \n",
       "5059    20021          lift   нет                               кафе   \n",
       "5069    20025          lift   нет                               кафе   \n",
       "14844  219518    sushi-make   нет  предприятие быстрого обслуживания   \n",
       "5762   134324         алекс   нет                               кафе   \n",
       "6423    19759           бар   нет                                бар   \n",
       "14350  214747        бистро   нет  предприятие быстрого обслуживания   \n",
       "14351  214734        бистро   нет  предприятие быстрого обслуживания   \n",
       "14352  214738        бистро   нет  предприятие быстрого обслуживания   \n",
       "11375  190371         буфет   нет                              буфет   \n",
       "11710  175494         буфет   нет                              буфет   \n",
       "11675  175491         буфет   нет                              буфет   \n",
       "11372  190471         буфет   нет                              буфет   \n",
       "13943  208720         буфет   нет  предприятие быстрого обслуживания   \n",
       "12993  193044         буфет   нет                              буфет   \n",
       "\n",
       "                                                 object_address  seats_numbers  \n",
       "13858                      город Москва, улица Петровка, дом 10            145  \n",
       "5059      город Москва, Багратионовский проезд, дом 7, корпус 1             20  \n",
       "5069      город Москва, Багратионовский проезд, дом 7, корпус 3             10  \n",
       "14844                     город Москва, Ярцевская улица, дом 19              0  \n",
       "5762   город Москва, Тихорецкий бульвар, владение 1, строение 2             45  \n",
       "6423        город Москва, улица Улофа Пальме, дом 5, строение 1             10  \n",
       "14350   город Москва, проспект Вернадского, дом 86Б, строение 1              1  \n",
       "14351   город Москва, проспект Вернадского, дом 86Б, строение 1              1  \n",
       "14352   город Москва, проспект Вернадского, дом 86Б, строение 1              1  \n",
       "11375                     город Москва, Пятницкое шоссе, дом 18              0  \n",
       "11710      город Москва, Шмитовский проезд, дом 29, строение 10             30  \n",
       "11675                город Москва, Зоологическая улица, дом 26А             20  \n",
       "11372                     город Москва, Пятницкое шоссе, дом 18              0  \n",
       "13943         город Москва, Ореховый бульвар, дом 24, корпус 1Г              0  \n",
       "12993                     город Москва, Пятницкое шоссе, дом 18              0  "
      ]
     },
     "execution_count": 7,
     "metadata": {},
     "output_type": "execute_result"
    }
   ],
   "source": [
    "rest_data[rest_data[['object_name', 'chain', 'object_type', 'object_address', 'seats_numbers']].duplicated()==True] \\\n",
    ".sort_values(by='object_name').head(15)"
   ]
  },
  {
   "cell_type": "markdown",
   "metadata": {},
   "source": [
    "Обнаруженные 85 дубликатов удалим."
   ]
  },
  {
   "cell_type": "code",
   "execution_count": 8,
   "metadata": {},
   "outputs": [],
   "source": [
    "rest_data = rest_data \\\n",
    ".drop(rest_data[rest_data[['object_name', 'chain', 'object_type', 'object_address', 'seats_numbers']].duplicated()==True].index)"
   ]
  },
  {
   "cell_type": "markdown",
   "metadata": {},
   "source": [
    "Т.к. мы не обладаем информацией из какого именно открытого источника взяты предоставленные данные, допускаем, что это взято из определенного реестра предприятий и корректность названий соответствует действительности (адреса объектов заполнены по единому шаблону и последовательности (город-улица-дом-строение/корпус), судя по этому это данные из городского реестра). Производить более детальный анализ на дубликаты в названиях объектов в этом исследовании мы не будем, это потребует дополнительных данных для сопоставления (английское название объекта латиницей и написание на русском в одном смысловом эквиваленте и звучании может принадлежать разным заведениям, а не одному) и функционала, и в целом для цели исследования не сыграет критичной роли."
   ]
  },
  {
   "cell_type": "code",
   "execution_count": 9,
   "metadata": {},
   "outputs": [],
   "source": [
    "# заменим значения в столбце `chain` с помощью функции и примененим ее к столбцу 'chain'\n",
    "\n",
    "def chain_change(i):\n",
    "    if i == 'да':\n",
    "        return 'cетевой'\n",
    "    elif i == 'нет':\n",
    "        return 'не сетевой'\n",
    "    \n",
    "rest_data['chain'] = rest_data['chain'].apply(chain_change)"
   ]
  },
  {
   "cell_type": "markdown",
   "metadata": {},
   "source": [
    "### Вывод"
   ]
  },
  {
   "cell_type": "markdown",
   "metadata": {},
   "source": [
    "<div style=\"border:solid black 2px; padding: 20px\">\n",
    "    \n",
    "Мы выполнили необходимую предобработку данных: выявили дубликаты, удали их; произвели замену названий в столбце `chain`.<br><br>\n",
    "    \n",
    "Можем приступить к анализу.\n",
    "    \n",
    "</div>"
   ]
  },
  {
   "cell_type": "markdown",
   "metadata": {},
   "source": [
    "## Исследовательский анализ"
   ]
  },
  {
   "cell_type": "markdown",
   "metadata": {},
   "source": [
    "### Изучение соотношения видов объектов и их принадлежности к сети"
   ]
  },
  {
   "cell_type": "code",
   "execution_count": 10,
   "metadata": {
    "scrolled": false
   },
   "outputs": [
    {
     "data": {
      "image/png": "[encoded data removed]",
      "text/plain": [
       "<Figure size 1080x360 with 1 Axes>"
      ]
     },
     "metadata": {
      "needs_background": "light"
     },
     "output_type": "display_data"
    },
    {
     "name": "stdout",
     "output_type": "stream",
     "text": [
      "----------------------------------------------------------------------------------------------------------------\n"
     ]
    },
    {
     "data": {
      "image/png": "[encoded data removed]",
      "text/plain": [
       "<Figure size 1080x360 with 1 Axes>"
      ]
     },
     "metadata": {
      "needs_background": "light"
     },
     "output_type": "display_data"
    },
    {
     "name": "stdout",
     "output_type": "stream",
     "text": [
      "----------------------------------------------------------------------------------------------------------------\n"
     ]
    },
    {
     "data": {
      "image/png": "[encoded data removed]",
      "text/plain": [
       "<Figure size 1080x360 with 1 Axes>"
      ]
     },
     "metadata": {
      "needs_background": "light"
     },
     "output_type": "display_data"
    },
    {
     "name": "stdout",
     "output_type": "stream",
     "text": [
      "----------------------------------------------------------------------------------------------------------------\n",
      "Таблица \"Количество и соотношение типов объектов общественного питания г.Москвы\"\n"
     ]
    },
    {
     "data": {
      "text/html": [
       "<div>\n",
       "<style scoped>\n",
       "    .dataframe tbody tr th:only-of-type {\n",
       "        vertical-align: middle;\n",
       "    }\n",
       "\n",
       "    .dataframe tbody tr th {\n",
       "        vertical-align: top;\n",
       "    }\n",
       "\n",
       "    .dataframe thead th {\n",
       "        text-align: right;\n",
       "    }\n",
       "</style>\n",
       "<table border=\"1\" class=\"dataframe\">\n",
       "  <thead>\n",
       "    <tr style=\"text-align: right;\">\n",
       "      <th></th>\n",
       "      <th>Тип объекта</th>\n",
       "      <th>Принадлежность</th>\n",
       "      <th>Количество объектов</th>\n",
       "      <th>Соотношение</th>\n",
       "    </tr>\n",
       "  </thead>\n",
       "  <tbody>\n",
       "    <tr>\n",
       "      <td>0</td>\n",
       "      <td>кафе</td>\n",
       "      <td>не сетевой</td>\n",
       "      <td>4675</td>\n",
       "      <td>30.59</td>\n",
       "    </tr>\n",
       "    <tr>\n",
       "      <td>1</td>\n",
       "      <td>столовая</td>\n",
       "      <td>не сетевой</td>\n",
       "      <td>2581</td>\n",
       "      <td>16.89</td>\n",
       "    </tr>\n",
       "    <tr>\n",
       "      <td>2</td>\n",
       "      <td>ресторан</td>\n",
       "      <td>не сетевой</td>\n",
       "      <td>1739</td>\n",
       "      <td>11.38</td>\n",
       "    </tr>\n",
       "    <tr>\n",
       "      <td>3</td>\n",
       "      <td>кафе</td>\n",
       "      <td>cетевой</td>\n",
       "      <td>1396</td>\n",
       "      <td>9.14</td>\n",
       "    </tr>\n",
       "    <tr>\n",
       "      <td>4</td>\n",
       "      <td>предприятие быстрого обслуживания</td>\n",
       "      <td>не сетевой</td>\n",
       "      <td>1109</td>\n",
       "      <td>7.26</td>\n",
       "    </tr>\n",
       "    <tr>\n",
       "      <td>5</td>\n",
       "      <td>бар</td>\n",
       "      <td>не сетевой</td>\n",
       "      <td>818</td>\n",
       "      <td>5.35</td>\n",
       "    </tr>\n",
       "    <tr>\n",
       "      <td>6</td>\n",
       "      <td>предприятие быстрого обслуживания</td>\n",
       "      <td>cетевой</td>\n",
       "      <td>788</td>\n",
       "      <td>5.16</td>\n",
       "    </tr>\n",
       "    <tr>\n",
       "      <td>7</td>\n",
       "      <td>буфет</td>\n",
       "      <td>не сетевой</td>\n",
       "      <td>565</td>\n",
       "      <td>3.70</td>\n",
       "    </tr>\n",
       "    <tr>\n",
       "      <td>8</td>\n",
       "      <td>ресторан</td>\n",
       "      <td>cетевой</td>\n",
       "      <td>543</td>\n",
       "      <td>3.55</td>\n",
       "    </tr>\n",
       "    <tr>\n",
       "      <td>9</td>\n",
       "      <td>кафетерий</td>\n",
       "      <td>не сетевой</td>\n",
       "      <td>343</td>\n",
       "      <td>2.24</td>\n",
       "    </tr>\n",
       "    <tr>\n",
       "      <td>10</td>\n",
       "      <td>закусочная</td>\n",
       "      <td>не сетевой</td>\n",
       "      <td>292</td>\n",
       "      <td>1.91</td>\n",
       "    </tr>\n",
       "    <tr>\n",
       "      <td>11</td>\n",
       "      <td>магазин (отдел кулинарии)</td>\n",
       "      <td>не сетевой</td>\n",
       "      <td>195</td>\n",
       "      <td>1.28</td>\n",
       "    </tr>\n",
       "    <tr>\n",
       "      <td>12</td>\n",
       "      <td>магазин (отдел кулинарии)</td>\n",
       "      <td>cетевой</td>\n",
       "      <td>78</td>\n",
       "      <td>0.51</td>\n",
       "    </tr>\n",
       "    <tr>\n",
       "      <td>13</td>\n",
       "      <td>закусочная</td>\n",
       "      <td>cетевой</td>\n",
       "      <td>56</td>\n",
       "      <td>0.37</td>\n",
       "    </tr>\n",
       "    <tr>\n",
       "      <td>14</td>\n",
       "      <td>кафетерий</td>\n",
       "      <td>cетевой</td>\n",
       "      <td>52</td>\n",
       "      <td>0.34</td>\n",
       "    </tr>\n",
       "    <tr>\n",
       "      <td>15</td>\n",
       "      <td>бар</td>\n",
       "      <td>cетевой</td>\n",
       "      <td>37</td>\n",
       "      <td>0.24</td>\n",
       "    </tr>\n",
       "    <tr>\n",
       "      <td>16</td>\n",
       "      <td>буфет</td>\n",
       "      <td>cетевой</td>\n",
       "      <td>11</td>\n",
       "      <td>0.07</td>\n",
       "    </tr>\n",
       "    <tr>\n",
       "      <td>17</td>\n",
       "      <td>столовая</td>\n",
       "      <td>cетевой</td>\n",
       "      <td>3</td>\n",
       "      <td>0.02</td>\n",
       "    </tr>\n",
       "  </tbody>\n",
       "</table>\n",
       "</div>"
      ],
      "text/plain": [
       "                          Тип объекта Принадлежность  Количество объектов  \\\n",
       "0                                кафе     не сетевой                 4675   \n",
       "1                            столовая     не сетевой                 2581   \n",
       "2                            ресторан     не сетевой                 1739   \n",
       "3                                кафе        cетевой                 1396   \n",
       "4   предприятие быстрого обслуживания     не сетевой                 1109   \n",
       "5                                 бар     не сетевой                  818   \n",
       "6   предприятие быстрого обслуживания        cетевой                  788   \n",
       "7                               буфет     не сетевой                  565   \n",
       "8                            ресторан        cетевой                  543   \n",
       "9                           кафетерий     не сетевой                  343   \n",
       "10                         закусочная     не сетевой                  292   \n",
       "11          магазин (отдел кулинарии)     не сетевой                  195   \n",
       "12          магазин (отдел кулинарии)        cетевой                   78   \n",
       "13                         закусочная        cетевой                   56   \n",
       "14                          кафетерий        cетевой                   52   \n",
       "15                                бар        cетевой                   37   \n",
       "16                              буфет        cетевой                   11   \n",
       "17                           столовая        cетевой                    3   \n",
       "\n",
       "    Соотношение  \n",
       "0         30.59  \n",
       "1         16.89  \n",
       "2         11.38  \n",
       "3          9.14  \n",
       "4          7.26  \n",
       "5          5.35  \n",
       "6          5.16  \n",
       "7          3.70  \n",
       "8          3.55  \n",
       "9          2.24  \n",
       "10         1.91  \n",
       "11         1.28  \n",
       "12         0.51  \n",
       "13         0.37  \n",
       "14         0.34  \n",
       "15         0.24  \n",
       "16         0.07  \n",
       "17         0.02  "
      ]
     },
     "metadata": {},
     "output_type": "display_data"
    }
   ],
   "source": [
    "# сгруппируем по типу и принадлежности к сети и посчитаем количество; \n",
    "# в отдельном столбце `ratio` рассчитаем соотношение от общего кол-ва всех объектов\n",
    "\n",
    "types_proportion = rest_data.groupby(['object_type','chain'])['id'].count().sort_values(ascending=False).reset_index()\n",
    "types_proportion['ratio'] = ((types_proportion['id']/len(rest_data['object_type']))*100).round(2)\n",
    "types_proportion.columns = ['Тип объекта', 'Принадлежность', 'Количество объектов', 'Соотношение']\n",
    "\n",
    "# сгруппируем отдельно по типам и принадлежности к сети получившийся датафрейм `types_proportion`\n",
    "\n",
    "by_types = types_proportion.groupby('Тип объекта').agg({'Соотношение': 'sum'}) \\\n",
    ".sort_values(by='Соотношение', ascending=False).reset_index()\n",
    "\n",
    "by_chain = types_proportion.groupby('Принадлежность').agg({'Соотношение': 'sum'}).reset_index()\n",
    "\n",
    "# строим гистограммы\n",
    "\n",
    "# гистограмма соотношения типов\n",
    "plt.figure(figsize=(15,5))\n",
    "sns.barplot(x='Тип объекта', y='Соотношение', data=by_types, palette=\"tab20\")\n",
    "plt.title('Соотношение объектов общественного питания г.Москвы по типам', fontsize=16)\n",
    "plt.tick_params(axis='x', labelrotation=66)\n",
    "plt.show()\n",
    "print('----------------------------------------------------------------------------------------------------------------')\n",
    "\n",
    "# гистограмма соотношения принадлежности к сети\n",
    "plt.figure(figsize=(15,5))\n",
    "sns.barplot(x='Принадлежность', y='Соотношение', data=by_chain)\n",
    "plt.title('Соотношение объектов общественного питания г.Москвы по их принадлежности к сети', fontsize=16)\n",
    "plt.tick_params(axis='x', labelrotation=66)\n",
    "plt.show()\n",
    "print('----------------------------------------------------------------------------------------------------------------')\n",
    "\n",
    "# общая гистограмма и по типам и по принадлежности\n",
    "plt.figure(figsize=(15,5))\n",
    "sns.barplot(x='Тип объекта', y='Соотношение', data=types_proportion, hue='Принадлежность')\n",
    "plt.title('Соотношение объектов общественного питания г.Москвы по типам и их принадлежности к сети', fontsize=16)\n",
    "plt.tick_params(axis='x', labelrotation=66)\n",
    "plt.show()\n",
    "\n",
    "print('----------------------------------------------------------------------------------------------------------------')\n",
    "print('Таблица \"Количество и соотношение типов объектов общественного питания г.Москвы\"')\n",
    "display(types_proportion)"
   ]
  },
  {
   "cell_type": "markdown",
   "metadata": {},
   "source": [
    "<div style=\"border:dotted black 3px; padding: 20px\">\n",
    " \n",
    "- Как мы видим, больше всего в Москве заведений типа \"кафе\".<br>\n",
    "    \n",
    "- \"Столовые\", \"рестораны\" и \"предприятия быстрого обслуживания\" на 2, 3 и 4 месте, соответственно, по соотношению кол-ва заведений в городе.<br>\n",
    "    \n",
    "- 80% всех объектов яляются \"не сетевыми\".<br> \n",
    "    \n",
    "- По общему соотношению \"предприятия быстрого обслуживания\" в сравнении с их \"не сетевыми\" объектами имеют принадлежность к сети больше остальных типов, хотя по кол-ву таких заведений находятся на 4-ом месте.<br> \n",
    " \n",
    "- \"Кафе\" и \"рестораны\" также имеют сетевые объекты, но в меньшем соотношении по сравнению с \"не сетевыми\" заведениями данных типов (и по сравнению с \"предприятиями быстрого обслуживания\").<br>\n",
    "  \n",
    "    \n",
    "</div>"
   ]
  },
  {
   "cell_type": "markdown",
   "metadata": {},
   "source": [
    "### Изучение количества посадочных мест в сетевых объектах"
   ]
  },
  {
   "cell_type": "code",
   "execution_count": 11,
   "metadata": {},
   "outputs": [
    {
     "data": {
      "image/png": "[encoded data removed]",
      "text/plain": [
       "<Figure size 720x720 with 3 Axes>"
      ]
     },
     "metadata": {},
     "output_type": "display_data"
    },
    {
     "name": "stdout",
     "output_type": "stream",
     "text": [
      "----------------------------------------------------------------------------------------------------------------\n",
      "Таблица \"Распределение количества посадочных мест в сетевых заведениях г.Москвы\"\n"
     ]
    },
    {
     "data": {
      "text/html": [
       "<div>\n",
       "<style scoped>\n",
       "    .dataframe tbody tr th:only-of-type {\n",
       "        vertical-align: middle;\n",
       "    }\n",
       "\n",
       "    .dataframe tbody tr th {\n",
       "        vertical-align: top;\n",
       "    }\n",
       "\n",
       "    .dataframe thead th {\n",
       "        text-align: right;\n",
       "    }\n",
       "</style>\n",
       "<table border=\"1\" class=\"dataframe\">\n",
       "  <thead>\n",
       "    <tr style=\"text-align: right;\">\n",
       "      <th></th>\n",
       "      <th>Кол-во посадочных мест</th>\n",
       "      <th>Кол-во заведений</th>\n",
       "    </tr>\n",
       "  </thead>\n",
       "  <tbody>\n",
       "    <tr>\n",
       "      <td>0</td>\n",
       "      <td>0</td>\n",
       "      <td>265</td>\n",
       "    </tr>\n",
       "    <tr>\n",
       "      <td>20</td>\n",
       "      <td>20</td>\n",
       "      <td>161</td>\n",
       "    </tr>\n",
       "    <tr>\n",
       "      <td>40</td>\n",
       "      <td>40</td>\n",
       "      <td>144</td>\n",
       "    </tr>\n",
       "    <tr>\n",
       "      <td>10</td>\n",
       "      <td>10</td>\n",
       "      <td>131</td>\n",
       "    </tr>\n",
       "    <tr>\n",
       "      <td>50</td>\n",
       "      <td>50</td>\n",
       "      <td>122</td>\n",
       "    </tr>\n",
       "    <tr>\n",
       "      <td>30</td>\n",
       "      <td>30</td>\n",
       "      <td>121</td>\n",
       "    </tr>\n",
       "    <tr>\n",
       "      <td>59</td>\n",
       "      <td>60</td>\n",
       "      <td>96</td>\n",
       "    </tr>\n",
       "    <tr>\n",
       "      <td>15</td>\n",
       "      <td>15</td>\n",
       "      <td>78</td>\n",
       "    </tr>\n",
       "    <tr>\n",
       "      <td>45</td>\n",
       "      <td>45</td>\n",
       "      <td>74</td>\n",
       "    </tr>\n",
       "    <tr>\n",
       "      <td>25</td>\n",
       "      <td>25</td>\n",
       "      <td>69</td>\n",
       "    </tr>\n",
       "  </tbody>\n",
       "</table>\n",
       "</div>"
      ],
      "text/plain": [
       "    Кол-во посадочных мест  Кол-во заведений\n",
       "0                        0               265\n",
       "20                      20               161\n",
       "40                      40               144\n",
       "10                      10               131\n",
       "50                      50               122\n",
       "30                      30               121\n",
       "59                      60                96\n",
       "15                      15                78\n",
       "45                      45                74\n",
       "25                      25                69"
      ]
     },
     "metadata": {},
     "output_type": "display_data"
    }
   ],
   "source": [
    "# сгруппируем только сетевые заведения по кол-ву посадочных мест и посчитаем кол-во заведений\n",
    "\n",
    "chain_seats = rest_data.query('chain != \"не сетевой\"').groupby('seats_numbers').agg({'id': 'count'}).reset_index()\n",
    "chain_seats.columns = ['Кол-во посадочных мест', 'Кол-во заведений']\n",
    "\n",
    "# строим `jointplot`\n",
    "\n",
    "sns.set_style(\"whitegrid\")\n",
    "chart1 = sns.jointplot(x='Кол-во посадочных мест', y='Кол-во заведений', data=chain_seats, color='blue')\n",
    "chart1.fig.set_figwidth(10)\n",
    "chart1.fig.set_figheight(10)\n",
    "chart1.fig.suptitle('Распределение количества посадочных мест в сетевых заведениях г.Москвы', fontsize=16)\n",
    "chart1.fig.subplots_adjust(top=0.95) \n",
    "\n",
    "plt.show()\n",
    "print('----------------------------------------------------------------------------------------------------------------')\n",
    "print('Таблица \"Распределение количества посадочных мест в сетевых заведениях г.Москвы\"')\n",
    "display(chain_seats.sort_values(by='Кол-во заведений', ascending=False).head(10))"
   ]
  },
  {
   "cell_type": "markdown",
   "metadata": {},
   "source": [
    "<div style=\"border:dotted black 3px; padding: 20px\">\n",
    "    \n",
    "Как мы видим по распределению, то самая высокая точка по оси Y в кол-ве 265 заведений с нулевым количеством мест говорит о том, что преобладает много заведений вовсе без посадочных мест (работающие либо только \"на вынос\"/\"c собой\", либо с доступностью использования барной стойки заведения (возможно со стульями в количестве от 2 до 5, например). В данных нет уточнения про 0 мест, поэтому делаем именно такое предположение.<br><br>\n",
    "    \n",
    "В целом, больше всего сетевых заведений с количеством посадочных мест от 10 до 60.<br><br>\n",
    "    \n",
    "Заведений же с большим количеством мест от 100 до 500 (и >) меньше всего среди заведений общ.питания г.Москвы.\n",
    "    \n",
    "</div>"
   ]
  },
  {
   "cell_type": "markdown",
   "metadata": {},
   "source": [
    "### Изучение среднего количества посадочных мест по видам объектов"
   ]
  },
  {
   "cell_type": "code",
   "execution_count": 12,
   "metadata": {
    "scrolled": false
   },
   "outputs": [
    {
     "name": "stdout",
     "output_type": "stream",
     "text": [
      "Таблица \"Cреднее количество посадочных мест в зависимости от типа объекта\"\n"
     ]
    },
    {
     "data": {
      "text/html": [
       "<div>\n",
       "<style scoped>\n",
       "    .dataframe tbody tr th:only-of-type {\n",
       "        vertical-align: middle;\n",
       "    }\n",
       "\n",
       "    .dataframe tbody tr th {\n",
       "        vertical-align: top;\n",
       "    }\n",
       "\n",
       "    .dataframe thead th {\n",
       "        text-align: right;\n",
       "    }\n",
       "</style>\n",
       "<table border=\"1\" class=\"dataframe\">\n",
       "  <thead>\n",
       "    <tr style=\"text-align: right;\">\n",
       "      <th></th>\n",
       "      <th>Тип объекта</th>\n",
       "      <th>Среднее кол-во посадочных мест</th>\n",
       "    </tr>\n",
       "  </thead>\n",
       "  <tbody>\n",
       "    <tr>\n",
       "      <td>0</td>\n",
       "      <td>столовая</td>\n",
       "      <td>103</td>\n",
       "    </tr>\n",
       "    <tr>\n",
       "      <td>1</td>\n",
       "      <td>ресторан</td>\n",
       "      <td>80</td>\n",
       "    </tr>\n",
       "    <tr>\n",
       "      <td>2</td>\n",
       "      <td>бар</td>\n",
       "      <td>35</td>\n",
       "    </tr>\n",
       "    <tr>\n",
       "      <td>3</td>\n",
       "      <td>буфет</td>\n",
       "      <td>32</td>\n",
       "    </tr>\n",
       "    <tr>\n",
       "      <td>4</td>\n",
       "      <td>кафе</td>\n",
       "      <td>30</td>\n",
       "    </tr>\n",
       "    <tr>\n",
       "      <td>5</td>\n",
       "      <td>предприятие быстрого обслуживания</td>\n",
       "      <td>6</td>\n",
       "    </tr>\n",
       "    <tr>\n",
       "      <td>6</td>\n",
       "      <td>кафетерий</td>\n",
       "      <td>6</td>\n",
       "    </tr>\n",
       "    <tr>\n",
       "      <td>7</td>\n",
       "      <td>магазин (отдел кулинарии)</td>\n",
       "      <td>0</td>\n",
       "    </tr>\n",
       "    <tr>\n",
       "      <td>8</td>\n",
       "      <td>закусочная</td>\n",
       "      <td>0</td>\n",
       "    </tr>\n",
       "  </tbody>\n",
       "</table>\n",
       "</div>"
      ],
      "text/plain": [
       "                         Тип объекта  Среднее кол-во посадочных мест\n",
       "0                           столовая                             103\n",
       "1                           ресторан                              80\n",
       "2                                бар                              35\n",
       "3                              буфет                              32\n",
       "4                               кафе                              30\n",
       "5  предприятие быстрого обслуживания                               6\n",
       "6                          кафетерий                               6\n",
       "7          магазин (отдел кулинарии)                               0\n",
       "8                         закусочная                               0"
      ]
     },
     "metadata": {},
     "output_type": "display_data"
    },
    {
     "data": {
      "image/png": "[encoded data removed]",
      "text/plain": [
       "<Figure size 1080x360 with 1 Axes>"
      ]
     },
     "metadata": {},
     "output_type": "display_data"
    },
    {
     "name": "stdout",
     "output_type": "stream",
     "text": [
      "----------------------------------------------------------------------------------------------------------------\n"
     ]
    },
    {
     "data": {
      "image/png": "[encoded data removed]",
      "text/plain": [
       "<Figure size 1080x360 with 1 Axes>"
      ]
     },
     "metadata": {},
     "output_type": "display_data"
    },
    {
     "name": "stdout",
     "output_type": "stream",
     "text": [
      "Таблица \"Cреднее количество посадочных мест в зависимости от типа объекта и принадлежности к сети\"\n"
     ]
    },
    {
     "data": {
      "text/html": [
       "<div>\n",
       "<style scoped>\n",
       "    .dataframe tbody tr th:only-of-type {\n",
       "        vertical-align: middle;\n",
       "    }\n",
       "\n",
       "    .dataframe tbody tr th {\n",
       "        vertical-align: top;\n",
       "    }\n",
       "\n",
       "    .dataframe thead th {\n",
       "        text-align: right;\n",
       "    }\n",
       "</style>\n",
       "<table border=\"1\" class=\"dataframe\">\n",
       "  <thead>\n",
       "    <tr style=\"text-align: right;\">\n",
       "      <th></th>\n",
       "      <th>Тип объекта</th>\n",
       "      <th>Принадлежность</th>\n",
       "      <th>Среднее кол-во посадочных мест</th>\n",
       "    </tr>\n",
       "  </thead>\n",
       "  <tbody>\n",
       "    <tr>\n",
       "      <td>0</td>\n",
       "      <td>столовая</td>\n",
       "      <td>cетевой</td>\n",
       "      <td>120.0</td>\n",
       "    </tr>\n",
       "    <tr>\n",
       "      <td>1</td>\n",
       "      <td>столовая</td>\n",
       "      <td>не сетевой</td>\n",
       "      <td>103.0</td>\n",
       "    </tr>\n",
       "    <tr>\n",
       "      <td>2</td>\n",
       "      <td>ресторан</td>\n",
       "      <td>cетевой</td>\n",
       "      <td>89.0</td>\n",
       "    </tr>\n",
       "    <tr>\n",
       "      <td>3</td>\n",
       "      <td>ресторан</td>\n",
       "      <td>не сетевой</td>\n",
       "      <td>75.0</td>\n",
       "    </tr>\n",
       "    <tr>\n",
       "      <td>4</td>\n",
       "      <td>бар</td>\n",
       "      <td>cетевой</td>\n",
       "      <td>45.0</td>\n",
       "    </tr>\n",
       "    <tr>\n",
       "      <td>5</td>\n",
       "      <td>кафе</td>\n",
       "      <td>cетевой</td>\n",
       "      <td>40.0</td>\n",
       "    </tr>\n",
       "    <tr>\n",
       "      <td>6</td>\n",
       "      <td>бар</td>\n",
       "      <td>не сетевой</td>\n",
       "      <td>34.0</td>\n",
       "    </tr>\n",
       "    <tr>\n",
       "      <td>7</td>\n",
       "      <td>буфет</td>\n",
       "      <td>не сетевой</td>\n",
       "      <td>32.0</td>\n",
       "    </tr>\n",
       "    <tr>\n",
       "      <td>8</td>\n",
       "      <td>кафе</td>\n",
       "      <td>не сетевой</td>\n",
       "      <td>30.0</td>\n",
       "    </tr>\n",
       "    <tr>\n",
       "      <td>9</td>\n",
       "      <td>предприятие быстрого обслуживания</td>\n",
       "      <td>cетевой</td>\n",
       "      <td>25.0</td>\n",
       "    </tr>\n",
       "    <tr>\n",
       "      <td>10</td>\n",
       "      <td>закусочная</td>\n",
       "      <td>cетевой</td>\n",
       "      <td>8.0</td>\n",
       "    </tr>\n",
       "    <tr>\n",
       "      <td>11</td>\n",
       "      <td>кафетерий</td>\n",
       "      <td>cетевой</td>\n",
       "      <td>8.0</td>\n",
       "    </tr>\n",
       "    <tr>\n",
       "      <td>12</td>\n",
       "      <td>кафетерий</td>\n",
       "      <td>не сетевой</td>\n",
       "      <td>6.0</td>\n",
       "    </tr>\n",
       "    <tr>\n",
       "      <td>13</td>\n",
       "      <td>магазин (отдел кулинарии)</td>\n",
       "      <td>cетевой</td>\n",
       "      <td>3.5</td>\n",
       "    </tr>\n",
       "    <tr>\n",
       "      <td>14</td>\n",
       "      <td>магазин (отдел кулинарии)</td>\n",
       "      <td>не сетевой</td>\n",
       "      <td>0.0</td>\n",
       "    </tr>\n",
       "    <tr>\n",
       "      <td>15</td>\n",
       "      <td>предприятие быстрого обслуживания</td>\n",
       "      <td>не сетевой</td>\n",
       "      <td>0.0</td>\n",
       "    </tr>\n",
       "    <tr>\n",
       "      <td>16</td>\n",
       "      <td>закусочная</td>\n",
       "      <td>не сетевой</td>\n",
       "      <td>0.0</td>\n",
       "    </tr>\n",
       "    <tr>\n",
       "      <td>17</td>\n",
       "      <td>буфет</td>\n",
       "      <td>cетевой</td>\n",
       "      <td>0.0</td>\n",
       "    </tr>\n",
       "  </tbody>\n",
       "</table>\n",
       "</div>"
      ],
      "text/plain": [
       "                          Тип объекта Принадлежность  \\\n",
       "0                            столовая        cетевой   \n",
       "1                            столовая     не сетевой   \n",
       "2                            ресторан        cетевой   \n",
       "3                            ресторан     не сетевой   \n",
       "4                                 бар        cетевой   \n",
       "5                                кафе        cетевой   \n",
       "6                                 бар     не сетевой   \n",
       "7                               буфет     не сетевой   \n",
       "8                                кафе     не сетевой   \n",
       "9   предприятие быстрого обслуживания        cетевой   \n",
       "10                         закусочная        cетевой   \n",
       "11                          кафетерий        cетевой   \n",
       "12                          кафетерий     не сетевой   \n",
       "13          магазин (отдел кулинарии)        cетевой   \n",
       "14          магазин (отдел кулинарии)     не сетевой   \n",
       "15  предприятие быстрого обслуживания     не сетевой   \n",
       "16                         закусочная     не сетевой   \n",
       "17                              буфет        cетевой   \n",
       "\n",
       "    Среднее кол-во посадочных мест  \n",
       "0                            120.0  \n",
       "1                            103.0  \n",
       "2                             89.0  \n",
       "3                             75.0  \n",
       "4                             45.0  \n",
       "5                             40.0  \n",
       "6                             34.0  \n",
       "7                             32.0  \n",
       "8                             30.0  \n",
       "9                             25.0  \n",
       "10                             8.0  \n",
       "11                             8.0  \n",
       "12                             6.0  \n",
       "13                             3.5  \n",
       "14                             0.0  \n",
       "15                             0.0  \n",
       "16                             0.0  \n",
       "17                             0.0  "
      ]
     },
     "metadata": {},
     "output_type": "display_data"
    },
    {
     "name": "stdout",
     "output_type": "stream",
     "text": [
      "----------------------------------------------------------------------------------------------------------------\n"
     ]
    }
   ],
   "source": [
    "# создадим 2 таблицы отдельно для всех заведений и отдельно по принадлежности к сетям\n",
    "# построим на их основе 2 барплота\n",
    "\n",
    "median_seats = rest_data.groupby('object_type')['seats_numbers'].median().sort_values(ascending=False).reset_index()\n",
    "median_seats.columns = ['Тип объекта', 'Среднее кол-во посадочных мест']\n",
    "\n",
    "median_seats_with_chain = rest_data.groupby(['object_type','chain'])['seats_numbers'].median().sort_values(ascending=False).reset_index()\n",
    "median_seats_with_chain.columns = ['Тип объекта', 'Принадлежность', 'Среднее кол-во посадочных мест']\n",
    "\n",
    "print('Таблица \"Cреднее количество посадочных мест в зависимости от типа объекта\"')\n",
    "display(median_seats)\n",
    "plt.figure(figsize=(15,5))\n",
    "sns.barplot(x='Тип объекта', y='Среднее кол-во посадочных мест', data=median_seats, palette=\"muted\")\n",
    "plt.title('Cреднее количество посадочных мест в зависимости от типа объекта', fontsize=16)\n",
    "plt.tick_params(axis='x', labelrotation=60)\n",
    "plt.show()\n",
    "print('----------------------------------------------------------------------------------------------------------------')\n",
    "\n",
    "plt.figure(figsize=(15,5))\n",
    "sns.barplot(x='Тип объекта', y='Среднее кол-во посадочных мест', data=median_seats_with_chain, hue='Принадлежность', palette=\"muted\")\n",
    "plt.title('Cреднее количество посадочных мест в зависимости от типа объекта и принадлежности к сети', fontsize=16)\n",
    "plt.tick_params(axis='x', labelrotation=60)\n",
    "plt.show()\n",
    "print('Таблица \"Cреднее количество посадочных мест в зависимости от типа объекта и принадлежности к сети\"')\n",
    "display(median_seats_with_chain)\n",
    "print('----------------------------------------------------------------------------------------------------------------')"
   ]
  },
  {
   "cell_type": "markdown",
   "metadata": {},
   "source": [
    "<div style=\"border:dotted black 3px; padding: 20px\">\n",
    "    \n",
    "Из данных графиков видно, что в среднем (несмотря на небольшие отличия показателя при делении по принадлежности к сети или нет) \"столовые\" имеют больше всего посадочных мест, в среднем 103 места по рынку.<br><br>\n",
    "<hr>\n",
    "    \n",
    "Итого, средние показатели по кол-ву посадочных мест по типам объектов распределились следующим образом:<br>\n",
    "\n",
    "1) Столовая\t- 103 места<br>\n",
    "    \n",
    "2) Ресторан - 80 мест<br>\n",
    "    \n",
    "3)\tБар - 35 мест<br>\n",
    "    \n",
    "4)\tБуфет - 32 места<br>\n",
    "    \n",
    "5)\tКафе - 30 мест<br>\n",
    "    \n",
    "6)\tПредприятие быстрого обслуживания - 6 мест<br>\n",
    "    \n",
    "7)\tКафетерий - 6 мест<br>\n",
    "    \n",
    "8)\tМагазин (отдел кулинарии) - 0 мест<br>\n",
    "    \n",
    "9)\tЗакусочная - 0 мест<br><br>\n",
    "    \n",
    "    \n",
    "Стоит отметить, что во всех типах сетевых заведений показатель среднего кол-ва посадочных мест больше, чем в аналогичных не сетевых типах.    \n",
    "    \n",
    "</div>"
   ]
  },
  {
   "cell_type": "markdown",
   "metadata": {},
   "source": [
    "###  Изучение улиц с наибольшим количеством объектов "
   ]
  },
  {
   "cell_type": "markdown",
   "metadata": {},
   "source": [
    "Для начала выделим в отдельный столбец название улицы (проспекта, переулка и т.п.) из столбца `object_address`. Используем метод `split()`, который вернет второе значение после первой запятой (первым значением выступает указание города)."
   ]
  },
  {
   "cell_type": "code",
   "execution_count": 13,
   "metadata": {},
   "outputs": [],
   "source": [
    "rest_data['street_name'] = rest_data['object_address'].apply(lambda x: x.split(', ')[1])"
   ]
  },
  {
   "cell_type": "markdown",
   "metadata": {},
   "source": [
    "**Воспользовавшись хабом открытых данных `http://hubofdata.ru` мы нашли файл `.csv` с отсылкой на АО \"Мосгаз\" с названиями улиц, районами и округами, к которым они относятся. Мы сохранили этот файл в Google Drive: прочитаем его и посмотрим на общую информацию и содержимое 10 строк.**"
   ]
  },
  {
   "cell_type": "code",
   "execution_count": 14,
   "metadata": {},
   "outputs": [
    {
     "name": "stdout",
     "output_type": "stream",
     "text": [
      "<class 'pandas.core.frame.DataFrame'>\n",
      "RangeIndex: 4398 entries, 0 to 4397\n",
      "Data columns (total 4 columns):\n",
      "streetname    4398 non-null object\n",
      "areaid        4398 non-null int64\n",
      "okrug         4398 non-null object\n",
      "area          4398 non-null object\n",
      "dtypes: int64(1), object(3)\n",
      "memory usage: 137.6+ KB\n",
      "None\n",
      "--------------------------------------------------------------------------------------------------------------------\n",
      "\"Открытые данные об улицах и районах г.Москвы (источник: АО \"Мосгаз\")\"\n"
     ]
    },
    {
     "data": {
      "text/html": [
       "<div>\n",
       "<style scoped>\n",
       "    .dataframe tbody tr th:only-of-type {\n",
       "        vertical-align: middle;\n",
       "    }\n",
       "\n",
       "    .dataframe tbody tr th {\n",
       "        vertical-align: top;\n",
       "    }\n",
       "\n",
       "    .dataframe thead th {\n",
       "        text-align: right;\n",
       "    }\n",
       "</style>\n",
       "<table border=\"1\" class=\"dataframe\">\n",
       "  <thead>\n",
       "    <tr style=\"text-align: right;\">\n",
       "      <th></th>\n",
       "      <th>streetname</th>\n",
       "      <th>areaid</th>\n",
       "      <th>okrug</th>\n",
       "      <th>area</th>\n",
       "    </tr>\n",
       "  </thead>\n",
       "  <tbody>\n",
       "    <tr>\n",
       "      <td>0</td>\n",
       "      <td>Выставочный переулок</td>\n",
       "      <td>17</td>\n",
       "      <td>ЦАО</td>\n",
       "      <td>Пресненский район</td>\n",
       "    </tr>\n",
       "    <tr>\n",
       "      <td>1</td>\n",
       "      <td>улица Гашека</td>\n",
       "      <td>17</td>\n",
       "      <td>ЦАО</td>\n",
       "      <td>Пресненский район</td>\n",
       "    </tr>\n",
       "    <tr>\n",
       "      <td>2</td>\n",
       "      <td>Большая Никитская улица</td>\n",
       "      <td>17</td>\n",
       "      <td>ЦАО</td>\n",
       "      <td>Пресненский район</td>\n",
       "    </tr>\n",
       "    <tr>\n",
       "      <td>3</td>\n",
       "      <td>Глубокий переулок</td>\n",
       "      <td>17</td>\n",
       "      <td>ЦАО</td>\n",
       "      <td>Пресненский район</td>\n",
       "    </tr>\n",
       "    <tr>\n",
       "      <td>4</td>\n",
       "      <td>Большой Гнездниковский переулок</td>\n",
       "      <td>17</td>\n",
       "      <td>ЦАО</td>\n",
       "      <td>Пресненский район</td>\n",
       "    </tr>\n",
       "    <tr>\n",
       "      <td>5</td>\n",
       "      <td>Малый Гнездниковский переулок</td>\n",
       "      <td>17</td>\n",
       "      <td>ЦАО</td>\n",
       "      <td>Пресненский район</td>\n",
       "    </tr>\n",
       "    <tr>\n",
       "      <td>6</td>\n",
       "      <td>Большая Грузинская улица</td>\n",
       "      <td>17</td>\n",
       "      <td>ЦАО</td>\n",
       "      <td>Пресненский район</td>\n",
       "    </tr>\n",
       "    <tr>\n",
       "      <td>7</td>\n",
       "      <td>Малая Грузинская улица</td>\n",
       "      <td>17</td>\n",
       "      <td>ЦАО</td>\n",
       "      <td>Пресненский район</td>\n",
       "    </tr>\n",
       "    <tr>\n",
       "      <td>8</td>\n",
       "      <td>Грузинская площадь</td>\n",
       "      <td>17</td>\n",
       "      <td>ЦАО</td>\n",
       "      <td>Пресненский район</td>\n",
       "    </tr>\n",
       "    <tr>\n",
       "      <td>9</td>\n",
       "      <td>улица Грузинский Вал</td>\n",
       "      <td>17</td>\n",
       "      <td>ЦАО</td>\n",
       "      <td>Пресненский район</td>\n",
       "    </tr>\n",
       "  </tbody>\n",
       "</table>\n",
       "</div>"
      ],
      "text/plain": [
       "                        streetname  areaid okrug               area\n",
       "0             Выставочный переулок      17   ЦАО  Пресненский район\n",
       "1                     улица Гашека      17   ЦАО  Пресненский район\n",
       "2          Большая Никитская улица      17   ЦАО  Пресненский район\n",
       "3                Глубокий переулок      17   ЦАО  Пресненский район\n",
       "4  Большой Гнездниковский переулок      17   ЦАО  Пресненский район\n",
       "5    Малый Гнездниковский переулок      17   ЦАО  Пресненский район\n",
       "6         Большая Грузинская улица      17   ЦАО  Пресненский район\n",
       "7           Малая Грузинская улица      17   ЦАО  Пресненский район\n",
       "8               Грузинская площадь      17   ЦАО  Пресненский район\n",
       "9             улица Грузинский Вал      17   ЦАО  Пресненский район"
      ]
     },
     "metadata": {},
     "output_type": "display_data"
    }
   ],
   "source": [
    "url = 'https://drive.google.com/file/d/1I2qKUvWv6jNRNKH243JR1kFNXJK3eg30/view?usp=sharing'\n",
    "path = 'https://drive.google.com/uc?export=download&id='+url.split('/')[-2]\n",
    "districts_data = pd.read_csv(path)\n",
    "\n",
    "districts_data.name = '\"Открытые данные об улицах и районах г.Москвы (источник: АО \"Мосгаз\")\"'\n",
    "print(districts_data.info())\n",
    "print('--------------------------------------------------------------------------------------------------------------------')\n",
    "print(districts_data.name)\n",
    "display(districts_data.head(10))"
   ]
  },
  {
   "cell_type": "markdown",
   "metadata": {},
   "source": [
    "Пропусков нет, типы данных соответствуют. Проверим на наличие дубликатов и скорректируем названия столбцов."
   ]
  },
  {
   "cell_type": "code",
   "execution_count": 15,
   "metadata": {},
   "outputs": [
    {
     "name": "stdout",
     "output_type": "stream",
     "text": [
      "Количество дубликатов = 8\n"
     ]
    },
    {
     "data": {
      "text/html": [
       "<div>\n",
       "<style scoped>\n",
       "    .dataframe tbody tr th:only-of-type {\n",
       "        vertical-align: middle;\n",
       "    }\n",
       "\n",
       "    .dataframe tbody tr th {\n",
       "        vertical-align: top;\n",
       "    }\n",
       "\n",
       "    .dataframe thead th {\n",
       "        text-align: right;\n",
       "    }\n",
       "</style>\n",
       "<table border=\"1\" class=\"dataframe\">\n",
       "  <thead>\n",
       "    <tr style=\"text-align: right;\">\n",
       "      <th></th>\n",
       "      <th>street_name</th>\n",
       "      <th>district_id</th>\n",
       "      <th>district_zone</th>\n",
       "      <th>district</th>\n",
       "    </tr>\n",
       "  </thead>\n",
       "  <tbody>\n",
       "    <tr>\n",
       "      <td>0</td>\n",
       "      <td>Выставочный переулок</td>\n",
       "      <td>17</td>\n",
       "      <td>ЦАО</td>\n",
       "      <td>Пресненский район</td>\n",
       "    </tr>\n",
       "    <tr>\n",
       "      <td>1</td>\n",
       "      <td>улица Гашека</td>\n",
       "      <td>17</td>\n",
       "      <td>ЦАО</td>\n",
       "      <td>Пресненский район</td>\n",
       "    </tr>\n",
       "    <tr>\n",
       "      <td>2</td>\n",
       "      <td>Большая Никитская улица</td>\n",
       "      <td>17</td>\n",
       "      <td>ЦАО</td>\n",
       "      <td>Пресненский район</td>\n",
       "    </tr>\n",
       "    <tr>\n",
       "      <td>3</td>\n",
       "      <td>Глубокий переулок</td>\n",
       "      <td>17</td>\n",
       "      <td>ЦАО</td>\n",
       "      <td>Пресненский район</td>\n",
       "    </tr>\n",
       "    <tr>\n",
       "      <td>4</td>\n",
       "      <td>Большой Гнездниковский переулок</td>\n",
       "      <td>17</td>\n",
       "      <td>ЦАО</td>\n",
       "      <td>Пресненский район</td>\n",
       "    </tr>\n",
       "    <tr>\n",
       "      <td>5</td>\n",
       "      <td>Малый Гнездниковский переулок</td>\n",
       "      <td>17</td>\n",
       "      <td>ЦАО</td>\n",
       "      <td>Пресненский район</td>\n",
       "    </tr>\n",
       "    <tr>\n",
       "      <td>6</td>\n",
       "      <td>Большая Грузинская улица</td>\n",
       "      <td>17</td>\n",
       "      <td>ЦАО</td>\n",
       "      <td>Пресненский район</td>\n",
       "    </tr>\n",
       "    <tr>\n",
       "      <td>7</td>\n",
       "      <td>Малая Грузинская улица</td>\n",
       "      <td>17</td>\n",
       "      <td>ЦАО</td>\n",
       "      <td>Пресненский район</td>\n",
       "    </tr>\n",
       "    <tr>\n",
       "      <td>8</td>\n",
       "      <td>Грузинская площадь</td>\n",
       "      <td>17</td>\n",
       "      <td>ЦАО</td>\n",
       "      <td>Пресненский район</td>\n",
       "    </tr>\n",
       "    <tr>\n",
       "      <td>9</td>\n",
       "      <td>улица Грузинский Вал</td>\n",
       "      <td>17</td>\n",
       "      <td>ЦАО</td>\n",
       "      <td>Пресненский район</td>\n",
       "    </tr>\n",
       "  </tbody>\n",
       "</table>\n",
       "</div>"
      ],
      "text/plain": [
       "                       street_name  district_id district_zone  \\\n",
       "0             Выставочный переулок           17           ЦАО   \n",
       "1                     улица Гашека           17           ЦАО   \n",
       "2          Большая Никитская улица           17           ЦАО   \n",
       "3                Глубокий переулок           17           ЦАО   \n",
       "4  Большой Гнездниковский переулок           17           ЦАО   \n",
       "5    Малый Гнездниковский переулок           17           ЦАО   \n",
       "6         Большая Грузинская улица           17           ЦАО   \n",
       "7           Малая Грузинская улица           17           ЦАО   \n",
       "8               Грузинская площадь           17           ЦАО   \n",
       "9             улица Грузинский Вал           17           ЦАО   \n",
       "\n",
       "            district  \n",
       "0  Пресненский район  \n",
       "1  Пресненский район  \n",
       "2  Пресненский район  \n",
       "3  Пресненский район  \n",
       "4  Пресненский район  \n",
       "5  Пресненский район  \n",
       "6  Пресненский район  \n",
       "7  Пресненский район  \n",
       "8  Пресненский район  \n",
       "9  Пресненский район  "
      ]
     },
     "execution_count": 15,
     "metadata": {},
     "output_type": "execute_result"
    }
   ],
   "source": [
    "duplicates = districts_data.duplicated().sum()\n",
    "if duplicates > 0:\n",
    "    print('Количество дубликатов =', duplicates)\n",
    "else:\n",
    "    print('Дубликатов не найдено')\n",
    "\n",
    "districts_data = districts_data.rename({'streetname': 'street_name', 'areaid': 'district_id', 'okrug': 'district_zone', 'area': 'district'}, axis = 'columns')\n",
    "districts_data.head(10)"
   ]
  },
  {
   "cell_type": "markdown",
   "metadata": {},
   "source": [
    "Удалим найденные дубликаты."
   ]
  },
  {
   "cell_type": "code",
   "execution_count": 16,
   "metadata": {},
   "outputs": [],
   "source": [
    "districts_data = districts_data.drop_duplicates().reset_index(drop=True)"
   ]
  },
  {
   "cell_type": "markdown",
   "metadata": {},
   "source": [
    "**Мы выбрали данный датафрейм из других аналогов в связи с подходящим нам условием - в нем нет сокращений (ул./пер./ш. и прочих), это нам подходит по содержимому нашего датафрейма.**\n",
    "\n",
    "Объединим `districts_data` с `rest_data` по столбцу `street_name`."
   ]
  },
  {
   "cell_type": "code",
   "execution_count": 17,
   "metadata": {},
   "outputs": [
    {
     "name": "stdout",
     "output_type": "stream",
     "text": [
      "\n",
      "Длина датафрейма до объединения: 15281\n",
      "Длина датафрейма после объединения: 29321\n",
      "-----------------------------------------------------------------------------------------------------------------------\n",
      "\n",
      "<class 'pandas.core.frame.DataFrame'>\n",
      "Int64Index: 29321 entries, 0 to 29320\n",
      "Data columns (total 10 columns):\n",
      "id                29321 non-null int64\n",
      "object_name       29321 non-null object\n",
      "chain             29321 non-null object\n",
      "object_type       29321 non-null object\n",
      "object_address    29321 non-null object\n",
      "seats_numbers     29321 non-null int64\n",
      "street_name       29321 non-null object\n",
      "district_id       29321 non-null int64\n",
      "district_zone     29321 non-null object\n",
      "district          29321 non-null object\n",
      "dtypes: int64(3), object(7)\n",
      "memory usage: 2.5+ MB\n"
     ]
    },
    {
     "data": {
      "text/plain": [
       "None"
      ]
     },
     "metadata": {},
     "output_type": "display_data"
    },
    {
     "data": {
      "text/html": [
       "<div>\n",
       "<style scoped>\n",
       "    .dataframe tbody tr th:only-of-type {\n",
       "        vertical-align: middle;\n",
       "    }\n",
       "\n",
       "    .dataframe tbody tr th {\n",
       "        vertical-align: top;\n",
       "    }\n",
       "\n",
       "    .dataframe thead th {\n",
       "        text-align: right;\n",
       "    }\n",
       "</style>\n",
       "<table border=\"1\" class=\"dataframe\">\n",
       "  <thead>\n",
       "    <tr style=\"text-align: right;\">\n",
       "      <th></th>\n",
       "      <th>id</th>\n",
       "      <th>object_name</th>\n",
       "      <th>chain</th>\n",
       "      <th>object_type</th>\n",
       "      <th>object_address</th>\n",
       "      <th>seats_numbers</th>\n",
       "      <th>street_name</th>\n",
       "      <th>district_id</th>\n",
       "      <th>district_zone</th>\n",
       "      <th>district</th>\n",
       "    </tr>\n",
       "  </thead>\n",
       "  <tbody>\n",
       "    <tr>\n",
       "      <td>0</td>\n",
       "      <td>151635</td>\n",
       "      <td>сметана</td>\n",
       "      <td>не сетевой</td>\n",
       "      <td>кафе</td>\n",
       "      <td>город Москва, улица Егора Абакумова, дом 9</td>\n",
       "      <td>48</td>\n",
       "      <td>улица Егора Абакумова</td>\n",
       "      <td>86</td>\n",
       "      <td>СВАО</td>\n",
       "      <td>Ярославский Район</td>\n",
       "    </tr>\n",
       "    <tr>\n",
       "      <td>1</td>\n",
       "      <td>193477</td>\n",
       "      <td>grill-house</td>\n",
       "      <td>не сетевой</td>\n",
       "      <td>закусочная</td>\n",
       "      <td>город Москва, улица Егора Абакумова, дом 14А</td>\n",
       "      <td>0</td>\n",
       "      <td>улица Егора Абакумова</td>\n",
       "      <td>86</td>\n",
       "      <td>СВАО</td>\n",
       "      <td>Ярославский Район</td>\n",
       "    </tr>\n",
       "    <tr>\n",
       "      <td>2</td>\n",
       "      <td>196756</td>\n",
       "      <td>пекарня</td>\n",
       "      <td>не сетевой</td>\n",
       "      <td>кафетерий</td>\n",
       "      <td>город Москва, улица Егора Абакумова, дом 14А</td>\n",
       "      <td>12</td>\n",
       "      <td>улица Егора Абакумова</td>\n",
       "      <td>86</td>\n",
       "      <td>СВАО</td>\n",
       "      <td>Ярославский Район</td>\n",
       "    </tr>\n",
       "    <tr>\n",
       "      <td>3</td>\n",
       "      <td>77874</td>\n",
       "      <td>родник</td>\n",
       "      <td>не сетевой</td>\n",
       "      <td>кафе</td>\n",
       "      <td>город Москва, улица Талалихина, дом 2/1, корпус 1</td>\n",
       "      <td>35</td>\n",
       "      <td>улица Талалихина</td>\n",
       "      <td>18</td>\n",
       "      <td>ЦАО</td>\n",
       "      <td>Таганский район</td>\n",
       "    </tr>\n",
       "    <tr>\n",
       "      <td>4</td>\n",
       "      <td>77874</td>\n",
       "      <td>родник</td>\n",
       "      <td>не сетевой</td>\n",
       "      <td>кафе</td>\n",
       "      <td>город Москва, улица Талалихина, дом 2/1, корпус 1</td>\n",
       "      <td>35</td>\n",
       "      <td>улица Талалихина</td>\n",
       "      <td>117</td>\n",
       "      <td>ЮВАО</td>\n",
       "      <td>Нижегородский район</td>\n",
       "    </tr>\n",
       "    <tr>\n",
       "      <td>5</td>\n",
       "      <td>77874</td>\n",
       "      <td>родник</td>\n",
       "      <td>не сетевой</td>\n",
       "      <td>кафе</td>\n",
       "      <td>город Москва, улица Талалихина, дом 2/1, корпус 1</td>\n",
       "      <td>35</td>\n",
       "      <td>улица Талалихина</td>\n",
       "      <td>133</td>\n",
       "      <td>ЮЗАО</td>\n",
       "      <td>Район Южное Бутово</td>\n",
       "    </tr>\n",
       "    <tr>\n",
       "      <td>6</td>\n",
       "      <td>83942</td>\n",
       "      <td>кафе даиси</td>\n",
       "      <td>не сетевой</td>\n",
       "      <td>кафе</td>\n",
       "      <td>город Москва, улица Талалихина, дом 31А/2</td>\n",
       "      <td>78</td>\n",
       "      <td>улица Талалихина</td>\n",
       "      <td>18</td>\n",
       "      <td>ЦАО</td>\n",
       "      <td>Таганский район</td>\n",
       "    </tr>\n",
       "    <tr>\n",
       "      <td>7</td>\n",
       "      <td>83942</td>\n",
       "      <td>кафе даиси</td>\n",
       "      <td>не сетевой</td>\n",
       "      <td>кафе</td>\n",
       "      <td>город Москва, улица Талалихина, дом 31А/2</td>\n",
       "      <td>78</td>\n",
       "      <td>улица Талалихина</td>\n",
       "      <td>117</td>\n",
       "      <td>ЮВАО</td>\n",
       "      <td>Нижегородский район</td>\n",
       "    </tr>\n",
       "    <tr>\n",
       "      <td>8</td>\n",
       "      <td>83942</td>\n",
       "      <td>кафе даиси</td>\n",
       "      <td>не сетевой</td>\n",
       "      <td>кафе</td>\n",
       "      <td>город Москва, улица Талалихина, дом 31А/2</td>\n",
       "      <td>78</td>\n",
       "      <td>улица Талалихина</td>\n",
       "      <td>133</td>\n",
       "      <td>ЮЗАО</td>\n",
       "      <td>Район Южное Бутово</td>\n",
       "    </tr>\n",
       "    <tr>\n",
       "      <td>9</td>\n",
       "      <td>24739</td>\n",
       "      <td>бар варвар</td>\n",
       "      <td>не сетевой</td>\n",
       "      <td>кафе</td>\n",
       "      <td>город Москва, улица Талалихина, дом 35</td>\n",
       "      <td>45</td>\n",
       "      <td>улица Талалихина</td>\n",
       "      <td>18</td>\n",
       "      <td>ЦАО</td>\n",
       "      <td>Таганский район</td>\n",
       "    </tr>\n",
       "  </tbody>\n",
       "</table>\n",
       "</div>"
      ],
      "text/plain": [
       "       id  object_name       chain object_type  \\\n",
       "0  151635      сметана  не сетевой        кафе   \n",
       "1  193477  grill-house  не сетевой  закусочная   \n",
       "2  196756      пекарня  не сетевой   кафетерий   \n",
       "3   77874       родник  не сетевой        кафе   \n",
       "4   77874       родник  не сетевой        кафе   \n",
       "5   77874       родник  не сетевой        кафе   \n",
       "6   83942   кафе даиси  не сетевой        кафе   \n",
       "7   83942   кафе даиси  не сетевой        кафе   \n",
       "8   83942   кафе даиси  не сетевой        кафе   \n",
       "9   24739   бар варвар  не сетевой        кафе   \n",
       "\n",
       "                                      object_address  seats_numbers  \\\n",
       "0         город Москва, улица Егора Абакумова, дом 9             48   \n",
       "1       город Москва, улица Егора Абакумова, дом 14А              0   \n",
       "2       город Москва, улица Егора Абакумова, дом 14А             12   \n",
       "3  город Москва, улица Талалихина, дом 2/1, корпус 1             35   \n",
       "4  город Москва, улица Талалихина, дом 2/1, корпус 1             35   \n",
       "5  город Москва, улица Талалихина, дом 2/1, корпус 1             35   \n",
       "6          город Москва, улица Талалихина, дом 31А/2             78   \n",
       "7          город Москва, улица Талалихина, дом 31А/2             78   \n",
       "8          город Москва, улица Талалихина, дом 31А/2             78   \n",
       "9             город Москва, улица Талалихина, дом 35             45   \n",
       "\n",
       "             street_name  district_id district_zone             district  \n",
       "0  улица Егора Абакумова           86          СВАО    Ярославский Район  \n",
       "1  улица Егора Абакумова           86          СВАО    Ярославский Район  \n",
       "2  улица Егора Абакумова           86          СВАО    Ярославский Район  \n",
       "3       улица Талалихина           18           ЦАО      Таганский район  \n",
       "4       улица Талалихина          117          ЮВАО  Нижегородский район  \n",
       "5       улица Талалихина          133          ЮЗАО   Район Южное Бутово  \n",
       "6       улица Талалихина           18           ЦАО      Таганский район  \n",
       "7       улица Талалихина          117          ЮВАО  Нижегородский район  \n",
       "8       улица Талалихина          133          ЮЗАО   Район Южное Бутово  \n",
       "9       улица Талалихина           18           ЦАО      Таганский район  "
      ]
     },
     "metadata": {},
     "output_type": "display_data"
    }
   ],
   "source": [
    "print()\n",
    "print('Длина датафрейма до объединения:', len(rest_data))\n",
    "\n",
    "rest_data_updated = rest_data.merge(districts_data, on='street_name')\n",
    "\n",
    "print('Длина датафрейма после объединения:', len(rest_data_updated))\n",
    "print('-----------------------------------------------------------------------------------------------------------------------')\n",
    "print()\n",
    "display(rest_data_updated.info())\n",
    "display(rest_data_updated.head(10))"
   ]
  },
  {
   "cell_type": "markdown",
   "metadata": {},
   "source": [
    "Произошло увеличение кол-ва наблюдений в датафрейме за счет того, что мы не учитываем номера домов: одна и та же улица с разными номерами домов может относится к разным районам Москвы. Будем иметь этот момент ввиду и при подсчете учитывать только уникальные 'id' объектов при группировках.\n",
    "\n",
    "Сгруппируем датафрейм по улицам и районам и посчитаем кол-во объектов. Отсортируем по убыванию кол-ва объектов и выделим ТОП-10 улиц с наибольшим кол-вом объектов."
   ]
  },
  {
   "cell_type": "code",
   "execution_count": 18,
   "metadata": {},
   "outputs": [
    {
     "data": {
      "text/html": [
       "<div>\n",
       "<style scoped>\n",
       "    .dataframe tbody tr th:only-of-type {\n",
       "        vertical-align: middle;\n",
       "    }\n",
       "\n",
       "    .dataframe tbody tr th {\n",
       "        vertical-align: top;\n",
       "    }\n",
       "\n",
       "    .dataframe thead th {\n",
       "        text-align: right;\n",
       "    }\n",
       "</style>\n",
       "<table border=\"1\" class=\"dataframe\">\n",
       "  <thead>\n",
       "    <tr style=\"text-align: right;\">\n",
       "      <th></th>\n",
       "      <th>Название улицы</th>\n",
       "      <th>Количество заведений</th>\n",
       "    </tr>\n",
       "  </thead>\n",
       "  <tbody>\n",
       "    <tr>\n",
       "      <td>0</td>\n",
       "      <td>город Зеленоград</td>\n",
       "      <td>232</td>\n",
       "    </tr>\n",
       "    <tr>\n",
       "      <td>1</td>\n",
       "      <td>проспект Мира</td>\n",
       "      <td>203</td>\n",
       "    </tr>\n",
       "    <tr>\n",
       "      <td>2</td>\n",
       "      <td>Профсоюзная улица</td>\n",
       "      <td>181</td>\n",
       "    </tr>\n",
       "    <tr>\n",
       "      <td>3</td>\n",
       "      <td>Ленинградский проспект</td>\n",
       "      <td>170</td>\n",
       "    </tr>\n",
       "    <tr>\n",
       "      <td>4</td>\n",
       "      <td>Пресненская набережная</td>\n",
       "      <td>167</td>\n",
       "    </tr>\n",
       "    <tr>\n",
       "      <td>5</td>\n",
       "      <td>Варшавское шоссе</td>\n",
       "      <td>161</td>\n",
       "    </tr>\n",
       "    <tr>\n",
       "      <td>6</td>\n",
       "      <td>Ленинский проспект</td>\n",
       "      <td>147</td>\n",
       "    </tr>\n",
       "    <tr>\n",
       "      <td>7</td>\n",
       "      <td>проспект Вернадского</td>\n",
       "      <td>128</td>\n",
       "    </tr>\n",
       "    <tr>\n",
       "      <td>8</td>\n",
       "      <td>Кутузовский проспект</td>\n",
       "      <td>114</td>\n",
       "    </tr>\n",
       "    <tr>\n",
       "      <td>9</td>\n",
       "      <td>Каширское шоссе</td>\n",
       "      <td>111</td>\n",
       "    </tr>\n",
       "  </tbody>\n",
       "</table>\n",
       "</div>"
      ],
      "text/plain": [
       "           Название улицы  Количество заведений\n",
       "0        город Зеленоград                   232\n",
       "1           проспект Мира                   203\n",
       "2       Профсоюзная улица                   181\n",
       "3  Ленинградский проспект                   170\n",
       "4  Пресненская набережная                   167\n",
       "5        Варшавское шоссе                   161\n",
       "6      Ленинский проспект                   147\n",
       "7    проспект Вернадского                   128\n",
       "8    Кутузовский проспект                   114\n",
       "9         Каширское шоссе                   111"
      ]
     },
     "metadata": {},
     "output_type": "display_data"
    },
    {
     "data": {
      "text/html": [
       "<div>\n",
       "<style scoped>\n",
       "    .dataframe tbody tr th:only-of-type {\n",
       "        vertical-align: middle;\n",
       "    }\n",
       "\n",
       "    .dataframe tbody tr th {\n",
       "        vertical-align: top;\n",
       "    }\n",
       "\n",
       "    .dataframe thead th {\n",
       "        text-align: right;\n",
       "    }\n",
       "</style>\n",
       "<table border=\"1\" class=\"dataframe\">\n",
       "  <thead>\n",
       "    <tr style=\"text-align: right;\">\n",
       "      <th></th>\n",
       "      <th>Название района</th>\n",
       "      <th>Количество заведений</th>\n",
       "    </tr>\n",
       "  </thead>\n",
       "  <tbody>\n",
       "    <tr>\n",
       "      <td>0</td>\n",
       "      <td>Тверской район</td>\n",
       "      <td>1119</td>\n",
       "    </tr>\n",
       "    <tr>\n",
       "      <td>1</td>\n",
       "      <td>Пресненский район</td>\n",
       "      <td>786</td>\n",
       "    </tr>\n",
       "    <tr>\n",
       "      <td>2</td>\n",
       "      <td>Басманный район</td>\n",
       "      <td>701</td>\n",
       "    </tr>\n",
       "    <tr>\n",
       "      <td>3</td>\n",
       "      <td>Даниловский район</td>\n",
       "      <td>664</td>\n",
       "    </tr>\n",
       "    <tr>\n",
       "      <td>4</td>\n",
       "      <td>Мещанский район</td>\n",
       "      <td>660</td>\n",
       "    </tr>\n",
       "    <tr>\n",
       "      <td>5</td>\n",
       "      <td>Донской район</td>\n",
       "      <td>580</td>\n",
       "    </tr>\n",
       "    <tr>\n",
       "      <td>6</td>\n",
       "      <td>Таганский район</td>\n",
       "      <td>528</td>\n",
       "    </tr>\n",
       "    <tr>\n",
       "      <td>7</td>\n",
       "      <td>Обручевский район</td>\n",
       "      <td>491</td>\n",
       "    </tr>\n",
       "    <tr>\n",
       "      <td>8</td>\n",
       "      <td>Район Замоскворечье</td>\n",
       "      <td>479</td>\n",
       "    </tr>\n",
       "    <tr>\n",
       "      <td>9</td>\n",
       "      <td>Район Гагаринский</td>\n",
       "      <td>470</td>\n",
       "    </tr>\n",
       "  </tbody>\n",
       "</table>\n",
       "</div>"
      ],
      "text/plain": [
       "       Название района  Количество заведений\n",
       "0       Тверской район                  1119\n",
       "1    Пресненский район                   786\n",
       "2      Басманный район                   701\n",
       "3    Даниловский район                   664\n",
       "4      Мещанский район                   660\n",
       "5        Донской район                   580\n",
       "6      Таганский район                   528\n",
       "7    Обручевский район                   491\n",
       "8  Район Замоскворечье                   479\n",
       "9    Район Гагаринский                   470"
      ]
     },
     "metadata": {},
     "output_type": "display_data"
    }
   ],
   "source": [
    "top10_streets = rest_data_updated.groupby('street_name')['id'].nunique().sort_values(ascending=False).reset_index().head(10)\n",
    "top10_streets.columns = ['Название улицы', 'Количество заведений']\n",
    "\n",
    "top10_districts = rest_data_updated.groupby('district')['id'].nunique().sort_values(ascending=False).reset_index().head(10)\n",
    "top10_districts.columns = ['Название района', 'Количество заведений']\n",
    "\n",
    "# просмотрим результат\n",
    "display(top10_streets)\n",
    "display(top10_districts)"
   ]
  },
  {
   "cell_type": "markdown",
   "metadata": {},
   "source": [
    "Город Зеленоград попал в названия улиц и занял 1 место. Пробежимся визуально по датафрейму с выделенным названием улицы равным `\"город Зеленоград\"`."
   ]
  },
  {
   "cell_type": "code",
   "execution_count": 19,
   "metadata": {
    "scrolled": false
   },
   "outputs": [
    {
     "data": {
      "text/html": [
       "<div>\n",
       "<style scoped>\n",
       "    .dataframe tbody tr th:only-of-type {\n",
       "        vertical-align: middle;\n",
       "    }\n",
       "\n",
       "    .dataframe tbody tr th {\n",
       "        vertical-align: top;\n",
       "    }\n",
       "\n",
       "    .dataframe thead th {\n",
       "        text-align: right;\n",
       "    }\n",
       "</style>\n",
       "<table border=\"1\" class=\"dataframe\">\n",
       "  <thead>\n",
       "    <tr style=\"text-align: right;\">\n",
       "      <th></th>\n",
       "      <th>id</th>\n",
       "      <th>object_name</th>\n",
       "      <th>chain</th>\n",
       "      <th>object_type</th>\n",
       "      <th>object_address</th>\n",
       "      <th>seats_numbers</th>\n",
       "      <th>street_name</th>\n",
       "      <th>district_id</th>\n",
       "      <th>district_zone</th>\n",
       "      <th>district</th>\n",
       "    </tr>\n",
       "  </thead>\n",
       "  <tbody>\n",
       "    <tr>\n",
       "      <td>20919</td>\n",
       "      <td>22331</td>\n",
       "      <td>столовая миэт</td>\n",
       "      <td>не сетевой</td>\n",
       "      <td>столовая</td>\n",
       "      <td>город Москва, город Зеленоград, улица Юности, дом 11</td>\n",
       "      <td>56</td>\n",
       "      <td>город Зеленоград</td>\n",
       "      <td>51</td>\n",
       "      <td>Зеленоград</td>\n",
       "      <td>Район Крюково</td>\n",
       "    </tr>\n",
       "    <tr>\n",
       "      <td>20920</td>\n",
       "      <td>22331</td>\n",
       "      <td>столовая миэт</td>\n",
       "      <td>не сетевой</td>\n",
       "      <td>столовая</td>\n",
       "      <td>город Москва, город Зеленоград, улица Юности, дом 11</td>\n",
       "      <td>56</td>\n",
       "      <td>город Зеленоград</td>\n",
       "      <td>52</td>\n",
       "      <td>Зеленоград</td>\n",
       "      <td>Район Матушкино-Савелки</td>\n",
       "    </tr>\n",
       "    <tr>\n",
       "      <td>20921</td>\n",
       "      <td>22331</td>\n",
       "      <td>столовая миэт</td>\n",
       "      <td>не сетевой</td>\n",
       "      <td>столовая</td>\n",
       "      <td>город Москва, город Зеленоград, улица Юности, дом 11</td>\n",
       "      <td>56</td>\n",
       "      <td>город Зеленоград</td>\n",
       "      <td>53</td>\n",
       "      <td>Зеленоград</td>\n",
       "      <td>Панфиловский район</td>\n",
       "    </tr>\n",
       "    <tr>\n",
       "      <td>20922</td>\n",
       "      <td>20199</td>\n",
       "      <td>это</td>\n",
       "      <td>не сетевой</td>\n",
       "      <td>кафе</td>\n",
       "      <td>город Москва, город Зеленоград, корпус 401</td>\n",
       "      <td>35</td>\n",
       "      <td>город Зеленоград</td>\n",
       "      <td>51</td>\n",
       "      <td>Зеленоград</td>\n",
       "      <td>Район Крюково</td>\n",
       "    </tr>\n",
       "    <tr>\n",
       "      <td>20923</td>\n",
       "      <td>20199</td>\n",
       "      <td>это</td>\n",
       "      <td>не сетевой</td>\n",
       "      <td>кафе</td>\n",
       "      <td>город Москва, город Зеленоград, корпус 401</td>\n",
       "      <td>35</td>\n",
       "      <td>город Зеленоград</td>\n",
       "      <td>52</td>\n",
       "      <td>Зеленоград</td>\n",
       "      <td>Район Матушкино-Савелки</td>\n",
       "    </tr>\n",
       "    <tr>\n",
       "      <td>20924</td>\n",
       "      <td>20199</td>\n",
       "      <td>это</td>\n",
       "      <td>не сетевой</td>\n",
       "      <td>кафе</td>\n",
       "      <td>город Москва, город Зеленоград, корпус 401</td>\n",
       "      <td>35</td>\n",
       "      <td>город Зеленоград</td>\n",
       "      <td>53</td>\n",
       "      <td>Зеленоград</td>\n",
       "      <td>Панфиловский район</td>\n",
       "    </tr>\n",
       "    <tr>\n",
       "      <td>20925</td>\n",
       "      <td>68113</td>\n",
       "      <td>френдс</td>\n",
       "      <td>не сетевой</td>\n",
       "      <td>кафе</td>\n",
       "      <td>город Москва, город Зеленоград, корпус 435</td>\n",
       "      <td>34</td>\n",
       "      <td>город Зеленоград</td>\n",
       "      <td>51</td>\n",
       "      <td>Зеленоград</td>\n",
       "      <td>Район Крюково</td>\n",
       "    </tr>\n",
       "    <tr>\n",
       "      <td>20926</td>\n",
       "      <td>68113</td>\n",
       "      <td>френдс</td>\n",
       "      <td>не сетевой</td>\n",
       "      <td>кафе</td>\n",
       "      <td>город Москва, город Зеленоград, корпус 435</td>\n",
       "      <td>34</td>\n",
       "      <td>город Зеленоград</td>\n",
       "      <td>52</td>\n",
       "      <td>Зеленоград</td>\n",
       "      <td>Район Матушкино-Савелки</td>\n",
       "    </tr>\n",
       "    <tr>\n",
       "      <td>20927</td>\n",
       "      <td>68113</td>\n",
       "      <td>френдс</td>\n",
       "      <td>не сетевой</td>\n",
       "      <td>кафе</td>\n",
       "      <td>город Москва, город Зеленоград, корпус 435</td>\n",
       "      <td>34</td>\n",
       "      <td>город Зеленоград</td>\n",
       "      <td>53</td>\n",
       "      <td>Зеленоград</td>\n",
       "      <td>Панфиловский район</td>\n",
       "    </tr>\n",
       "    <tr>\n",
       "      <td>20928</td>\n",
       "      <td>20105</td>\n",
       "      <td>кафе «граф монте-кристо»</td>\n",
       "      <td>не сетевой</td>\n",
       "      <td>кафе</td>\n",
       "      <td>город Москва, город Зеленоград, корпус 436</td>\n",
       "      <td>40</td>\n",
       "      <td>город Зеленоград</td>\n",
       "      <td>51</td>\n",
       "      <td>Зеленоград</td>\n",
       "      <td>Район Крюково</td>\n",
       "    </tr>\n",
       "  </tbody>\n",
       "</table>\n",
       "</div>"
      ],
      "text/plain": [
       "          id               object_name       chain object_type  \\\n",
       "20919  22331             столовая миэт  не сетевой    столовая   \n",
       "20920  22331             столовая миэт  не сетевой    столовая   \n",
       "20921  22331             столовая миэт  не сетевой    столовая   \n",
       "20922  20199                       это  не сетевой        кафе   \n",
       "20923  20199                       это  не сетевой        кафе   \n",
       "20924  20199                       это  не сетевой        кафе   \n",
       "20925  68113                    френдс  не сетевой        кафе   \n",
       "20926  68113                    френдс  не сетевой        кафе   \n",
       "20927  68113                    френдс  не сетевой        кафе   \n",
       "20928  20105  кафе «граф монте-кристо»  не сетевой        кафе   \n",
       "\n",
       "                                             object_address  seats_numbers  \\\n",
       "20919  город Москва, город Зеленоград, улица Юности, дом 11             56   \n",
       "20920  город Москва, город Зеленоград, улица Юности, дом 11             56   \n",
       "20921  город Москва, город Зеленоград, улица Юности, дом 11             56   \n",
       "20922            город Москва, город Зеленоград, корпус 401             35   \n",
       "20923            город Москва, город Зеленоград, корпус 401             35   \n",
       "20924            город Москва, город Зеленоград, корпус 401             35   \n",
       "20925            город Москва, город Зеленоград, корпус 435             34   \n",
       "20926            город Москва, город Зеленоград, корпус 435             34   \n",
       "20927            город Москва, город Зеленоград, корпус 435             34   \n",
       "20928            город Москва, город Зеленоград, корпус 436             40   \n",
       "\n",
       "            street_name  district_id district_zone                 district  \n",
       "20919  город Зеленоград           51    Зеленоград            Район Крюково  \n",
       "20920  город Зеленоград           52    Зеленоград  Район Матушкино-Савелки  \n",
       "20921  город Зеленоград           53    Зеленоград       Панфиловский район  \n",
       "20922  город Зеленоград           51    Зеленоград            Район Крюково  \n",
       "20923  город Зеленоград           52    Зеленоград  Район Матушкино-Савелки  \n",
       "20924  город Зеленоград           53    Зеленоград       Панфиловский район  \n",
       "20925  город Зеленоград           51    Зеленоград            Район Крюково  \n",
       "20926  город Зеленоград           52    Зеленоград  Район Матушкино-Савелки  \n",
       "20927  город Зеленоград           53    Зеленоград       Панфиловский район  \n",
       "20928  город Зеленоград           51    Зеленоград            Район Крюково  "
      ]
     },
     "execution_count": 19,
     "metadata": {},
     "output_type": "execute_result"
    }
   ],
   "source": [
    "rest_data_updated.query('street_name == \"город Зеленоград\"').head(10)"
   ]
  },
  {
   "cell_type": "markdown",
   "metadata": {},
   "source": [
    "Визуально судя по результату по городу Зеленограду будет проблематично выделить улицу, т.к. географически указываются часто просто корпуса домов. В данном исследованни **исключим город Зеленоград** из наших выборок `top10_by_streets` и `top10_by_districts`. По г. Зеленограду рекомендуем провести доп.исследование с задействованием дополнительных инструментов и гео-данных."
   ]
  },
  {
   "cell_type": "code",
   "execution_count": 20,
   "metadata": {},
   "outputs": [
    {
     "name": "stdout",
     "output_type": "stream",
     "text": [
      "-----------------------------------------------------------------------------------------------------------------------\n"
     ]
    },
    {
     "data": {
      "image/png": "[encoded data removed]",
      "text/plain": [
       "<Figure size 1296x576 with 1 Axes>"
      ]
     },
     "metadata": {},
     "output_type": "display_data"
    },
    {
     "data": {
      "image/png": "[encoded data removed]",
      "text/plain": [
       "<Figure size 1296x576 with 1 Axes>"
      ]
     },
     "metadata": {},
     "output_type": "display_data"
    },
    {
     "name": "stdout",
     "output_type": "stream",
     "text": [
      "-----------------------------------------------------------------------------------------------------------------------\n"
     ]
    }
   ],
   "source": [
    "# определим ТОП-10 улиц \n",
    "\n",
    "top10_streets = rest_data_updated.query('street_name != \"город Зеленоград\"') \\\n",
    "    .groupby(['street_name'])['id'].nunique().sort_values(ascending=False).reset_index().head(10)\n",
    "top10_streets.columns = ['Название улицы', 'Количество заведений']\n",
    "\n",
    "# и дополнительно посмотрим на ТОП-10 районов\n",
    "\n",
    "top10_districts = rest_data_updated.query('street_name != \"город Зеленоград\"') \\\n",
    "    .groupby('district')['id'].nunique().sort_values(ascending=False).reset_index().head(10)\n",
    "top10_districts.columns = ['Название района', 'Количество заведений']\n",
    "\n",
    "# строим гистограммы \n",
    "\n",
    "plt.figure(figsize=(18,8))\n",
    "sns.barplot(y='Название улицы', x='Количество заведений', data=top10_streets, palette=\"Set2\")\n",
    "plt.title('ТОП-10 улиц г.Москвы с самым большим количеством заведений общественного питания', fontsize=16)\n",
    "print('-----------------------------------------------------------------------------------------------------------------------')\n",
    "plt.figure(figsize=(18,8))\n",
    "sns.barplot(y='Название района', x='Количество заведений', data=top10_districts, palette=\"Set2\")\n",
    "plt.title('ТОП-10 районов г.Москвы с самым большим количеством заведений общественного питания', fontsize=16)\n",
    "plt.show()\n",
    "print('-----------------------------------------------------------------------------------------------------------------------')"
   ]
  },
  {
   "cell_type": "markdown",
   "metadata": {},
   "source": [
    "Присоединим к найденным 10 улицам названия районов и округов, к которым они принадлежат."
   ]
  },
  {
   "cell_type": "code",
   "execution_count": 21,
   "metadata": {},
   "outputs": [],
   "source": [
    "# выделим только нужные 3 столбца из дф `districts_data`\n",
    "streets_with_districts = districts_data[['street_name', 'district', 'district_zone']].copy()\n",
    "streets_with_districts.columns = ['Название улицы', 'Район', 'Округ']\n",
    "\n",
    "# присоединяем \n",
    "top10_streets_with_districts = top10_streets.merge(streets_with_districts, on='Название улицы', how='left') \\\n",
    ".sort_values(by='Количество заведений', ascending=False)"
   ]
  },
  {
   "cell_type": "markdown",
   "metadata": {},
   "source": [
    "Поскольку, как мы выяснили ранее, одно название улицы может относиться к разным районам и округам, построим барплот c 3-им измерением (возьмем 'Округ' для рассмотрения). А также выведем в виде таблицы результат."
   ]
  },
  {
   "cell_type": "code",
   "execution_count": 22,
   "metadata": {
    "scrolled": false
   },
   "outputs": [
    {
     "data": {
      "image/png": "[encoded data removed]",
      "text/plain": [
       "<Figure size 1296x576 with 1 Axes>"
      ]
     },
     "metadata": {},
     "output_type": "display_data"
    },
    {
     "name": "stdout",
     "output_type": "stream",
     "text": [
      "---------------------------------------------------------------------------------------------------------------------\n",
      "ТОП-10 улиц г.Москвы с самым большим количеством заведений общественного питания (по округам)\n"
     ]
    },
    {
     "data": {
      "text/html": [
       "<div>\n",
       "<style scoped>\n",
       "    .dataframe tbody tr th:only-of-type {\n",
       "        vertical-align: middle;\n",
       "    }\n",
       "\n",
       "    .dataframe tbody tr th {\n",
       "        vertical-align: top;\n",
       "    }\n",
       "\n",
       "    .dataframe thead th {\n",
       "        text-align: right;\n",
       "    }\n",
       "</style>\n",
       "<table border=\"1\" class=\"dataframe\">\n",
       "  <thead>\n",
       "    <tr style=\"text-align: right;\">\n",
       "      <th></th>\n",
       "      <th>Название улицы</th>\n",
       "      <th>Количество заведений</th>\n",
       "      <th>Район</th>\n",
       "      <th>Округ</th>\n",
       "    </tr>\n",
       "  </thead>\n",
       "  <tbody>\n",
       "    <tr>\n",
       "      <td>0</td>\n",
       "      <td>проспект Мира</td>\n",
       "      <td>203</td>\n",
       "      <td>Алексеевский район</td>\n",
       "      <td>СВАО</td>\n",
       "    </tr>\n",
       "    <tr>\n",
       "      <td>2</td>\n",
       "      <td>проспект Мира</td>\n",
       "      <td>203</td>\n",
       "      <td>Район Марьина роща</td>\n",
       "      <td>СВАО</td>\n",
       "    </tr>\n",
       "    <tr>\n",
       "      <td>3</td>\n",
       "      <td>проспект Мира</td>\n",
       "      <td>203</td>\n",
       "      <td>Останкинский район</td>\n",
       "      <td>СВАО</td>\n",
       "    </tr>\n",
       "    <tr>\n",
       "      <td>4</td>\n",
       "      <td>проспект Мира</td>\n",
       "      <td>203</td>\n",
       "      <td>Район Ростокино</td>\n",
       "      <td>СВАО</td>\n",
       "    </tr>\n",
       "    <tr>\n",
       "      <td>5</td>\n",
       "      <td>проспект Мира</td>\n",
       "      <td>203</td>\n",
       "      <td>Район Свиблово</td>\n",
       "      <td>СВАО</td>\n",
       "    </tr>\n",
       "    <tr>\n",
       "      <td>6</td>\n",
       "      <td>проспект Мира</td>\n",
       "      <td>203</td>\n",
       "      <td>Мещанский район</td>\n",
       "      <td>ЦАО</td>\n",
       "    </tr>\n",
       "    <tr>\n",
       "      <td>1</td>\n",
       "      <td>проспект Мира</td>\n",
       "      <td>203</td>\n",
       "      <td>Ярославский Район</td>\n",
       "      <td>СВАО</td>\n",
       "    </tr>\n",
       "    <tr>\n",
       "      <td>11</td>\n",
       "      <td>Профсоюзная улица</td>\n",
       "      <td>181</td>\n",
       "      <td>Обручевский район</td>\n",
       "      <td>ЮЗАО</td>\n",
       "    </tr>\n",
       "    <tr>\n",
       "      <td>12</td>\n",
       "      <td>Профсоюзная улица</td>\n",
       "      <td>181</td>\n",
       "      <td>Район Теплый Стан</td>\n",
       "      <td>ЮЗАО</td>\n",
       "    </tr>\n",
       "    <tr>\n",
       "      <td>10</td>\n",
       "      <td>Профсоюзная улица</td>\n",
       "      <td>181</td>\n",
       "      <td>Район Коньково</td>\n",
       "      <td>ЮЗАО</td>\n",
       "    </tr>\n",
       "    <tr>\n",
       "      <td>9</td>\n",
       "      <td>Профсоюзная улица</td>\n",
       "      <td>181</td>\n",
       "      <td>Район Ясенево</td>\n",
       "      <td>ЮЗАО</td>\n",
       "    </tr>\n",
       "    <tr>\n",
       "      <td>8</td>\n",
       "      <td>Профсоюзная улица</td>\n",
       "      <td>181</td>\n",
       "      <td>Район Черемушки</td>\n",
       "      <td>ЮЗАО</td>\n",
       "    </tr>\n",
       "    <tr>\n",
       "      <td>7</td>\n",
       "      <td>Профсоюзная улица</td>\n",
       "      <td>181</td>\n",
       "      <td>Академический район</td>\n",
       "      <td>ЮЗАО</td>\n",
       "    </tr>\n",
       "    <tr>\n",
       "      <td>13</td>\n",
       "      <td>Ленинградский проспект</td>\n",
       "      <td>170</td>\n",
       "      <td>Район Аэропорт</td>\n",
       "      <td>САО</td>\n",
       "    </tr>\n",
       "    <tr>\n",
       "      <td>14</td>\n",
       "      <td>Ленинградский проспект</td>\n",
       "      <td>170</td>\n",
       "      <td>Район Беговой</td>\n",
       "      <td>САО</td>\n",
       "    </tr>\n",
       "    <tr>\n",
       "      <td>15</td>\n",
       "      <td>Ленинградский проспект</td>\n",
       "      <td>170</td>\n",
       "      <td>Хорошевский район</td>\n",
       "      <td>САО</td>\n",
       "    </tr>\n",
       "    <tr>\n",
       "      <td>16</td>\n",
       "      <td>Ленинградский проспект</td>\n",
       "      <td>170</td>\n",
       "      <td>Район Сокол</td>\n",
       "      <td>САО</td>\n",
       "    </tr>\n",
       "    <tr>\n",
       "      <td>17</td>\n",
       "      <td>Пресненская набережная</td>\n",
       "      <td>167</td>\n",
       "      <td>Пресненский район</td>\n",
       "      <td>ЦАО</td>\n",
       "    </tr>\n",
       "    <tr>\n",
       "      <td>22</td>\n",
       "      <td>Варшавское шоссе</td>\n",
       "      <td>161</td>\n",
       "      <td>Район Нагатино-Садовники</td>\n",
       "      <td>ЮАО</td>\n",
       "    </tr>\n",
       "    <tr>\n",
       "      <td>25</td>\n",
       "      <td>Варшавское шоссе</td>\n",
       "      <td>161</td>\n",
       "      <td>Район Южное Бутово</td>\n",
       "      <td>ЮЗАО</td>\n",
       "    </tr>\n",
       "    <tr>\n",
       "      <td>23</td>\n",
       "      <td>Варшавское шоссе</td>\n",
       "      <td>161</td>\n",
       "      <td>Нагорный район</td>\n",
       "      <td>ЮАО</td>\n",
       "    </tr>\n",
       "    <tr>\n",
       "      <td>24</td>\n",
       "      <td>Варшавское шоссе</td>\n",
       "      <td>161</td>\n",
       "      <td>Район Северное Бутово</td>\n",
       "      <td>ЮЗАО</td>\n",
       "    </tr>\n",
       "    <tr>\n",
       "      <td>21</td>\n",
       "      <td>Варшавское шоссе</td>\n",
       "      <td>161</td>\n",
       "      <td>Донской район</td>\n",
       "      <td>ЮАО</td>\n",
       "    </tr>\n",
       "    <tr>\n",
       "      <td>19</td>\n",
       "      <td>Варшавское шоссе</td>\n",
       "      <td>161</td>\n",
       "      <td>Район Чертаново Северное</td>\n",
       "      <td>ЮАО</td>\n",
       "    </tr>\n",
       "    <tr>\n",
       "      <td>18</td>\n",
       "      <td>Варшавское шоссе</td>\n",
       "      <td>161</td>\n",
       "      <td>Район Чертаново Центральное</td>\n",
       "      <td>ЮАО</td>\n",
       "    </tr>\n",
       "    <tr>\n",
       "      <td>20</td>\n",
       "      <td>Варшавское шоссе</td>\n",
       "      <td>161</td>\n",
       "      <td>Район Чертаново Южное</td>\n",
       "      <td>ЮАО</td>\n",
       "    </tr>\n",
       "    <tr>\n",
       "      <td>26</td>\n",
       "      <td>Ленинский проспект</td>\n",
       "      <td>147</td>\n",
       "      <td>Район Проспект Вернадского</td>\n",
       "      <td>ЗАО</td>\n",
       "    </tr>\n",
       "    <tr>\n",
       "      <td>27</td>\n",
       "      <td>Ленинский проспект</td>\n",
       "      <td>147</td>\n",
       "      <td>Район Тропарево-Никулино</td>\n",
       "      <td>ЗАО</td>\n",
       "    </tr>\n",
       "    <tr>\n",
       "      <td>28</td>\n",
       "      <td>Ленинский проспект</td>\n",
       "      <td>147</td>\n",
       "      <td>Донской район</td>\n",
       "      <td>ЮАО</td>\n",
       "    </tr>\n",
       "    <tr>\n",
       "      <td>29</td>\n",
       "      <td>Ленинский проспект</td>\n",
       "      <td>147</td>\n",
       "      <td>Район Гагаринский</td>\n",
       "      <td>ЮЗАО</td>\n",
       "    </tr>\n",
       "    <tr>\n",
       "      <td>30</td>\n",
       "      <td>Ленинский проспект</td>\n",
       "      <td>147</td>\n",
       "      <td>Ломоносовский район</td>\n",
       "      <td>ЮЗАО</td>\n",
       "    </tr>\n",
       "    <tr>\n",
       "      <td>31</td>\n",
       "      <td>Ленинский проспект</td>\n",
       "      <td>147</td>\n",
       "      <td>Обручевский район</td>\n",
       "      <td>ЮЗАО</td>\n",
       "    </tr>\n",
       "    <tr>\n",
       "      <td>32</td>\n",
       "      <td>Ленинский проспект</td>\n",
       "      <td>147</td>\n",
       "      <td>Район Теплый Стан</td>\n",
       "      <td>ЮЗАО</td>\n",
       "    </tr>\n",
       "    <tr>\n",
       "      <td>33</td>\n",
       "      <td>Ленинский проспект</td>\n",
       "      <td>147</td>\n",
       "      <td>Район Якиманка</td>\n",
       "      <td>ЦАО</td>\n",
       "    </tr>\n",
       "    <tr>\n",
       "      <td>37</td>\n",
       "      <td>проспект Вернадского</td>\n",
       "      <td>128</td>\n",
       "      <td>Район Гагаринский</td>\n",
       "      <td>ЮЗАО</td>\n",
       "    </tr>\n",
       "    <tr>\n",
       "      <td>38</td>\n",
       "      <td>проспект Вернадского</td>\n",
       "      <td>128</td>\n",
       "      <td>Ломоносовский район</td>\n",
       "      <td>ЮЗАО</td>\n",
       "    </tr>\n",
       "    <tr>\n",
       "      <td>35</td>\n",
       "      <td>проспект Вернадского</td>\n",
       "      <td>128</td>\n",
       "      <td>Район Раменки</td>\n",
       "      <td>ЗАО</td>\n",
       "    </tr>\n",
       "    <tr>\n",
       "      <td>36</td>\n",
       "      <td>проспект Вернадского</td>\n",
       "      <td>128</td>\n",
       "      <td>Район Тропарево-Никулино</td>\n",
       "      <td>ЗАО</td>\n",
       "    </tr>\n",
       "    <tr>\n",
       "      <td>34</td>\n",
       "      <td>проспект Вернадского</td>\n",
       "      <td>128</td>\n",
       "      <td>Район Проспект Вернадского</td>\n",
       "      <td>ЗАО</td>\n",
       "    </tr>\n",
       "    <tr>\n",
       "      <td>39</td>\n",
       "      <td>Кутузовский проспект</td>\n",
       "      <td>114</td>\n",
       "      <td>Район Дорогомилово</td>\n",
       "      <td>ЗАО</td>\n",
       "    </tr>\n",
       "    <tr>\n",
       "      <td>40</td>\n",
       "      <td>Кутузовский проспект</td>\n",
       "      <td>114</td>\n",
       "      <td>Район Фили-Давыдково</td>\n",
       "      <td>ЗАО</td>\n",
       "    </tr>\n",
       "    <tr>\n",
       "      <td>41</td>\n",
       "      <td>Каширское шоссе</td>\n",
       "      <td>111</td>\n",
       "      <td>Район Москворечье-Сабурово</td>\n",
       "      <td>ЮАО</td>\n",
       "    </tr>\n",
       "    <tr>\n",
       "      <td>42</td>\n",
       "      <td>Каширское шоссе</td>\n",
       "      <td>111</td>\n",
       "      <td>Район Нагатино-Садовники</td>\n",
       "      <td>ЮАО</td>\n",
       "    </tr>\n",
       "    <tr>\n",
       "      <td>43</td>\n",
       "      <td>Каширское шоссе</td>\n",
       "      <td>111</td>\n",
       "      <td>Район Орехово-Борисово Южное</td>\n",
       "      <td>ЮАО</td>\n",
       "    </tr>\n",
       "    <tr>\n",
       "      <td>44</td>\n",
       "      <td>Каширское шоссе</td>\n",
       "      <td>111</td>\n",
       "      <td>Район Орехово-Борисово Северное</td>\n",
       "      <td>ЮАО</td>\n",
       "    </tr>\n",
       "    <tr>\n",
       "      <td>45</td>\n",
       "      <td>Кировоградская улица</td>\n",
       "      <td>108</td>\n",
       "      <td>Район Чертаново Центральное</td>\n",
       "      <td>ЮАО</td>\n",
       "    </tr>\n",
       "    <tr>\n",
       "      <td>46</td>\n",
       "      <td>Кировоградская улица</td>\n",
       "      <td>108</td>\n",
       "      <td>Район Чертаново Северное</td>\n",
       "      <td>ЮАО</td>\n",
       "    </tr>\n",
       "    <tr>\n",
       "      <td>47</td>\n",
       "      <td>Кировоградская улица</td>\n",
       "      <td>108</td>\n",
       "      <td>Район Чертаново Южное</td>\n",
       "      <td>ЮАО</td>\n",
       "    </tr>\n",
       "  </tbody>\n",
       "</table>\n",
       "</div>"
      ],
      "text/plain": [
       "            Название улицы  Количество заведений  \\\n",
       "0            проспект Мира                   203   \n",
       "2            проспект Мира                   203   \n",
       "3            проспект Мира                   203   \n",
       "4            проспект Мира                   203   \n",
       "5            проспект Мира                   203   \n",
       "6            проспект Мира                   203   \n",
       "1            проспект Мира                   203   \n",
       "11       Профсоюзная улица                   181   \n",
       "12       Профсоюзная улица                   181   \n",
       "10       Профсоюзная улица                   181   \n",
       "9        Профсоюзная улица                   181   \n",
       "8        Профсоюзная улица                   181   \n",
       "7        Профсоюзная улица                   181   \n",
       "13  Ленинградский проспект                   170   \n",
       "14  Ленинградский проспект                   170   \n",
       "15  Ленинградский проспект                   170   \n",
       "16  Ленинградский проспект                   170   \n",
       "17  Пресненская набережная                   167   \n",
       "22        Варшавское шоссе                   161   \n",
       "25        Варшавское шоссе                   161   \n",
       "23        Варшавское шоссе                   161   \n",
       "24        Варшавское шоссе                   161   \n",
       "21        Варшавское шоссе                   161   \n",
       "19        Варшавское шоссе                   161   \n",
       "18        Варшавское шоссе                   161   \n",
       "20        Варшавское шоссе                   161   \n",
       "26      Ленинский проспект                   147   \n",
       "27      Ленинский проспект                   147   \n",
       "28      Ленинский проспект                   147   \n",
       "29      Ленинский проспект                   147   \n",
       "30      Ленинский проспект                   147   \n",
       "31      Ленинский проспект                   147   \n",
       "32      Ленинский проспект                   147   \n",
       "33      Ленинский проспект                   147   \n",
       "37    проспект Вернадского                   128   \n",
       "38    проспект Вернадского                   128   \n",
       "35    проспект Вернадского                   128   \n",
       "36    проспект Вернадского                   128   \n",
       "34    проспект Вернадского                   128   \n",
       "39    Кутузовский проспект                   114   \n",
       "40    Кутузовский проспект                   114   \n",
       "41         Каширское шоссе                   111   \n",
       "42         Каширское шоссе                   111   \n",
       "43         Каширское шоссе                   111   \n",
       "44         Каширское шоссе                   111   \n",
       "45    Кировоградская улица                   108   \n",
       "46    Кировоградская улица                   108   \n",
       "47    Кировоградская улица                   108   \n",
       "\n",
       "                              Район Округ  \n",
       "0                Алексеевский район  СВАО  \n",
       "2                Район Марьина роща  СВАО  \n",
       "3                Останкинский район  СВАО  \n",
       "4                   Район Ростокино  СВАО  \n",
       "5                    Район Свиблово  СВАО  \n",
       "6                   Мещанский район   ЦАО  \n",
       "1                 Ярославский Район  СВАО  \n",
       "11                Обручевский район  ЮЗАО  \n",
       "12                Район Теплый Стан  ЮЗАО  \n",
       "10                   Район Коньково  ЮЗАО  \n",
       "9                     Район Ясенево  ЮЗАО  \n",
       "8                   Район Черемушки  ЮЗАО  \n",
       "7               Академический район  ЮЗАО  \n",
       "13                   Район Аэропорт   САО  \n",
       "14                    Район Беговой   САО  \n",
       "15                Хорошевский район   САО  \n",
       "16                      Район Сокол   САО  \n",
       "17                Пресненский район   ЦАО  \n",
       "22         Район Нагатино-Садовники   ЮАО  \n",
       "25               Район Южное Бутово  ЮЗАО  \n",
       "23                   Нагорный район   ЮАО  \n",
       "24            Район Северное Бутово  ЮЗАО  \n",
       "21                    Донской район   ЮАО  \n",
       "19         Район Чертаново Северное   ЮАО  \n",
       "18      Район Чертаново Центральное   ЮАО  \n",
       "20            Район Чертаново Южное   ЮАО  \n",
       "26       Район Проспект Вернадского   ЗАО  \n",
       "27         Район Тропарево-Никулино   ЗАО  \n",
       "28                    Донской район   ЮАО  \n",
       "29                Район Гагаринский  ЮЗАО  \n",
       "30              Ломоносовский район  ЮЗАО  \n",
       "31                Обручевский район  ЮЗАО  \n",
       "32                Район Теплый Стан  ЮЗАО  \n",
       "33                   Район Якиманка   ЦАО  \n",
       "37                Район Гагаринский  ЮЗАО  \n",
       "38              Ломоносовский район  ЮЗАО  \n",
       "35                    Район Раменки   ЗАО  \n",
       "36         Район Тропарево-Никулино   ЗАО  \n",
       "34       Район Проспект Вернадского   ЗАО  \n",
       "39               Район Дорогомилово   ЗАО  \n",
       "40             Район Фили-Давыдково   ЗАО  \n",
       "41       Район Москворечье-Сабурово   ЮАО  \n",
       "42         Район Нагатино-Садовники   ЮАО  \n",
       "43     Район Орехово-Борисово Южное   ЮАО  \n",
       "44  Район Орехово-Борисово Северное   ЮАО  \n",
       "45      Район Чертаново Центральное   ЮАО  \n",
       "46         Район Чертаново Северное   ЮАО  \n",
       "47            Район Чертаново Южное   ЮАО  "
      ]
     },
     "metadata": {},
     "output_type": "display_data"
    },
    {
     "name": "stdout",
     "output_type": "stream",
     "text": [
      "---------------------------------------------------------------------------------------------------------------------\n",
      "ТОП-10 районов г.Москвы с самым большим количеством заведений общественного питания\n"
     ]
    },
    {
     "data": {
      "text/html": [
       "<div>\n",
       "<style scoped>\n",
       "    .dataframe tbody tr th:only-of-type {\n",
       "        vertical-align: middle;\n",
       "    }\n",
       "\n",
       "    .dataframe tbody tr th {\n",
       "        vertical-align: top;\n",
       "    }\n",
       "\n",
       "    .dataframe thead th {\n",
       "        text-align: right;\n",
       "    }\n",
       "</style>\n",
       "<table border=\"1\" class=\"dataframe\">\n",
       "  <thead>\n",
       "    <tr style=\"text-align: right;\">\n",
       "      <th></th>\n",
       "      <th>Название района</th>\n",
       "      <th>Количество заведений</th>\n",
       "    </tr>\n",
       "  </thead>\n",
       "  <tbody>\n",
       "    <tr>\n",
       "      <td>0</td>\n",
       "      <td>Тверской район</td>\n",
       "      <td>1119</td>\n",
       "    </tr>\n",
       "    <tr>\n",
       "      <td>1</td>\n",
       "      <td>Пресненский район</td>\n",
       "      <td>786</td>\n",
       "    </tr>\n",
       "    <tr>\n",
       "      <td>2</td>\n",
       "      <td>Басманный район</td>\n",
       "      <td>701</td>\n",
       "    </tr>\n",
       "    <tr>\n",
       "      <td>3</td>\n",
       "      <td>Даниловский район</td>\n",
       "      <td>664</td>\n",
       "    </tr>\n",
       "    <tr>\n",
       "      <td>4</td>\n",
       "      <td>Мещанский район</td>\n",
       "      <td>660</td>\n",
       "    </tr>\n",
       "    <tr>\n",
       "      <td>5</td>\n",
       "      <td>Донской район</td>\n",
       "      <td>580</td>\n",
       "    </tr>\n",
       "    <tr>\n",
       "      <td>6</td>\n",
       "      <td>Таганский район</td>\n",
       "      <td>528</td>\n",
       "    </tr>\n",
       "    <tr>\n",
       "      <td>7</td>\n",
       "      <td>Обручевский район</td>\n",
       "      <td>491</td>\n",
       "    </tr>\n",
       "    <tr>\n",
       "      <td>8</td>\n",
       "      <td>Район Замоскворечье</td>\n",
       "      <td>479</td>\n",
       "    </tr>\n",
       "    <tr>\n",
       "      <td>9</td>\n",
       "      <td>Район Гагаринский</td>\n",
       "      <td>470</td>\n",
       "    </tr>\n",
       "  </tbody>\n",
       "</table>\n",
       "</div>"
      ],
      "text/plain": [
       "       Название района  Количество заведений\n",
       "0       Тверской район                  1119\n",
       "1    Пресненский район                   786\n",
       "2      Басманный район                   701\n",
       "3    Даниловский район                   664\n",
       "4      Мещанский район                   660\n",
       "5        Донской район                   580\n",
       "6      Таганский район                   528\n",
       "7    Обручевский район                   491\n",
       "8  Район Замоскворечье                   479\n",
       "9    Район Гагаринский                   470"
      ]
     },
     "metadata": {},
     "output_type": "display_data"
    }
   ],
   "source": [
    "plt.figure(figsize=(18,8))\n",
    "sns.barplot(data=top10_streets_with_districts, x='Название улицы', y='Количество заведений', hue='Округ', palette=\"tab20\")\n",
    "plt.title('ТОП-10 улиц г.Москвы с самым большим количеством заведений общественного питания (по округам)', fontsize=16)\n",
    "plt.tick_params(axis='x', labelrotation=55)\n",
    "plt.show()\n",
    "\n",
    "print('---------------------------------------------------------------------------------------------------------------------')\n",
    "print('ТОП-10 улиц г.Москвы с самым большим количеством заведений общественного питания (по округам)')\n",
    "display(top10_streets_with_districts)\n",
    "print('---------------------------------------------------------------------------------------------------------------------')\n",
    "print('ТОП-10 районов г.Москвы с самым большим количеством заведений общественного питания')\n",
    "display(top10_districts)"
   ]
  },
  {
   "cell_type": "markdown",
   "metadata": {},
   "source": [
    "<div style=\"border:dotted black 3px; padding: 20px\">\n",
    "    \n",
    "<b>Мы определили ТОП-10 улиц (и районы, к которым они относятся) и ТОП-10 районов с самым большим количеством заведений общественного питания.</b><br><br>\n",
    "    \n",
    "<b>ТОП-10 улиц:</b><br>\n",
    "1. Проспект Мира (районы: Алексеевский, Марьина роща, Останкинский, Свиблово, Мещанский, Ярославский)<br>\n",
    "2. Профсоюзная улица (районы: Обручевский, Теплый Стан, Коньково, Ясенево, Черемушки, Академический<br>\n",
    "3. Ленинградский проспект (районы: Аэропорт, Беговой, Хорошевский, Сокол)<br>\n",
    "4. Пресненская набережная (район: Пресненский)<br>\n",
    "5. Варшавское шоссе (районы: Нагатино-Садовники, Южное Бутово, Нагорный, Северное Бутово, Донской, Чертаново Северное, Чертаново Центральное, Чертаново Южное)<br>\n",
    "6. Ленинский проспект (районы: Проспект Вернадского, Тропарево-Никулино, Донской, Гагаринский, Ломоносовский, Обручевский, Теплый Стан, Якиманка)<br>\n",
    "7. Проспект Вернадского (районы: Гагаринский, Ломоносовский, Раменки, Тропарево-Никулино, Проспект Вернадского)<br>\n",
    "8. Кутузовский проспект (районы: Дорогомилово, Фили-Давыдково)<br>\n",
    "9. Каширское шоссе (районы: Москворечье-Сабурово, Нагатино-Садовники, Орехово-Борисово Южное, Орехово-Борисово Северное)<br>\n",
    "10. Кировоградская улица (районы: Чертаново Центральное, Чертаново Северное, Чертаново Южное)<br><br>\n",
    "    \n",
    "<b>ТОП-10 районов:</b> <br> \n",
    "1. Тверской район - 1119 заведений<br>\n",
    "2. Пресненский район - 786 заведений<br>\n",
    "3. Басманный район - 701 заведение<br>\n",
    "4. Даниловский район - 664 заведения<br>\n",
    "5. Мещанский район - 660 заведений<br>\n",
    "6. Донской район - 580 заведений<br>\n",
    "7. Таганский район - 528 заведений<br>\n",
    "8. Обручевский район - 491 заведение<br>\n",
    "9. Район Замоскворечье - 479 заведений<br>\n",
    "10. Район Гагаринский - 470  заведений<br>\n",
    "    \n",
    "</div>"
   ]
  },
  {
   "cell_type": "markdown",
   "metadata": {},
   "source": [
    "###  Изучение улиц с минимальным количеством объектов\n",
    "\n",
    "Определим есть ли такие улицы и сколько таких улиц (если они есть), на которых находится всего 1 объект общественного питания."
   ]
  },
  {
   "cell_type": "code",
   "execution_count": 23,
   "metadata": {},
   "outputs": [
    {
     "name": "stdout",
     "output_type": "stream",
     "text": [
      "Найдено 478 улиц с 1 заведением общественного питания.\n"
     ]
    },
    {
     "data": {
      "text/html": [
       "<div>\n",
       "<style scoped>\n",
       "    .dataframe tbody tr th:only-of-type {\n",
       "        vertical-align: middle;\n",
       "    }\n",
       "\n",
       "    .dataframe tbody tr th {\n",
       "        vertical-align: top;\n",
       "    }\n",
       "\n",
       "    .dataframe thead th {\n",
       "        text-align: right;\n",
       "    }\n",
       "</style>\n",
       "<table border=\"1\" class=\"dataframe\">\n",
       "  <thead>\n",
       "    <tr style=\"text-align: right;\">\n",
       "      <th></th>\n",
       "      <th>street_name</th>\n",
       "      <th>id</th>\n",
       "      <th>object_type</th>\n",
       "      <th>object_name</th>\n",
       "      <th>district</th>\n",
       "      <th>district_zone</th>\n",
       "    </tr>\n",
       "  </thead>\n",
       "  <tbody>\n",
       "    <tr>\n",
       "      <td>0</td>\n",
       "      <td>1-й Балтийский переулок</td>\n",
       "      <td>1</td>\n",
       "      <td>ресторан</td>\n",
       "      <td>хуанхэ</td>\n",
       "      <td>Район Аэропорт</td>\n",
       "      <td>САО</td>\n",
       "    </tr>\n",
       "    <tr>\n",
       "      <td>1</td>\n",
       "      <td>1-й Ботанический проезд</td>\n",
       "      <td>1</td>\n",
       "      <td>столовая</td>\n",
       "      <td>буфет при гуп «объединенный комбинат школьно питания»</td>\n",
       "      <td>Район Свиблово</td>\n",
       "      <td>СВАО</td>\n",
       "    </tr>\n",
       "    <tr>\n",
       "      <td>2</td>\n",
       "      <td>1-й Вешняковский проезд</td>\n",
       "      <td>1</td>\n",
       "      <td>столовая</td>\n",
       "      <td>столовая гну виэсх</td>\n",
       "      <td>Рязанский район</td>\n",
       "      <td>ЮВАО</td>\n",
       "    </tr>\n",
       "    <tr>\n",
       "      <td>3</td>\n",
       "      <td>1-й Голутвинский переулок</td>\n",
       "      <td>1</td>\n",
       "      <td>кафе</td>\n",
       "      <td>шелби</td>\n",
       "      <td>Район Якиманка</td>\n",
       "      <td>ЦАО</td>\n",
       "    </tr>\n",
       "    <tr>\n",
       "      <td>4</td>\n",
       "      <td>1-й Зачатьевский переулок</td>\n",
       "      <td>1</td>\n",
       "      <td>кафе</td>\n",
       "      <td>кафе-пиццерия</td>\n",
       "      <td>Район Хамовники</td>\n",
       "      <td>ЦАО</td>\n",
       "    </tr>\n",
       "    <tr>\n",
       "      <td>5</td>\n",
       "      <td>1-й Кирпичный переулок</td>\n",
       "      <td>1</td>\n",
       "      <td>магазин (отдел кулинарии)</td>\n",
       "      <td>пекарня</td>\n",
       "      <td>Район Соколиная Гора</td>\n",
       "      <td>ВАО</td>\n",
       "    </tr>\n",
       "    <tr>\n",
       "      <td>6</td>\n",
       "      <td>1-й Кожевнический переулок</td>\n",
       "      <td>1</td>\n",
       "      <td>кафе</td>\n",
       "      <td>кафе</td>\n",
       "      <td>Даниловский район</td>\n",
       "      <td>ЮАО</td>\n",
       "    </tr>\n",
       "    <tr>\n",
       "      <td>7</td>\n",
       "      <td>1-й Кожуховский проезд</td>\n",
       "      <td>1</td>\n",
       "      <td>столовая</td>\n",
       "      <td>школа №1272</td>\n",
       "      <td>Даниловский район</td>\n",
       "      <td>ЮАО</td>\n",
       "    </tr>\n",
       "    <tr>\n",
       "      <td>8</td>\n",
       "      <td>1-й Котельнический переулок</td>\n",
       "      <td>1</td>\n",
       "      <td>столовая</td>\n",
       "      <td>школа 2104</td>\n",
       "      <td>Таганский район</td>\n",
       "      <td>ЦАО</td>\n",
       "    </tr>\n",
       "    <tr>\n",
       "      <td>9</td>\n",
       "      <td>1-й Краснокурсантский проезд</td>\n",
       "      <td>1</td>\n",
       "      <td>ресторан</td>\n",
       "      <td>гостиница лефортово</td>\n",
       "      <td>Район Лефортово</td>\n",
       "      <td>ЮВАО</td>\n",
       "    </tr>\n",
       "  </tbody>\n",
       "</table>\n",
       "</div>"
      ],
      "text/plain": [
       "                    street_name  id                object_type  \\\n",
       "0       1-й Балтийский переулок   1                   ресторан   \n",
       "1       1-й Ботанический проезд   1                   столовая   \n",
       "2       1-й Вешняковский проезд   1                   столовая   \n",
       "3     1-й Голутвинский переулок   1                       кафе   \n",
       "4     1-й Зачатьевский переулок   1                       кафе   \n",
       "5        1-й Кирпичный переулок   1  магазин (отдел кулинарии)   \n",
       "6    1-й Кожевнический переулок   1                       кафе   \n",
       "7        1-й Кожуховский проезд   1                   столовая   \n",
       "8   1-й Котельнический переулок   1                   столовая   \n",
       "9  1-й Краснокурсантский проезд   1                   ресторан   \n",
       "\n",
       "                                             object_name  \\\n",
       "0                                                 хуанхэ   \n",
       "1  буфет при гуп «объединенный комбинат школьно питания»   \n",
       "2                                     столовая гну виэсх   \n",
       "3                                                  шелби   \n",
       "4                                          кафе-пиццерия   \n",
       "5                                                пекарня   \n",
       "6                                                   кафе   \n",
       "7                                            школа №1272   \n",
       "8                                             школа 2104   \n",
       "9                                    гостиница лефортово   \n",
       "\n",
       "               district district_zone  \n",
       "0        Район Аэропорт           САО  \n",
       "1        Район Свиблово          СВАО  \n",
       "2       Рязанский район          ЮВАО  \n",
       "3        Район Якиманка           ЦАО  \n",
       "4       Район Хамовники           ЦАО  \n",
       "5  Район Соколиная Гора           ВАО  \n",
       "6     Даниловский район           ЮАО  \n",
       "7     Даниловский район           ЮАО  \n",
       "8       Таганский район           ЦАО  \n",
       "9       Район Лефортово          ЮВАО  "
      ]
     },
     "metadata": {},
     "output_type": "display_data"
    }
   ],
   "source": [
    "# группируем по улице, посчитаем кол-во объектов и с помощью `query` выделим срез только с 1 объектом общ.питания\n",
    "# (в поиске не будем учитывать город Зеленоград)\n",
    "# в выводе оставим для удобства название объекта, его тип, район и округ\n",
    "\n",
    "streets_with_1_object = rest_data_updated \\\n",
    ".query('street_name != \"город Зеленоград\"') \\\n",
    ".groupby('street_name').agg({'id': 'count', 'object_type': 'max', 'object_name': 'max', 'district': 'max', 'district_zone': 'max'}) \\\n",
    ".query('id == 1').reset_index()\n",
    "\n",
    "print('Найдено {} улиц с 1 заведением общественного питания.'.format(len(streets_with_1_object)))\n",
    "display(streets_with_1_object.head(10))"
   ]
  },
  {
   "cell_type": "code",
   "execution_count": 24,
   "metadata": {},
   "outputs": [
    {
     "data": {
      "image/png": "[encoded data removed]",
      "text/plain": [
       "<Figure size 1008x504 with 1 Axes>"
      ]
     },
     "metadata": {},
     "output_type": "display_data"
    },
    {
     "name": "stdout",
     "output_type": "stream",
     "text": [
      "----------------------------------------------------------------------------------------------------------------------\n",
      "Районы, имеющие улицы только с 1 объектом общ.питания\n"
     ]
    },
    {
     "data": {
      "text/html": [
       "<div>\n",
       "<style scoped>\n",
       "    .dataframe tbody tr th:only-of-type {\n",
       "        vertical-align: middle;\n",
       "    }\n",
       "\n",
       "    .dataframe tbody tr th {\n",
       "        vertical-align: top;\n",
       "    }\n",
       "\n",
       "    .dataframe thead th {\n",
       "        text-align: right;\n",
       "    }\n",
       "</style>\n",
       "<table border=\"1\" class=\"dataframe\">\n",
       "  <thead>\n",
       "    <tr style=\"text-align: right;\">\n",
       "      <th></th>\n",
       "      <th>district</th>\n",
       "      <th>district_zone</th>\n",
       "      <th>id</th>\n",
       "    </tr>\n",
       "  </thead>\n",
       "  <tbody>\n",
       "    <tr>\n",
       "      <td>0</td>\n",
       "      <td>Таганский район</td>\n",
       "      <td>ЦАО</td>\n",
       "      <td>25</td>\n",
       "    </tr>\n",
       "    <tr>\n",
       "      <td>1</td>\n",
       "      <td>Басманный район</td>\n",
       "      <td>ЦАО</td>\n",
       "      <td>23</td>\n",
       "    </tr>\n",
       "    <tr>\n",
       "      <td>2</td>\n",
       "      <td>Район Хамовники</td>\n",
       "      <td>ЦАО</td>\n",
       "      <td>22</td>\n",
       "    </tr>\n",
       "    <tr>\n",
       "      <td>3</td>\n",
       "      <td>Тверской район</td>\n",
       "      <td>ЦАО</td>\n",
       "      <td>19</td>\n",
       "    </tr>\n",
       "    <tr>\n",
       "      <td>4</td>\n",
       "      <td>Район Марьина роща</td>\n",
       "      <td>СВАО</td>\n",
       "      <td>16</td>\n",
       "    </tr>\n",
       "    <tr>\n",
       "      <td>5</td>\n",
       "      <td>Пресненский район</td>\n",
       "      <td>ЦАО</td>\n",
       "      <td>15</td>\n",
       "    </tr>\n",
       "    <tr>\n",
       "      <td>6</td>\n",
       "      <td>Район Сокольники</td>\n",
       "      <td>ВАО</td>\n",
       "      <td>15</td>\n",
       "    </tr>\n",
       "    <tr>\n",
       "      <td>7</td>\n",
       "      <td>Мещанский район</td>\n",
       "      <td>ЦАО</td>\n",
       "      <td>13</td>\n",
       "    </tr>\n",
       "    <tr>\n",
       "      <td>8</td>\n",
       "      <td>Район Замоскворечье</td>\n",
       "      <td>ЦАО</td>\n",
       "      <td>12</td>\n",
       "    </tr>\n",
       "    <tr>\n",
       "      <td>9</td>\n",
       "      <td>Район Лефортово</td>\n",
       "      <td>ЮВАО</td>\n",
       "      <td>11</td>\n",
       "    </tr>\n",
       "    <tr>\n",
       "      <td>10</td>\n",
       "      <td>Район Арбат</td>\n",
       "      <td>ЦАО</td>\n",
       "      <td>10</td>\n",
       "    </tr>\n",
       "    <tr>\n",
       "      <td>11</td>\n",
       "      <td>Район Якиманка</td>\n",
       "      <td>ЦАО</td>\n",
       "      <td>9</td>\n",
       "    </tr>\n",
       "    <tr>\n",
       "      <td>12</td>\n",
       "      <td>Район Богородское</td>\n",
       "      <td>ВАО</td>\n",
       "      <td>9</td>\n",
       "    </tr>\n",
       "    <tr>\n",
       "      <td>13</td>\n",
       "      <td>Район Южное Бутово</td>\n",
       "      <td>ЮЗАО</td>\n",
       "      <td>8</td>\n",
       "    </tr>\n",
       "    <tr>\n",
       "      <td>14</td>\n",
       "      <td>Можайский Район</td>\n",
       "      <td>ЗАО</td>\n",
       "      <td>8</td>\n",
       "    </tr>\n",
       "  </tbody>\n",
       "</table>\n",
       "</div>"
      ],
      "text/plain": [
       "               district district_zone  id\n",
       "0       Таганский район           ЦАО  25\n",
       "1       Басманный район           ЦАО  23\n",
       "2       Район Хамовники           ЦАО  22\n",
       "3        Тверской район           ЦАО  19\n",
       "4    Район Марьина роща          СВАО  16\n",
       "5     Пресненский район           ЦАО  15\n",
       "6      Район Сокольники           ВАО  15\n",
       "7       Мещанский район           ЦАО  13\n",
       "8   Район Замоскворечье           ЦАО  12\n",
       "9       Район Лефортово          ЮВАО  11\n",
       "10          Район Арбат           ЦАО  10\n",
       "11       Район Якиманка           ЦАО   9\n",
       "12    Район Богородское           ВАО   9\n",
       "13   Район Южное Бутово          ЮЗАО   8\n",
       "14      Можайский Район           ЗАО   8"
      ]
     },
     "metadata": {},
     "output_type": "display_data"
    }
   ],
   "source": [
    "# посмотрим в каких районах находятся эти улицы\n",
    "\n",
    "streets_with_1_object_by_district = streets_with_1_object \\\n",
    ".groupby(['district', 'district_zone'])['id'].count() \\\n",
    ".sort_values(ascending=False).reset_index().head(15)  # ограничим до 15 районов\n",
    "\n",
    "plt.figure(figsize=(14,7))\n",
    "sns.barplot(y='district', x='id', data=streets_with_1_object_by_district, palette='Set2_r')\n",
    "plt.title('Распределение районов, имеющих улицы только с 1 объектом общ.питания', fontsize=16)\n",
    "plt.xlabel('Кол-во улиц с 1 объектом')\n",
    "plt.ylabel('Район')\n",
    "plt.show()\n",
    "\n",
    "print('----------------------------------------------------------------------------------------------------------------------')\n",
    "print('Районы, имеющие улицы только с 1 объектом общ.питания')\n",
    "display(streets_with_1_object_by_district)"
   ]
  },
  {
   "cell_type": "markdown",
   "metadata": {},
   "source": [
    "<div style=\"border:dotted black 3px; padding: 20px\">\n",
    "\n",
    "Значительное количество улиц (478 улиц) имеют всего лишь 1 объект общественного питания.<br><br>\n",
    "\n",
    "При этом больше всего из этих улиц находятся в ЦАО, исходя из этого можно сказать, что влияет факт наличия в центре маленьких улочек и переулков, на которых нахождение по 1 заведению - это физическая норма.<br><br>\n",
    "    \n",
    "СВАО и ВАО - округа, в которых также достаточно улиц только с 1 заведением.<br><br>\n",
    "    \n",
    "Исходя из имеющихся у нас исходных данных и отсутствия дополнительных (о проходимости на этих улицах, о среднем чеке в подобных заведениях) мы не имеем возможности детальнее сделать вывод о перспективности данных улиц для открытия кафе.\n",
    "    \n",
    "</div>"
   ]
  },
  {
   "cell_type": "markdown",
   "metadata": {},
   "source": [
    "### Изучение распределения количества посадочных мест: ТОП-10 улиц с большим кол-во объектов"
   ]
  },
  {
   "cell_type": "code",
   "execution_count": 25,
   "metadata": {},
   "outputs": [
    {
     "data": {
      "image/png": "[encoded data removed]",
      "text/plain": [
       "<Figure size 1296x720 with 1 Axes>"
      ]
     },
     "metadata": {},
     "output_type": "display_data"
    }
   ],
   "source": [
    "# т.к. нам нужно получить доступ к столбцу `seats_numbers`, создадим датафрейм `seats_data`, \n",
    "# проверив вхождение найденных ТОП-10 улиц из дф `top10_streets` в последний дф `rest_data_updated`\n",
    "\n",
    "seats_data_top10_streets = rest_data_updated[rest_data_updated['street_name'].isin(top10_streets['Название улицы'].tolist())]\n",
    "\n",
    "# чтобы не было дублей кол-ва мест из-за повторов улиц (из-за принадлежности их к разным районам)\n",
    "# сгруппируем по 'id' объекта и оставим нужные нам столбцы \n",
    "seats_data_top10_streets = seats_data_top10_streets.groupby('id') \\\n",
    ".agg({'street_name':'max', 'seats_numbers': 'max', 'chain':'max'}).reset_index()\n",
    "\n",
    "# строим `violinplot`\n",
    "\n",
    "plt.figure(figsize=(18, 10))\n",
    "sns.violinplot(y='street_name', x='seats_numbers', data=seats_data_top10_streets, \\\n",
    "               hue='chain', scale_hue='True', split=True, palette='Set2')\n",
    "plt.xlim(0, 200)\n",
    "plt.title('Распределение кол-ва посадочных мест: ТОП-10 улиц с большим кол-вом объектов', fontsize=19)\n",
    "plt.xlabel('Кол-во посадочных мест')\n",
    "plt.ylabel('Название улицы')\n",
    "plt.show()"
   ]
  },
  {
   "cell_type": "markdown",
   "metadata": {},
   "source": [
    "<div style=\"border:dotted black 3px; padding: 20px\">\n",
    "    \n",
    "Из данного графика видно, что форма и плотность распределения значений кол-ва мест по всем 10 улицам имеет сходства. Удлиненная форма говорит о небольшой плотности значений и длинный хвост о наличии редких значений.<br><br>\n",
    "    \n",
    "Но медианные показатели по всем ТОП-10 улицам лежат в диапазоне от 25 мест до 49 мест.<br><br> \n",
    "\n",
    "Проспект Мира имеет наибольший медианный показатель кол-ва мест среди всех 10 улиц - 49 мест в среднем.<br><br>\n",
    "\n",
    "И удивительно, что, несмотря на вторую позицию по кол-ву объектов на Профсоюзной улице - медианный же показатель кол-ва мест на этой улице меньше всех из ТОП-10 улиц - 24 места.<br><br>\n",
    "    \n",
    "По межквартильному размаху выделяются Кутузовский проспект и Проспект Мира: показатели Q1 и Q3 квартилей самые высокие среди остальных улиц.<br><br>\n",
    "    \n",
    "Кутузовский проспект отличается также преобладанием сетевых заведений над не сетевыми.\n",
    "    \n",
    "</div>"
   ]
  },
  {
   "cell_type": "markdown",
   "metadata": {},
   "source": [
    "## Общий вывод"
   ]
  },
  {
   "attachments": {},
   "cell_type": "markdown",
   "metadata": {},
   "source": [
    "<div style=\"border: ridge black 3px; padding: 25px\">\n",
    "\n",
    "\n",
    "<b>В результате проведённого исследования по выявлению особенностей заведений общественного питания в г.Москве определено следующее:</b><br><br>\n",
    "    \n",
    "1. Больше всего в Москве заведений типа \"кафе\" (\"столовые\", \"рестораны\" и \"предприятия быстрого обслуживания\" на 2, 3 и 4 месте, соответственно).<br>\n",
    "    \n",
    "    \n",
    "2. 80% всех объектов являются не сетевыми.<br>\n",
    "    \n",
    "    \n",
    "3. Для \"предприятий быстрого обслуживания\" характерно сетевое распространение (\"кафе\" и \"рестораны\" в меньшем соотношении по сравнению с не сетевыми заведениями данных типов).<br><br>\n",
    "    \n",
    "    \n",
    "<b>Посадочные места:</b><br>\n",
    "    \n",
    "- В Москве преобладающая часть сетевых заведений работает в формате \"на вынос/с собой\" (265 заведений с 0 посадочных мест).<br>\n",
    "      \n",
    "- Количество посадочных мест в большинстве сетевых заведений представлено в диапазоне от 10 до 60 мест.<br>\n",
    "\n",
    "- В заведениях, относящихся к списку из \"ТОП-10 улиц с самым большим количеством заведений\", диапазон посадочных мест лежит от 25 до 49 мест.<br>\n",
    "    \n",
    "- Заведений с посадочными местами от 100 и более 500 - меньше всего представлено среди зведений общ.питания.<br>\n",
    "    \n",
    "- В среднем больше всего посадочных мест представлено в \"столовых\":  103 места в среднем. На 2 и 3 месте, соответственно, ресторан (80 мест в среднем) и бар (35 мест в среднем).<br>\n",
    "    \n",
    "- Показатель среднего кол-ва посадочных мест больше во всех сетевых заведениях, чем в аналогичных не сетевых.<br><br>\n",
    "    \n",
    "<b>Улицы:</b><br>\n",
    "    \n",
    "- Проспект Мира (ЦАО и СВАО) является лидером по кол-ву заведений (203 заведения), а также имеет наибольший медианный показатель кол-ва мест среди всех ТОП-10 улиц - 49 мест в среднем. На 2 месте Профсоюзная улица (ЮЗАО): 181 заведение (ее медианный показатель кол-ва мест среди всех ТОП-10 улиц, наоборот, меньше всех - 24 места).<br>\n",
    "    \n",
    "- 478 улиц имеют всего лишь 1 объект общественного питания. Больше всего таких улиц находится в ЦАО (обусловлено физическими размерами улочек и переулков в центре Москвы). Далее идут СВАО и ВАО по кол-ву таких улиц.<br><br>\n",
    "    \n",
    "<b>Районы:</b><br>\n",
    "    \n",
    "- Тверской район (ЦАО) является лидером по кол-ву расположенных в нём заведений: 1119 заведений.<br><br>\n",
    "    \n",
    "<hr>  \n",
    " \n",
    "<i><b>Рекомендации:</b></i><br>\n",
    "    \n",
    "Учитывая отсутствие дополнительных данных (о проходимости на улицах, о сезонности и посещаемости как местными жителями, так и туристами, о среднем чеке в заведениях на популярных улицах, либо, наоборот, улицах с 1 заведением) есть вероятность ошибиться с точным набором рекомендуемых характеристик будущего роботизированного кафе. Для более точных результатов анализа, учитывая риски и дороговизну будущего проекта кафе, следует провести доп.исследование с дополнительными вводными данными, и с использованием гео-функционала для визуализации объектов и улиц с учетом нумерации домов, расстояния до метро, также добавив в анализ город Зеленоград как отдельный административный округ Москвы со спецификой в изучении (корпуса домов вместо названия улиц).<br><br>\n",
    "    \n",
    "Но на основании анализа текущих доступных нам данных и обнаруженных особенностей объектов общественного питания г.Москвы, мы можем рекомендовать обратить внимание на:<br>\n",
    "\n",
    "1. Перспективный тип заведения - \"кафе\".<br>\n",
    "    \n",
    "2. Среднее кол-во посадочных мест для типа \"кафе\" - 30 мест.<br>\n",
    "    \n",
    "3. Перспективные улица и район: Проспект Мира (ЦАО, СВАО) и Тверской район (ЦАО).* (* - с точки зрения конкуренции целесообразно расположить такое дорогостоящее заведение с роботами-официантами именно в центральной части города (часть Проспекта Мира относится также и к ЦАО), т.к. проходимость довольно большая в центре города, люди разных целевых аудиторий бывают в центре в разное время суток (и, если не брать в счет текущее время и закрытые границы, то частью посетителей могут стать иностранные туристы, которые всегда едут смотреть центр города и интересные места). Такое заведение со спецификой обслуживания роботами способно выделиться именно на территории скопления конкурирующих заведений с традиционным обслуживанием официантами.)<br><br>\n",
    "    \n",
    "Сильное влияние принадлежности к сетям не было выявлено, большая часть заведений (80%) являются не сетевыми. В сетевых заведениях отмечено лишь большее кол-во посадочных мест в среднем по сравнению с не сетевыми аналогичных типов.<br>\n",
    "<hr>\n",
    " \n",
    "</div>"
   ]
  },
  {
   "cell_type": "markdown",
   "metadata": {},
   "source": [
    "<b>[Ссылка на презентацию исследования](https://drive.google.com/file/d/15N3pF0zsgBIr0D_eT9RB_2KRrO-o-bv1/view?usp=sharing)</b>"
   ]
  }
 ],
 "metadata": {
  "ExecuteTimeLog": [
   {
    "duration": 1902,
    "start_time": "2021-08-06T11:51:21.322Z"
   },
   {
    "duration": 77,
    "start_time": "2021-08-06T11:51:23.227Z"
   },
   {
    "duration": 825,
    "start_time": "2021-08-06T11:51:23.308Z"
   },
   {
    "duration": 10,
    "start_time": "2021-08-06T11:51:24.136Z"
   },
   {
    "duration": 51,
    "start_time": "2021-08-06T11:51:24.148Z"
   },
   {
    "duration": 22,
    "start_time": "2021-08-06T11:51:24.201Z"
   },
   {
    "duration": 63,
    "start_time": "2021-08-06T11:51:24.225Z"
   },
   {
    "duration": 23,
    "start_time": "2021-08-06T11:51:24.292Z"
   },
   {
    "duration": 49,
    "start_time": "2021-08-06T11:51:24.318Z"
   },
   {
    "duration": 1495,
    "start_time": "2021-08-06T11:51:24.370Z"
   },
   {
    "duration": 1931,
    "start_time": "2021-08-06T11:51:25.867Z"
   },
   {
    "duration": 1225,
    "start_time": "2021-08-06T11:51:27.800Z"
   },
   {
    "duration": 42,
    "start_time": "2021-08-06T11:51:29.028Z"
   },
   {
    "duration": 1232,
    "start_time": "2021-08-06T11:51:29.073Z"
   },
   {
    "duration": 23,
    "start_time": "2021-08-06T11:51:30.308Z"
   },
   {
    "duration": 35,
    "start_time": "2021-08-06T11:51:30.333Z"
   },
   {
    "duration": 95,
    "start_time": "2021-08-06T11:51:30.370Z"
   },
   {
    "duration": 45,
    "start_time": "2021-08-06T11:51:30.467Z"
   },
   {
    "duration": 48,
    "start_time": "2021-08-06T11:51:30.514Z"
   },
   {
    "duration": 1515,
    "start_time": "2021-08-06T11:51:30.565Z"
   },
   {
    "duration": 14,
    "start_time": "2021-08-06T11:51:32.082Z"
   },
   {
    "duration": 1584,
    "start_time": "2021-08-06T11:51:32.099Z"
   },
   {
    "duration": 1253,
    "start_time": "2021-08-06T11:51:33.687Z"
   },
   {
    "duration": 707,
    "start_time": "2021-08-06T11:51:34.942Z"
   },
   {
    "duration": 1920,
    "start_time": "2021-08-06T11:51:35.662Z"
   },
   {
    "duration": 1493,
    "start_time": "2021-08-06T12:11:32.002Z"
   },
   {
    "duration": 58,
    "start_time": "2021-08-06T12:11:33.498Z"
   },
   {
    "duration": 729,
    "start_time": "2021-08-06T12:11:33.560Z"
   },
   {
    "duration": 13,
    "start_time": "2021-08-06T12:11:34.294Z"
   },
   {
    "duration": 72,
    "start_time": "2021-08-06T12:11:34.310Z"
   },
   {
    "duration": 24,
    "start_time": "2021-08-06T12:11:34.385Z"
   },
   {
    "duration": 69,
    "start_time": "2021-08-06T12:11:34.412Z"
   },
   {
    "duration": 24,
    "start_time": "2021-08-06T12:11:34.485Z"
   },
   {
    "duration": 9,
    "start_time": "2021-08-06T12:11:34.514Z"
   },
   {
    "duration": 1469,
    "start_time": "2021-08-06T12:11:34.526Z"
   },
   {
    "duration": 1924,
    "start_time": "2021-08-06T12:11:35.997Z"
   },
   {
    "duration": 1187,
    "start_time": "2021-08-06T12:11:37.923Z"
   },
   {
    "duration": 18,
    "start_time": "2021-08-06T12:11:39.112Z"
   },
   {
    "duration": 1238,
    "start_time": "2021-08-06T12:11:39.132Z"
   },
   {
    "duration": 30,
    "start_time": "2021-08-06T12:11:40.373Z"
   },
   {
    "duration": 20,
    "start_time": "2021-08-06T12:11:40.406Z"
   },
   {
    "duration": 133,
    "start_time": "2021-08-06T12:11:40.429Z"
   },
   {
    "duration": 62,
    "start_time": "2021-08-06T12:11:40.565Z"
   },
   {
    "duration": 59,
    "start_time": "2021-08-06T12:11:40.630Z"
   },
   {
    "duration": 2257,
    "start_time": "2021-08-06T12:11:40.692Z"
   },
   {
    "duration": 18,
    "start_time": "2021-08-06T12:11:42.952Z"
   },
   {
    "duration": 1604,
    "start_time": "2021-08-06T12:11:42.973Z"
   },
   {
    "duration": 1259,
    "start_time": "2021-08-06T12:11:44.579Z"
   },
   {
    "duration": 757,
    "start_time": "2021-08-06T12:11:45.841Z"
   },
   {
    "duration": 1973,
    "start_time": "2021-08-06T12:11:46.600Z"
   },
   {
    "duration": 1497,
    "start_time": "2021-08-06T12:22:12.640Z"
   },
   {
    "duration": 58,
    "start_time": "2021-08-06T12:22:14.140Z"
   },
   {
    "duration": 846,
    "start_time": "2021-08-06T12:22:14.200Z"
   },
   {
    "duration": 14,
    "start_time": "2021-08-06T12:22:15.049Z"
   },
   {
    "duration": 39,
    "start_time": "2021-08-06T12:22:15.066Z"
   },
   {
    "duration": 22,
    "start_time": "2021-08-06T12:22:15.107Z"
   },
   {
    "duration": 37,
    "start_time": "2021-08-06T12:22:15.161Z"
   },
   {
    "duration": 23,
    "start_time": "2021-08-06T12:22:15.201Z"
   },
   {
    "duration": 35,
    "start_time": "2021-08-06T12:22:15.227Z"
   },
   {
    "duration": 1424,
    "start_time": "2021-08-06T12:22:15.265Z"
   },
   {
    "duration": 1864,
    "start_time": "2021-08-06T12:22:16.691Z"
   },
   {
    "duration": 1170,
    "start_time": "2021-08-06T12:22:18.562Z"
   },
   {
    "duration": 39,
    "start_time": "2021-08-06T12:22:19.735Z"
   },
   {
    "duration": 1027,
    "start_time": "2021-08-06T12:22:19.777Z"
   },
   {
    "duration": 20,
    "start_time": "2021-08-06T12:22:20.806Z"
   },
   {
    "duration": 8,
    "start_time": "2021-08-06T12:22:20.829Z"
   },
   {
    "duration": 84,
    "start_time": "2021-08-06T12:22:20.839Z"
   },
   {
    "duration": 63,
    "start_time": "2021-08-06T12:22:20.925Z"
   },
   {
    "duration": 23,
    "start_time": "2021-08-06T12:22:20.990Z"
   },
   {
    "duration": 1456,
    "start_time": "2021-08-06T12:22:21.015Z"
   },
   {
    "duration": 13,
    "start_time": "2021-08-06T12:22:22.473Z"
   },
   {
    "duration": 1577,
    "start_time": "2021-08-06T12:22:22.488Z"
   },
   {
    "duration": 1253,
    "start_time": "2021-08-06T12:22:24.070Z"
   },
   {
    "duration": 737,
    "start_time": "2021-08-06T12:22:25.326Z"
   },
   {
    "duration": 1880,
    "start_time": "2021-08-06T12:22:26.065Z"
   },
   {
    "duration": 1003,
    "start_time": "2021-08-08T12:46:37.527Z"
   },
   {
    "duration": 47,
    "start_time": "2021-08-08T12:46:38.532Z"
   },
   {
    "duration": 318,
    "start_time": "2021-08-08T12:46:38.581Z"
   },
   {
    "duration": 7,
    "start_time": "2021-08-08T12:46:38.901Z"
   },
   {
    "duration": 26,
    "start_time": "2021-08-08T12:46:38.909Z"
   },
   {
    "duration": 13,
    "start_time": "2021-08-08T12:46:38.936Z"
   },
   {
    "duration": 50,
    "start_time": "2021-08-08T12:46:38.951Z"
   },
   {
    "duration": 15,
    "start_time": "2021-08-08T12:46:39.004Z"
   },
   {
    "duration": 6,
    "start_time": "2021-08-08T12:46:39.021Z"
   },
   {
    "duration": 894,
    "start_time": "2021-08-08T12:46:39.029Z"
   },
   {
    "duration": 1237,
    "start_time": "2021-08-08T12:46:39.924Z"
   },
   {
    "duration": 757,
    "start_time": "2021-08-08T12:46:41.163Z"
   },
   {
    "duration": 12,
    "start_time": "2021-08-08T12:46:41.922Z"
   },
   {
    "duration": 1131,
    "start_time": "2021-08-08T12:46:41.936Z"
   },
   {
    "duration": 12,
    "start_time": "2021-08-08T12:46:43.069Z"
   },
   {
    "duration": 8,
    "start_time": "2021-08-08T12:46:43.082Z"
   },
   {
    "duration": 43,
    "start_time": "2021-08-08T12:46:43.093Z"
   },
   {
    "duration": 50,
    "start_time": "2021-08-08T12:46:43.137Z"
   },
   {
    "duration": 19,
    "start_time": "2021-08-08T12:46:43.188Z"
   },
   {
    "duration": 949,
    "start_time": "2021-08-08T12:46:43.208Z"
   },
   {
    "duration": 9,
    "start_time": "2021-08-08T12:46:44.159Z"
   },
   {
    "duration": 960,
    "start_time": "2021-08-08T12:46:44.170Z"
   },
   {
    "duration": 635,
    "start_time": "2021-08-08T12:46:45.133Z"
   },
   {
    "duration": 441,
    "start_time": "2021-08-08T12:46:45.770Z"
   },
   {
    "duration": 1186,
    "start_time": "2021-08-08T12:46:46.213Z"
   },
   {
    "duration": 1685,
    "start_time": "2021-08-08T19:08:29.067Z"
   },
   {
    "duration": 79,
    "start_time": "2021-08-08T19:08:30.755Z"
   },
   {
    "duration": 1312,
    "start_time": "2021-08-08T19:08:30.838Z"
   },
   {
    "duration": 10,
    "start_time": "2021-08-08T19:08:32.153Z"
   },
   {
    "duration": 59,
    "start_time": "2021-08-08T19:08:32.166Z"
   },
   {
    "duration": 22,
    "start_time": "2021-08-08T19:08:32.228Z"
   },
   {
    "duration": 68,
    "start_time": "2021-08-08T19:08:32.252Z"
   },
   {
    "duration": 23,
    "start_time": "2021-08-08T19:08:32.326Z"
   },
   {
    "duration": 10,
    "start_time": "2021-08-08T19:08:32.352Z"
   },
   {
    "duration": 1537,
    "start_time": "2021-08-08T19:08:32.365Z"
   },
   {
    "duration": 2035,
    "start_time": "2021-08-08T19:08:33.905Z"
   },
   {
    "duration": 1196,
    "start_time": "2021-08-08T19:08:35.942Z"
   },
   {
    "duration": 17,
    "start_time": "2021-08-08T19:08:37.141Z"
   },
   {
    "duration": 1160,
    "start_time": "2021-08-08T19:08:37.161Z"
   },
   {
    "duration": 20,
    "start_time": "2021-08-08T19:08:38.323Z"
   },
   {
    "duration": 8,
    "start_time": "2021-08-08T19:08:38.345Z"
   },
   {
    "duration": 94,
    "start_time": "2021-08-08T19:08:38.356Z"
   },
   {
    "duration": 55,
    "start_time": "2021-08-08T19:08:38.453Z"
   },
   {
    "duration": 22,
    "start_time": "2021-08-08T19:08:38.511Z"
   },
   {
    "duration": 1495,
    "start_time": "2021-08-08T19:08:38.536Z"
   },
   {
    "duration": 12,
    "start_time": "2021-08-08T19:08:40.034Z"
   },
   {
    "duration": 1582,
    "start_time": "2021-08-08T19:08:40.049Z"
   },
   {
    "duration": 1277,
    "start_time": "2021-08-08T19:08:41.636Z"
   },
   {
    "duration": 717,
    "start_time": "2021-08-08T19:08:42.915Z"
   },
   {
    "duration": 1964,
    "start_time": "2021-08-08T19:08:43.635Z"
   },
   {
    "duration": 1619,
    "start_time": "2021-08-08T19:17:14.106Z"
   },
   {
    "duration": 62,
    "start_time": "2021-08-08T19:17:15.728Z"
   },
   {
    "duration": 884,
    "start_time": "2021-08-08T19:17:15.794Z"
   },
   {
    "duration": 20,
    "start_time": "2021-08-08T19:17:16.683Z"
   },
   {
    "duration": 56,
    "start_time": "2021-08-08T19:17:16.706Z"
   },
   {
    "duration": 27,
    "start_time": "2021-08-08T19:17:16.786Z"
   },
   {
    "duration": 36,
    "start_time": "2021-08-08T19:17:16.816Z"
   },
   {
    "duration": 55,
    "start_time": "2021-08-08T19:17:16.855Z"
   },
   {
    "duration": 10,
    "start_time": "2021-08-08T19:17:16.916Z"
   },
   {
    "duration": 1545,
    "start_time": "2021-08-08T19:17:16.930Z"
   },
   {
    "duration": 2040,
    "start_time": "2021-08-08T19:17:18.482Z"
   },
   {
    "duration": 1238,
    "start_time": "2021-08-08T19:17:20.526Z"
   },
   {
    "duration": 25,
    "start_time": "2021-08-08T19:17:21.783Z"
   },
   {
    "duration": 864,
    "start_time": "2021-08-08T19:17:21.811Z"
   },
   {
    "duration": 31,
    "start_time": "2021-08-08T19:17:22.678Z"
   },
   {
    "duration": 12,
    "start_time": "2021-08-08T19:17:22.713Z"
   },
   {
    "duration": 119,
    "start_time": "2021-08-08T19:17:22.728Z"
   },
   {
    "duration": 69,
    "start_time": "2021-08-08T19:17:22.850Z"
   },
   {
    "duration": 23,
    "start_time": "2021-08-08T19:17:22.922Z"
   },
   {
    "duration": 1728,
    "start_time": "2021-08-08T19:17:22.947Z"
   },
   {
    "duration": 22,
    "start_time": "2021-08-08T19:17:24.677Z"
   },
   {
    "duration": 1821,
    "start_time": "2021-08-08T19:17:24.702Z"
   },
   {
    "duration": 1339,
    "start_time": "2021-08-08T19:17:26.525Z"
   },
   {
    "duration": 752,
    "start_time": "2021-08-08T19:17:27.867Z"
   },
   {
    "duration": 2051,
    "start_time": "2021-08-08T19:17:28.622Z"
   }
  ],
  "kernelspec": {
   "display_name": "Python 3",
   "language": "python",
   "name": "python3"
  },
  "language_info": {
   "codemirror_mode": {
    "name": "ipython",
    "version": 3
   },
   "file_extension": ".py",
   "mimetype": "text/x-python",
   "name": "python",
   "nbconvert_exporter": "python",
   "pygments_lexer": "ipython3",
   "version": "3.7.8"
  },
  "toc": {
   "base_numbering": 1,
   "nav_menu": {},
   "number_sections": true,
   "sideBar": true,
   "skip_h1_title": true,
   "title_cell": "Table of Contents",
   "title_sidebar": "Contents",
   "toc_cell": false,
   "toc_position": {
    "height": "calc(100% - 180px)",
    "left": "10px",
    "top": "150px",
    "width": "271.6px"
   },
   "toc_section_display": true,
   "toc_window_display": true
  }
 },
 "nbformat": 4,
 "nbformat_minor": 2
}
