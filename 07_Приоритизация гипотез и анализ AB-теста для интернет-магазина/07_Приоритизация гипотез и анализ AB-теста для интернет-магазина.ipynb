{
 "cells": [
  {
   "cell_type": "markdown",
   "metadata": {},
   "source": [
    "# \"Приоритизация гипотез и проведение A/B-теста для интернет-магазина\" <a class=\"tocSkip\">"
   ]
  },
  {
   "cell_type": "markdown",
   "metadata": {},
   "source": [
    "## Цель исследования"
   ]
  },
  {
   "cell_type": "markdown",
   "metadata": {},
   "source": [
    "<div style=\"border: ridge black 3px; padding: 25px\">\n",
    "    \n",
    "<b>Целью данного исследования является приоритизация сформулированных гипотез отделом маркетинга и последующий анализ результатов А/B-теста по выбранной гипотезе, направленной на увеличение выручки интернет-магазина.</b>\n",
    "    \n",
    "</div>"
   ]
  },
  {
   "cell_type": "markdown",
   "metadata": {},
   "source": [
    "## Описание исходных данных"
   ]
  },
  {
   "cell_type": "markdown",
   "metadata": {},
   "source": [
    "**Ниже представлено описание всей доступной нам информации по трём представленным файлам с датасетами (с указанными путями доступа).**\n",
    "\n",
    "**Файл `/datasets/hypothesis.csv`** (содержит 9 гипотез по увеличению выручки интернет-магазина с указанными параметрами Reach, Impact, Confidence, Effort):\n",
    "\n",
    "- Hypothesis — краткое описание гипотезы;\n",
    "- Reach — охват пользователей по 10-балльной шкале;\n",
    "- Impact — влияние на пользователей по 10-балльной шкале;\n",
    "- Confidence — уверенность в гипотезе по 10-балльной шкале;\n",
    "- Efforts — затраты ресурсов на проверку гипотезы по 10-балльной шкале. Чем больше значение Efforts, тем дороже проверка гипотезы.\n",
    "\n",
    "**Файл `/datasets/orders.csv`** (содержит данные с результатами A/B-теста):\n",
    "\n",
    "- transactionId — идентификатор заказа;\n",
    "- visitorId — идентификатор пользователя, совершившего заказ; \n",
    "- date — дата, когда был совершён заказ;\n",
    "- revenue — выручка заказа;\n",
    "- group — группа A/B-теста, в которую попал заказ.\n",
    "\n",
    "**Файл `/datasets/visitors.csv`** (содержит данные с результатами A/B-теста):\n",
    "\n",
    "- date — дата;\n",
    "- group — группа A/B-теста;\n",
    "- visitors — количество пользователей в указанную дату в указанной группе A/B-теста"
   ]
  },
  {
   "cell_type": "markdown",
   "metadata": {},
   "source": [
    "## Открытие данных"
   ]
  },
  {
   "cell_type": "code",
   "execution_count": 1,
   "metadata": {},
   "outputs": [],
   "source": [
    "# импортируем основные нужные библиотеки для будущих манипуляций\n",
    "\n",
    "import pandas as pd\n",
    "import numpy as np\n",
    "from matplotlib import pyplot as plt\n",
    "import scipy.stats as stats\n",
    "import datetime as dt"
   ]
  },
  {
   "cell_type": "code",
   "execution_count": 2,
   "metadata": {},
   "outputs": [],
   "source": [
    "# присвоим каждому (из 3-х) датафреймов одноименные названия\n",
    "\n",
    "hypothesis = pd.read_csv('/datasets/hypothesis.csv')\n",
    "orders = pd.read_csv('/datasets/orders.csv')\n",
    "visitors = pd.read_csv('/datasets/visitors.csv')"
   ]
  },
  {
   "cell_type": "markdown",
   "metadata": {},
   "source": [
    "Из исходных данных сразу видно, что присутствует разный регистр у названий столбцов в файле `hypothesis.csv` (датафрейм `hypothesis`). Приведем названия столбцов к единому регистру и переименуем методом `.rename()`некоторые из столбцов датафрейма `orders` для удобства понимания в дальнейших манипуляциях."
   ]
  },
  {
   "cell_type": "code",
   "execution_count": 3,
   "metadata": {},
   "outputs": [],
   "source": [
    "hypothesis.columns = hypothesis.columns.str.lower()\n",
    "orders = orders.rename({'transactionId': 'orderId', 'visitorId': 'userId'}, axis = 'columns')"
   ]
  },
  {
   "cell_type": "code",
   "execution_count": 4,
   "metadata": {
    "scrolled": false
   },
   "outputs": [
    {
     "name": "stdout",
     "output_type": "stream",
     "text": [
      "Таблица \"9 гипотез по увеличению выручки интернет-магазина\"\n",
      "--------------------------------------------------------------------------------------------------------------\n",
      "<class 'pandas.core.frame.DataFrame'>\n",
      "RangeIndex: 9 entries, 0 to 8\n",
      "Data columns (total 5 columns):\n",
      "hypothesis    9 non-null object\n",
      "reach         9 non-null int64\n",
      "impact        9 non-null int64\n",
      "confidence    9 non-null int64\n",
      "efforts       9 non-null int64\n",
      "dtypes: int64(4), object(1)\n",
      "memory usage: 488.0+ bytes\n",
      "None\n"
     ]
    },
    {
     "data": {
      "text/html": [
       "<div>\n",
       "<style scoped>\n",
       "    .dataframe tbody tr th:only-of-type {\n",
       "        vertical-align: middle;\n",
       "    }\n",
       "\n",
       "    .dataframe tbody tr th {\n",
       "        vertical-align: top;\n",
       "    }\n",
       "\n",
       "    .dataframe thead th {\n",
       "        text-align: right;\n",
       "    }\n",
       "</style>\n",
       "<table border=\"1\" class=\"dataframe\">\n",
       "  <thead>\n",
       "    <tr style=\"text-align: right;\">\n",
       "      <th></th>\n",
       "      <th>hypothesis</th>\n",
       "      <th>reach</th>\n",
       "      <th>impact</th>\n",
       "      <th>confidence</th>\n",
       "      <th>efforts</th>\n",
       "    </tr>\n",
       "  </thead>\n",
       "  <tbody>\n",
       "    <tr>\n",
       "      <td>0</td>\n",
       "      <td>Добавить два новых канала привлечения трафика,...</td>\n",
       "      <td>3</td>\n",
       "      <td>10</td>\n",
       "      <td>8</td>\n",
       "      <td>6</td>\n",
       "    </tr>\n",
       "    <tr>\n",
       "      <td>1</td>\n",
       "      <td>Запустить собственную службу доставки, что сок...</td>\n",
       "      <td>2</td>\n",
       "      <td>5</td>\n",
       "      <td>4</td>\n",
       "      <td>10</td>\n",
       "    </tr>\n",
       "    <tr>\n",
       "      <td>2</td>\n",
       "      <td>Добавить блоки рекомендаций товаров на сайт ин...</td>\n",
       "      <td>8</td>\n",
       "      <td>3</td>\n",
       "      <td>7</td>\n",
       "      <td>3</td>\n",
       "    </tr>\n",
       "    <tr>\n",
       "      <td>3</td>\n",
       "      <td>Изменить структура категорий, что увеличит кон...</td>\n",
       "      <td>8</td>\n",
       "      <td>3</td>\n",
       "      <td>3</td>\n",
       "      <td>8</td>\n",
       "    </tr>\n",
       "    <tr>\n",
       "      <td>4</td>\n",
       "      <td>Изменить цвет фона главной страницы, чтобы уве...</td>\n",
       "      <td>3</td>\n",
       "      <td>1</td>\n",
       "      <td>1</td>\n",
       "      <td>1</td>\n",
       "    </tr>\n",
       "    <tr>\n",
       "      <td>5</td>\n",
       "      <td>Добавить страницу отзывов клиентов о магазине,...</td>\n",
       "      <td>3</td>\n",
       "      <td>2</td>\n",
       "      <td>2</td>\n",
       "      <td>3</td>\n",
       "    </tr>\n",
       "    <tr>\n",
       "      <td>6</td>\n",
       "      <td>Показать на главной странице баннеры с актуаль...</td>\n",
       "      <td>5</td>\n",
       "      <td>3</td>\n",
       "      <td>8</td>\n",
       "      <td>3</td>\n",
       "    </tr>\n",
       "    <tr>\n",
       "      <td>7</td>\n",
       "      <td>Добавить форму подписки на все основные страни...</td>\n",
       "      <td>10</td>\n",
       "      <td>7</td>\n",
       "      <td>8</td>\n",
       "      <td>5</td>\n",
       "    </tr>\n",
       "    <tr>\n",
       "      <td>8</td>\n",
       "      <td>Запустить акцию, дающую скидку на товар в день...</td>\n",
       "      <td>1</td>\n",
       "      <td>9</td>\n",
       "      <td>9</td>\n",
       "      <td>5</td>\n",
       "    </tr>\n",
       "  </tbody>\n",
       "</table>\n",
       "</div>"
      ],
      "text/plain": [
       "                                          hypothesis  reach  impact  \\\n",
       "0  Добавить два новых канала привлечения трафика,...      3      10   \n",
       "1  Запустить собственную службу доставки, что сок...      2       5   \n",
       "2  Добавить блоки рекомендаций товаров на сайт ин...      8       3   \n",
       "3  Изменить структура категорий, что увеличит кон...      8       3   \n",
       "4  Изменить цвет фона главной страницы, чтобы уве...      3       1   \n",
       "5  Добавить страницу отзывов клиентов о магазине,...      3       2   \n",
       "6  Показать на главной странице баннеры с актуаль...      5       3   \n",
       "7  Добавить форму подписки на все основные страни...     10       7   \n",
       "8  Запустить акцию, дающую скидку на товар в день...      1       9   \n",
       "\n",
       "   confidence  efforts  \n",
       "0           8        6  \n",
       "1           4       10  \n",
       "2           7        3  \n",
       "3           3        8  \n",
       "4           1        1  \n",
       "5           2        3  \n",
       "6           8        3  \n",
       "7           8        5  \n",
       "8           9        5  "
      ]
     },
     "metadata": {},
     "output_type": "display_data"
    },
    {
     "name": "stdout",
     "output_type": "stream",
     "text": [
      "Кол-во пропусков\n"
     ]
    },
    {
     "data": {
      "text/html": [
       "<style  type=\"text/css\" >\n",
       "    #T_8b16c128_f843_11eb_a53e_02420a398319row0_col0 {\n",
       "            background-color:  #3b4cc0;\n",
       "            color:  #f1f1f1;\n",
       "        }    #T_8b16c128_f843_11eb_a53e_02420a398319row1_col0 {\n",
       "            background-color:  #3b4cc0;\n",
       "            color:  #f1f1f1;\n",
       "        }    #T_8b16c128_f843_11eb_a53e_02420a398319row2_col0 {\n",
       "            background-color:  #3b4cc0;\n",
       "            color:  #f1f1f1;\n",
       "        }    #T_8b16c128_f843_11eb_a53e_02420a398319row3_col0 {\n",
       "            background-color:  #3b4cc0;\n",
       "            color:  #f1f1f1;\n",
       "        }    #T_8b16c128_f843_11eb_a53e_02420a398319row4_col0 {\n",
       "            background-color:  #3b4cc0;\n",
       "            color:  #f1f1f1;\n",
       "        }</style><table id=\"T_8b16c128_f843_11eb_a53e_02420a398319\" ><thead>    <tr>        <th class=\"blank level0\" ></th>        <th class=\"col_heading level0 col0\" >0</th>    </tr></thead><tbody>\n",
       "                <tr>\n",
       "                        <th id=\"T_8b16c128_f843_11eb_a53e_02420a398319level0_row0\" class=\"row_heading level0 row0\" >hypothesis</th>\n",
       "                        <td id=\"T_8b16c128_f843_11eb_a53e_02420a398319row0_col0\" class=\"data row0 col0\" >0</td>\n",
       "            </tr>\n",
       "            <tr>\n",
       "                        <th id=\"T_8b16c128_f843_11eb_a53e_02420a398319level0_row1\" class=\"row_heading level0 row1\" >reach</th>\n",
       "                        <td id=\"T_8b16c128_f843_11eb_a53e_02420a398319row1_col0\" class=\"data row1 col0\" >0</td>\n",
       "            </tr>\n",
       "            <tr>\n",
       "                        <th id=\"T_8b16c128_f843_11eb_a53e_02420a398319level0_row2\" class=\"row_heading level0 row2\" >impact</th>\n",
       "                        <td id=\"T_8b16c128_f843_11eb_a53e_02420a398319row2_col0\" class=\"data row2 col0\" >0</td>\n",
       "            </tr>\n",
       "            <tr>\n",
       "                        <th id=\"T_8b16c128_f843_11eb_a53e_02420a398319level0_row3\" class=\"row_heading level0 row3\" >confidence</th>\n",
       "                        <td id=\"T_8b16c128_f843_11eb_a53e_02420a398319row3_col0\" class=\"data row3 col0\" >0</td>\n",
       "            </tr>\n",
       "            <tr>\n",
       "                        <th id=\"T_8b16c128_f843_11eb_a53e_02420a398319level0_row4\" class=\"row_heading level0 row4\" >efforts</th>\n",
       "                        <td id=\"T_8b16c128_f843_11eb_a53e_02420a398319row4_col0\" class=\"data row4 col0\" >0</td>\n",
       "            </tr>\n",
       "    </tbody></table>"
      ],
      "text/plain": [
       "<pandas.io.formats.style.Styler at 0x7f4be0254c50>"
      ]
     },
     "metadata": {},
     "output_type": "display_data"
    },
    {
     "name": "stdout",
     "output_type": "stream",
     "text": [
      "--------------------------------------------------------------------------------------------------------------\n",
      "\n",
      "Таблица \"Информация о заказах: результат A/B - теста\"\n",
      "--------------------------------------------------------------------------------------------------------------\n",
      "<class 'pandas.core.frame.DataFrame'>\n",
      "RangeIndex: 1197 entries, 0 to 1196\n",
      "Data columns (total 5 columns):\n",
      "orderId    1197 non-null int64\n",
      "userId     1197 non-null int64\n",
      "date       1197 non-null object\n",
      "revenue    1197 non-null int64\n",
      "group      1197 non-null object\n",
      "dtypes: int64(3), object(2)\n",
      "memory usage: 46.9+ KB\n",
      "None\n"
     ]
    },
    {
     "data": {
      "text/html": [
       "<div>\n",
       "<style scoped>\n",
       "    .dataframe tbody tr th:only-of-type {\n",
       "        vertical-align: middle;\n",
       "    }\n",
       "\n",
       "    .dataframe tbody tr th {\n",
       "        vertical-align: top;\n",
       "    }\n",
       "\n",
       "    .dataframe thead th {\n",
       "        text-align: right;\n",
       "    }\n",
       "</style>\n",
       "<table border=\"1\" class=\"dataframe\">\n",
       "  <thead>\n",
       "    <tr style=\"text-align: right;\">\n",
       "      <th></th>\n",
       "      <th>orderId</th>\n",
       "      <th>userId</th>\n",
       "      <th>date</th>\n",
       "      <th>revenue</th>\n",
       "      <th>group</th>\n",
       "    </tr>\n",
       "  </thead>\n",
       "  <tbody>\n",
       "    <tr>\n",
       "      <td>0</td>\n",
       "      <td>3667963787</td>\n",
       "      <td>3312258926</td>\n",
       "      <td>2019-08-15</td>\n",
       "      <td>1650</td>\n",
       "      <td>B</td>\n",
       "    </tr>\n",
       "    <tr>\n",
       "      <td>1</td>\n",
       "      <td>2804400009</td>\n",
       "      <td>3642806036</td>\n",
       "      <td>2019-08-15</td>\n",
       "      <td>730</td>\n",
       "      <td>B</td>\n",
       "    </tr>\n",
       "    <tr>\n",
       "      <td>2</td>\n",
       "      <td>2961555356</td>\n",
       "      <td>4069496402</td>\n",
       "      <td>2019-08-15</td>\n",
       "      <td>400</td>\n",
       "      <td>A</td>\n",
       "    </tr>\n",
       "    <tr>\n",
       "      <td>3</td>\n",
       "      <td>3797467345</td>\n",
       "      <td>1196621759</td>\n",
       "      <td>2019-08-15</td>\n",
       "      <td>9759</td>\n",
       "      <td>B</td>\n",
       "    </tr>\n",
       "    <tr>\n",
       "      <td>4</td>\n",
       "      <td>2282983706</td>\n",
       "      <td>2322279887</td>\n",
       "      <td>2019-08-15</td>\n",
       "      <td>2308</td>\n",
       "      <td>B</td>\n",
       "    </tr>\n",
       "    <tr>\n",
       "      <td>5</td>\n",
       "      <td>182168103</td>\n",
       "      <td>935554773</td>\n",
       "      <td>2019-08-15</td>\n",
       "      <td>2210</td>\n",
       "      <td>B</td>\n",
       "    </tr>\n",
       "    <tr>\n",
       "      <td>6</td>\n",
       "      <td>398296753</td>\n",
       "      <td>2900797465</td>\n",
       "      <td>2019-08-15</td>\n",
       "      <td>1860</td>\n",
       "      <td>B</td>\n",
       "    </tr>\n",
       "    <tr>\n",
       "      <td>7</td>\n",
       "      <td>2626614568</td>\n",
       "      <td>78758296</td>\n",
       "      <td>2019-08-15</td>\n",
       "      <td>1044</td>\n",
       "      <td>A</td>\n",
       "    </tr>\n",
       "    <tr>\n",
       "      <td>8</td>\n",
       "      <td>1576988021</td>\n",
       "      <td>295230930</td>\n",
       "      <td>2019-08-15</td>\n",
       "      <td>13710</td>\n",
       "      <td>A</td>\n",
       "    </tr>\n",
       "    <tr>\n",
       "      <td>9</td>\n",
       "      <td>1506739906</td>\n",
       "      <td>1882260405</td>\n",
       "      <td>2019-08-15</td>\n",
       "      <td>1855</td>\n",
       "      <td>B</td>\n",
       "    </tr>\n",
       "  </tbody>\n",
       "</table>\n",
       "</div>"
      ],
      "text/plain": [
       "      orderId      userId        date  revenue group\n",
       "0  3667963787  3312258926  2019-08-15     1650     B\n",
       "1  2804400009  3642806036  2019-08-15      730     B\n",
       "2  2961555356  4069496402  2019-08-15      400     A\n",
       "3  3797467345  1196621759  2019-08-15     9759     B\n",
       "4  2282983706  2322279887  2019-08-15     2308     B\n",
       "5   182168103   935554773  2019-08-15     2210     B\n",
       "6   398296753  2900797465  2019-08-15     1860     B\n",
       "7  2626614568    78758296  2019-08-15     1044     A\n",
       "8  1576988021   295230930  2019-08-15    13710     A\n",
       "9  1506739906  1882260405  2019-08-15     1855     B"
      ]
     },
     "metadata": {},
     "output_type": "display_data"
    },
    {
     "name": "stdout",
     "output_type": "stream",
     "text": [
      "Кол-во пропусков\n"
     ]
    },
    {
     "data": {
      "text/html": [
       "<style  type=\"text/css\" >\n",
       "    #T_8b19ed12_f843_11eb_a53e_02420a398319row0_col0 {\n",
       "            background-color:  #3b4cc0;\n",
       "            color:  #f1f1f1;\n",
       "        }    #T_8b19ed12_f843_11eb_a53e_02420a398319row1_col0 {\n",
       "            background-color:  #3b4cc0;\n",
       "            color:  #f1f1f1;\n",
       "        }    #T_8b19ed12_f843_11eb_a53e_02420a398319row2_col0 {\n",
       "            background-color:  #3b4cc0;\n",
       "            color:  #f1f1f1;\n",
       "        }    #T_8b19ed12_f843_11eb_a53e_02420a398319row3_col0 {\n",
       "            background-color:  #3b4cc0;\n",
       "            color:  #f1f1f1;\n",
       "        }    #T_8b19ed12_f843_11eb_a53e_02420a398319row4_col0 {\n",
       "            background-color:  #3b4cc0;\n",
       "            color:  #f1f1f1;\n",
       "        }</style><table id=\"T_8b19ed12_f843_11eb_a53e_02420a398319\" ><thead>    <tr>        <th class=\"blank level0\" ></th>        <th class=\"col_heading level0 col0\" >0</th>    </tr></thead><tbody>\n",
       "                <tr>\n",
       "                        <th id=\"T_8b19ed12_f843_11eb_a53e_02420a398319level0_row0\" class=\"row_heading level0 row0\" >orderId</th>\n",
       "                        <td id=\"T_8b19ed12_f843_11eb_a53e_02420a398319row0_col0\" class=\"data row0 col0\" >0</td>\n",
       "            </tr>\n",
       "            <tr>\n",
       "                        <th id=\"T_8b19ed12_f843_11eb_a53e_02420a398319level0_row1\" class=\"row_heading level0 row1\" >userId</th>\n",
       "                        <td id=\"T_8b19ed12_f843_11eb_a53e_02420a398319row1_col0\" class=\"data row1 col0\" >0</td>\n",
       "            </tr>\n",
       "            <tr>\n",
       "                        <th id=\"T_8b19ed12_f843_11eb_a53e_02420a398319level0_row2\" class=\"row_heading level0 row2\" >date</th>\n",
       "                        <td id=\"T_8b19ed12_f843_11eb_a53e_02420a398319row2_col0\" class=\"data row2 col0\" >0</td>\n",
       "            </tr>\n",
       "            <tr>\n",
       "                        <th id=\"T_8b19ed12_f843_11eb_a53e_02420a398319level0_row3\" class=\"row_heading level0 row3\" >revenue</th>\n",
       "                        <td id=\"T_8b19ed12_f843_11eb_a53e_02420a398319row3_col0\" class=\"data row3 col0\" >0</td>\n",
       "            </tr>\n",
       "            <tr>\n",
       "                        <th id=\"T_8b19ed12_f843_11eb_a53e_02420a398319level0_row4\" class=\"row_heading level0 row4\" >group</th>\n",
       "                        <td id=\"T_8b19ed12_f843_11eb_a53e_02420a398319row4_col0\" class=\"data row4 col0\" >0</td>\n",
       "            </tr>\n",
       "    </tbody></table>"
      ],
      "text/plain": [
       "<pandas.io.formats.style.Styler at 0x7f4b5ee6f090>"
      ]
     },
     "metadata": {},
     "output_type": "display_data"
    },
    {
     "name": "stdout",
     "output_type": "stream",
     "text": [
      "--------------------------------------------------------------------------------------------------------------\n",
      "\n",
      "Таблица \"Информация о посетителях: результат A/B - теста\"\n",
      "--------------------------------------------------------------------------------------------------------------\n",
      "<class 'pandas.core.frame.DataFrame'>\n",
      "RangeIndex: 62 entries, 0 to 61\n",
      "Data columns (total 3 columns):\n",
      "date        62 non-null object\n",
      "group       62 non-null object\n",
      "visitors    62 non-null int64\n",
      "dtypes: int64(1), object(2)\n",
      "memory usage: 1.6+ KB\n",
      "None\n"
     ]
    },
    {
     "data": {
      "text/html": [
       "<div>\n",
       "<style scoped>\n",
       "    .dataframe tbody tr th:only-of-type {\n",
       "        vertical-align: middle;\n",
       "    }\n",
       "\n",
       "    .dataframe tbody tr th {\n",
       "        vertical-align: top;\n",
       "    }\n",
       "\n",
       "    .dataframe thead th {\n",
       "        text-align: right;\n",
       "    }\n",
       "</style>\n",
       "<table border=\"1\" class=\"dataframe\">\n",
       "  <thead>\n",
       "    <tr style=\"text-align: right;\">\n",
       "      <th></th>\n",
       "      <th>date</th>\n",
       "      <th>group</th>\n",
       "      <th>visitors</th>\n",
       "    </tr>\n",
       "  </thead>\n",
       "  <tbody>\n",
       "    <tr>\n",
       "      <td>0</td>\n",
       "      <td>2019-08-01</td>\n",
       "      <td>A</td>\n",
       "      <td>719</td>\n",
       "    </tr>\n",
       "    <tr>\n",
       "      <td>1</td>\n",
       "      <td>2019-08-02</td>\n",
       "      <td>A</td>\n",
       "      <td>619</td>\n",
       "    </tr>\n",
       "    <tr>\n",
       "      <td>2</td>\n",
       "      <td>2019-08-03</td>\n",
       "      <td>A</td>\n",
       "      <td>507</td>\n",
       "    </tr>\n",
       "    <tr>\n",
       "      <td>3</td>\n",
       "      <td>2019-08-04</td>\n",
       "      <td>A</td>\n",
       "      <td>717</td>\n",
       "    </tr>\n",
       "    <tr>\n",
       "      <td>4</td>\n",
       "      <td>2019-08-05</td>\n",
       "      <td>A</td>\n",
       "      <td>756</td>\n",
       "    </tr>\n",
       "    <tr>\n",
       "      <td>5</td>\n",
       "      <td>2019-08-06</td>\n",
       "      <td>A</td>\n",
       "      <td>667</td>\n",
       "    </tr>\n",
       "    <tr>\n",
       "      <td>6</td>\n",
       "      <td>2019-08-07</td>\n",
       "      <td>A</td>\n",
       "      <td>644</td>\n",
       "    </tr>\n",
       "    <tr>\n",
       "      <td>7</td>\n",
       "      <td>2019-08-08</td>\n",
       "      <td>A</td>\n",
       "      <td>610</td>\n",
       "    </tr>\n",
       "    <tr>\n",
       "      <td>8</td>\n",
       "      <td>2019-08-09</td>\n",
       "      <td>A</td>\n",
       "      <td>617</td>\n",
       "    </tr>\n",
       "    <tr>\n",
       "      <td>9</td>\n",
       "      <td>2019-08-10</td>\n",
       "      <td>A</td>\n",
       "      <td>406</td>\n",
       "    </tr>\n",
       "  </tbody>\n",
       "</table>\n",
       "</div>"
      ],
      "text/plain": [
       "         date group  visitors\n",
       "0  2019-08-01     A       719\n",
       "1  2019-08-02     A       619\n",
       "2  2019-08-03     A       507\n",
       "3  2019-08-04     A       717\n",
       "4  2019-08-05     A       756\n",
       "5  2019-08-06     A       667\n",
       "6  2019-08-07     A       644\n",
       "7  2019-08-08     A       610\n",
       "8  2019-08-09     A       617\n",
       "9  2019-08-10     A       406"
      ]
     },
     "metadata": {},
     "output_type": "display_data"
    },
    {
     "name": "stdout",
     "output_type": "stream",
     "text": [
      "Кол-во пропусков\n"
     ]
    },
    {
     "data": {
      "text/html": [
       "<style  type=\"text/css\" >\n",
       "    #T_8b1c5c82_f843_11eb_a53e_02420a398319row0_col0 {\n",
       "            background-color:  #3b4cc0;\n",
       "            color:  #f1f1f1;\n",
       "        }    #T_8b1c5c82_f843_11eb_a53e_02420a398319row1_col0 {\n",
       "            background-color:  #3b4cc0;\n",
       "            color:  #f1f1f1;\n",
       "        }    #T_8b1c5c82_f843_11eb_a53e_02420a398319row2_col0 {\n",
       "            background-color:  #3b4cc0;\n",
       "            color:  #f1f1f1;\n",
       "        }</style><table id=\"T_8b1c5c82_f843_11eb_a53e_02420a398319\" ><thead>    <tr>        <th class=\"blank level0\" ></th>        <th class=\"col_heading level0 col0\" >0</th>    </tr></thead><tbody>\n",
       "                <tr>\n",
       "                        <th id=\"T_8b1c5c82_f843_11eb_a53e_02420a398319level0_row0\" class=\"row_heading level0 row0\" >date</th>\n",
       "                        <td id=\"T_8b1c5c82_f843_11eb_a53e_02420a398319row0_col0\" class=\"data row0 col0\" >0</td>\n",
       "            </tr>\n",
       "            <tr>\n",
       "                        <th id=\"T_8b1c5c82_f843_11eb_a53e_02420a398319level0_row1\" class=\"row_heading level0 row1\" >group</th>\n",
       "                        <td id=\"T_8b1c5c82_f843_11eb_a53e_02420a398319row1_col0\" class=\"data row1 col0\" >0</td>\n",
       "            </tr>\n",
       "            <tr>\n",
       "                        <th id=\"T_8b1c5c82_f843_11eb_a53e_02420a398319level0_row2\" class=\"row_heading level0 row2\" >visitors</th>\n",
       "                        <td id=\"T_8b1c5c82_f843_11eb_a53e_02420a398319row2_col0\" class=\"data row2 col0\" >0</td>\n",
       "            </tr>\n",
       "    </tbody></table>"
      ],
      "text/plain": [
       "<pandas.io.formats.style.Styler at 0x7f4b5ee7e6d0>"
      ]
     },
     "metadata": {},
     "output_type": "display_data"
    },
    {
     "name": "stdout",
     "output_type": "stream",
     "text": [
      "--------------------------------------------------------------------------------------------------------------\n",
      "\n"
     ]
    }
   ],
   "source": [
    "# используя цикл, посмотрим сразу на общую информацию по каждой таблице и выведем на экран содержимое \n",
    "# первых 10 строк, а также градиентом наличие/отсутствие пропусков:\n",
    "\n",
    "hypothesis.name = 'Таблица \"9 гипотез по увеличению выручки интернет-магазина\"' # дадим названия каждой из таблиц для удобства\n",
    "orders.name = 'Таблица \"Информация о заказах: результат A/B - теста\"'\n",
    "visitors.name = 'Таблица \"Информация о посетителях: результат A/B - теста\"'\n",
    "\n",
    "\n",
    "for data in [hypothesis, orders, visitors]:\n",
    "    print(data.name)\n",
    "    print('--------------------------------------------------------------------------------------------------------------')\n",
    "    print(data.info())\n",
    "    display(data.head(10))\n",
    "    print('Кол-во пропусков')\n",
    "    display(pd.DataFrame((data.isna().mean()*100).round(2)).style.background_gradient('coolwarm'))\n",
    "    print('--------------------------------------------------------------------------------------------------------------')\n",
    "    print()                                                        "
   ]
  },
  {
   "cell_type": "markdown",
   "metadata": {},
   "source": [
    "### Вывод"
   ]
  },
  {
   "cell_type": "markdown",
   "metadata": {},
   "source": [
    "<div style=\"border:solid black 2px; padding: 20px\">\n",
    "    \n",
    "При открытии данных мы скорректировали некоторые названия столбцов, привели к нижнему единому регистру названия столбцов датафрейма `hypothesis`.<br>\n",
    "Все 3 датафрейма пропусков не имеют.<br>\n",
    "При чтении общей информации по каждому из 3-х датафреймов мы обнаружили следующие моменты, требующие коррекции:<br><br>\n",
    "- Датафрейм <b>`orders`</b>: столбец `'date'` необходимо перевести из типа  <i>object</i> в тип <i>datetime</i>.<br>\n",
    "- Датафрейм <b>`visitors`</b>: столбец `'date'` также необходимо перевести из типа <i>object</i> в тип <i>datetime</i>.<br><br>\n",
    "    \n",
    "Далее приступим к изменению типов данных.\n",
    "</div>"
   ]
  },
  {
   "cell_type": "markdown",
   "metadata": {},
   "source": [
    "## Предобработка данных"
   ]
  },
  {
   "cell_type": "markdown",
   "metadata": {},
   "source": [
    "### Изменение типов данных"
   ]
  },
  {
   "cell_type": "code",
   "execution_count": 5,
   "metadata": {},
   "outputs": [
    {
     "name": "stdout",
     "output_type": "stream",
     "text": [
      "--------------------------------------------------------------------------------------------------------------\n",
      "Таблица \"Информация о заказах: результат A/B - теста\"\n",
      "--------------------------------------------------------------------------------------------------------------\n",
      "<class 'pandas.core.frame.DataFrame'>\n",
      "RangeIndex: 1197 entries, 0 to 1196\n",
      "Data columns (total 5 columns):\n",
      "orderId    1197 non-null int64\n",
      "userId     1197 non-null int64\n",
      "date       1197 non-null datetime64[ns]\n",
      "revenue    1197 non-null int64\n",
      "group      1197 non-null object\n",
      "dtypes: datetime64[ns](1), int64(3), object(1)\n",
      "memory usage: 46.9+ KB\n",
      "None\n",
      "--------------------------------------------------------------------------------------------------------------\n",
      "Таблица \"Информация о посетителях: результат A/B - теста\"\n",
      "--------------------------------------------------------------------------------------------------------------\n",
      "<class 'pandas.core.frame.DataFrame'>\n",
      "RangeIndex: 62 entries, 0 to 61\n",
      "Data columns (total 3 columns):\n",
      "date        62 non-null datetime64[ns]\n",
      "group       62 non-null object\n",
      "visitors    62 non-null int64\n",
      "dtypes: datetime64[ns](1), int64(1), object(1)\n",
      "memory usage: 1.6+ KB\n",
      "None\n"
     ]
    }
   ],
   "source": [
    "orders['date'] = pd.to_datetime(orders['date'], format = '%Y-%m-%d')\n",
    "visitors['date'] = pd.to_datetime(visitors['date'], format = '%Y-%m-%d')\n",
    "\n",
    "# проверяем успешность изменений\n",
    "for data in [orders, visitors]:\n",
    "    print('--------------------------------------------------------------------------------------------------------------')\n",
    "    print(data.name)\n",
    "    print('--------------------------------------------------------------------------------------------------------------')\n",
    "    print(data.info())"
   ]
  },
  {
   "cell_type": "markdown",
   "metadata": {},
   "source": [
    "Изменение типов данных выполнили, проверим наличие грубых дубликатов в датафреймах."
   ]
  },
  {
   "cell_type": "code",
   "execution_count": 6,
   "metadata": {},
   "outputs": [
    {
     "name": "stdout",
     "output_type": "stream",
     "text": [
      "Дубликатов в ['hypothesis' 'reach' 'impact' 'confidence' 'efforts'] не найдено\n",
      "Дубликатов в ['orderId' 'userId' 'date' 'revenue' 'group'] не найдено\n",
      "Дубликатов в ['date' 'group' 'visitors'] не найдено\n"
     ]
    }
   ],
   "source": [
    "# с помощью цикла выполним проверку по всем таблицам\n",
    "\n",
    "for data in [hypothesis, orders, visitors]:\n",
    "    duplicated_found = data.duplicated().sum()\n",
    "    if duplicated_found > 0:\n",
    "        print('Количество дубликатов в {} = '.format(data.columns.values), end='')\n",
    "        print(duplicated_found)\n",
    "    else:\n",
    "        print('Дубликатов в {} не найдено'.format(data.columns.values))"
   ]
  },
  {
   "cell_type": "markdown",
   "metadata": {},
   "source": [
    "### Вывод"
   ]
  },
  {
   "cell_type": "markdown",
   "metadata": {},
   "source": [
    "<div style=\"border:solid black 2px; padding: 20px\">\n",
    "    \n",
    "Мы выполнили необходимую предобработку данных: скорректировали типы данных, проверили наличие дубликатов.\n",
    "Можем приступить к приоритизации гипотез.\n",
    "\n",
    "</div>"
   ]
  },
  {
   "cell_type": "markdown",
   "metadata": {},
   "source": [
    "## Приоритизация гипотез"
   ]
  },
  {
   "cell_type": "code",
   "execution_count": 7,
   "metadata": {},
   "outputs": [],
   "source": [
    "pd.options.display.max_colwidth = 200  # применим данный метод для последующего отображения всего содержимого строк\n",
    "\n",
    "# в частности нас интересует полное содержимое столбца `hypothesis`"
   ]
  },
  {
   "cell_type": "markdown",
   "metadata": {},
   "source": [
    "### Фреймворк ICE "
   ]
  },
  {
   "cell_type": "code",
   "execution_count": 8,
   "metadata": {},
   "outputs": [
    {
     "data": {
      "text/html": [
       "<div>\n",
       "<style scoped>\n",
       "    .dataframe tbody tr th:only-of-type {\n",
       "        vertical-align: middle;\n",
       "    }\n",
       "\n",
       "    .dataframe tbody tr th {\n",
       "        vertical-align: top;\n",
       "    }\n",
       "\n",
       "    .dataframe thead th {\n",
       "        text-align: right;\n",
       "    }\n",
       "</style>\n",
       "<table border=\"1\" class=\"dataframe\">\n",
       "  <thead>\n",
       "    <tr style=\"text-align: right;\">\n",
       "      <th></th>\n",
       "      <th>hypothesis</th>\n",
       "      <th>ICE</th>\n",
       "    </tr>\n",
       "  </thead>\n",
       "  <tbody>\n",
       "    <tr>\n",
       "      <td>8</td>\n",
       "      <td>Запустить акцию, дающую скидку на товар в день рождения</td>\n",
       "      <td>16.200000</td>\n",
       "    </tr>\n",
       "    <tr>\n",
       "      <td>0</td>\n",
       "      <td>Добавить два новых канала привлечения трафика, что позволит привлекать на 30% больше пользователей</td>\n",
       "      <td>13.333333</td>\n",
       "    </tr>\n",
       "    <tr>\n",
       "      <td>7</td>\n",
       "      <td>Добавить форму подписки на все основные страницы, чтобы собрать базу клиентов для email-рассылок</td>\n",
       "      <td>11.200000</td>\n",
       "    </tr>\n",
       "    <tr>\n",
       "      <td>6</td>\n",
       "      <td>Показать на главной странице баннеры с актуальными акциями и распродажами, чтобы увеличить конверсию</td>\n",
       "      <td>8.000000</td>\n",
       "    </tr>\n",
       "    <tr>\n",
       "      <td>2</td>\n",
       "      <td>Добавить блоки рекомендаций товаров на сайт интернет магазина, чтобы повысить конверсию и средний чек заказа</td>\n",
       "      <td>7.000000</td>\n",
       "    </tr>\n",
       "    <tr>\n",
       "      <td>1</td>\n",
       "      <td>Запустить собственную службу доставки, что сократит срок доставки заказов</td>\n",
       "      <td>2.000000</td>\n",
       "    </tr>\n",
       "    <tr>\n",
       "      <td>5</td>\n",
       "      <td>Добавить страницу отзывов клиентов о магазине, что позволит увеличить количество заказов</td>\n",
       "      <td>1.333333</td>\n",
       "    </tr>\n",
       "    <tr>\n",
       "      <td>3</td>\n",
       "      <td>Изменить структура категорий, что увеличит конверсию, т.к. пользователи быстрее найдут нужный товар</td>\n",
       "      <td>1.125000</td>\n",
       "    </tr>\n",
       "    <tr>\n",
       "      <td>4</td>\n",
       "      <td>Изменить цвет фона главной страницы, чтобы увеличить вовлеченность пользователей</td>\n",
       "      <td>1.000000</td>\n",
       "    </tr>\n",
       "  </tbody>\n",
       "</table>\n",
       "</div>"
      ],
      "text/plain": [
       "                                                                                                     hypothesis  \\\n",
       "8                                                       Запустить акцию, дающую скидку на товар в день рождения   \n",
       "0            Добавить два новых канала привлечения трафика, что позволит привлекать на 30% больше пользователей   \n",
       "7              Добавить форму подписки на все основные страницы, чтобы собрать базу клиентов для email-рассылок   \n",
       "6          Показать на главной странице баннеры с актуальными акциями и распродажами, чтобы увеличить конверсию   \n",
       "2  Добавить блоки рекомендаций товаров на сайт интернет магазина, чтобы повысить конверсию и средний чек заказа   \n",
       "1                                     Запустить собственную службу доставки, что сократит срок доставки заказов   \n",
       "5                      Добавить страницу отзывов клиентов о магазине, что позволит увеличить количество заказов   \n",
       "3           Изменить структура категорий, что увеличит конверсию, т.к. пользователи быстрее найдут нужный товар   \n",
       "4                              Изменить цвет фона главной страницы, чтобы увеличить вовлеченность пользователей   \n",
       "\n",
       "         ICE  \n",
       "8  16.200000  \n",
       "0  13.333333  \n",
       "7  11.200000  \n",
       "6   8.000000  \n",
       "2   7.000000  \n",
       "1   2.000000  \n",
       "5   1.333333  \n",
       "3   1.125000  \n",
       "4   1.000000  "
      ]
     },
     "execution_count": 8,
     "metadata": {},
     "output_type": "execute_result"
    }
   ],
   "source": [
    "# применим фреймворк ICE \n",
    "hypothesis['ICE'] = (hypothesis['impact'] * hypothesis['confidence']) / hypothesis['efforts']\n",
    "\n",
    "# и выведем по убыванию итоговые значения ICE по каждой гипотезе\n",
    "hypothesis[['hypothesis', 'ICE']].sort_values(by='ICE', ascending=False)"
   ]
  },
  {
   "cell_type": "markdown",
   "metadata": {},
   "source": [
    "<div style=\"border:dotted black 3px; padding: 20px\">\n",
    "    \n",
    "Видим, что в ТОП-3 согласно фреймворку ICE гипотез входят следующие гипотезы:<br><br>\n",
    "    \n",
    "<b>1) Запустить акцию, дающую скидку на товар в день рождения\t(ICE = 16.2, `индекс 8`)</b><br>\n",
    "    \n",
    "2) Добавить два новых канала привлечения трафика, что позволит привлекать на 30% больше пользователей (ICE = 13.3, `индекс 0`)<br>\n",
    "    \n",
    "3) Добавить форму подписки на все основные страницы, чтобы собрать базу клиентов для email-рассылок (ICE = 11.2, `индекс 7`)<br>\t\n",
    "    \n",
    "</div>"
   ]
  },
  {
   "cell_type": "markdown",
   "metadata": {},
   "source": [
    "###  Фреймворк RICE "
   ]
  },
  {
   "cell_type": "markdown",
   "metadata": {},
   "source": [
    "В данных есть параметр Reach, поэтому используем теперь RICE и сравним результаты с  фреймворком ICE."
   ]
  },
  {
   "cell_type": "code",
   "execution_count": 9,
   "metadata": {},
   "outputs": [
    {
     "data": {
      "text/html": [
       "<div>\n",
       "<style scoped>\n",
       "    .dataframe tbody tr th:only-of-type {\n",
       "        vertical-align: middle;\n",
       "    }\n",
       "\n",
       "    .dataframe tbody tr th {\n",
       "        vertical-align: top;\n",
       "    }\n",
       "\n",
       "    .dataframe thead th {\n",
       "        text-align: right;\n",
       "    }\n",
       "</style>\n",
       "<table border=\"1\" class=\"dataframe\">\n",
       "  <thead>\n",
       "    <tr style=\"text-align: right;\">\n",
       "      <th></th>\n",
       "      <th>hypothesis</th>\n",
       "      <th>RICE</th>\n",
       "    </tr>\n",
       "  </thead>\n",
       "  <tbody>\n",
       "    <tr>\n",
       "      <td>7</td>\n",
       "      <td>Добавить форму подписки на все основные страницы, чтобы собрать базу клиентов для email-рассылок</td>\n",
       "      <td>112.0</td>\n",
       "    </tr>\n",
       "    <tr>\n",
       "      <td>2</td>\n",
       "      <td>Добавить блоки рекомендаций товаров на сайт интернет магазина, чтобы повысить конверсию и средний чек заказа</td>\n",
       "      <td>56.0</td>\n",
       "    </tr>\n",
       "    <tr>\n",
       "      <td>0</td>\n",
       "      <td>Добавить два новых канала привлечения трафика, что позволит привлекать на 30% больше пользователей</td>\n",
       "      <td>40.0</td>\n",
       "    </tr>\n",
       "    <tr>\n",
       "      <td>6</td>\n",
       "      <td>Показать на главной странице баннеры с актуальными акциями и распродажами, чтобы увеличить конверсию</td>\n",
       "      <td>40.0</td>\n",
       "    </tr>\n",
       "    <tr>\n",
       "      <td>8</td>\n",
       "      <td>Запустить акцию, дающую скидку на товар в день рождения</td>\n",
       "      <td>16.2</td>\n",
       "    </tr>\n",
       "    <tr>\n",
       "      <td>3</td>\n",
       "      <td>Изменить структура категорий, что увеличит конверсию, т.к. пользователи быстрее найдут нужный товар</td>\n",
       "      <td>9.0</td>\n",
       "    </tr>\n",
       "    <tr>\n",
       "      <td>1</td>\n",
       "      <td>Запустить собственную службу доставки, что сократит срок доставки заказов</td>\n",
       "      <td>4.0</td>\n",
       "    </tr>\n",
       "    <tr>\n",
       "      <td>5</td>\n",
       "      <td>Добавить страницу отзывов клиентов о магазине, что позволит увеличить количество заказов</td>\n",
       "      <td>4.0</td>\n",
       "    </tr>\n",
       "    <tr>\n",
       "      <td>4</td>\n",
       "      <td>Изменить цвет фона главной страницы, чтобы увеличить вовлеченность пользователей</td>\n",
       "      <td>3.0</td>\n",
       "    </tr>\n",
       "  </tbody>\n",
       "</table>\n",
       "</div>"
      ],
      "text/plain": [
       "                                                                                                     hypothesis  \\\n",
       "7              Добавить форму подписки на все основные страницы, чтобы собрать базу клиентов для email-рассылок   \n",
       "2  Добавить блоки рекомендаций товаров на сайт интернет магазина, чтобы повысить конверсию и средний чек заказа   \n",
       "0            Добавить два новых канала привлечения трафика, что позволит привлекать на 30% больше пользователей   \n",
       "6          Показать на главной странице баннеры с актуальными акциями и распродажами, чтобы увеличить конверсию   \n",
       "8                                                       Запустить акцию, дающую скидку на товар в день рождения   \n",
       "3           Изменить структура категорий, что увеличит конверсию, т.к. пользователи быстрее найдут нужный товар   \n",
       "1                                     Запустить собственную службу доставки, что сократит срок доставки заказов   \n",
       "5                      Добавить страницу отзывов клиентов о магазине, что позволит увеличить количество заказов   \n",
       "4                              Изменить цвет фона главной страницы, чтобы увеличить вовлеченность пользователей   \n",
       "\n",
       "    RICE  \n",
       "7  112.0  \n",
       "2   56.0  \n",
       "0   40.0  \n",
       "6   40.0  \n",
       "8   16.2  \n",
       "3    9.0  \n",
       "1    4.0  \n",
       "5    4.0  \n",
       "4    3.0  "
      ]
     },
     "execution_count": 9,
     "metadata": {},
     "output_type": "execute_result"
    }
   ],
   "source": [
    "# рассчитываем RICE \n",
    "hypothesis['RICE'] = (hypothesis['reach'] * hypothesis['impact'] * hypothesis['confidence']) / hypothesis['efforts']\n",
    "\n",
    "# и выведем по убыванию итоговые значения RICE по каждой гипотезе\n",
    "hypothesis[['hypothesis', 'RICE']].sort_values(by='RICE', ascending=False)"
   ]
  },
  {
   "cell_type": "markdown",
   "metadata": {},
   "source": [
    "### Вывод"
   ]
  },
  {
   "cell_type": "markdown",
   "metadata": {},
   "source": [
    "<div style=\"border:dotted black 3px; padding: 20px\">\n",
    "    \n",
    "По фреймворку RICE лидирующая гипотеза с большим отрывом от остальных гипотез звучит как <b>\"Добавить форму подписки на все основные страницы, чтобы собрать базу клиентов для email-рассылок\" (RICE = 112.0, `индекс 7`).</b><br><br>\n",
    "    \n",
    "Данный отрыв связан с тем, что у данной гипотезы параметр Reach = 10 (это максимальный показатель параметра из всех представленных).<br>\n",
    "<hr>\n",
    "Если сравнивать с ТОП-3 гипотезами по фреймворку ICE, то наблюдаются 2 общие гипотезы (с `индексом 7`, и `индексом 0`), но с разным порядком приоритета. Благодаря параметру Reach итоговый порядок поменялся и гипотеза с `индексом 7` заняла лидирующую позицию по фреймворку RICE.<br><br>\n",
    "    \n",
    "Гипотеза же с `индексом 8` (ТОП-1 по фреймворку ICE) по фреймворку RICE сместилась на 5 место из-за слишком маленького параметра Reach = 1, означающего минимальный охват пользователей, которых бы затронуло данное изменение согласно гипотезе.<br><br>\n",
    "\n",
    "<b>Т.к. в наших данных есть параметр Reach, следует полагаться на результат RICE оценки.</b>\n",
    "    \n",
    "</div>"
   ]
  },
  {
   "cell_type": "markdown",
   "metadata": {},
   "source": [
    "## Анализ A/B-теста"
   ]
  },
  {
   "cell_type": "markdown",
   "metadata": {},
   "source": [
    "Для анализа и дальнейшего построения графиков нам необходимо собрать кумулятивные данные. \n",
    "\n",
    "Создадим датафрейм `cumulativeData` со следующими столбцами:\n",
    "\n",
    "- `date` — дата;\n",
    "- `group` — группа A/B-теста (A или B);\n",
    "- `orders` — кумулятивное количество заказов на указанную дату в указанной группе;\n",
    "- `buyers` — кумулятивное количество покупателей (совершивших хотя бы 1 заказ) на указанную дату в указанной группе;\n",
    "- `revenue` — кумулятивная выручка на указанную дату в указанной группе (средний чек);\n",
    "- `visitors` — кумулятивное количество пользователей/посетителей интернет-магазина на указанную дату в определённой группе.\n",
    "\n",
    "Для этого в несколько шагов осуществим следующие операции."
   ]
  },
  {
   "cell_type": "code",
   "execution_count": 10,
   "metadata": {},
   "outputs": [
    {
     "name": "stdout",
     "output_type": "stream",
     "text": [
      "\n",
      "Таблица \"ordersAggregated\"\n"
     ]
    },
    {
     "data": {
      "text/html": [
       "<div>\n",
       "<style scoped>\n",
       "    .dataframe tbody tr th:only-of-type {\n",
       "        vertical-align: middle;\n",
       "    }\n",
       "\n",
       "    .dataframe tbody tr th {\n",
       "        vertical-align: top;\n",
       "    }\n",
       "\n",
       "    .dataframe thead th {\n",
       "        text-align: right;\n",
       "    }\n",
       "</style>\n",
       "<table border=\"1\" class=\"dataframe\">\n",
       "  <thead>\n",
       "    <tr style=\"text-align: right;\">\n",
       "      <th></th>\n",
       "      <th>date</th>\n",
       "      <th>group</th>\n",
       "      <th>orderId</th>\n",
       "      <th>userId</th>\n",
       "      <th>revenue</th>\n",
       "    </tr>\n",
       "  </thead>\n",
       "  <tbody>\n",
       "    <tr>\n",
       "      <td>55</td>\n",
       "      <td>2019-08-01</td>\n",
       "      <td>A</td>\n",
       "      <td>24</td>\n",
       "      <td>20</td>\n",
       "      <td>148579</td>\n",
       "    </tr>\n",
       "    <tr>\n",
       "      <td>66</td>\n",
       "      <td>2019-08-01</td>\n",
       "      <td>B</td>\n",
       "      <td>21</td>\n",
       "      <td>20</td>\n",
       "      <td>101217</td>\n",
       "    </tr>\n",
       "    <tr>\n",
       "      <td>175</td>\n",
       "      <td>2019-08-02</td>\n",
       "      <td>A</td>\n",
       "      <td>44</td>\n",
       "      <td>38</td>\n",
       "      <td>242401</td>\n",
       "    </tr>\n",
       "    <tr>\n",
       "      <td>173</td>\n",
       "      <td>2019-08-02</td>\n",
       "      <td>B</td>\n",
       "      <td>45</td>\n",
       "      <td>43</td>\n",
       "      <td>266748</td>\n",
       "    </tr>\n",
       "    <tr>\n",
       "      <td>291</td>\n",
       "      <td>2019-08-03</td>\n",
       "      <td>A</td>\n",
       "      <td>68</td>\n",
       "      <td>62</td>\n",
       "      <td>354874</td>\n",
       "    </tr>\n",
       "  </tbody>\n",
       "</table>\n",
       "</div>"
      ],
      "text/plain": [
       "          date group  orderId  userId  revenue\n",
       "55  2019-08-01     A       24      20   148579\n",
       "66  2019-08-01     B       21      20   101217\n",
       "175 2019-08-02     A       44      38   242401\n",
       "173 2019-08-02     B       45      43   266748\n",
       "291 2019-08-03     A       68      62   354874"
      ]
     },
     "metadata": {},
     "output_type": "display_data"
    },
    {
     "name": "stdout",
     "output_type": "stream",
     "text": [
      "----------------------------------------------------------------------------------------------------------------------\n",
      "Таблица \"visitorsAggregated\"\n"
     ]
    },
    {
     "data": {
      "text/html": [
       "<div>\n",
       "<style scoped>\n",
       "    .dataframe tbody tr th:only-of-type {\n",
       "        vertical-align: middle;\n",
       "    }\n",
       "\n",
       "    .dataframe tbody tr th {\n",
       "        vertical-align: top;\n",
       "    }\n",
       "\n",
       "    .dataframe thead th {\n",
       "        text-align: right;\n",
       "    }\n",
       "</style>\n",
       "<table border=\"1\" class=\"dataframe\">\n",
       "  <thead>\n",
       "    <tr style=\"text-align: right;\">\n",
       "      <th></th>\n",
       "      <th>date</th>\n",
       "      <th>group</th>\n",
       "      <th>visitors</th>\n",
       "    </tr>\n",
       "  </thead>\n",
       "  <tbody>\n",
       "    <tr>\n",
       "      <td>55</td>\n",
       "      <td>2019-08-01</td>\n",
       "      <td>A</td>\n",
       "      <td>719</td>\n",
       "    </tr>\n",
       "    <tr>\n",
       "      <td>66</td>\n",
       "      <td>2019-08-01</td>\n",
       "      <td>B</td>\n",
       "      <td>713</td>\n",
       "    </tr>\n",
       "    <tr>\n",
       "      <td>175</td>\n",
       "      <td>2019-08-02</td>\n",
       "      <td>A</td>\n",
       "      <td>1338</td>\n",
       "    </tr>\n",
       "    <tr>\n",
       "      <td>173</td>\n",
       "      <td>2019-08-02</td>\n",
       "      <td>B</td>\n",
       "      <td>1294</td>\n",
       "    </tr>\n",
       "    <tr>\n",
       "      <td>291</td>\n",
       "      <td>2019-08-03</td>\n",
       "      <td>A</td>\n",
       "      <td>1845</td>\n",
       "    </tr>\n",
       "  </tbody>\n",
       "</table>\n",
       "</div>"
      ],
      "text/plain": [
       "          date group  visitors\n",
       "55  2019-08-01     A       719\n",
       "66  2019-08-01     B       713\n",
       "175 2019-08-02     A      1338\n",
       "173 2019-08-02     B      1294\n",
       "291 2019-08-03     A      1845"
      ]
     },
     "metadata": {},
     "output_type": "display_data"
    }
   ],
   "source": [
    "# Создаем массив уникальных пар значений дат и групп теста `datesGroups`\n",
    "\n",
    "datesGroups = orders[['date','group']].drop_duplicates() \n",
    "\n",
    "# Создаем `ordersAggregated`, в котором соберем агрегированные данные о заказах:\n",
    "\n",
    "# 1) с помощью функции` np.logical_and()` получим строки из таблицы `orders`, соответствующие нужному нам двойному условию\n",
    "# 2) вычислим max-дату, найдем число уникальных ID заказов и пользователей, подсчитаем сумму средних чеков\n",
    "# 3) с помощью `.apply(axis=1)` применим методы к каждой строке дф\n",
    "# 4) и отсортируем результаты по столбцам 'date' и 'group'\n",
    "\n",
    "ordersAggregated = datesGroups \\\n",
    ".apply(lambda x: orders[np.logical_and(orders['date'] <= x['date'], orders['group'] == x['group'])] \\\n",
    ".agg({'date' : 'max', 'group' : 'max', 'orderId' : pd.Series.nunique, 'userId' : pd.Series.nunique, 'revenue' : 'sum'}), \\\n",
    "axis=1).sort_values(by=['date','group']) \n",
    "\n",
    "# Аналогично создаем `visitorsAggregated`, в котором соберем агрегированные данные о посетителях:\n",
    "\n",
    "visitorsAggregated = datesGroups \\\n",
    ".apply(lambda x: visitors[np.logical_and(visitors['date'] <= x['date'], visitors['group'] == x['group'])] \\\n",
    ".agg({'date' : 'max', 'group' : 'max', 'visitors' : 'sum'}), axis=1).sort_values(by=['date','group']) \n",
    "\n",
    "print()\n",
    "print('Таблица \"ordersAggregated\"')\n",
    "display(ordersAggregated.head())\n",
    "print('----------------------------------------------------------------------------------------------------------------------')\n",
    "print('Таблица \"visitorsAggregated\"')\n",
    "display(visitorsAggregated.head())"
   ]
  },
  {
   "cell_type": "markdown",
   "metadata": {},
   "source": [
    "С помощью `.merge()` объединим обе таблицы в одну - `cumulativeData`. И дадим актуальные понятные названия столбцам."
   ]
  },
  {
   "cell_type": "code",
   "execution_count": 11,
   "metadata": {},
   "outputs": [],
   "source": [
    "cumulativeData = ordersAggregated.merge(visitorsAggregated, left_on=['date', 'group'], right_on=['date', 'group'])\n",
    "cumulativeData.columns = ['date', 'group', 'orders', 'buyers', 'revenue', 'visitors']"
   ]
  },
  {
   "cell_type": "markdown",
   "metadata": {},
   "source": [
    "### График кумулятивной выручки"
   ]
  },
  {
   "cell_type": "markdown",
   "metadata": {},
   "source": [
    "Построим график кумулятивной выручки по дням и группам."
   ]
  },
  {
   "cell_type": "code",
   "execution_count": 12,
   "metadata": {},
   "outputs": [
    {
     "data": {
      "image/png": "[encoded data removed]",
      "text/plain": [
       "<Figure size 864x432 with 1 Axes>"
      ]
     },
     "metadata": {
      "needs_background": "light"
     },
     "output_type": "display_data"
    }
   ],
   "source": [
    "import warnings\n",
    "warnings.filterwarnings('ignore')\n",
    "\n",
    "# датафрейм с кумулятивным количеством заказов и кумулятивной выручкой по дням в группе А\n",
    "cumulativeRevenueA = cumulativeData[cumulativeData['group']=='A'][['date','revenue', 'orders']]\n",
    "\n",
    "# датафрейм с кумулятивным количеством заказов и кумулятивной выручкой по дням в группе B\n",
    "cumulativeRevenueB = cumulativeData[cumulativeData['group']=='B'][['date','revenue', 'orders']]\n",
    "\n",
    "# строим график выручки группы А\n",
    "plt.figure(figsize=(12,6))\n",
    "plt.plot(cumulativeRevenueA['date'], cumulativeRevenueA['revenue'], label='группа A')\n",
    "\n",
    "# строим график выручки группы B\n",
    "plt.plot(cumulativeRevenueB['date'], cumulativeRevenueB['revenue'], label='группа B')\n",
    "plt.xlabel('Дата')\n",
    "plt.ylabel('Кумулятивная выручка (руб.)')\n",
    "plt.title('График кумулятивной выручки по группам А/B-теста', fontsize=15)\n",
    "plt.tick_params(axis='x', labelrotation=30)\n",
    "plt.legend() \n",
    "\n",
    "plt.show()\n",
    "import warnings\n",
    "warnings.filterwarnings('ignore')"
   ]
  },
  {
   "cell_type": "markdown",
   "metadata": {},
   "source": [
    "<div style=\"border:dotted black 3px; padding: 20px\">\n",
    "    \n",
    "По данному графику видно, что в начале теста обе группы шли примерно на одинаковых показателях выручки до 05 Августа 2019. 13 Августа 2019 наблюдается дновременное достижение одинакового показателя выручки. Группа B в целом показывает лучший рост выручки по сравнению с группой А.<br><br>\n",
    "    \n",
    "18 Августа 2019 визуально можо зафиксировать всплеск выручки группы B. И всего за 1 день уже 19 Августа 2019 прирост выручки составил более 1 000 000 руб. Это похоже на выброс и может сигнализировать о всплесках числа заказов, либо о появлении очень дорогих заказов/заказа.<br>\n",
    "     \n",
    "</div>"
   ]
  },
  {
   "cell_type": "markdown",
   "metadata": {},
   "source": [
    "### График кумулятивного среднего чека"
   ]
  },
  {
   "cell_type": "markdown",
   "metadata": {},
   "source": [
    "Построим графики среднего чека по группам: разделим кумулятивную выручку на кумулятивное число заказов."
   ]
  },
  {
   "cell_type": "code",
   "execution_count": 13,
   "metadata": {},
   "outputs": [
    {
     "data": {
      "image/png": "[encoded data removed]",
      "text/plain": [
       "<Figure size 864x432 with 1 Axes>"
      ]
     },
     "metadata": {
      "needs_background": "light"
     },
     "output_type": "display_data"
    }
   ],
   "source": [
    "# строим график среднего чека группы А\n",
    "plt.figure(figsize=(12,6))\n",
    "plt.plot(cumulativeRevenueA['date'], cumulativeRevenueA['revenue']/cumulativeRevenueA['orders'], label=' группа A')\n",
    "\n",
    "# строим график среднего чека группы B\n",
    "plt.plot(cumulativeRevenueB['date'], cumulativeRevenueB['revenue']/cumulativeRevenueB['orders'], label='группа B')\n",
    "plt.xlabel('Дата')\n",
    "plt.ylabel('Кумулятивный средний чек (руб.)')\n",
    "plt.title('График кумулятивного среднего чека по группам А/B-теста', fontsize=15)\n",
    "plt.tick_params(axis='x', labelrotation=30)\n",
    "plt.legend() \n",
    "\n",
    "plt.show() "
   ]
  },
  {
   "cell_type": "markdown",
   "metadata": {},
   "source": [
    "<div style=\"border:dotted black 3px; padding: 20px\">\n",
    "    \n",
    "По данному графику видно, что <b>в начале теста средний чек в группе B имел наибольшие показатели</b> и тенденцию к росту по сравнению с группой А.<br><br>\n",
    "\n",
    "Но, стоит отметить, что в группе А (без учета начальных дней теста) наблюдался постепенный рост среднего чека и после пика показателя - 13 Августа 2019 - уровень ср.чека стабилизировался примерно на одном уровне.<br><br>\n",
    "\n",
    "Замечено небольшое падение ср.чека группы B - 9 Августа 2019.<br><br>\n",
    "\n",
    "Но, как мы уже заметили ранее - 18 Августа 2019 случился всплеск - скорее всего, крупный заказ (средний чек увеличился с 7000 руб. до 10000 руб. с небольшим).<br>\n",
    "<hr>\n",
    "<b>И к концу теста группа B по итогу лидирует (за счет этого всплеска)</b>, хотя тенденция после всплеска в группе B направлена на спад ср.чека.<br><br>\n",
    "    \n",
    "Далее построим подробнее графики относительного изменения кумулятивного ср.чека группы B к группе А.\n",
    "    \n",
    "</div>"
   ]
  },
  {
   "cell_type": "markdown",
   "metadata": {},
   "source": [
    "###  График относительного изменения кумулятивного среднего чека"
   ]
  },
  {
   "cell_type": "code",
   "execution_count": 14,
   "metadata": {},
   "outputs": [
    {
     "data": {
      "image/png": "[encoded data removed]",
      "text/plain": [
       "<Figure size 864x432 with 1 Axes>"
      ]
     },
     "metadata": {
      "needs_background": "light"
     },
     "output_type": "display_data"
    }
   ],
   "source": [
    "# соберем  данные в один датафрейм `mergedCumulativeRevenue`\n",
    "\n",
    "mergedCumulativeRevenue = cumulativeRevenueA \\\n",
    ".merge(cumulativeRevenueB, left_on='date', right_on='date', how='left', suffixes=['A', 'B'])\n",
    "\n",
    "# cтроим график относительного различия кумулятивного среднего чека группы B к группе A\n",
    "\n",
    "plt.figure(figsize=(12,6))\n",
    "plt.plot(mergedCumulativeRevenue['date'], \\\n",
    "         (mergedCumulativeRevenue['revenueB']/mergedCumulativeRevenue['ordersB'])/ \\\n",
    "         (mergedCumulativeRevenue['revenueA']/mergedCumulativeRevenue['ordersA'])-1)\n",
    "\n",
    "plt.xlabel('Дата')\n",
    "plt.ylabel('Доля изменения')\n",
    "plt.title('График относительного изменения кумулятивного среднего чека группы B к группе A', fontsize=15)\n",
    "plt.tick_params(axis='x', labelrotation=30)\n",
    "plt.axhline(y=0, color='black', linestyle='--')  # добавим ось X\n",
    "plt.show()"
   ]
  },
  {
   "cell_type": "markdown",
   "metadata": {},
   "source": [
    "<div style=\"border:dotted black 3px; padding: 20px\">\n",
    "    \n",
    "По данному графику видно, что есть несколько выраженных точек всплесков и падений. Это свидетельствует о крупных заказах и выбросах, несмотря на лидирующее положение группы B по кумулятивному среднему чеку.<br><br>\n",
    "    \n",
    "Учтем необходимость учета выбросов при дальнейшей оценке.\n",
    "    \n",
    "</div>"
   ]
  },
  {
   "cell_type": "markdown",
   "metadata": {},
   "source": [
    "###  График кумулятивной конверсии"
   ]
  },
  {
   "cell_type": "code",
   "execution_count": 15,
   "metadata": {},
   "outputs": [
    {
     "data": {
      "image/png": "[encoded data removed]",
      "text/plain": [
       "<Figure size 864x432 with 1 Axes>"
      ]
     },
     "metadata": {
      "needs_background": "light"
     },
     "output_type": "display_data"
    }
   ],
   "source": [
    "# считаем кумулятивную конверсию\n",
    "cumulativeData['conversion'] = cumulativeData['orders']/cumulativeData['visitors']\n",
    "\n",
    "# отделяем данные по группе A\n",
    "cumulativeDataA = cumulativeData[cumulativeData['group']=='A']\n",
    "\n",
    "# отделяем данные по группе B\n",
    "cumulativeDataB = cumulativeData[cumulativeData['group']=='B']\n",
    "\n",
    "# строим графики\n",
    "plt.figure(figsize=(12,6))\n",
    "plt.plot(cumulativeDataA['date'], cumulativeDataA['conversion'], label='группа A')\n",
    "plt.plot(cumulativeDataB['date'], cumulativeDataB['conversion'], label='группа B')\n",
    "plt.xlabel('Дата')\n",
    "plt.ylabel('Кумулятивная конверсия')\n",
    "plt.title('График кумулятивной конверсии по группам', fontsize=15)\n",
    "plt.tick_params(axis='x', labelrotation=30)\n",
    "plt.legend()\n",
    "plt.show()"
   ]
  },
  {
   "cell_type": "markdown",
   "metadata": {},
   "source": [
    "<div style=\"border:dotted black 3px; padding: 20px\">\n",
    "    \n",
    "По данному графику видно, что в самом начале теста в обеих группах конверсия сильно колебалась, но затем уже <b>после 09 Августа 2019 конверсия группы B вырвалась вперед и до конца теста зафиксировалась на лидирующей позиции.</b><br><br>\n",
    "    \n",
    "Конверсия же группы А также зафиксировалась, но, наоборот - просела по показателю. \n",
    "     \n",
    "</div>"
   ]
  },
  {
   "cell_type": "markdown",
   "metadata": {},
   "source": [
    "###  График относительного изменения кумулятивной конверсии"
   ]
  },
  {
   "cell_type": "code",
   "execution_count": 16,
   "metadata": {},
   "outputs": [
    {
     "data": {
      "image/png": "[encoded data removed]",
      "text/plain": [
       "<Figure size 864x432 with 1 Axes>"
      ]
     },
     "metadata": {
      "needs_background": "light"
     },
     "output_type": "display_data"
    }
   ],
   "source": [
    "# объединим 2 дф с конверсиями групп А и B, соответственно, в один датафрейм `mergedCumulativeConversions` \n",
    "# выбираем 2 столбца с датой и конверсией и объединяем по дате\n",
    "mergedCumulativeConversions = \\\n",
    "cumulativeDataA[['date','conversion']] \\\n",
    ".merge(cumulativeDataB[['date','conversion']], left_on='date', right_on='date', how='left', suffixes=['A', 'B'])\n",
    "\n",
    "# строим график \n",
    "plt.figure(figsize=(12,6))\n",
    "plt.plot(mergedCumulativeConversions['date'], \\\n",
    "         mergedCumulativeConversions['conversionB']/mergedCumulativeConversions['conversionA']-1)\n",
    "plt.xlabel('Дата')\n",
    "plt.ylabel('Доля изменения')\n",
    "plt.title('График относительного изменения кумулятивной конверсии группы B к группе A', fontsize=15)\n",
    "plt.tick_params(axis='x', labelrotation=30)\n",
    "plt.axhline(y=0, color='black', linestyle='--')\n",
    "plt.axhline(y=0.10, color='grey', linestyle='--')\n",
    "plt.axis([\"2019-08-01\", '2019-09-01', -0.30, 0.30]) # изменим масштаб для наглядности, задав границы Y между -0.30 и 0.30\n",
    "plt.show()"
   ]
  },
  {
   "cell_type": "markdown",
   "metadata": {},
   "source": [
    "<div style=\"border:dotted black 3px; padding: 20px\">\n",
    "    \n",
    "По данному графику видно, что в самом начале теста были колебания кумулятивной конверсии, затем наблюдается устойчивый рост.<br><br>\n",
    "    \n",
    "И на протяжении периода с 08 Августа 2019 до конца теста 31 Августа 2019 <b>прирост кумулятивной конверсии группы B к группе А не падал ниже 10%</b> (иногда достигая 15%).<br><br>\n",
    "    \n",
    "А также <b>к концу теста заметна тенденция на рост конверсии группы B</b> к группе А.\n",
    "     \n",
    "</div>"
   ]
  },
  {
   "cell_type": "markdown",
   "metadata": {},
   "source": [
    "### Гистограмма и график разброса количества заказов по пользователям"
   ]
  },
  {
   "cell_type": "code",
   "execution_count": 17,
   "metadata": {},
   "outputs": [
    {
     "data": {
      "image/png": "[encoded data removed]",
      "text/plain": [
       "<Figure size 720x360 with 1 Axes>"
      ]
     },
     "metadata": {
      "needs_background": "light"
     },
     "output_type": "display_data"
    },
    {
     "data": {
      "image/png": "[encoded data removed]",
      "text/plain": [
       "<Figure size 720x360 with 1 Axes>"
      ]
     },
     "metadata": {
      "needs_background": "light"
     },
     "output_type": "display_data"
    }
   ],
   "source": [
    "# создадим датафрейм `ordersByUsers`:\n",
    "# группируем по каждому пользователю и найдем кол-во сделанных уникальных заказов\n",
    "\n",
    "ordersByUsers = orders.drop(['group', 'revenue', 'date'], axis=1) \\\n",
    ".groupby('userId', as_index=False) \\\n",
    ".agg({'orderId': pd.Series.nunique})\n",
    "\n",
    "ordersByUsers.columns = ['userId', 'orders']\n",
    "\n",
    "# строим гистограмму распределения кол-ва заказов на 1 пользователя\n",
    "\n",
    "plt.figure(figsize=(10,5))\n",
    "plt.hist(ordersByUsers['orders'])\n",
    "plt.ylabel('Частота')\n",
    "plt.xlabel('Кол-во заказов на 1 пользователя')\n",
    "plt.title('Гистограмма распределения количества заказов на 1 пользователя', fontsize=14)\n",
    "plt.show()\n",
    "\n",
    "pd.set_option('float_format', '{:f}'.format)\n",
    "orders['revenue'].describe()\n",
    "\n",
    "# а также строим график разброса \n",
    "\n",
    "x_values = pd.Series(range(0,len(ordersByUsers)))\n",
    "plt.figure(figsize=(10,5))\n",
    "plt.scatter(x_values, ordersByUsers['orders'], alpha=0.5) \n",
    "plt.ylabel('Кол-во заказов на 1 пользователя')\n",
    "plt.xlabel('Частота')\n",
    "plt.title('График разброса количества заказов на 1 пользователя', fontsize=14)\n",
    "plt.show()"
   ]
  },
  {
   "cell_type": "markdown",
   "metadata": {},
   "source": [
    "<div style=\"border:dotted black 3px; padding: 20px\">\n",
    "    \n",
    "По данным графикам мы видим, что основная масса пользователей делают по 1 заказу. И значительно реже - по 2 заказа.<br><br>\n",
    "    \n",
    "3 и более заказов - уже аномальные ситуации. Но для точного отсечения аномальных пользователей в пределах 1%-5% наблюдений от общей массы нам необходимо рассчитать перцентили.\n",
    "     \n",
    "</div>"
   ]
  },
  {
   "cell_type": "markdown",
   "metadata": {},
   "source": [
    "### 95-й и 99-й перцентили количества заказов на пользователя"
   ]
  },
  {
   "cell_type": "code",
   "execution_count": 18,
   "metadata": {},
   "outputs": [
    {
     "data": {
      "text/plain": [
       "array([2., 4.])"
      ]
     },
     "execution_count": 18,
     "metadata": {},
     "output_type": "execute_result"
    }
   ],
   "source": [
    "np.percentile(ordersByUsers['orders'], [95, 99])"
   ]
  },
  {
   "cell_type": "markdown",
   "metadata": {},
   "source": [
    "<div style=\"border:dotted black 3px; padding: 20px\">\n",
    "    \n",
    "**Не более 5% пользователей оформляли по 2 заказа и 1% пользователей оформляли 4 заказа**. \n",
    "    \n",
    "Но включать границу и отсеивать пользователей с 2 заказами мы не можем, поскольку мы берем во внимание гистограмму распределения и график разброса, которые визуально указывают на редкие, но не аномальные заказы (несмотря на 95 перцентиль). \n",
    "    \n",
    "Будем считать границей для отсеивания - пользователей с 3 и более заказами. \n",
    "    \n",
    "</div>"
   ]
  },
  {
   "cell_type": "markdown",
   "metadata": {},
   "source": [
    "### Гистограмма и график разброса стоимостей заказов"
   ]
  },
  {
   "cell_type": "code",
   "execution_count": 19,
   "metadata": {
    "scrolled": false
   },
   "outputs": [
    {
     "data": {
      "image/png": "[encoded data removed]",
      "text/plain": [
       "<Figure size 720x360 with 1 Axes>"
      ]
     },
     "metadata": {
      "needs_background": "light"
     },
     "output_type": "display_data"
    },
    {
     "data": {
      "image/png": "[encoded data removed]",
      "text/plain": [
       "<Figure size 720x360 with 1 Axes>"
      ]
     },
     "metadata": {
      "needs_background": "light"
     },
     "output_type": "display_data"
    },
    {
     "data": {
      "text/plain": [
       "count      1197.000000\n",
       "mean       8348.005848\n",
       "std       39191.131774\n",
       "min          50.000000\n",
       "25%        1220.000000\n",
       "50%        2978.000000\n",
       "75%        8290.000000\n",
       "max     1294500.000000\n",
       "Name: revenue, dtype: float64"
      ]
     },
     "metadata": {},
     "output_type": "display_data"
    }
   ],
   "source": [
    "# строим гистограмму распределения значений стоимостей заказов\n",
    "\n",
    "plt.figure(figsize=(10,5))\n",
    "plt.hist(orders['revenue'], bins=50)\n",
    "plt.xlabel('Сумма заказа (руб.)')\n",
    "plt.ylabel('Частота')\n",
    "plt.title('Гистограмма распределения значений стоимостей заказов', fontsize=14)\n",
    "plt.show()\n",
    "\n",
    "# строим график разброса значений\n",
    "\n",
    "x_values = pd.Series(range(0,len(orders['revenue'])))\n",
    "plt.figure(figsize=(10,5))\n",
    "plt.scatter(x_values, orders['revenue'], alpha=0.5) \n",
    "plt.ylabel('Сумма заказа (руб.)')\n",
    "plt.xlabel('Частота')\n",
    "plt.title('График разброса значений стоимостей заказов', fontsize=14)\n",
    "plt.show()\n",
    "\n",
    "# дополнительно выведем на экран для наглядности числовое описание стоимостей заказов\n",
    "\n",
    "pd.set_option('float_format', '{:f}'.format)\n",
    "display(orders['revenue'].describe())"
   ]
  },
  {
   "cell_type": "markdown",
   "metadata": {},
   "source": [
    "<div style=\"border:dotted black 3px; padding: 20px\">\n",
    "\n",
    "По данным графикам видим, что <b>в данных есть слишком дорогие заказы</b>, хоть и большая часть заказов лежит в одной области значений.<br><br>\n",
    "    \n",
    "Максимальная стоимость заказа  = 1 294 500 руб., при этом медиана всех заказов равна 2 978 руб. Из-за наличия выбросов средняя стоимость всех оформленных заказов стала больше медианы почти в 3 раза (8348 руб).<br><br>\n",
    "       \n",
    "Для точного отсечения аномальных пользователей в пределах 1%-5% наблюдений от общей массы нам необходимо рассчитать перцентили.\n",
    "     \n",
    "</div>"
   ]
  },
  {
   "cell_type": "markdown",
   "metadata": {},
   "source": [
    "### 95-й и 99-й перцентили стоимости заказов"
   ]
  },
  {
   "cell_type": "code",
   "execution_count": 20,
   "metadata": {},
   "outputs": [
    {
     "data": {
      "text/plain": [
       "array([28000. , 58233.2])"
      ]
     },
     "execution_count": 20,
     "metadata": {},
     "output_type": "execute_result"
    }
   ],
   "source": [
    "np.percentile(orders['revenue'], [95, 99])"
   ]
  },
  {
   "cell_type": "markdown",
   "metadata": {},
   "source": [
    "<div style=\"border:dotted black 3px; padding: 20px\">\n",
    "\n",
    "Не более, чем у 5% заказов чек дороже 28 000 руб.<br><br>\n",
    "    \n",
    "И не больше, чем у 1% заказов - дороже 58 233 руб.<br><br>\n",
    "    \n",
    "Будем считать <b>границей для отсеивания</b> аномальных заказов - <b>заказы стоимостью дороже 28 000 руб.</b>\n",
    "    \n",
    "</div>"
   ]
  },
  {
   "cell_type": "markdown",
   "metadata": {},
   "source": [
    "### Статистическая значимость различий в конверсии («сырые» данные)"
   ]
  },
  {
   "cell_type": "markdown",
   "metadata": {},
   "source": [
    "Посчитаем статистическую значимость различий в конверсии между группами по «сырым» данным — без удаления аномальных пользователей."
   ]
  },
  {
   "cell_type": "markdown",
   "metadata": {},
   "source": [
    "Для определения статистической значимости нам необходимо подготовить сводный датафрейм, который будет содержать куммулятивные показатели. Сводный датафрейм будет содержать следующие столбцы:\n",
    "\n",
    "- `date` — дата;\n",
    "\n",
    "Заказы:\n",
    "- `ordersPerDateA` — количество заказов в выбранную дату в группе A;\n",
    "- `ordersPerDateB` — количество заказов в выбранную дату в группе B;\n",
    "- `ordersCumulativeA` — суммарное число заказов до выбранной даты включительно в группе A;\n",
    "- `ordersCumulativeB` — суммарное количество заказов до выбранной даты включительно в группе B;\n",
    "\n",
    "Выручка:\n",
    "- `revenuePerDateA` — суммарная выручка в выбранную дату в группе A;\n",
    "- `revenuePerDateB` — суммарная выручка в выбранную дату в группе B;\n",
    "- `revenueCumulativeA` — суммарная выручка до выбранной даты включительно в группе A;\n",
    "- `revenueCumulativeB` — суммарная выручка до выбранной даты включительно в группе B;\n",
    "\n",
    "Посетители/пользователи:\n",
    "- `visitorsPerDateA` — количество пользователей в выбранную дату в группе A;\n",
    "- `visitorsPerDateB` — количество пользователей в выбранную дату в группе B;\n",
    "- `visitorsCumulativeA` — количество пользователей до выбранной даты включительно в группе A;\n",
    "- `visitorsCumulativeB` — количество пользователей до выбранной даты включительно в группе B."
   ]
  },
  {
   "cell_type": "markdown",
   "metadata": {},
   "source": [
    "Создадим для каждой группы А и B, соответственно, таблицы с количеством посетителей на определенный день `visitorsDaily `. И также создадим  для каждой группы А и B `visitorsCumulative` с кумулятивным показателем на определенный день."
   ]
  },
  {
   "cell_type": "code",
   "execution_count": 21,
   "metadata": {},
   "outputs": [],
   "source": [
    "# создаем для группы А\n",
    "\n",
    "visitorsADaily = visitors[visitors['group'] == 'A'][['date', 'visitors']]\n",
    "visitorsADaily.columns = ['date', 'visitorsPerDateA']\n",
    "\n",
    "visitorsACumulative = visitorsADaily \\\n",
    ".apply(lambda x: visitorsADaily[visitorsADaily['date'] <= x['date']] \\\n",
    ".agg({'date': 'max', 'visitorsPerDateA': 'sum'}), axis=1)\n",
    "visitorsACumulative.columns = ['date', 'visitorsCumulativeA']\n",
    "\n",
    "# теперь для группы B\n",
    "\n",
    "visitorsBDaily = visitors[visitors['group'] == 'B'][['date', 'visitors']]\n",
    "visitorsBDaily.columns = ['date', 'visitorsPerDateB']\n",
    "\n",
    "visitorsBCumulative = visitorsBDaily \\\n",
    ".apply(lambda x: visitorsBDaily[visitorsBDaily['date'] <= x['date']] \\\n",
    ".agg({'date': 'max', 'visitorsPerDateB': 'sum'}), axis=1)\n",
    "visitorsBCumulative.columns = ['date', 'visitorsCumulativeB']"
   ]
  },
  {
   "cell_type": "markdown",
   "metadata": {},
   "source": [
    "Теперь создадим для каждой группы А и B, соответственно, таблицы с количеством заказов и выручкой на определенный день `ordersDaily `и `ordersCumulative` с кумулятивным показателем числа заказов и выручкой на определенный день."
   ]
  },
  {
   "cell_type": "code",
   "execution_count": 22,
   "metadata": {},
   "outputs": [],
   "source": [
    "# создаем для группы А\n",
    "\n",
    "ordersADaily = orders[orders['group'] == 'A'][['date', 'orderId', 'userId', 'revenue']] \\\n",
    ".groupby('date', as_index=False).agg({'orderId': pd.Series.nunique, 'revenue': 'sum'})\n",
    "ordersADaily.columns = ['date', 'ordersPerDateA', 'revenuePerDateA']\n",
    "\n",
    "ordersACumulative = ordersADaily.apply(lambda x: ordersADaily[ordersADaily['date'] <= x['date']] \\\n",
    ".agg({'date': 'max', 'ordersPerDateA': 'sum', 'revenuePerDateA': 'sum'}), axis=1).sort_values(by=['date'])\n",
    "ordersACumulative.columns = ['date', 'ordersCumulativeA', 'revenueCumulativeA']\n",
    "\n",
    "# теперь для группы B\n",
    "\n",
    "ordersBDaily = orders[orders['group'] == 'B'][['date', 'orderId', 'userId', 'revenue']] \\\n",
    ".groupby('date', as_index=False).agg({'orderId': pd.Series.nunique, 'revenue': 'sum'})\n",
    "ordersBDaily.columns = ['date', 'ordersPerDateB', 'revenuePerDateB']\n",
    "\n",
    "ordersBCumulative = ordersBDaily.apply(lambda x: ordersBDaily[ordersBDaily['date'] <= x['date']] \\\n",
    ".agg({'date': 'max', 'ordersPerDateB': 'sum', 'revenuePerDateB': 'sum'}), axis=1).sort_values(by=['date'])\n",
    "ordersBCumulative.columns = ['date','ordersCumulativeB','revenueCumulativeB']"
   ]
  },
  {
   "cell_type": "markdown",
   "metadata": {},
   "source": [
    "Полученные 8 датафреймов объединим в один датафрейм по дате с помощью `.merge()`."
   ]
  },
  {
   "cell_type": "code",
   "execution_count": 23,
   "metadata": {},
   "outputs": [],
   "source": [
    "data = ordersADaily \\\n",
    ".merge(ordersBDaily, left_on='date', right_on='date', how='left') \\\n",
    ".merge(ordersACumulative, left_on='date', right_on='date', how='left') \\\n",
    ".merge(ordersBCumulative, left_on='date', right_on='date', how='left') \\\n",
    ".merge(visitorsADaily, left_on='date', right_on='date', how='left') \\\n",
    ".merge(visitorsBDaily, left_on='date', right_on='date', how='left') \\\n",
    ".merge(visitorsACumulative, left_on='date', right_on='date', how='left') \\\n",
    ".merge(visitorsBCumulative, left_on='date', right_on='date', how='left')"
   ]
  },
  {
   "cell_type": "markdown",
   "metadata": {},
   "source": [
    "Создадим переменные `ordersByUsersA` и `ordersByUsersB` со столбцами `'userId'` и `'orders'`. В них для пользователей, которые заказывали хотя бы 1 раз, укажем число совершённых заказов."
   ]
  },
  {
   "cell_type": "code",
   "execution_count": 24,
   "metadata": {},
   "outputs": [],
   "source": [
    "ordersByUsersA = orders[orders['group'] == 'A'].groupby('userId', as_index=False).agg({'orderId': pd.Series.nunique})\n",
    "ordersByUsersA.columns = ['userId', 'orders']\n",
    "\n",
    "ordersByUsersB = orders[orders['group'] == 'B'].groupby('userId', as_index=False).agg({'orderId': pd.Series.nunique})\n",
    "ordersByUsersB.columns = ['userId', 'orders'] "
   ]
  },
  {
   "cell_type": "markdown",
   "metadata": {},
   "source": [
    "Необходимые операции почти сделаны. Сформулируем гипотезы.\n",
    "\n",
    "**Сформулируем нулевую гипотезу H0:**\n",
    "\n",
    "- H0: Cтатистически значимых различий в конверсии между группой A и группой B нет.\n",
    "\n",
    "**Сформулируем альтернативную гипотезу H1:**\n",
    "\n",
    "- H1: Есть статистически значимые различия в конверсии между группой A и группой B."
   ]
  },
  {
   "cell_type": "markdown",
   "metadata": {},
   "source": [
    "И, наконец, создадим выборки `sampleA` и `sampleB`, в которых пользователям из разных групп будет соответствовать количество заказов.\n",
    "\n",
    " - Число элементов в `sampleA` или в `sampleB` — это количество пользователей.\n",
    " - С помощью функции `pd.concat()` мы объединим 2 списка: \n",
    "  - 1-ый список с кол-вом заказов каждого пользователя `ordersByUsersA['orders']`;\n",
    "  - и 2-ой список с нулями для пользователей, которые ничего не заказывали (нули - это есть разница между суммой посетителей и количеством записей о заказах) `data['visitorsPerDateA'].sum() - len(ordersByUsersA['orders'])`.\n",
    "\n",
    "Благодаря этим выборкам `sampleA` и `sampleB` мы найдем p-value и сможем рассчитать относительное различие в конверсиях.\n",
    "\n",
    "Критический уровень статистической значимости  alpha выберем = 0.05 и считаем его допустимым, т.к. в гипотезах мы проверяем есть или нет статистически значимые различия в показателях, и у нас нет дополнительной информации от коммерческого департамента о возможных финансовых рисках, которые могли бы повлиять на наше решение снизить уровень значимости ниже 0.05."
   ]
  },
  {
   "cell_type": "code",
   "execution_count": 25,
   "metadata": {},
   "outputs": [
    {
     "name": "stdout",
     "output_type": "stream",
     "text": [
      "P-value = 0.017\n",
      "Отвергаем нулевую гипотезу\n",
      "\n",
      "-----------------------------------------------------------------------------------------------------------------------\n",
      "Относительное различие конверсии группы B = 0.138\n"
     ]
    }
   ],
   "source": [
    "# создаем  `sampleA` и `sampleB`\n",
    "\n",
    "sampleA = \\\n",
    "pd.concat([ordersByUsersA['orders'], \\\n",
    "pd.Series(0, index=np.arange(data['visitorsPerDateA'].sum() - len(ordersByUsersA['orders'])), name='orders')], axis=0)\n",
    "\n",
    "sampleB = \\\n",
    "pd.concat([ordersByUsersB['orders'], \\\n",
    "pd.Series(0, index=np.arange(data['visitorsPerDateB'].sum() - len(ordersByUsersB['orders'])), name='orders')], axis=0) \n",
    "\n",
    "# рассчитываем p-value c помощью \"U-критерия Манна-Уитни\" \n",
    "\n",
    "print(\"P-value = {0:.3f}\".format(stats.mannwhitneyu(sampleA, sampleB, use_continuity=True, alternative = 'two-sided')[1]))\n",
    "if stats.mannwhitneyu(sampleA, sampleB)[1] < 0.05:\n",
    "    print(\"Отвергаем нулевую гипотезу\")\n",
    "else:\n",
    "    print('Не получилось отвергнуть нулевую гипотезу')\n",
    "print()\n",
    "print('-----------------------------------------------------------------------------------------------------------------------')\n",
    "\n",
    "# и находим разницу в конверсии группы B\n",
    "\n",
    "print(\"Относительное различие конверсии группы B = {0:.3f}\".format(sampleB.mean() / sampleA.mean() - 1))\n"
   ]
  },
  {
   "cell_type": "markdown",
   "metadata": {},
   "source": [
    "<div style=\"border:dotted black 3px; padding: 20px\">\n",
    "    \n",
    "Из данного результата и отвержения H0 мы делаем вывод, что <b>по \"сырым\" данным есть статистически значимые различия в конверсии между группами А и B</b>. Относительный прирост конверсии группы B составил 13,8% по \"сырым\" данным.\n",
    "    \n",
    "</div>"
   ]
  },
  {
   "cell_type": "markdown",
   "metadata": {},
   "source": [
    "### Статистическая значимость различий в среднем чеке заказа («сырые» данные)"
   ]
  },
  {
   "cell_type": "markdown",
   "metadata": {},
   "source": [
    "Для расчёта статистической значимости различий в среднем чеке между сегментами, передадим критерию `mannwhitneyu()` данные о выручке с заказов. Также рассчитаем относительные различия в среднем чеке между группами.\n",
    "\n",
    "**Сформулируем нулевую гипотезу H0:**\n",
    "\n",
    "- H0: Cтатистически значимых различий в среднем чеке между группой A и группой B нет.\n",
    "\n",
    "**Сформулируем альтернативную гипотезу H1:**\n",
    "\n",
    "- H1: Есть статистически значимые различия в среднем чеке между группой A и группой B."
   ]
  },
  {
   "cell_type": "code",
   "execution_count": 26,
   "metadata": {},
   "outputs": [
    {
     "name": "stdout",
     "output_type": "stream",
     "text": [
      "P-value = 0.729\n",
      "Не получилось отвергнуть нулевую гипотезу\n",
      "\n",
      "-----------------------------------------------------------------------------------------------------------------------\n",
      "Относительное различие среднего чека группы B = 0.259\n"
     ]
    }
   ],
   "source": [
    "p_value_mean_check = stats.mannwhitneyu(orders[orders['group']=='A']['revenue'], \\\n",
    "                                                    orders[orders['group']=='B']['revenue'], \\\n",
    "                                                    use_continuity=True, alternative = 'two-sided')[1]\n",
    "\n",
    "print('P-value = {0:.3f}'.format(p_value_mean_check))\n",
    "\n",
    "if p_value_mean_check < 0.05:\n",
    "    print(\"Отвергаем нулевую гипотезу\")\n",
    "else:\n",
    "    print('Не получилось отвергнуть нулевую гипотезу')\n",
    "print()\n",
    "print('-----------------------------------------------------------------------------------------------------------------------')\n",
    "print('Относительное различие среднего чека группы B = {0:.3f}' \\\n",
    ".format(orders[orders['group']=='B']['revenue'].mean()/orders[orders['group']=='A']['revenue'].mean()-1)) \n"
   ]
  },
  {
   "cell_type": "markdown",
   "metadata": {},
   "source": [
    "<div style=\"border:dotted black 3px; padding: 20px\">\n",
    "    \n",
    "Из данного результата мы делаем вывод, что <b>по \"сырым\" данным средний чек групп А и B статистически значимых различий не имеет</b>. Однако, при этом относительный прирост среднего чека в группе B по \"сырым\" данным составил 26%.<br><br>\n",
    "\n",
    "</div>"
   ]
  },
  {
   "cell_type": "markdown",
   "metadata": {},
   "source": [
    "**Приступим к очистке данных от аномальных пользователей.**"
   ]
  },
  {
   "cell_type": "markdown",
   "metadata": {},
   "source": [
    "### Статистическая значимость различий в конверсии («очищенные» данные)"
   ]
  },
  {
   "cell_type": "markdown",
   "metadata": {},
   "source": [
    "Сделаем срез пользователей `usersWithManyOrders` с аномально большим числом заказов >= 3 (как мы определили ранее).\n",
    "А также срез `usersWithExpensiveOrders` с пользователями, совершившими аномально дорогие заказы > 28 000 руб (как мы определили ранее). \n",
    "\n",
    "Объединим их в таблицу `abnormalUsers`."
   ]
  },
  {
   "cell_type": "code",
   "execution_count": 27,
   "metadata": {},
   "outputs": [
    {
     "name": "stdout",
     "output_type": "stream",
     "text": [
      "Всего аномальных пользователей найдено: 74\n"
     ]
    }
   ],
   "source": [
    "# для объединения списков c заказами А и В групп используем функцию `pd.concat()`\n",
    "usersWithManyOrders = pd.concat([ordersByUsersA[ordersByUsersA['orders'] >= 3]['userId'], \\\n",
    "                                 ordersByUsersB[ordersByUsersB['orders'] >= 3]['userId']], axis=0)\n",
    "\n",
    "usersWithExpensiveOrders = orders[orders['revenue'] > 28000]['userId']\n",
    "\n",
    "abnormalUsers = pd.concat([usersWithManyOrders, usersWithExpensiveOrders], axis=0).drop_duplicates().sort_values()\n",
    "\n",
    "print(\"Всего аномальных пользователей найдено:\", len(abnormalUsers)) "
   ]
  },
  {
   "cell_type": "markdown",
   "metadata": {},
   "source": [
    "Аналогично как в п.6.10. создадим 2 выборки с \"очищенными\" от аномалий данными: `sampleAFiltered` и `sampleBFiltered`, в которых пользователям из разных групп будет соответствовать количество заказов. \n",
    "\n",
    "Так же как и в п.6.10. с помощью функции `pd.concat()` объединим 2 списка: \n",
    "\n",
    "1) с количеством заказов каждого пользователя, **но** за исключением пользователей, попавших в категорию аномальных из списка `abnormalUsers` (для этого используем функцию `np.logical_not()` вместе с методом `.isin()`); \n",
    "\n",
    "2) список с нулями для пользователей, которые ничего не заказывали (нули - это есть разница между суммой посетителей и количеством записей о заказах) `data['visitorsPerDateA'].sum() - len(ordersByUsersA['orders'])`.\n",
    "\n",
    "Благодаря этим выборкам мы найдем p-value и сможем рассчитать относительное различие конверсии между группами."
   ]
  },
  {
   "cell_type": "code",
   "execution_count": 28,
   "metadata": {},
   "outputs": [
    {
     "name": "stdout",
     "output_type": "stream",
     "text": [
      "P-value = 0.013\n",
      "Отвергаем нулевую гипотезу\n",
      "\n",
      "-----------------------------------------------------------------------------------------------------------------------\n",
      "Относительное различие конверсии группы B = 0.173\n"
     ]
    }
   ],
   "source": [
    "sampleAFiltered = pd.concat([ordersByUsersA[np.logical_not(ordersByUsersA['userId'].isin(abnormalUsers))]['orders'], \\\n",
    "pd.Series(0, index=np.arange(data['visitorsPerDateA'].sum() - len(ordersByUsersA['orders'])), \\\n",
    "name='orders')], axis=0)\n",
    "\n",
    "sampleBFiltered = pd.concat([ordersByUsersB[np.logical_not(ordersByUsersB['userId'].isin(abnormalUsers))]['orders'], \\\n",
    "pd.Series(0, index=np.arange(data['visitorsPerDateB'].sum() - len(ordersByUsersB['orders'])), \\\n",
    "name='orders')], axis=0)\n",
    "\n",
    "print(\"P-value = {0:.3f}\".format(stats.mannwhitneyu(sampleAFiltered, sampleBFiltered, \\\n",
    "                                                    use_continuity=True, alternative = 'two-sided')[1]))\n",
    "\n",
    "if stats.mannwhitneyu(sampleAFiltered, sampleBFiltered, use_continuity=True, alternative = 'two-sided')[1] < 0.05:\n",
    "    print(\"Отвергаем нулевую гипотезу\")\n",
    "else:\n",
    "    print('Не получилось отвергнуть нулевую гипотезу')\n",
    "print()\n",
    "print('-----------------------------------------------------------------------------------------------------------------------')\n",
    "print(\"Относительное различие конверсии группы B = {0:.3f}\".format(sampleBFiltered.mean() / sampleAFiltered.mean() - 1))\n"
   ]
  },
  {
   "cell_type": "markdown",
   "metadata": {},
   "source": [
    "<div style=\"border:dotted black 3px; padding: 20px\">\n",
    "    \n",
    "Из данного результата и отвержения H0 мы делаем вывод, что **по \"очищенным\" данным (как и по \"сырым\" данным) есть статистически значимые различия в конверсии между группами А и B**. Относительный прирост конверсии группы B составил 17,3% по \"очищенным\" данным.\n",
    "    \n",
    "</div>"
   ]
  },
  {
   "cell_type": "markdown",
   "metadata": {},
   "source": [
    "### Статистическая значимость различий в среднем чеке заказа («очищенные» данные)"
   ]
  },
  {
   "cell_type": "markdown",
   "metadata": {},
   "source": [
    "Рассчитаем статистическую значимость различий в среднем чеке между группами. Аналогично как и в подсчете по \"сырым\" данным используем критерий `mannwhitneyu()`. Также рассчитаем относительные различия в среднем чеке между группами. "
   ]
  },
  {
   "cell_type": "code",
   "execution_count": 29,
   "metadata": {},
   "outputs": [
    {
     "name": "stdout",
     "output_type": "stream",
     "text": [
      "P-value = 0.738\n",
      "Не получилось отвергнуть нулевую гипотезу\n",
      "\n",
      "----------------------------------------------------------------------------------------------------------\n",
      "Относительное различие среднего чека группы B = -0.020\n"
     ]
    }
   ],
   "source": [
    "p_value_mean_check_filtered = stats.mannwhitneyu( \\\n",
    "    orders[np.logical_and(orders['group']=='A', np.logical_not(orders['userId'].isin(abnormalUsers)))]['revenue'], \\\n",
    "    orders[np.logical_and(orders['group']=='B', np.logical_not(orders['userId'].isin(abnormalUsers)))]['revenue'], \\\n",
    "                                                 use_continuity=True, alternative = 'two-sided')[1]\n",
    "\n",
    "mean_check_distinction_filtered = orders[np.logical_and(orders['group']=='B', \\\n",
    "    np.logical_not(orders['userId'].isin(abnormalUsers)))]['revenue'].mean() / \\\n",
    "    orders[np.logical_and(orders['group']=='A', np.logical_not(orders['userId'].isin(abnormalUsers)))]['revenue'].mean() - 1\n",
    "\n",
    "\n",
    "print(\"P-value = {0:.3f}\".format(p_value_mean_check_filtered))\n",
    "if p_value_mean_check_filtered < 0.05:\n",
    "    print(\"Отвергаем нулевую гипотезу\")\n",
    "else:\n",
    "    print('Не получилось отвергнуть нулевую гипотезу')\n",
    "print()\n",
    "print('----------------------------------------------------------------------------------------------------------')\n",
    "print(\"Относительное различие среднего чека группы B = {0:.3f}\".format(mean_check_distinction_filtered))"
   ]
  },
  {
   "cell_type": "markdown",
   "metadata": {},
   "source": [
    "<div style=\"border:dotted black 3px; padding: 20px\">\n",
    "    \n",
    "Из данного результата мы делаем вывод, что <b>по \"очищенным\" данным средний чек групп А и B не имеет статистически значимых различий</b>. При этом относительный прирост среднего чека в группе А по \"сырым\" данным составил 2%.\n",
    "       \n",
    "</div>"
   ]
  },
  {
   "cell_type": "markdown",
   "metadata": {},
   "source": [
    "## Общий вывод"
   ]
  },
  {
   "cell_type": "markdown",
   "metadata": {},
   "source": [
    "<div style=\"border: ridge black 3px; padding: 25px\">\n",
    "    \n",
    "В ходе приоритизации гипотез с помощью фреймворка RICE была выявлена топовая гипотеза (RICE = 112) \"Добавить форму подписки на все основные страницы, чтобы собрать базу клиентов для email-рассылок\".<br><br>\n",
    "    \n",
    "<b>По результатам проведенного анализа А/B-теста рекомендуем принять следующее решение:</b><br><br>\n",
    "    \n",
    "<b>Остановить тест и зафиксировать победу группы B.</b><br>\n",
    "<hr>\n",
    "В ходе анализа было определено следующее:<br><br>\n",
    "\n",
    "1) Найдено 74 аномальных пользователя, влияние которых отразилось на графике кумулятивной выручки и графике среднего чека в пользу группы B по \"сырым\" данным.<br>\n",
    "    \n",
    "2) График кумулятивной конверсии по \"сырым\" данным зафиксировал лидирующее положение группы B.<br>\n",
    "    \n",
    "3) Как по \"сырым\", так и по \"очищенным\" данным есть статистически значимые различия в конверсии между группами.<br>\n",
    "    \n",
    "4) Относительный прирост конверсии группы B по \"сырым\" данным составил 13,8%; по \"очищенным\" данным 17,3%.<br>\n",
    "\n",
    "5) Как по \"сырым\", так и по \"очищенным\" данным отсутствуют статистически значимые различия в среднем чеке между группами (при этом относительный прирост среднего чека в группе B по \"сырым\" данным составил 26%; по \"очищенным\" 2%).<br>\n",
    "    \n",
    "</div>"
   ]
  },
  {
   "cell_type": "code",
   "execution_count": null,
   "metadata": {},
   "outputs": [],
   "source": []
  }
 ],
 "metadata": {
  "ExecuteTimeLog": [
   {
    "duration": 350,
    "start_time": "2021-07-18T13:58:25.545Z"
   },
   {
    "duration": 1360,
    "start_time": "2021-07-18T13:58:33.410Z"
   },
   {
    "duration": 73,
    "start_time": "2021-07-18T13:58:34.772Z"
   },
   {
    "duration": 6,
    "start_time": "2021-07-18T13:58:34.848Z"
   },
   {
    "duration": 788,
    "start_time": "2021-07-18T13:58:34.857Z"
   },
   {
    "duration": 56,
    "start_time": "2021-07-18T13:58:35.647Z"
   },
   {
    "duration": 12,
    "start_time": "2021-07-18T13:58:35.706Z"
   },
   {
    "duration": 21,
    "start_time": "2021-07-18T13:58:35.721Z"
   },
   {
    "duration": 25,
    "start_time": "2021-07-18T13:58:35.746Z"
   },
   {
    "duration": 17,
    "start_time": "2021-07-18T13:58:35.786Z"
   },
   {
    "duration": 641,
    "start_time": "2021-07-18T13:58:35.806Z"
   },
   {
    "duration": 10,
    "start_time": "2021-07-18T13:58:36.449Z"
   },
   {
    "duration": 478,
    "start_time": "2021-07-18T13:58:36.461Z"
   },
   {
    "duration": 551,
    "start_time": "2021-07-18T13:58:36.942Z"
   },
   {
    "duration": 561,
    "start_time": "2021-07-18T13:58:37.496Z"
   },
   {
    "duration": 466,
    "start_time": "2021-07-18T13:58:38.059Z"
   },
   {
    "duration": 563,
    "start_time": "2021-07-18T13:58:38.527Z"
   },
   {
    "duration": 1303,
    "start_time": "2021-07-18T13:58:39.092Z"
   },
   {
    "duration": 7,
    "start_time": "2021-07-18T13:58:40.397Z"
   },
   {
    "duration": 1080,
    "start_time": "2021-07-18T13:58:40.407Z"
   },
   {
    "duration": 7,
    "start_time": "2021-07-18T13:58:41.490Z"
   },
   {
    "duration": 227,
    "start_time": "2021-07-18T13:58:41.499Z"
   },
   {
    "duration": 239,
    "start_time": "2021-07-18T13:58:41.729Z"
   },
   {
    "duration": 44,
    "start_time": "2021-07-18T13:58:41.973Z"
   },
   {
    "duration": 242,
    "start_time": "2021-07-18T13:58:42.019Z"
   },
   {
    "duration": 35,
    "start_time": "2021-07-18T13:58:42.263Z"
   },
   {
    "duration": 9,
    "start_time": "2021-07-18T13:58:42.301Z"
   },
   {
    "duration": 25,
    "start_time": "2021-07-18T13:58:42.313Z"
   },
   {
    "duration": 19,
    "start_time": "2021-07-18T13:58:42.340Z"
   },
   {
    "duration": 44,
    "start_time": "2021-07-18T13:58:42.362Z"
   },
   {
    "duration": 27,
    "start_time": "2021-07-18T13:58:42.409Z"
   },
   {
    "duration": 446,
    "start_time": "2021-07-18T13:59:32.718Z"
   },
   {
    "duration": 1704,
    "start_time": "2021-08-05T15:26:57.869Z"
   },
   {
    "duration": 81,
    "start_time": "2021-08-05T15:26:59.576Z"
   },
   {
    "duration": 8,
    "start_time": "2021-08-05T15:26:59.661Z"
   },
   {
    "duration": 1720,
    "start_time": "2021-08-05T15:26:59.673Z"
   },
   {
    "duration": 23,
    "start_time": "2021-08-05T15:27:01.396Z"
   },
   {
    "duration": 30,
    "start_time": "2021-08-05T15:27:01.422Z"
   },
   {
    "duration": 26,
    "start_time": "2021-08-05T15:27:01.454Z"
   },
   {
    "duration": 40,
    "start_time": "2021-08-05T15:27:01.491Z"
   },
   {
    "duration": 23,
    "start_time": "2021-08-05T15:27:01.535Z"
   },
   {
    "duration": 688,
    "start_time": "2021-08-05T15:27:01.561Z"
   },
   {
    "duration": 10,
    "start_time": "2021-08-05T15:27:02.251Z"
   },
   {
    "duration": 505,
    "start_time": "2021-08-05T15:27:02.263Z"
   },
   {
    "duration": 451,
    "start_time": "2021-08-05T15:27:02.771Z"
   },
   {
    "duration": 609,
    "start_time": "2021-08-05T15:27:03.225Z"
   },
   {
    "duration": 486,
    "start_time": "2021-08-05T15:27:03.836Z"
   },
   {
    "duration": 585,
    "start_time": "2021-08-05T15:27:04.325Z"
   },
   {
    "duration": 1041,
    "start_time": "2021-08-05T15:27:04.913Z"
   },
   {
    "duration": 7,
    "start_time": "2021-08-05T15:27:05.956Z"
   },
   {
    "duration": 1054,
    "start_time": "2021-08-05T15:27:05.965Z"
   },
   {
    "duration": 6,
    "start_time": "2021-08-05T15:27:07.021Z"
   },
   {
    "duration": 219,
    "start_time": "2021-08-05T15:27:07.029Z"
   },
   {
    "duration": 251,
    "start_time": "2021-08-05T15:27:07.250Z"
   },
   {
    "duration": 38,
    "start_time": "2021-08-05T15:27:07.505Z"
   },
   {
    "duration": 263,
    "start_time": "2021-08-05T15:27:07.546Z"
   },
   {
    "duration": 22,
    "start_time": "2021-08-05T15:27:07.812Z"
   },
   {
    "duration": 21,
    "start_time": "2021-08-05T15:27:07.836Z"
   },
   {
    "duration": 34,
    "start_time": "2021-08-05T15:27:07.859Z"
   },
   {
    "duration": 30,
    "start_time": "2021-08-05T15:27:07.895Z"
   },
   {
    "duration": 23,
    "start_time": "2021-08-05T15:27:07.927Z"
   },
   {
    "duration": 1000,
    "start_time": "2021-08-08T11:43:23.671Z"
   },
   {
    "duration": 99,
    "start_time": "2021-08-08T11:43:24.673Z"
   },
   {
    "duration": 4,
    "start_time": "2021-08-08T11:43:24.773Z"
   },
   {
    "duration": 337,
    "start_time": "2021-08-08T11:43:24.779Z"
   },
   {
    "duration": 12,
    "start_time": "2021-08-08T11:43:25.118Z"
   },
   {
    "duration": 8,
    "start_time": "2021-08-08T11:43:25.131Z"
   },
   {
    "duration": 4,
    "start_time": "2021-08-08T11:43:25.141Z"
   },
   {
    "duration": 43,
    "start_time": "2021-08-08T11:43:25.148Z"
   },
   {
    "duration": 11,
    "start_time": "2021-08-08T11:43:25.194Z"
   },
   {
    "duration": 372,
    "start_time": "2021-08-08T11:43:25.206Z"
   },
   {
    "duration": 11,
    "start_time": "2021-08-08T11:43:25.579Z"
   },
   {
    "duration": 308,
    "start_time": "2021-08-08T11:43:25.591Z"
   },
   {
    "duration": 282,
    "start_time": "2021-08-08T11:43:25.900Z"
   },
   {
    "duration": 431,
    "start_time": "2021-08-08T11:43:26.184Z"
   },
   {
    "duration": 288,
    "start_time": "2021-08-08T11:43:26.617Z"
   },
   {
    "duration": 366,
    "start_time": "2021-08-08T11:43:26.907Z"
   },
   {
    "duration": 738,
    "start_time": "2021-08-08T11:43:27.275Z"
   },
   {
    "duration": 7,
    "start_time": "2021-08-08T11:43:28.015Z"
   },
   {
    "duration": 615,
    "start_time": "2021-08-08T11:43:28.023Z"
   },
   {
    "duration": 5,
    "start_time": "2021-08-08T11:43:28.640Z"
   },
   {
    "duration": 122,
    "start_time": "2021-08-08T11:43:28.646Z"
   },
   {
    "duration": 148,
    "start_time": "2021-08-08T11:43:28.769Z"
   },
   {
    "duration": 21,
    "start_time": "2021-08-08T11:43:28.921Z"
   },
   {
    "duration": 113,
    "start_time": "2021-08-08T11:43:28.944Z"
   },
   {
    "duration": 14,
    "start_time": "2021-08-08T11:43:29.059Z"
   },
   {
    "duration": 17,
    "start_time": "2021-08-08T11:43:29.074Z"
   },
   {
    "duration": 7,
    "start_time": "2021-08-08T11:43:29.093Z"
   },
   {
    "duration": 15,
    "start_time": "2021-08-08T11:43:29.101Z"
   },
   {
    "duration": 12,
    "start_time": "2021-08-08T11:43:29.118Z"
   },
   {
    "duration": 988,
    "start_time": "2021-08-08T12:24:13.073Z"
   },
   {
    "duration": 90,
    "start_time": "2021-08-08T12:24:14.063Z"
   },
   {
    "duration": 8,
    "start_time": "2021-08-08T12:24:14.155Z"
   },
   {
    "duration": 371,
    "start_time": "2021-08-08T12:24:14.165Z"
   },
   {
    "duration": 13,
    "start_time": "2021-08-08T12:24:14.538Z"
   },
   {
    "duration": 53,
    "start_time": "2021-08-08T12:24:14.553Z"
   },
   {
    "duration": 20,
    "start_time": "2021-08-08T12:24:14.608Z"
   },
   {
    "duration": 20,
    "start_time": "2021-08-08T12:24:14.631Z"
   },
   {
    "duration": 27,
    "start_time": "2021-08-08T12:24:14.652Z"
   },
   {
    "duration": 376,
    "start_time": "2021-08-08T12:24:14.680Z"
   },
   {
    "duration": 6,
    "start_time": "2021-08-08T12:24:15.058Z"
   },
   {
    "duration": 315,
    "start_time": "2021-08-08T12:24:15.066Z"
   },
   {
    "duration": 275,
    "start_time": "2021-08-08T12:24:15.383Z"
   },
   {
    "duration": 441,
    "start_time": "2021-08-08T12:24:15.659Z"
   },
   {
    "duration": 299,
    "start_time": "2021-08-08T12:24:16.102Z"
   },
   {
    "duration": 365,
    "start_time": "2021-08-08T12:24:16.403Z"
   },
   {
    "duration": 697,
    "start_time": "2021-08-08T12:24:16.770Z"
   },
   {
    "duration": 5,
    "start_time": "2021-08-08T12:24:17.468Z"
   },
   {
    "duration": 638,
    "start_time": "2021-08-08T12:24:17.474Z"
   },
   {
    "duration": 4,
    "start_time": "2021-08-08T12:24:18.113Z"
   },
   {
    "duration": 125,
    "start_time": "2021-08-08T12:24:18.119Z"
   },
   {
    "duration": 141,
    "start_time": "2021-08-08T12:24:18.246Z"
   },
   {
    "duration": 22,
    "start_time": "2021-08-08T12:24:18.390Z"
   },
   {
    "duration": 130,
    "start_time": "2021-08-08T12:24:18.413Z"
   },
   {
    "duration": 14,
    "start_time": "2021-08-08T12:24:18.545Z"
   },
   {
    "duration": 31,
    "start_time": "2021-08-08T12:24:18.561Z"
   },
   {
    "duration": 22,
    "start_time": "2021-08-08T12:24:18.594Z"
   },
   {
    "duration": 36,
    "start_time": "2021-08-08T12:24:18.618Z"
   },
   {
    "duration": 30,
    "start_time": "2021-08-08T12:24:18.656Z"
   }
  ],
  "kernelspec": {
   "display_name": "Python 3",
   "language": "python",
   "name": "python3"
  },
  "language_info": {
   "codemirror_mode": {
    "name": "ipython",
    "version": 3
   },
   "file_extension": ".py",
   "mimetype": "text/x-python",
   "name": "python",
   "nbconvert_exporter": "python",
   "pygments_lexer": "ipython3",
   "version": "3.7.8"
  },
  "toc": {
   "base_numbering": 1,
   "nav_menu": {},
   "number_sections": true,
   "sideBar": true,
   "skip_h1_title": true,
   "title_cell": "Table of Contents",
   "title_sidebar": "Contents",
   "toc_cell": false,
   "toc_position": {
    "height": "calc(100% - 180px)",
    "left": "10px",
    "top": "150px",
    "width": "334px"
   },
   "toc_section_display": true,
   "toc_window_display": true
  }
 },
 "nbformat": 4,
 "nbformat_minor": 2
}
