{
 "cells": [
  {
   "cell_type": "markdown",
   "metadata": {},
   "source": [
    "# \"Выявление популярных самолётов и городов назначения авиакомпании \"F9\"<a class=\"tocSkip\">"
   ]
  },
  {
   "cell_type": "markdown",
   "metadata": {},
   "source": [
    "## Цель исследования"
   ]
  },
  {
   "cell_type": "markdown",
   "metadata": {},
   "source": [
    "<div style=\"border: ridge black 3px; padding: 25px\">\n",
    "    \n",
    "<b>Целью данного исследования является определение ТОП-10 популярных городов, принимающих рейсы, а также лидирующих (популярных) моделей самолетов авиакомпании \"F9\".</b><br><br>\n",
    "\n",
    "В ходе исследования мы произведём анализ на основании уже имеющихся у нас 2-х датафреймов в формате `.csv`, представляющих собой результаты 2-х запросов (ранее сформированных нами с помощью SQL).<br><br>\n",
    "    \n",
    "В конце документа сформулируем общий вывод.<br>\n",
    "    \n",
    "</div>"
   ]
  },
  {
   "cell_type": "markdown",
   "metadata": {},
   "source": [
    "## Описание исходных данных\n",
    "**Ниже представлено описание информации по 2-м исходным датафреймам:**\n",
    "\n",
    "1) Путь к файлу: **/datasets/query_1.csv** — результат первого запроса.\n",
    "\n",
    "В нём содержится информация о:\n",
    "- **model** — модели самолета\n",
    "- **flights_amount** — количество рейсов для каждой модели самолетов model в сентябре 2018 года\n",
    "\n",
    "2) Путь к файлу: **/datasets/query_3.csv** — результат третьего запроса. \n",
    "\n",
    "В нём содержится информация о:\n",
    "- **city** — городах\n",
    "- **average_flights** — среднем количестве рейсов, прибывающих в город city за день в августе 2018 года\n",
    "\n",
    "___"
   ]
  },
  {
   "cell_type": "markdown",
   "metadata": {},
   "source": [
    "Ниже представлены выполненные SQL-запросы для ознакомления (подключение к базе было выполнено автоматически в среде Яндекс.Практикума):"
   ]
  },
  {
   "cell_type": "markdown",
   "metadata": {},
   "source": [
    "- **1 SQL-запрос:**\n",
    "\n",
    "Находим количество рейсов на каждой модели самолёта с вылетом в Сентябре 2018 года. Получим результирующие столбцы: model, flights_amount\n",
    "\n",
    "[Код 1-го запроса см.здесь](https://yadi.sk/i/F1u8YYMh4FKJYA)\n",
    "    \n",
    "- **2 SQL-запрос:**\n",
    "\n",
    "Находим среднее количество прибывающих рейсов в день для каждого города за Август 2018 года. Получим резуkьтирующие столбцы: city, average_flights\n",
    "\n",
    "[Код 2-го запроса см.здесь](https://yadi.sk/i/NCQVzndtz-e1bg)"
   ]
  },
  {
   "cell_type": "markdown",
   "metadata": {},
   "source": [
    "## Открытие данных"
   ]
  },
  {
   "cell_type": "code",
   "execution_count": 1,
   "metadata": {},
   "outputs": [],
   "source": [
    "# импортируем нужные библиотеки \n",
    "\n",
    "import pandas as pd\n",
    "from matplotlib import pyplot as plt\n",
    "import seaborn as sns"
   ]
  },
  {
   "cell_type": "code",
   "execution_count": 2,
   "metadata": {},
   "outputs": [],
   "source": [
    "req1_data = pd.read_csv('/datasets/query_1.csv')\n",
    "req3_data = pd.read_csv('/datasets/query_3.csv')\n",
    "\n",
    "# присвоим 2-м датафреймам названия согласно их содержания для наглядности при открытии\n",
    "\n",
    "req1_data.name = 'Таблица \"Модели самолётов и количество рейсов: Сентябрь 2018 г.\"'\n",
    "req3_data.name = 'Таблица \"Города и среднее количество рейсов, прибывающих за день: Август 2018 г.\"'"
   ]
  },
  {
   "cell_type": "code",
   "execution_count": 3,
   "metadata": {},
   "outputs": [
    {
     "name": "stdout",
     "output_type": "stream",
     "text": [
      "\n",
      "Таблица \"Модели самолётов и количество рейсов: Сентябрь 2018 г.\"\n"
     ]
    },
    {
     "data": {
      "text/html": [
       "<div>\n",
       "<style scoped>\n",
       "    .dataframe tbody tr th:only-of-type {\n",
       "        vertical-align: middle;\n",
       "    }\n",
       "\n",
       "    .dataframe tbody tr th {\n",
       "        vertical-align: top;\n",
       "    }\n",
       "\n",
       "    .dataframe thead th {\n",
       "        text-align: right;\n",
       "    }\n",
       "</style>\n",
       "<table border=\"1\" class=\"dataframe\">\n",
       "  <thead>\n",
       "    <tr style=\"text-align: right;\">\n",
       "      <th></th>\n",
       "      <th>model</th>\n",
       "      <th>flights_amount</th>\n",
       "    </tr>\n",
       "  </thead>\n",
       "  <tbody>\n",
       "    <tr>\n",
       "      <td>0</td>\n",
       "      <td>Airbus A319-100</td>\n",
       "      <td>607</td>\n",
       "    </tr>\n",
       "    <tr>\n",
       "      <td>1</td>\n",
       "      <td>Airbus A321-200</td>\n",
       "      <td>960</td>\n",
       "    </tr>\n",
       "    <tr>\n",
       "      <td>2</td>\n",
       "      <td>Boeing 737-300</td>\n",
       "      <td>630</td>\n",
       "    </tr>\n",
       "    <tr>\n",
       "      <td>3</td>\n",
       "      <td>Boeing 767-300</td>\n",
       "      <td>600</td>\n",
       "    </tr>\n",
       "    <tr>\n",
       "      <td>4</td>\n",
       "      <td>Boeing 777-300</td>\n",
       "      <td>300</td>\n",
       "    </tr>\n",
       "    <tr>\n",
       "      <td>5</td>\n",
       "      <td>Bombardier CRJ-200</td>\n",
       "      <td>4446</td>\n",
       "    </tr>\n",
       "    <tr>\n",
       "      <td>6</td>\n",
       "      <td>Cessna 208 Caravan</td>\n",
       "      <td>4557</td>\n",
       "    </tr>\n",
       "    <tr>\n",
       "      <td>7</td>\n",
       "      <td>Sukhoi SuperJet-100</td>\n",
       "      <td>4185</td>\n",
       "    </tr>\n",
       "  </tbody>\n",
       "</table>\n",
       "</div>"
      ],
      "text/plain": [
       "                 model  flights_amount\n",
       "0      Airbus A319-100             607\n",
       "1      Airbus A321-200             960\n",
       "2       Boeing 737-300             630\n",
       "3       Boeing 767-300             600\n",
       "4       Boeing 777-300             300\n",
       "5   Bombardier CRJ-200            4446\n",
       "6   Cessna 208 Caravan            4557\n",
       "7  Sukhoi SuperJet-100            4185"
      ]
     },
     "metadata": {},
     "output_type": "display_data"
    },
    {
     "name": "stdout",
     "output_type": "stream",
     "text": [
      "<class 'pandas.core.frame.DataFrame'>\n",
      "RangeIndex: 8 entries, 0 to 7\n",
      "Data columns (total 2 columns):\n",
      "model             8 non-null object\n",
      "flights_amount    8 non-null int64\n",
      "dtypes: int64(1), object(1)\n",
      "memory usage: 256.0+ bytes\n"
     ]
    },
    {
     "data": {
      "text/plain": [
       "None"
      ]
     },
     "metadata": {},
     "output_type": "display_data"
    },
    {
     "name": "stdout",
     "output_type": "stream",
     "text": [
      "======================================================================================================================\n",
      "Таблица \"Города и среднее количество рейсов, прибывающих за день: Август 2018 г.\"\n"
     ]
    },
    {
     "data": {
      "text/html": [
       "<div>\n",
       "<style scoped>\n",
       "    .dataframe tbody tr th:only-of-type {\n",
       "        vertical-align: middle;\n",
       "    }\n",
       "\n",
       "    .dataframe tbody tr th {\n",
       "        vertical-align: top;\n",
       "    }\n",
       "\n",
       "    .dataframe thead th {\n",
       "        text-align: right;\n",
       "    }\n",
       "</style>\n",
       "<table border=\"1\" class=\"dataframe\">\n",
       "  <thead>\n",
       "    <tr style=\"text-align: right;\">\n",
       "      <th></th>\n",
       "      <th>city</th>\n",
       "      <th>average_flights</th>\n",
       "    </tr>\n",
       "  </thead>\n",
       "  <tbody>\n",
       "    <tr>\n",
       "      <td>0</td>\n",
       "      <td>Абакан</td>\n",
       "      <td>3.870968</td>\n",
       "    </tr>\n",
       "    <tr>\n",
       "      <td>1</td>\n",
       "      <td>Анадырь</td>\n",
       "      <td>1.000000</td>\n",
       "    </tr>\n",
       "    <tr>\n",
       "      <td>2</td>\n",
       "      <td>Анапа</td>\n",
       "      <td>2.161290</td>\n",
       "    </tr>\n",
       "    <tr>\n",
       "      <td>3</td>\n",
       "      <td>Архангельск</td>\n",
       "      <td>5.354839</td>\n",
       "    </tr>\n",
       "    <tr>\n",
       "      <td>4</td>\n",
       "      <td>Астрахань</td>\n",
       "      <td>2.451613</td>\n",
       "    </tr>\n",
       "    <tr>\n",
       "      <td>5</td>\n",
       "      <td>Барнаул</td>\n",
       "      <td>2.612903</td>\n",
       "    </tr>\n",
       "    <tr>\n",
       "      <td>6</td>\n",
       "      <td>Белгород</td>\n",
       "      <td>6.000000</td>\n",
       "    </tr>\n",
       "    <tr>\n",
       "      <td>7</td>\n",
       "      <td>Белоярский</td>\n",
       "      <td>2.000000</td>\n",
       "    </tr>\n",
       "    <tr>\n",
       "      <td>8</td>\n",
       "      <td>Благовещенск</td>\n",
       "      <td>1.000000</td>\n",
       "    </tr>\n",
       "    <tr>\n",
       "      <td>9</td>\n",
       "      <td>Братск</td>\n",
       "      <td>1.000000</td>\n",
       "    </tr>\n",
       "    <tr>\n",
       "      <td>10</td>\n",
       "      <td>Брянск</td>\n",
       "      <td>10.000000</td>\n",
       "    </tr>\n",
       "    <tr>\n",
       "      <td>11</td>\n",
       "      <td>Бугульма</td>\n",
       "      <td>3.000000</td>\n",
       "    </tr>\n",
       "    <tr>\n",
       "      <td>12</td>\n",
       "      <td>Владивосток</td>\n",
       "      <td>3.000000</td>\n",
       "    </tr>\n",
       "    <tr>\n",
       "      <td>13</td>\n",
       "      <td>Владикавказ</td>\n",
       "      <td>2.000000</td>\n",
       "    </tr>\n",
       "    <tr>\n",
       "      <td>14</td>\n",
       "      <td>Волгоград</td>\n",
       "      <td>5.129032</td>\n",
       "    </tr>\n",
       "  </tbody>\n",
       "</table>\n",
       "</div>"
      ],
      "text/plain": [
       "            city  average_flights\n",
       "0         Абакан         3.870968\n",
       "1        Анадырь         1.000000\n",
       "2          Анапа         2.161290\n",
       "3    Архангельск         5.354839\n",
       "4      Астрахань         2.451613\n",
       "5        Барнаул         2.612903\n",
       "6       Белгород         6.000000\n",
       "7     Белоярский         2.000000\n",
       "8   Благовещенск         1.000000\n",
       "9         Братск         1.000000\n",
       "10        Брянск        10.000000\n",
       "11      Бугульма         3.000000\n",
       "12   Владивосток         3.000000\n",
       "13   Владикавказ         2.000000\n",
       "14     Волгоград         5.129032"
      ]
     },
     "metadata": {},
     "output_type": "display_data"
    },
    {
     "name": "stdout",
     "output_type": "stream",
     "text": [
      "<class 'pandas.core.frame.DataFrame'>\n",
      "RangeIndex: 101 entries, 0 to 100\n",
      "Data columns (total 2 columns):\n",
      "city               101 non-null object\n",
      "average_flights    101 non-null float64\n",
      "dtypes: float64(1), object(1)\n",
      "memory usage: 1.7+ KB\n"
     ]
    },
    {
     "data": {
      "text/plain": [
       "None"
      ]
     },
     "metadata": {},
     "output_type": "display_data"
    }
   ],
   "source": [
    "# выведем на экран содержимое первых 15 строк и посмотрим на общую информацию по каждой таблице:\n",
    "\n",
    "print()\n",
    "print(req1_data.name)\n",
    "display(req1_data.head(15))\n",
    "display(req1_data.info())\n",
    "print('======================================================================================================================')\n",
    "print(req3_data.name)\n",
    "display(req3_data.head(15))\n",
    "display(req3_data.info())"
   ]
  },
  {
   "cell_type": "markdown",
   "metadata": {},
   "source": [
    "Наши результаты запросов не имеют пропусков. Каждый датафрейм имеет по 2 столбца. \n",
    "\n",
    "В датафрейме `req1_data` 8 наблюдений, т.е. 8 моделей самолетов. \n",
    "\n",
    "В датафрейме `req3_data` 101 наблюдение, т.е. 101 город.\n",
    "\n",
    "Столбец `flights_amount` имеет целочисленный тип данных `int64`.\n",
    "Столбец `average_flights` имеет плавающий тип данных `float64`, что логично, т.к. это среднее значение (для нас это не критично, оставим без перевода в целочисленный тип)."
   ]
  },
  {
   "cell_type": "markdown",
   "metadata": {},
   "source": [
    "## Изучение предпочтений пассажиров"
   ]
  },
  {
   "cell_type": "markdown",
   "metadata": {},
   "source": [
    "### Определение ТОП-10 городов по количеству прибывающих рейсов"
   ]
  },
  {
   "cell_type": "markdown",
   "metadata": {},
   "source": [
    "Отсортируем датафрейм `req3_data` по убыванию среднего кол-ва рейсов и построим на основе сводной таблицы гистограмму ТОП-10 городов."
   ]
  },
  {
   "cell_type": "code",
   "execution_count": 4,
   "metadata": {},
   "outputs": [
    {
     "data": {
      "image/png": "[encoded data removed]",
      "text/plain": [
       "<Figure size 864x432 with 1 Axes>"
      ]
     },
     "metadata": {
      "needs_background": "light"
     },
     "output_type": "display_data"
    }
   ],
   "source": [
    "top10_towns = req3_data.sort_values(by='average_flights', ascending=False).head(10)\n",
    "\n",
    "plt.figure(figsize=(12,6))\n",
    "sns.barplot(data=top10_towns, x='average_flights', y='city', palette=\"muted\")\n",
    "plt.title('ТОП-10 городов (по среднему кол-ву прибывающих рейсов в день: Август 2018 г.)', fontsize=15)  \n",
    "plt.show()"
   ]
  },
  {
   "cell_type": "markdown",
   "metadata": {},
   "source": [
    "### Модели самолётов и количество рейсов "
   ]
  },
  {
   "cell_type": "markdown",
   "metadata": {},
   "source": [
    "Отсортируем датафрейм `req1_data` по убыванию кол-ва рейсов и построим с учётом сортировки гистограмму по моделям самолетов."
   ]
  },
  {
   "cell_type": "code",
   "execution_count": 5,
   "metadata": {},
   "outputs": [
    {
     "data": {
      "image/png": "[encoded data removed]",
      "text/plain": [
       "<Figure size 864x432 with 1 Axes>"
      ]
     },
     "metadata": {
      "needs_background": "light"
     },
     "output_type": "display_data"
    }
   ],
   "source": [
    "models_descending = req1_data.sort_values(by = 'flights_amount', ascending=False)\n",
    "\n",
    "plt.figure(figsize=(12,6))\n",
    "sns.barplot(data=models_descending, y='model', x='flights_amount', palette=\"muted\")\n",
    "plt.title('Распределение кол-ва рейсов по моделям самолётов (Сентябрь 2018 г.)', fontsize=15)  \n",
    "plt.show()"
   ]
  },
  {
   "cell_type": "markdown",
   "metadata": {},
   "source": [
    "### Города и количество рейсов "
   ]
  },
  {
   "cell_type": "markdown",
   "metadata": {},
   "source": [
    "Посмотрим на общую рейсовую картину по всем остальным городам. \n",
    "\n",
    "Отсортируем теперь датафрейм `req3_data` также по убыванию кол-ва рейсов и построим с учётом сортировки гистограмму по городам."
   ]
  },
  {
   "cell_type": "code",
   "execution_count": 6,
   "metadata": {},
   "outputs": [
    {
     "data": {
      "image/png": "[encoded data removed]",
      "text/plain": [
       "<Figure size 720x1440 with 1 Axes>"
      ]
     },
     "metadata": {
      "needs_background": "light"
     },
     "output_type": "display_data"
    }
   ],
   "source": [
    "cities_descending = req3_data.sort_values(by = 'average_flights', ascending=False)\n",
    "\n",
    "plt.figure(figsize=(10,20))\n",
    "sns.barplot(data=cities_descending, y='city', x='average_flights', palette=\"muted\")\n",
    "plt.title('Распределение кол-ва прибывающих рейсов (за день) по городам (Август 2018 г.)', fontsize=15)  \n",
    "plt.show()"
   ]
  },
  {
   "cell_type": "markdown",
   "metadata": {},
   "source": [
    "## Общий вывод"
   ]
  },
  {
   "cell_type": "markdown",
   "metadata": {},
   "source": [
    "<div style=\"border: ridge black 3px; padding: 25px\">\n",
    "    \n",
    "<b>В результате проведенного исследования было определено следующее:</b><br><br>\n",
    "    \n",
    "1) <b>ТОП-10 городов</b>, рейсы в которые пользуются спросом у пассажиров (в порядке убыв.):<br>\n",
    "- Москва<br>\n",
    "- Санкт-Петербург<br>\t\n",
    "- Новосибирск<br>\n",
    "- Красноярск<br>\t\n",
    "- Екатеринбург<br>\t\n",
    "- Ростов-на-Дону<br>\t\n",
    "- Пермь<br>\n",
    "- Брянск<br>\n",
    "- Сочи<br>\n",
    "- Ульяновск<br><br>\n",
    "\n",
    "При этом при детальном рассмотрении графика по 10 городам явными лидерами являются <b>3 города: Москва</b> (130 рейсов в день в среднем), <b>Санкт-Петербург</b> (31 рейс) и <b>Новосибирск</b> (17 рейсов). Остальные 7 городов имеют примерно равные показатели и не выделяются (от 11 рейсов и ниже).<br><br>\n",
    "\n",
    "В п. 4.3. представлен график по всем остальным городам, на котором видно, что по сравнению с Москвой, Санкт-Петербургом и Новосибирском остальные города имеют очень малое кол-во рейсов.<br><br>\n",
    "    \n",
    "2) <b>ТОП-3 популярные модели самолётов с наибольшим числом рейсов:</b><br>\n",
    "- Cessna 208 Caravan (4557 рейсов в мес.)<br>\n",
    "- Bombardier CRJ-200 (4446 рейсов в мес.)<br>\n",
    "- Sukhoi SuperJet-100 (4185 рейсов в мес.)<br><br>\n",
    "\n",
    "На фоне 8 представленных моделей самолетов эти ТОП-3 модели - явные лидеры (более, чем в 4 раза превосходят остальные модели по кол-ву рейсов). Эти 3 модели малой вместимости (от 14 до 100 мест), что может говорить о том, что парк воздушных судов \"F9\" представлен в большинстве своем именно этими 3 моделями.<br>\n",
    "Либо: есть тенденция низкого спроса на рейсы/определённые рейсы, что позволяет авиакомпании задействовать только такие модели, а не 'Boeing' и не 'Airbus'.<br><br>\n",
    "<hr>\n",
    "    \n",
    "По запросу авиакомпании можно произвести доп.исследование на основе данных с ценами и заполняемостью бортов на рейсах.\n",
    "   \n",
    "</div>"
   ]
  },
  {
   "cell_type": "code",
   "execution_count": null,
   "metadata": {},
   "outputs": [],
   "source": []
  }
 ],
 "metadata": {
  "ExecuteTimeLog": [
   {
    "duration": 2183,
    "start_time": "2021-08-05T13:19:05.880Z"
   },
   {
    "duration": 38,
    "start_time": "2021-08-05T13:19:08.067Z"
   },
   {
    "duration": 59,
    "start_time": "2021-08-05T13:19:08.108Z"
   },
   {
    "duration": 712,
    "start_time": "2021-08-05T13:19:08.187Z"
   },
   {
    "duration": 453,
    "start_time": "2021-08-05T13:19:08.902Z"
   },
   {
    "duration": 3046,
    "start_time": "2021-08-05T13:19:09.358Z"
   },
   {
    "duration": 75,
    "start_time": "2021-08-07T20:35:41.803Z"
   },
   {
    "duration": 79,
    "start_time": "2021-08-07T20:35:51.766Z"
   },
   {
    "duration": 79,
    "start_time": "2021-08-07T20:38:18.079Z"
   },
   {
    "duration": 84,
    "start_time": "2021-08-07T20:38:24.446Z"
   },
   {
    "duration": -8534,
    "start_time": "2021-08-07T20:38:33.067Z"
   },
   {
    "duration": -8538,
    "start_time": "2021-08-07T20:38:33.072Z"
   },
   {
    "duration": -8541,
    "start_time": "2021-08-07T20:38:33.076Z"
   },
   {
    "duration": -8545,
    "start_time": "2021-08-07T20:38:33.081Z"
   },
   {
    "duration": -8547,
    "start_time": "2021-08-07T20:38:33.084Z"
   },
   {
    "duration": -8549,
    "start_time": "2021-08-07T20:38:33.087Z"
   },
   {
    "duration": 586,
    "start_time": "2021-08-07T20:40:20.819Z"
   },
   {
    "duration": 577,
    "start_time": "2021-08-07T20:40:29.142Z"
   },
   {
    "duration": 275,
    "start_time": "2021-08-07T20:42:13.908Z"
   },
   {
    "duration": 263,
    "start_time": "2021-08-07T20:42:25.044Z"
   },
   {
    "duration": -8515,
    "start_time": "2021-08-07T20:42:33.824Z"
   },
   {
    "duration": -8518,
    "start_time": "2021-08-07T20:42:33.828Z"
   },
   {
    "duration": -8520,
    "start_time": "2021-08-07T20:42:33.832Z"
   },
   {
    "duration": -8529,
    "start_time": "2021-08-07T20:42:33.842Z"
   },
   {
    "duration": -8531,
    "start_time": "2021-08-07T20:42:33.845Z"
   },
   {
    "duration": -8536,
    "start_time": "2021-08-07T20:42:33.851Z"
   },
   {
    "duration": 9,
    "start_time": "2021-08-07T20:43:31.028Z"
   },
   {
    "duration": 4,
    "start_time": "2021-08-07T20:43:36.694Z"
   },
   {
    "duration": 72,
    "start_time": "2021-08-07T20:44:07.269Z"
   },
   {
    "duration": 4,
    "start_time": "2021-08-07T20:44:16.864Z"
   },
   {
    "duration": 1092,
    "start_time": "2021-08-07T20:51:28.767Z"
   },
   {
    "duration": 28,
    "start_time": "2021-08-07T20:51:29.861Z"
   },
   {
    "duration": 25,
    "start_time": "2021-08-07T20:51:29.891Z"
   },
   {
    "duration": 248,
    "start_time": "2021-08-07T20:51:29.918Z"
   },
   {
    "duration": 214,
    "start_time": "2021-08-07T20:51:30.167Z"
   },
   {
    "duration": 1531,
    "start_time": "2021-08-07T20:51:30.382Z"
   },
   {
    "duration": 1038,
    "start_time": "2021-08-07T21:06:39.042Z"
   },
   {
    "duration": 28,
    "start_time": "2021-08-07T21:06:40.081Z"
   },
   {
    "duration": 24,
    "start_time": "2021-08-07T21:06:40.111Z"
   },
   {
    "duration": 304,
    "start_time": "2021-08-07T21:06:40.136Z"
   },
   {
    "duration": -8471,
    "start_time": "2021-08-07T21:06:48.913Z"
   },
   {
    "duration": -8474,
    "start_time": "2021-08-07T21:06:48.916Z"
   },
   {
    "duration": 988,
    "start_time": "2021-08-07T21:06:53.136Z"
   },
   {
    "duration": 29,
    "start_time": "2021-08-07T21:06:54.126Z"
   },
   {
    "duration": 26,
    "start_time": "2021-08-07T21:06:54.157Z"
   },
   {
    "duration": 231,
    "start_time": "2021-08-07T21:06:54.184Z"
   },
   {
    "duration": 214,
    "start_time": "2021-08-07T21:06:54.416Z"
   },
   {
    "duration": 1508,
    "start_time": "2021-08-07T21:06:54.632Z"
   },
   {
    "duration": 1059,
    "start_time": "2021-08-07T21:07:42.259Z"
   },
   {
    "duration": 27,
    "start_time": "2021-08-07T21:07:43.321Z"
   },
   {
    "duration": 24,
    "start_time": "2021-08-07T21:07:43.350Z"
   },
   {
    "duration": 238,
    "start_time": "2021-08-07T21:07:43.375Z"
   },
   {
    "duration": 223,
    "start_time": "2021-08-07T21:07:43.615Z"
   },
   {
    "duration": 1501,
    "start_time": "2021-08-07T21:07:43.840Z"
   },
   {
    "duration": 1065,
    "start_time": "2021-08-08T11:33:41.565Z"
   },
   {
    "duration": 31,
    "start_time": "2021-08-08T11:33:42.632Z"
   },
   {
    "duration": 27,
    "start_time": "2021-08-08T11:33:42.665Z"
   },
   {
    "duration": 277,
    "start_time": "2021-08-08T11:33:42.693Z"
   },
   {
    "duration": 248,
    "start_time": "2021-08-08T11:33:42.971Z"
   },
   {
    "duration": 1791,
    "start_time": "2021-08-08T11:33:43.221Z"
   }
  ],
  "kernelspec": {
   "display_name": "Python 3",
   "language": "python",
   "name": "python3"
  },
  "language_info": {
   "codemirror_mode": {
    "name": "ipython",
    "version": 3
   },
   "file_extension": ".py",
   "mimetype": "text/x-python",
   "name": "python",
   "nbconvert_exporter": "python",
   "pygments_lexer": "ipython3",
   "version": "3.7.8"
  },
  "toc": {
   "base_numbering": 1,
   "nav_menu": {},
   "number_sections": true,
   "sideBar": true,
   "skip_h1_title": true,
   "title_cell": "Table of Contents",
   "title_sidebar": "Contents",
   "toc_cell": false,
   "toc_position": {
    "height": "calc(100% - 180px)",
    "left": "10px",
    "top": "150px",
    "width": "271.2px"
   },
   "toc_section_display": true,
   "toc_window_display": true
  }
 },
 "nbformat": 4,
 "nbformat_minor": 2
}
